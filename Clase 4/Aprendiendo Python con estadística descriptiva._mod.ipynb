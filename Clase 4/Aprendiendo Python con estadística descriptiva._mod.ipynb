{
 "cells": [
  {
   "cell_type": "markdown",
   "metadata": {},
   "source": [
    "# Proyecto: Aprendiendo Python con estadística descriptiva"
   ]
  },
  {
   "cell_type": "markdown",
   "metadata": {},
   "source": [
    "## Objetivo:\n",
    "<font size=\"3\">La Clase consiste en elaborar tablas y gráficas estadísticas a partir de alturas y pesos de deportistas de baloncesto, fútbol, fútbol americano y sumo. Calcularás índices de masas corporales para determinar condiciones de salud y descargarás archivos con datos de promedios de índices de masas corporales de hombres y mujeres para mostrar tendencias mundiales y por países. Durante el proceso aprenderás a usar Jupyter Notebook para editar y ejecutar programas de Python; procesar números en listas, arreglos y tablas; controlar la secuencia de ejecución de los programas; definir tus propias funciones, y utilizar funciones y módulos de las bibliotecas pandas, matplotlib.pyplot y NumPy. Al completar este proyecto podrás comenzar a tabular y graficar datos y estadísticas descriptivas de muestras y poblaciones.\n",
    "\n",
    "</font>\n",
    "<a id='inicio'></a>"
   ]
  },
  {
   "cell_type": "markdown",
   "metadata": {},
   "source": [
    "<font size=\"3\">Tarea</font> | <font size=\"3\">Título</font> | <font size=\"3\">Objetivo</font>\n",
    ":-----: | ------- | -------\n",
    "<font size=\"3\">[1](#tarea1)</font> | <font size=\"3\">**Procesando datos numéricos**</font>| <font size=\"3\">Procesar listas de datos numéricos con objetos y funciones de Python.</font>\n",
    "<font size=\"3\">[2](#tarea2)</font> | <font size=\"3\">**Tabulando datos**</font> | <font size=\"3\">Elaborar tablas de frecuencias.</font>\n",
    "<font size=\"3\">[3](#tarea3)</font> | <font size=\"3\">**Graficando datos**</font> | <font size=\"3\">Mostrar histogramas y gráficos de dos variables.</font>\n",
    "<font size=\"3\">[4](#tarea4)</font> | <font size=\"3\">**Calculando tendencias centrales: medias, medianas y modas**</font> | <font size=\"3\">Calcular promedios, medianas y modas; mostrar barras.</font>\n",
    "<font size=\"3\">[5](#tarea5)</font> | <font size=\"3\">**Calculando dispersiones: rangos, varianzas y desviaciones estándares**</font> | <font size=\"3\">Calcular rangos, rangos intercuartiles, varianzas y desviaciones estándares.</font>\n",
    "<font size=\"3\">[6](#tarea6)</font> | <font size=\"3\">**Comparando índices de masas corporales**</font> | <font size=\"3\">Comparar las condiciones de salud entre deportistas.</font>\n",
    "<font size=\"3\">[7](#tarea7)</font> | <font size=\"3\">**Almacenando y leyendo archivos**</font> | <font size=\"3\">Almacenar y leer archivos de datos; descargar datos de Internet.</font>"
   ]
  },
  {
   "cell_type": "markdown",
   "metadata": {
    "tags": []
   },
   "source": [
    "<a id='tarea1'></a>\n",
    "<br><img src=\"linea.png\">\n",
    "# [Tarea 1](#inicio)\n",
    "# Procesando datos numéricos\n",
    "<br><img src=\"linea.png\"><br>"
   ]
  },
  {
   "cell_type": "markdown",
   "metadata": {
    "tags": []
   },
   "source": [
    "## 1.1 Objetos y operaciones\n",
    "### Asignación y visualización"
   ]
  },
  {
   "cell_type": "code",
   "execution_count": 5,
   "metadata": {},
   "outputs": [
    {
     "name": "stdout",
     "output_type": "stream",
     "text": [
      "10\n"
     ]
    }
   ],
   "source": [
    "a = 10\n",
    "print(a)"
   ]
  },
  {
   "cell_type": "code",
   "execution_count": 6,
   "metadata": {},
   "outputs": [
    {
     "data": {
      "text/plain": [
       "int"
      ]
     },
     "execution_count": 6,
     "metadata": {},
     "output_type": "execute_result"
    }
   ],
   "source": [
    "type(a)     # retorna el tipo del objeto"
   ]
  },
  {
   "cell_type": "markdown",
   "metadata": {},
   "source": [
    "### Expresiones numéricas"
   ]
  },
  {
   "cell_type": "code",
   "execution_count": 7,
   "metadata": {},
   "outputs": [
    {
     "name": "stdout",
     "output_type": "stream",
     "text": [
      "10 7 14 2.0\n"
     ]
    }
   ],
   "source": [
    "a = 10                  # a es el objeto entero 10\n",
    "b = 3 + 4               # b es el objeto entero 7, la suma de 3 y 4\n",
    "c = 7 * 2               # c es el objeto entero 14, la multiplicación de 7 y 2\n",
    "d = 20 / a              # d es el objeto decimal 2.0, la división decimal de 20 entre 10\n",
    "\n",
    "print(a, b, c, d)       # muestra los valores de los objetos separados por espacios"
   ]
  },
  {
   "cell_type": "code",
   "execution_count": 8,
   "metadata": {},
   "outputs": [
    {
     "name": "stdout",
     "output_type": "stream",
     "text": [
      "2 6 125 6.0\n"
     ]
    }
   ],
   "source": [
    "e = 20 // a             # e es el objeto entero 2, la división de 20 entre 10\n",
    "f = 20 % b              # f es el objeto entero 6, el residuo de 20 entre 7\n",
    "g = 5 ** 3              # g es el objeto entero 125, 5 al cubo\n",
    "h = 36 ** 0.5           # h es el objeto decimal 6.0, la raíz cuadrada de 36\n",
    "\n",
    "print(e, f, g, h)       "
   ]
  },
  {
   "cell_type": "code",
   "execution_count": 9,
   "metadata": {},
   "outputs": [
    {
     "name": "stdout",
     "output_type": "stream",
     "text": [
      "10\n"
     ]
    },
    {
     "data": {
      "text/plain": [
       "(10, 7, 14, 2.0)"
      ]
     },
     "execution_count": 9,
     "metadata": {},
     "output_type": "execute_result"
    }
   ],
   "source": [
    "print(a)\n",
    "b\n",
    "c\n",
    "d\n",
    "a, b, c, d      # muestra una tupla: valores entre paréntesis y separados por comas"
   ]
  },
  {
   "cell_type": "markdown",
   "metadata": {},
   "source": [
    "### Aproximaciones decimales y la función round"
   ]
  },
  {
   "cell_type": "code",
   "execution_count": null,
   "metadata": {},
   "outputs": [],
   "source": []
  },
  {
   "cell_type": "code",
   "execution_count": 10,
   "metadata": {},
   "outputs": [
    {
     "data": {
      "text/plain": [
       "10.46"
      ]
     },
     "execution_count": 10,
     "metadata": {},
     "output_type": "execute_result"
    }
   ],
   "source": [
    "round(10.456, 2)    # aproximación a dos cifras decimales"
   ]
  },
  {
   "cell_type": "code",
   "execution_count": 11,
   "metadata": {},
   "outputs": [
    {
     "data": {
      "text/plain": [
       "11"
      ]
     },
     "execution_count": 11,
     "metadata": {},
     "output_type": "execute_result"
    }
   ],
   "source": [
    "round(10.8)     # aproximación a entero"
   ]
  },
  {
   "cell_type": "code",
   "execution_count": 12,
   "metadata": {},
   "outputs": [
    {
     "data": {
      "text/plain": [
       "1.2000000000000002"
      ]
     },
     "execution_count": 12,
     "metadata": {},
     "output_type": "execute_result"
    }
   ],
   "source": [
    "0.8 + 0.4       # no resulta en 1.2"
   ]
  },
  {
   "cell_type": "code",
   "execution_count": 13,
   "metadata": {},
   "outputs": [
    {
     "data": {
      "text/plain": [
       "3.3333333333333335"
      ]
     },
     "execution_count": 13,
     "metadata": {},
     "output_type": "execute_result"
    }
   ],
   "source": [
    "10 / 3"
   ]
  },
  {
   "cell_type": "code",
   "execution_count": 14,
   "metadata": {},
   "outputs": [
    {
     "data": {
      "text/plain": [
       "False"
      ]
     },
     "execution_count": 14,
     "metadata": {},
     "output_type": "execute_result"
    }
   ],
   "source": [
    "0.8 + 0.4 == 1.2"
   ]
  },
  {
   "cell_type": "code",
   "execution_count": 15,
   "metadata": {},
   "outputs": [
    {
     "data": {
      "text/plain": [
       "1.2"
      ]
     },
     "execution_count": 15,
     "metadata": {},
     "output_type": "execute_result"
    }
   ],
   "source": [
    "round(0.8 + 0.4,2 )      # redondeo a una cifra decimal"
   ]
  },
  {
   "cell_type": "code",
   "execution_count": 16,
   "metadata": {},
   "outputs": [
    {
     "data": {
      "text/plain": [
       "True"
      ]
     },
     "execution_count": 16,
     "metadata": {},
     "output_type": "execute_result"
    }
   ],
   "source": [
    "round(0.8 + 0.4,2 ) == 1.2"
   ]
  },
  {
   "cell_type": "code",
   "execution_count": 17,
   "metadata": {},
   "outputs": [
    {
     "data": {
      "text/plain": [
       "10.4"
      ]
     },
     "execution_count": 17,
     "metadata": {},
     "output_type": "execute_result"
    }
   ],
   "source": [
    "round(10.45, 1)    # el resultado es correcto (utiliza otro método de redondeo)"
   ]
  },
  {
   "cell_type": "markdown",
   "metadata": {
    "tags": []
   },
   "source": [
    "### Consiguiendo ayuda"
   ]
  },
  {
   "cell_type": "code",
   "execution_count": 18,
   "metadata": {},
   "outputs": [
    {
     "name": "stdout",
     "output_type": "stream",
     "text": [
      "Help on built-in function round in module builtins:\n",
      "\n",
      "round(number, ndigits=None)\n",
      "    Round a number to a given precision in decimal digits.\n",
      "    \n",
      "    The return value is an integer if ndigits is omitted or None.  Otherwise\n",
      "    the return value has the same type as the number.  ndigits may be negative.\n",
      "\n"
     ]
    }
   ],
   "source": [
    "help(round)     # información sobre round"
   ]
  },
  {
   "cell_type": "code",
   "execution_count": 19,
   "metadata": {},
   "outputs": [
    {
     "data": {
      "text/plain": [
       "\u001b[1;31mDocstring:\u001b[0m\n",
       "print(value, ..., sep=' ', end='\\n', file=sys.stdout, flush=False)\n",
       "\n",
       "Prints the values to a stream, or to sys.stdout by default.\n",
       "Optional keyword arguments:\n",
       "file:  a file-like object (stream); defaults to the current sys.stdout.\n",
       "sep:   string inserted between values, default a space.\n",
       "end:   string appended after the last value, default a newline.\n",
       "flush: whether to forcibly flush the stream.\n",
       "\u001b[1;31mType:\u001b[0m      builtin_function_or_method\n"
      ]
     },
     "metadata": {},
     "output_type": "display_data"
    }
   ],
   "source": [
    "# información sobre print en ventana aparte\n",
    "print?"
   ]
  },
  {
   "cell_type": "markdown",
   "metadata": {},
   "source": [
    "## 1.2 Listas"
   ]
  },
  {
   "cell_type": "code",
   "execution_count": 20,
   "metadata": {},
   "outputs": [
    {
     "name": "stdout",
     "output_type": "stream",
     "text": [
      "[10, 7, 'treinta', 16.0]\n"
     ]
    }
   ],
   "source": [
    "lista = [10, b, 'treinta', c + d ]   # una lista de cuatro elementos\n",
    "print(lista)                        # muestra la lista"
   ]
  },
  {
   "cell_type": "code",
   "execution_count": 21,
   "metadata": {},
   "outputs": [
    {
     "data": {
      "text/plain": [
       "(10, 7, 'treinta', 16.0)"
      ]
     },
     "execution_count": 21,
     "metadata": {},
     "output_type": "execute_result"
    }
   ],
   "source": [
    "lista[0], lista[1], lista[2], lista[3]   # muestra los elementos"
   ]
  },
  {
   "cell_type": "code",
   "execution_count": 22,
   "metadata": {},
   "outputs": [
    {
     "data": {
      "text/plain": [
       "16.0"
      ]
     },
     "execution_count": 22,
     "metadata": {},
     "output_type": "execute_result"
    }
   ],
   "source": [
    "lista[-1]       # último elemento"
   ]
  },
  {
   "cell_type": "code",
   "execution_count": 23,
   "metadata": {},
   "outputs": [
    {
     "data": {
      "text/plain": [
       "[10, 7, 30, 16.0]"
      ]
     },
     "execution_count": 23,
     "metadata": {},
     "output_type": "execute_result"
    }
   ],
   "source": [
    "lista[2] = 30   # el elemento en la posición 2 (tercer elemento) es 30\n",
    "lista"
   ]
  },
  {
   "cell_type": "code",
   "execution_count": 24,
   "metadata": {},
   "outputs": [
    {
     "data": {
      "text/plain": [
       "[10, 7, 30, 16.0, 1, 2, 3]"
      ]
     },
     "execution_count": 24,
     "metadata": {},
     "output_type": "execute_result"
    }
   ],
   "source": [
    "lista + [1,2,3]"
   ]
  },
  {
   "cell_type": "code",
   "execution_count": 25,
   "metadata": {},
   "outputs": [
    {
     "data": {
      "text/plain": [
       "[10, 7, 30, 16.0, 10, 7, 30, 16.0]"
      ]
     },
     "execution_count": 25,
     "metadata": {},
     "output_type": "execute_result"
    }
   ],
   "source": [
    "lista * 2"
   ]
  },
  {
   "cell_type": "markdown",
   "metadata": {},
   "source": [
    "### Método append"
   ]
  },
  {
   "cell_type": "code",
   "execution_count": 26,
   "metadata": {},
   "outputs": [
    {
     "data": {
      "text/plain": [
       "[10, 7, 30, 16.0, 1.72, 0]"
      ]
     },
     "execution_count": 26,
     "metadata": {},
     "output_type": "execute_result"
    }
   ],
   "source": [
    "lista.append(1.72)      # agrega el objeto decimal 1.72 a lista\n",
    "lista.append(0)         # agrega el objeto entero 0 a lista\n",
    "lista"
   ]
  },
  {
   "cell_type": "markdown",
   "metadata": {},
   "source": [
    "### Funciones sum y len"
   ]
  },
  {
   "cell_type": "code",
   "execution_count": 27,
   "metadata": {},
   "outputs": [
    {
     "data": {
      "text/plain": [
       "64.72"
      ]
     },
     "execution_count": 27,
     "metadata": {},
     "output_type": "execute_result"
    }
   ],
   "source": [
    "sum(lista)  # suma de los números en lista"
   ]
  },
  {
   "cell_type": "code",
   "execution_count": 28,
   "metadata": {},
   "outputs": [
    {
     "data": {
      "text/plain": [
       "6"
      ]
     },
     "execution_count": 28,
     "metadata": {},
     "output_type": "execute_result"
    }
   ],
   "source": [
    "len(lista)  # número de elementos de lista"
   ]
  },
  {
   "cell_type": "markdown",
   "metadata": {},
   "source": [
    "### Funciones sorted, min y max"
   ]
  },
  {
   "cell_type": "code",
   "execution_count": 29,
   "metadata": {},
   "outputs": [
    {
     "data": {
      "text/plain": [
       "[0, 1.72, 7, 10, 16.0, 30]"
      ]
     },
     "execution_count": 29,
     "metadata": {},
     "output_type": "execute_result"
    }
   ],
   "source": [
    "sorted(lista)   # una lista con valores ordenados de menor a mayor"
   ]
  },
  {
   "cell_type": "code",
   "execution_count": 30,
   "metadata": {},
   "outputs": [
    {
     "data": {
      "text/plain": [
       "(0, 30)"
      ]
     },
     "execution_count": 30,
     "metadata": {},
     "output_type": "execute_result"
    }
   ],
   "source": [
    "min(lista), max(lista)  # mínimo y máximo valor de la lista"
   ]
  },
  {
   "cell_type": "markdown",
   "metadata": {},
   "source": [
    "## 1.3 Biblioteca NumPy\n",
    "Procesamiento de vectores y matrices."
   ]
  },
  {
   "cell_type": "code",
   "execution_count": 31,
   "metadata": {},
   "outputs": [],
   "source": [
    "import numpy as np"
   ]
  },
  {
   "cell_type": "code",
   "execution_count": 32,
   "metadata": {},
   "outputs": [
    {
     "name": "stdout",
     "output_type": "stream",
     "text": [
      "['ALLOW_THREADS', 'AxisError', 'BUFSIZE', 'CLIP', 'ComplexWarning', 'DataSource', 'ERR_CALL', 'ERR_DEFAULT', 'ERR_IGNORE', 'ERR_LOG', 'ERR_PRINT', 'ERR_RAISE', 'ERR_WARN', 'FLOATING_POINT_SUPPORT', 'FPE_DIVIDEBYZERO', 'FPE_INVALID', 'FPE_OVERFLOW', 'FPE_UNDERFLOW', 'False_', 'Inf', 'Infinity', 'MAXDIMS', 'MAY_SHARE_BOUNDS', 'MAY_SHARE_EXACT', 'ModuleDeprecationWarning', 'NAN', 'NINF', 'NZERO', 'NaN', 'PINF', 'PZERO', 'RAISE', 'RankWarning', 'SHIFT_DIVIDEBYZERO', 'SHIFT_INVALID', 'SHIFT_OVERFLOW', 'SHIFT_UNDERFLOW', 'ScalarType', 'Tester', 'TooHardError', 'True_', 'UFUNC_BUFSIZE_DEFAULT', 'UFUNC_PYVALS_NAME', 'VisibleDeprecationWarning', 'WRAP', '_CopyMode', '_NoValue', '_UFUNC_API', '__NUMPY_SETUP__', '__all__', '__builtins__', '__cached__', '__config__', '__deprecated_attrs__', '__dir__', '__doc__', '__expired_functions__', '__file__', '__getattr__', '__git_version__', '__loader__', '__name__', '__package__', '__path__', '__spec__', '__version__', '_add_newdoc_ufunc', '_distributor_init', '_financial_names', '_globals', '_mat', '_pyinstaller_hooks_dir', '_pytesttester', '_version', 'abs', 'absolute', 'add', 'add_docstring', 'add_newdoc', 'add_newdoc_ufunc', 'all', 'allclose', 'alltrue', 'amax', 'amin', 'angle', 'any', 'append', 'apply_along_axis', 'apply_over_axes', 'arange', 'arccos', 'arccosh', 'arcsin', 'arcsinh', 'arctan', 'arctan2', 'arctanh', 'argmax', 'argmin', 'argpartition', 'argsort', 'argwhere', 'around', 'array', 'array2string', 'array_equal', 'array_equiv', 'array_repr', 'array_split', 'array_str', 'asanyarray', 'asarray', 'asarray_chkfinite', 'ascontiguousarray', 'asfarray', 'asfortranarray', 'asmatrix', 'atleast_1d', 'atleast_2d', 'atleast_3d', 'average', 'bartlett', 'base_repr', 'binary_repr', 'bincount', 'bitwise_and', 'bitwise_not', 'bitwise_or', 'bitwise_xor', 'blackman', 'block', 'bmat', 'bool8', 'bool_', 'broadcast', 'broadcast_arrays', 'broadcast_shapes', 'broadcast_to', 'busday_count', 'busday_offset', 'busdaycalendar', 'byte', 'byte_bounds', 'bytes0', 'bytes_', 'c_', 'can_cast', 'cast', 'cbrt', 'cdouble', 'ceil', 'cfloat', 'char', 'character', 'chararray', 'choose', 'clip', 'clongdouble', 'clongfloat', 'column_stack', 'common_type', 'compare_chararrays', 'compat', 'complex128', 'complex64', 'complex_', 'complexfloating', 'compress', 'concatenate', 'conj', 'conjugate', 'convolve', 'copy', 'copysign', 'copyto', 'core', 'corrcoef', 'correlate', 'cos', 'cosh', 'count_nonzero', 'cov', 'cross', 'csingle', 'ctypeslib', 'cumprod', 'cumproduct', 'cumsum', 'datetime64', 'datetime_as_string', 'datetime_data', 'deg2rad', 'degrees', 'delete', 'deprecate', 'deprecate_with_doc', 'diag', 'diag_indices', 'diag_indices_from', 'diagflat', 'diagonal', 'diff', 'digitize', 'disp', 'divide', 'divmod', 'dot', 'double', 'dsplit', 'dstack', 'dtype', 'e', 'ediff1d', 'einsum', 'einsum_path', 'emath', 'empty', 'empty_like', 'equal', 'errstate', 'euler_gamma', 'exp', 'exp2', 'expand_dims', 'expm1', 'extract', 'eye', 'fabs', 'fastCopyAndTranspose', 'fft', 'fill_diagonal', 'find_common_type', 'finfo', 'fix', 'flatiter', 'flatnonzero', 'flexible', 'flip', 'fliplr', 'flipud', 'float16', 'float32', 'float64', 'float_', 'float_power', 'floating', 'floor', 'floor_divide', 'fmax', 'fmin', 'fmod', 'format_float_positional', 'format_float_scientific', 'format_parser', 'frexp', 'from_dlpack', 'frombuffer', 'fromfile', 'fromfunction', 'fromiter', 'frompyfunc', 'fromregex', 'fromstring', 'full', 'full_like', 'gcd', 'generic', 'genfromtxt', 'geomspace', 'get_array_wrap', 'get_include', 'get_printoptions', 'getbufsize', 'geterr', 'geterrcall', 'geterrobj', 'gradient', 'greater', 'greater_equal', 'half', 'hamming', 'hanning', 'heaviside', 'histogram', 'histogram2d', 'histogram_bin_edges', 'histogramdd', 'hsplit', 'hstack', 'hypot', 'i0', 'identity', 'iinfo', 'imag', 'in1d', 'index_exp', 'indices', 'inexact', 'inf', 'info', 'infty', 'inner', 'insert', 'int0', 'int16', 'int32', 'int64', 'int8', 'int_', 'intc', 'integer', 'interp', 'intersect1d', 'intp', 'invert', 'is_busday', 'isclose', 'iscomplex', 'iscomplexobj', 'isfinite', 'isfortran', 'isin', 'isinf', 'isnan', 'isnat', 'isneginf', 'isposinf', 'isreal', 'isrealobj', 'isscalar', 'issctype', 'issubclass_', 'issubdtype', 'issubsctype', 'iterable', 'ix_', 'kaiser', 'kron', 'lcm', 'ldexp', 'left_shift', 'less', 'less_equal', 'lexsort', 'lib', 'linalg', 'linspace', 'little_endian', 'load', 'loadtxt', 'log', 'log10', 'log1p', 'log2', 'logaddexp', 'logaddexp2', 'logical_and', 'logical_not', 'logical_or', 'logical_xor', 'logspace', 'longcomplex', 'longdouble', 'longfloat', 'longlong', 'lookfor', 'ma', 'mask_indices', 'mat', 'math', 'matmul', 'matrix', 'matrixlib', 'max', 'maximum', 'maximum_sctype', 'may_share_memory', 'mean', 'median', 'memmap', 'meshgrid', 'mgrid', 'min', 'min_scalar_type', 'minimum', 'mintypecode', 'mod', 'modf', 'moveaxis', 'msort', 'multiply', 'nan', 'nan_to_num', 'nanargmax', 'nanargmin', 'nancumprod', 'nancumsum', 'nanmax', 'nanmean', 'nanmedian', 'nanmin', 'nanpercentile', 'nanprod', 'nanquantile', 'nanstd', 'nansum', 'nanvar', 'nbytes', 'ndarray', 'ndenumerate', 'ndim', 'ndindex', 'nditer', 'negative', 'nested_iters', 'newaxis', 'nextafter', 'nonzero', 'not_equal', 'numarray', 'number', 'obj2sctype', 'object0', 'object_', 'ogrid', 'oldnumeric', 'ones', 'ones_like', 'os', 'outer', 'packbits', 'pad', 'partition', 'percentile', 'pi', 'piecewise', 'place', 'poly', 'poly1d', 'polyadd', 'polyder', 'polydiv', 'polyfit', 'polyint', 'polymul', 'polynomial', 'polysub', 'polyval', 'positive', 'power', 'printoptions', 'prod', 'product', 'promote_types', 'ptp', 'put', 'put_along_axis', 'putmask', 'quantile', 'r_', 'rad2deg', 'radians', 'random', 'ravel', 'ravel_multi_index', 'real', 'real_if_close', 'rec', 'recarray', 'recfromcsv', 'recfromtxt', 'reciprocal', 'record', 'remainder', 'repeat', 'require', 'reshape', 'resize', 'result_type', 'right_shift', 'rint', 'roll', 'rollaxis', 'roots', 'rot90', 'round', 'round_', 'row_stack', 's_', 'safe_eval', 'save', 'savetxt', 'savez', 'savez_compressed', 'sctype2char', 'sctypeDict', 'sctypes', 'searchsorted', 'select', 'set_numeric_ops', 'set_printoptions', 'set_string_function', 'setbufsize', 'setdiff1d', 'seterr', 'seterrcall', 'seterrobj', 'setxor1d', 'shape', 'shares_memory', 'short', 'show_config', 'sign', 'signbit', 'signedinteger', 'sin', 'sinc', 'single', 'singlecomplex', 'sinh', 'size', 'sometrue', 'sort', 'sort_complex', 'source', 'spacing', 'split', 'sqrt', 'square', 'squeeze', 'stack', 'std', 'str0', 'str_', 'string_', 'subtract', 'sum', 'swapaxes', 'sys', 'take', 'take_along_axis', 'tan', 'tanh', 'tensordot', 'test', 'testing', 'tile', 'timedelta64', 'trace', 'tracemalloc_domain', 'transpose', 'trapz', 'tri', 'tril', 'tril_indices', 'tril_indices_from', 'trim_zeros', 'triu', 'triu_indices', 'triu_indices_from', 'true_divide', 'trunc', 'typecodes', 'typename', 'ubyte', 'ufunc', 'uint', 'uint0', 'uint16', 'uint32', 'uint64', 'uint8', 'uintc', 'uintp', 'ulonglong', 'unicode_', 'union1d', 'unique', 'unpackbits', 'unravel_index', 'unsignedinteger', 'unwrap', 'use_hugepage', 'ushort', 'vander', 'var', 'vdot', 'vectorize', 'version', 'void', 'void0', 'vsplit', 'vstack', 'warnings', 'where', 'who', 'zeros', 'zeros_like']\n"
     ]
    }
   ],
   "source": [
    "print(dir(np))"
   ]
  },
  {
   "cell_type": "code",
   "execution_count": 33,
   "metadata": {},
   "outputs": [
    {
     "name": "stdout",
     "output_type": "stream",
     "text": [
      "['BitGenerator', 'Generator', 'MT19937', 'PCG64', 'PCG64DXSM', 'Philox', 'RandomState', 'SFC64', 'SeedSequence', '__RandomState_ctor', '__all__', '__builtins__', '__cached__', '__doc__', '__file__', '__loader__', '__name__', '__package__', '__path__', '__spec__', '_bounded_integers', '_common', '_generator', '_mt19937', '_pcg64', '_philox', '_pickle', '_sfc64', 'beta', 'binomial', 'bit_generator', 'bytes', 'chisquare', 'choice', 'default_rng', 'dirichlet', 'exponential', 'f', 'gamma', 'geometric', 'get_state', 'gumbel', 'hypergeometric', 'laplace', 'logistic', 'lognormal', 'logseries', 'mtrand', 'multinomial', 'multivariate_normal', 'negative_binomial', 'noncentral_chisquare', 'noncentral_f', 'normal', 'pareto', 'permutation', 'poisson', 'power', 'rand', 'randint', 'randn', 'random', 'random_integers', 'random_sample', 'ranf', 'rayleigh', 'sample', 'seed', 'set_state', 'shuffle', 'standard_cauchy', 'standard_exponential', 'standard_gamma', 'standard_normal', 'standard_t', 'test', 'triangular', 'uniform', 'vonmises', 'wald', 'weibull', 'zipf']\n"
     ]
    }
   ],
   "source": [
    "print(dir(np.random))"
   ]
  },
  {
   "cell_type": "code",
   "execution_count": 34,
   "metadata": {},
   "outputs": [
    {
     "data": {
      "text/plain": [
       "array([1., 2., 3., 4.])"
      ]
     },
     "execution_count": 34,
     "metadata": {},
     "output_type": "execute_result"
    }
   ],
   "source": [
    "arreglo = np.array([1, 2, 3, 4.0])   # arreglo o vector de números\n",
    "arreglo"
   ]
  },
  {
   "cell_type": "code",
   "execution_count": 35,
   "metadata": {},
   "outputs": [
    {
     "data": {
      "text/plain": [
       "array([0. , 0.4, 0.8, 1.2, 1.6, 2. ])"
      ]
     },
     "execution_count": 35,
     "metadata": {},
     "output_type": "execute_result"
    }
   ],
   "source": [
    "np.arange(0, 2.1, 0.4)  # un arreglo de números mayores o iguales que 0, \n",
    "                        # menores que 2.1 e incrementando en 0.4"
   ]
  },
  {
   "cell_type": "markdown",
   "metadata": {},
   "source": [
    "## 1.4 Sentencia for"
   ]
  },
  {
   "cell_type": "code",
   "execution_count": 36,
   "metadata": {},
   "outputs": [
    {
     "name": "stdout",
     "output_type": "stream",
     "text": [
      "1\n",
      "2\n",
      "2.0\n",
      "4.0\n",
      "3\n",
      "33\n",
      "cuatro\n",
      "cuatrocuatro\n"
     ]
    }
   ],
   "source": [
    "for i in [1, 2.0, '3', 'cuatro']:   # cada objeto de la lista es asignado consecutivamente al objeto i\n",
    "    print(i) # muestra el valor del objeto (la sentencia comienza con sangría)\n",
    "    print(i*2)"
   ]
  },
  {
   "cell_type": "markdown",
   "metadata": {},
   "source": [
    "### Objeto range"
   ]
  },
  {
   "cell_type": "code",
   "execution_count": 37,
   "metadata": {},
   "outputs": [
    {
     "name": "stdout",
     "output_type": "stream",
     "text": [
      "-5 - -4 - -3 - -2 - -1 - 0 - 1 - 2 - 3 - 4 - 5 - "
     ]
    }
   ],
   "source": [
    "for i in range(-5, 6):  # para cada valor entero de i entre -5 y 5 (el mayor entero menor que 6)\n",
    "    print(i, end=' - ')       # muestra el valor del objeto i seguido de un espacio"
   ]
  },
  {
   "cell_type": "markdown",
   "metadata": {},
   "source": [
    "## 1.5 Sentencia if"
   ]
  },
  {
   "cell_type": "code",
   "execution_count": 38,
   "metadata": {},
   "outputs": [
    {
     "name": "stdout",
     "output_type": "stream",
     "text": [
      "Los números son iguales a 10\n"
     ]
    }
   ],
   "source": [
    "a = 10      # a es 1\n",
    "b = 10       # b es 5\n",
    "\n",
    "# si a es mayor que b\n",
    "    # mostrar que a es mayor que b\n",
    "# sino, si los valores son iguales\n",
    "    # mostrar que a y b son iguales\n",
    "# sino\n",
    "    # mostrar que a es menor que b\n",
    "# igual ==\n",
    "# distinto !=\n",
    "# > >= < <= \n",
    "# and or not\n",
    "\n",
    "if a > b:       \n",
    "    print(a, \"es mayor que\", b)             # las instrucciones de cada bloque comienzan con sangrías\n",
    "elif a == b:\n",
    "    print(\"Los números son iguales a\", a)\n",
    "else:\n",
    "    print(a, \"es menor que\", b)"
   ]
  },
  {
   "cell_type": "markdown",
   "metadata": {},
   "source": [
    "## 1.6 Creación de funciones"
   ]
  },
  {
   "cell_type": "code",
   "execution_count": 39,
   "metadata": {},
   "outputs": [],
   "source": [
    "def promedio(lista):        # def nombre(parámetros):\n",
    "    \"\"\"\n",
    "    Toma una secuencia de números y retorna el promedio.    \n",
    "    \"\"\"\n",
    "    global casos\n",
    "    suma  = sum(lista)           # suma de los números en la lista\n",
    "    casos = len(lista)          # número de elementos de la lista\n",
    "    media = suma / casos        # promedio\n",
    "    return media                # retorna el promedio"
   ]
  },
  {
   "cell_type": "code",
   "execution_count": 40,
   "metadata": {},
   "outputs": [
    {
     "name": "stdout",
     "output_type": "stream",
     "text": [
      "10.786666666666667\n"
     ]
    }
   ],
   "source": [
    "p = promedio(lista)\n",
    "print(p)"
   ]
  },
  {
   "cell_type": "code",
   "execution_count": 41,
   "metadata": {},
   "outputs": [
    {
     "data": {
      "text/plain": [
       "6"
      ]
     },
     "execution_count": 41,
     "metadata": {},
     "output_type": "execute_result"
    }
   ],
   "source": [
    "casos"
   ]
  },
  {
   "cell_type": "code",
   "execution_count": 42,
   "metadata": {},
   "outputs": [
    {
     "name": "stdout",
     "output_type": "stream",
     "text": [
      "Help on function promedio in module __main__:\n",
      "\n",
      "promedio(lista)\n",
      "    Toma una secuencia de números y retorna el promedio.\n",
      "\n"
     ]
    }
   ],
   "source": [
    "help(promedio)"
   ]
  },
  {
   "cell_type": "markdown",
   "metadata": {},
   "source": [
    "## Más información\n",
    "Para cada función y método puedes conseguir ayuda en inglés utilizando **nombre?** o **help(nombre)**\n",
    "```python\n",
    "print, round, list, sum, len, list.append, sorted, min, max, range, dir, type\n",
    "```\n",
    "Para las sentencias **if** y **for**:\n",
    "```python\n",
    "help('for'), help('if')\n",
    "```\n",
    "\n",
    "Para **NumPy** después de ejecutar **import numpy as np**:\n",
    "```python\n",
    "np.*?, dir(np)\n",
    "```\n",
    "También **nombre?** o **help(nombre)** para:\n",
    "```python\n",
    "np.arange, np.array\n",
    "```\n",
    "La función [round](https://docs.python.org/es/3/library/functions.html#round) y [aritmética de punto flotante](https://docs.python.org/es/3/tutorial/floatingpoint.html#tut-fp-issues)"
   ]
  },
  {
   "cell_type": "markdown",
   "metadata": {},
   "source": [
    "<a id='tarea2'></a>\n",
    "<br><img src=\"linea.png\">\n",
    "# [Tarea 2](#inicio)\n",
    "# Tabulando datos\n",
    "<br><img src=\"linea.png\"><br>"
   ]
  },
  {
   "cell_type": "markdown",
   "metadata": {},
   "source": [
    "## 2.1 La biblioteca o módulo Pandas\n",
    "Procesamiento de tablas de datos numéricos y categóricos."
   ]
  },
  {
   "cell_type": "code",
   "execution_count": 43,
   "metadata": {},
   "outputs": [],
   "source": [
    "import pandas as pd"
   ]
  },
  {
   "cell_type": "code",
   "execution_count": 44,
   "metadata": {},
   "outputs": [
    {
     "name": "stdout",
     "output_type": "stream",
     "text": [
      "['BooleanDtype', 'Categorical', 'CategoricalDtype', 'CategoricalIndex', 'DataFrame', 'DateOffset', 'DatetimeIndex', 'DatetimeTZDtype', 'ExcelFile', 'ExcelWriter', 'Flags', 'Float32Dtype', 'Float64Dtype', 'Float64Index', 'Grouper', 'HDFStore', 'Index', 'IndexSlice', 'Int16Dtype', 'Int32Dtype', 'Int64Dtype', 'Int64Index', 'Int8Dtype', 'Interval', 'IntervalDtype', 'IntervalIndex', 'MultiIndex', 'NA', 'NaT', 'NamedAgg', 'Period', 'PeriodDtype', 'PeriodIndex', 'RangeIndex', 'Series', 'SparseDtype', 'StringDtype', 'Timedelta', 'TimedeltaIndex', 'Timestamp', 'UInt16Dtype', 'UInt32Dtype', 'UInt64Dtype', 'UInt64Index', 'UInt8Dtype', '__all__', '__builtins__', '__cached__', '__deprecated_num_index_names', '__dir__', '__doc__', '__docformat__', '__file__', '__getattr__', '__git_version__', '__loader__', '__name__', '__package__', '__path__', '__spec__', '__version__', '_config', '_is_numpy_dev', '_libs', '_testing', '_typing', '_version', 'api', 'array', 'arrays', 'bdate_range', 'compat', 'concat', 'core', 'crosstab', 'cut', 'date_range', 'describe_option', 'errors', 'eval', 'factorize', 'get_dummies', 'get_option', 'infer_freq', 'interval_range', 'io', 'isna', 'isnull', 'json_normalize', 'lreshape', 'melt', 'merge', 'merge_asof', 'merge_ordered', 'notna', 'notnull', 'offsets', 'option_context', 'options', 'pandas', 'period_range', 'pivot', 'pivot_table', 'plotting', 'qcut', 'read_clipboard', 'read_csv', 'read_excel', 'read_feather', 'read_fwf', 'read_gbq', 'read_hdf', 'read_html', 'read_json', 'read_orc', 'read_parquet', 'read_pickle', 'read_sas', 'read_spss', 'read_sql', 'read_sql_query', 'read_sql_table', 'read_stata', 'read_table', 'read_xml', 'reset_option', 'set_eng_float_format', 'set_option', 'show_versions', 'test', 'testing', 'timedelta_range', 'to_datetime', 'to_numeric', 'to_pickle', 'to_timedelta', 'tseries', 'unique', 'util', 'value_counts', 'wide_to_long']\n"
     ]
    }
   ],
   "source": [
    "print(dir(pd))"
   ]
  },
  {
   "cell_type": "code",
   "execution_count": 45,
   "metadata": {},
   "outputs": [],
   "source": [
    "from pandas import DataFrame"
   ]
  },
  {
   "cell_type": "code",
   "execution_count": 46,
   "metadata": {},
   "outputs": [
    {
     "data": {
      "text/html": [
       "<div>\n",
       "<style scoped>\n",
       "    .dataframe tbody tr th:only-of-type {\n",
       "        vertical-align: middle;\n",
       "    }\n",
       "\n",
       "    .dataframe tbody tr th {\n",
       "        vertical-align: top;\n",
       "    }\n",
       "\n",
       "    .dataframe thead th {\n",
       "        text-align: right;\n",
       "    }\n",
       "</style>\n",
       "<table border=\"1\" class=\"dataframe\">\n",
       "  <thead>\n",
       "    <tr style=\"text-align: right;\">\n",
       "      <th></th>\n",
       "    </tr>\n",
       "  </thead>\n",
       "  <tbody>\n",
       "  </tbody>\n",
       "</table>\n",
       "</div>"
      ],
      "text/plain": [
       "Empty DataFrame\n",
       "Columns: []\n",
       "Index: []"
      ]
     },
     "execution_count": 46,
     "metadata": {},
     "output_type": "execute_result"
    }
   ],
   "source": [
    "# crea una tabla llamada tabla\n",
    "tabla = pd.DataFrame()\n",
    "tabla"
   ]
  },
  {
   "cell_type": "code",
   "execution_count": 47,
   "metadata": {},
   "outputs": [
    {
     "data": {
      "text/html": [
       "<div>\n",
       "<style scoped>\n",
       "    .dataframe tbody tr th:only-of-type {\n",
       "        vertical-align: middle;\n",
       "    }\n",
       "\n",
       "    .dataframe tbody tr th {\n",
       "        vertical-align: top;\n",
       "    }\n",
       "\n",
       "    .dataframe thead th {\n",
       "        text-align: right;\n",
       "    }\n",
       "</style>\n",
       "<table border=\"1\" class=\"dataframe\">\n",
       "  <thead>\n",
       "    <tr style=\"text-align: right;\">\n",
       "      <th></th>\n",
       "      <th>numeros</th>\n",
       "    </tr>\n",
       "  </thead>\n",
       "  <tbody>\n",
       "    <tr>\n",
       "      <th>0</th>\n",
       "      <td>1</td>\n",
       "    </tr>\n",
       "    <tr>\n",
       "      <th>1</th>\n",
       "      <td>2</td>\n",
       "    </tr>\n",
       "    <tr>\n",
       "      <th>2</th>\n",
       "      <td>3</td>\n",
       "    </tr>\n",
       "    <tr>\n",
       "      <th>3</th>\n",
       "      <td>4</td>\n",
       "    </tr>\n",
       "  </tbody>\n",
       "</table>\n",
       "</div>"
      ],
      "text/plain": [
       "   numeros\n",
       "0        1\n",
       "1        2\n",
       "2        3\n",
       "3        4"
      ]
     },
     "execution_count": 47,
     "metadata": {},
     "output_type": "execute_result"
    }
   ],
   "source": [
    "# crea una columna numeros \n",
    "tabla['numeros'] = [1, 2, 3, 4]\n",
    "tabla"
   ]
  },
  {
   "cell_type": "code",
   "execution_count": 48,
   "metadata": {},
   "outputs": [
    {
     "data": {
      "text/plain": [
       "pandas.core.series.Series"
      ]
     },
     "execution_count": 48,
     "metadata": {},
     "output_type": "execute_result"
    }
   ],
   "source": [
    "type(tabla.numeros)"
   ]
  },
  {
   "cell_type": "code",
   "execution_count": 54,
   "metadata": {},
   "outputs": [],
   "source": [
    "# columna letras\n",
    "tabla['letras'] = ['a', 'b', 'c', 'd']  "
   ]
  },
  {
   "cell_type": "code",
   "execution_count": 55,
   "metadata": {},
   "outputs": [
    {
     "data": {
      "text/html": [
       "<div>\n",
       "<style scoped>\n",
       "    .dataframe tbody tr th:only-of-type {\n",
       "        vertical-align: middle;\n",
       "    }\n",
       "\n",
       "    .dataframe tbody tr th {\n",
       "        vertical-align: top;\n",
       "    }\n",
       "\n",
       "    .dataframe thead th {\n",
       "        text-align: right;\n",
       "    }\n",
       "</style>\n",
       "<table border=\"1\" class=\"dataframe\">\n",
       "  <thead>\n",
       "    <tr style=\"text-align: right;\">\n",
       "      <th></th>\n",
       "      <th>numeros</th>\n",
       "      <th>letras</th>\n",
       "    </tr>\n",
       "  </thead>\n",
       "  <tbody>\n",
       "    <tr>\n",
       "      <th>0</th>\n",
       "      <td>1</td>\n",
       "      <td>a</td>\n",
       "    </tr>\n",
       "    <tr>\n",
       "      <th>1</th>\n",
       "      <td>2</td>\n",
       "      <td>b</td>\n",
       "    </tr>\n",
       "    <tr>\n",
       "      <th>2</th>\n",
       "      <td>3</td>\n",
       "      <td>c</td>\n",
       "    </tr>\n",
       "    <tr>\n",
       "      <th>3</th>\n",
       "      <td>4</td>\n",
       "      <td>d</td>\n",
       "    </tr>\n",
       "  </tbody>\n",
       "</table>\n",
       "</div>"
      ],
      "text/plain": [
       "   numeros letras\n",
       "0        1      a\n",
       "1        2      b\n",
       "2        3      c\n",
       "3        4      d"
      ]
     },
     "execution_count": 55,
     "metadata": {},
     "output_type": "execute_result"
    }
   ],
   "source": [
    "tabla"
   ]
  },
  {
   "cell_type": "code",
   "execution_count": 56,
   "metadata": {},
   "outputs": [
    {
     "data": {
      "text/plain": [
       "RangeIndex(start=0, stop=4, step=1)"
      ]
     },
     "execution_count": 56,
     "metadata": {},
     "output_type": "execute_result"
    }
   ],
   "source": [
    "tabla.index"
   ]
  },
  {
   "cell_type": "code",
   "execution_count": 57,
   "metadata": {},
   "outputs": [
    {
     "data": {
      "text/plain": [
       "Index(['numeros', 'letras'], dtype='object')"
      ]
     },
     "execution_count": 57,
     "metadata": {},
     "output_type": "execute_result"
    }
   ],
   "source": [
    "tabla.columns"
   ]
  },
  {
   "cell_type": "code",
   "execution_count": 58,
   "metadata": {},
   "outputs": [
    {
     "data": {
      "text/plain": [
       "0    1\n",
       "1    2\n",
       "2    3\n",
       "3    4\n",
       "Name: numeros, dtype: int64"
      ]
     },
     "execution_count": 58,
     "metadata": {},
     "output_type": "execute_result"
    }
   ],
   "source": [
    "# muestra la columna numeros\n",
    "tabla['numeros']"
   ]
  },
  {
   "cell_type": "code",
   "execution_count": 59,
   "metadata": {},
   "outputs": [
    {
     "data": {
      "text/plain": [
       "array([1, 2, 3, 4], dtype=int64)"
      ]
     },
     "execution_count": 59,
     "metadata": {},
     "output_type": "execute_result"
    }
   ],
   "source": [
    "tabla['numeros'].values"
   ]
  },
  {
   "cell_type": "code",
   "execution_count": 219,
   "metadata": {},
   "outputs": [
    {
     "data": {
      "text/plain": [
       "(pandas.core.frame.DataFrame, pandas.core.series.Series)"
      ]
     },
     "execution_count": 219,
     "metadata": {},
     "output_type": "execute_result"
    }
   ],
   "source": [
    "# Dataframe: tabla de datos\n",
    "# Series: serie de datos\n",
    "type(tabla), type(tabla['numeros'])"
   ]
  },
  {
   "cell_type": "code",
   "execution_count": 60,
   "metadata": {},
   "outputs": [
    {
     "data": {
      "text/html": [
       "<div>\n",
       "<style scoped>\n",
       "    .dataframe tbody tr th:only-of-type {\n",
       "        vertical-align: middle;\n",
       "    }\n",
       "\n",
       "    .dataframe tbody tr th {\n",
       "        vertical-align: top;\n",
       "    }\n",
       "\n",
       "    .dataframe thead th {\n",
       "        text-align: right;\n",
       "    }\n",
       "</style>\n",
       "<table border=\"1\" class=\"dataframe\">\n",
       "  <thead>\n",
       "    <tr style=\"text-align: right;\">\n",
       "      <th></th>\n",
       "      <th>numeros</th>\n",
       "      <th>letras</th>\n",
       "      <th>cuadrados</th>\n",
       "    </tr>\n",
       "  </thead>\n",
       "  <tbody>\n",
       "    <tr>\n",
       "      <th>0</th>\n",
       "      <td>1</td>\n",
       "      <td>a</td>\n",
       "      <td>1</td>\n",
       "    </tr>\n",
       "    <tr>\n",
       "      <th>1</th>\n",
       "      <td>2</td>\n",
       "      <td>b</td>\n",
       "      <td>4</td>\n",
       "    </tr>\n",
       "    <tr>\n",
       "      <th>2</th>\n",
       "      <td>3</td>\n",
       "      <td>c</td>\n",
       "      <td>9</td>\n",
       "    </tr>\n",
       "    <tr>\n",
       "      <th>3</th>\n",
       "      <td>4</td>\n",
       "      <td>d</td>\n",
       "      <td>16</td>\n",
       "    </tr>\n",
       "  </tbody>\n",
       "</table>\n",
       "</div>"
      ],
      "text/plain": [
       "   numeros letras  cuadrados\n",
       "0        1      a          1\n",
       "1        2      b          4\n",
       "2        3      c          9\n",
       "3        4      d         16"
      ]
     },
     "execution_count": 60,
     "metadata": {},
     "output_type": "execute_result"
    }
   ],
   "source": [
    "# crea una columna cuadrados con los \n",
    "# valores de la columna numeros al cuadrado\n",
    "tabla['cuadrados'] = tabla['numeros'] ** 2\n",
    "\n",
    "tabla"
   ]
  },
  {
   "cell_type": "code",
   "execution_count": 62,
   "metadata": {},
   "outputs": [
    {
     "data": {
      "text/plain": [
       "numeros      3\n",
       "letras       c\n",
       "cuadrados    9\n",
       "Name: 2, dtype: object"
      ]
     },
     "execution_count": 62,
     "metadata": {},
     "output_type": "execute_result"
    }
   ],
   "source": [
    "tabla.loc[2]"
   ]
  },
  {
   "cell_type": "code",
   "execution_count": 63,
   "metadata": {},
   "outputs": [
    {
     "data": {
      "text/html": [
       "<div>\n",
       "<style scoped>\n",
       "    .dataframe tbody tr th:only-of-type {\n",
       "        vertical-align: middle;\n",
       "    }\n",
       "\n",
       "    .dataframe tbody tr th {\n",
       "        vertical-align: top;\n",
       "    }\n",
       "\n",
       "    .dataframe thead th {\n",
       "        text-align: right;\n",
       "    }\n",
       "</style>\n",
       "<table border=\"1\" class=\"dataframe\">\n",
       "  <thead>\n",
       "    <tr style=\"text-align: right;\">\n",
       "      <th></th>\n",
       "      <th>numeros</th>\n",
       "      <th>letras</th>\n",
       "      <th>cuadrados</th>\n",
       "    </tr>\n",
       "  </thead>\n",
       "  <tbody>\n",
       "    <tr>\n",
       "      <th>0</th>\n",
       "      <td>1</td>\n",
       "      <td>a</td>\n",
       "      <td>1</td>\n",
       "    </tr>\n",
       "    <tr>\n",
       "      <th>1</th>\n",
       "      <td>2</td>\n",
       "      <td>b</td>\n",
       "      <td>4</td>\n",
       "    </tr>\n",
       "    <tr>\n",
       "      <th>2</th>\n",
       "      <td>3</td>\n",
       "      <td>c</td>\n",
       "      <td>9</td>\n",
       "    </tr>\n",
       "  </tbody>\n",
       "</table>\n",
       "</div>"
      ],
      "text/plain": [
       "   numeros letras  cuadrados\n",
       "0        1      a          1\n",
       "1        2      b          4\n",
       "2        3      c          9"
      ]
     },
     "execution_count": 63,
     "metadata": {},
     "output_type": "execute_result"
    }
   ],
   "source": [
    "tabla.loc[:2,:]"
   ]
  },
  {
   "cell_type": "code",
   "execution_count": 66,
   "metadata": {},
   "outputs": [
    {
     "data": {
      "text/html": [
       "<div>\n",
       "<style scoped>\n",
       "    .dataframe tbody tr th:only-of-type {\n",
       "        vertical-align: middle;\n",
       "    }\n",
       "\n",
       "    .dataframe tbody tr th {\n",
       "        vertical-align: top;\n",
       "    }\n",
       "\n",
       "    .dataframe thead th {\n",
       "        text-align: right;\n",
       "    }\n",
       "</style>\n",
       "<table border=\"1\" class=\"dataframe\">\n",
       "  <thead>\n",
       "    <tr style=\"text-align: right;\">\n",
       "      <th></th>\n",
       "      <th>numeros</th>\n",
       "      <th>cuadrados</th>\n",
       "    </tr>\n",
       "    <tr>\n",
       "      <th>letras</th>\n",
       "      <th></th>\n",
       "      <th></th>\n",
       "    </tr>\n",
       "  </thead>\n",
       "  <tbody>\n",
       "    <tr>\n",
       "      <th>a</th>\n",
       "      <td>1</td>\n",
       "      <td>1</td>\n",
       "    </tr>\n",
       "    <tr>\n",
       "      <th>b</th>\n",
       "      <td>2</td>\n",
       "      <td>4</td>\n",
       "    </tr>\n",
       "    <tr>\n",
       "      <th>c</th>\n",
       "      <td>3</td>\n",
       "      <td>9</td>\n",
       "    </tr>\n",
       "    <tr>\n",
       "      <th>d</th>\n",
       "      <td>4</td>\n",
       "      <td>16</td>\n",
       "    </tr>\n",
       "  </tbody>\n",
       "</table>\n",
       "</div>"
      ],
      "text/plain": [
       "        numeros  cuadrados\n",
       "letras                    \n",
       "a             1          1\n",
       "b             2          4\n",
       "c             3          9\n",
       "d             4         16"
      ]
     },
     "metadata": {},
     "output_type": "display_data"
    },
    {
     "name": "stdout",
     "output_type": "stream",
     "text": [
      "numeros      3\n",
      "cuadrados    9\n",
      "Name: c, dtype: int64\n"
     ]
    }
   ],
   "source": [
    "tab=tabla.set_index(\"letras\")\n",
    "display(tab)\n",
    "print(tab.loc[\"c\"])"
   ]
  },
  {
   "cell_type": "code",
   "execution_count": 67,
   "metadata": {},
   "outputs": [
    {
     "data": {
      "text/plain": [
       "numeros      3\n",
       "cuadrados    9\n",
       "Name: c, dtype: int64"
      ]
     },
     "execution_count": 67,
     "metadata": {},
     "output_type": "execute_result"
    }
   ],
   "source": [
    "tab.iloc[2]"
   ]
  },
  {
   "cell_type": "code",
   "execution_count": 67,
   "metadata": {},
   "outputs": [
    {
     "name": "stdout",
     "output_type": "stream",
     "text": [
      "1\n",
      "2\n",
      "3\n",
      "4\n"
     ]
    }
   ],
   "source": [
    "for i in tabla['numeros']:\n",
    "    print(i)"
   ]
  },
  {
   "cell_type": "code",
   "execution_count": 68,
   "metadata": {},
   "outputs": [
    {
     "data": {
      "text/html": [
       "<div>\n",
       "<style scoped>\n",
       "    .dataframe tbody tr th:only-of-type {\n",
       "        vertical-align: middle;\n",
       "    }\n",
       "\n",
       "    .dataframe tbody tr th {\n",
       "        vertical-align: top;\n",
       "    }\n",
       "\n",
       "    .dataframe thead th {\n",
       "        text-align: right;\n",
       "    }\n",
       "</style>\n",
       "<table border=\"1\" class=\"dataframe\">\n",
       "  <thead>\n",
       "    <tr style=\"text-align: right;\">\n",
       "      <th></th>\n",
       "      <th>cua</th>\n",
       "    </tr>\n",
       "    <tr>\n",
       "      <th>id</th>\n",
       "      <th></th>\n",
       "    </tr>\n",
       "  </thead>\n",
       "  <tbody>\n",
       "    <tr>\n",
       "      <th>10</th>\n",
       "      <td>100</td>\n",
       "    </tr>\n",
       "    <tr>\n",
       "      <th>11</th>\n",
       "      <td>121</td>\n",
       "    </tr>\n",
       "    <tr>\n",
       "      <th>12</th>\n",
       "      <td>144</td>\n",
       "    </tr>\n",
       "    <tr>\n",
       "      <th>13</th>\n",
       "      <td>169</td>\n",
       "    </tr>\n",
       "    <tr>\n",
       "      <th>14</th>\n",
       "      <td>196</td>\n",
       "    </tr>\n",
       "  </tbody>\n",
       "</table>\n",
       "</div>"
      ],
      "text/plain": [
       "    cua\n",
       "id     \n",
       "10  100\n",
       "11  121\n",
       "12  144\n",
       "13  169\n",
       "14  196"
      ]
     },
     "execution_count": 68,
     "metadata": {},
     "output_type": "execute_result"
    }
   ],
   "source": [
    "import numpy as np\n",
    "numeros = np.arange(10,15)\n",
    "tab     = pd.DataFrame(index=numeros)\n",
    "tab[\"cua\"]=numeros**2\n",
    "tab.index.name=\"id\"\n",
    "tab"
   ]
  },
  {
   "cell_type": "code",
   "execution_count": 69,
   "metadata": {},
   "outputs": [],
   "source": [
    "import matplotlib.pyplot as plt"
   ]
  },
  {
   "cell_type": "code",
   "execution_count": 72,
   "metadata": {},
   "outputs": [
    {
     "name": "stdout",
     "output_type": "stream",
     "text": [
      "[-1.00000000e+00 -9.00000000e-01 -8.00000000e-01 -7.00000000e-01\n",
      " -6.00000000e-01 -5.00000000e-01 -4.00000000e-01 -3.00000000e-01\n",
      " -2.00000000e-01 -1.00000000e-01 -2.22044605e-16  1.00000000e-01\n",
      "  2.00000000e-01  3.00000000e-01  4.00000000e-01  5.00000000e-01\n",
      "  6.00000000e-01  7.00000000e-01  8.00000000e-01  9.00000000e-01\n",
      "  1.00000000e+00  1.10000000e+00  1.20000000e+00  1.30000000e+00\n",
      "  1.40000000e+00  1.50000000e+00  1.60000000e+00  1.70000000e+00\n",
      "  1.80000000e+00  1.90000000e+00  2.00000000e+00  2.10000000e+00\n",
      "  2.20000000e+00  2.30000000e+00  2.40000000e+00  2.50000000e+00\n",
      "  2.60000000e+00  2.70000000e+00  2.80000000e+00  2.90000000e+00\n",
      "  3.00000000e+00  3.10000000e+00  3.20000000e+00  3.30000000e+00\n",
      "  3.40000000e+00  3.50000000e+00  3.60000000e+00  3.70000000e+00\n",
      "  3.80000000e+00  3.90000000e+00  4.00000000e+00]\n",
      "[ 6.0000000e+00  5.5100000e+00  5.0400000e+00  4.5900000e+00\n",
      "  4.1600000e+00  3.7500000e+00  3.3600000e+00  2.9900000e+00\n",
      "  2.6400000e+00  2.3100000e+00  2.0000000e+00  1.7100000e+00\n",
      "  1.4400000e+00  1.1900000e+00  9.6000000e-01  7.5000000e-01\n",
      "  5.6000000e-01  3.9000000e-01  2.4000000e-01  1.1000000e-01\n",
      "  4.4408921e-16 -9.0000000e-02 -1.6000000e-01 -2.1000000e-01\n",
      " -2.4000000e-01 -2.5000000e-01 -2.4000000e-01 -2.1000000e-01\n",
      " -1.6000000e-01 -9.0000000e-02 -8.8817842e-16  1.1000000e-01\n",
      "  2.4000000e-01  3.9000000e-01  5.6000000e-01  7.5000000e-01\n",
      "  9.6000000e-01  1.1900000e+00  1.4400000e+00  1.7100000e+00\n",
      "  2.0000000e+00  2.3100000e+00  2.6400000e+00  2.9900000e+00\n",
      "  3.3600000e+00  3.7500000e+00  4.1600000e+00  4.5900000e+00\n",
      "  5.0400000e+00  5.5100000e+00  6.0000000e+00]\n"
     ]
    },
    {
     "data": {
      "image/png": "[encoded data removed]",
      "text/plain": [
       "<Figure size 432x288 with 1 Axes>"
      ]
     },
     "metadata": {
      "needs_background": "light"
     },
     "output_type": "display_data"
    }
   ],
   "source": [
    "x = np.arange(-1,4.1,0.1)\n",
    "y = x ** 2 - 3 * x + 2\n",
    "print(x)\n",
    "print(y)\n",
    "plt.plot(x,y)\n",
    "plt.grid()\n",
    "plt.savefig(\"cuadratica.png\")\n",
    "plt.show()"
   ]
  },
  {
   "cell_type": "code",
   "execution_count": 72,
   "metadata": {},
   "outputs": [
    {
     "data": {
      "text/plain": [
       "[0, 0, 1, 2, 3, 4, 6, 8, 10, 10, 10, 11, 13, 13, 16, 16, 17, 18, 18, 18]"
      ]
     },
     "execution_count": 72,
     "metadata": {},
     "output_type": "execute_result"
    }
   ],
   "source": [
    "sorted([6, 10, 18, 11, 16, 17, 13, 4, 10, 0, 18, 18, 3, 13, 10, 1, 8, 0, 16, 2])"
   ]
  },
  {
   "cell_type": "code",
   "execution_count": 73,
   "metadata": {},
   "outputs": [
    {
     "data": {
      "text/plain": [
       "['E', 'a', 'i', 'i', 'l', 'm', 'n', 'o', 'ñ']"
      ]
     },
     "execution_count": 73,
     "metadata": {},
     "output_type": "execute_result"
    }
   ],
   "source": [
    "sorted(\"Emilianño\")"
   ]
  },
  {
   "cell_type": "code",
   "execution_count": 74,
   "metadata": {},
   "outputs": [
    {
     "data": {
      "text/plain": [
       "3.5"
      ]
     },
     "execution_count": 74,
     "metadata": {},
     "output_type": "execute_result"
    }
   ],
   "source": [
    "promedio([3,4])"
   ]
  },
  {
   "cell_type": "code",
   "execution_count": 75,
   "metadata": {},
   "outputs": [
    {
     "data": {
      "text/html": [
       "<div>\n",
       "<style scoped>\n",
       "    .dataframe tbody tr th:only-of-type {\n",
       "        vertical-align: middle;\n",
       "    }\n",
       "\n",
       "    .dataframe tbody tr th {\n",
       "        vertical-align: top;\n",
       "    }\n",
       "\n",
       "    .dataframe thead th {\n",
       "        text-align: right;\n",
       "    }\n",
       "</style>\n",
       "<table border=\"1\" class=\"dataframe\">\n",
       "  <thead>\n",
       "    <tr style=\"text-align: right;\">\n",
       "      <th></th>\n",
       "      <th>0</th>\n",
       "    </tr>\n",
       "  </thead>\n",
       "  <tbody>\n",
       "    <tr>\n",
       "      <th>count</th>\n",
       "      <td>20.000000</td>\n",
       "    </tr>\n",
       "    <tr>\n",
       "      <th>mean</th>\n",
       "      <td>9.700000</td>\n",
       "    </tr>\n",
       "    <tr>\n",
       "      <th>std</th>\n",
       "      <td>6.408054</td>\n",
       "    </tr>\n",
       "    <tr>\n",
       "      <th>min</th>\n",
       "      <td>0.000000</td>\n",
       "    </tr>\n",
       "    <tr>\n",
       "      <th>25%</th>\n",
       "      <td>3.750000</td>\n",
       "    </tr>\n",
       "    <tr>\n",
       "      <th>50%</th>\n",
       "      <td>10.000000</td>\n",
       "    </tr>\n",
       "    <tr>\n",
       "      <th>75%</th>\n",
       "      <td>16.000000</td>\n",
       "    </tr>\n",
       "    <tr>\n",
       "      <th>max</th>\n",
       "      <td>18.000000</td>\n",
       "    </tr>\n",
       "  </tbody>\n",
       "</table>\n",
       "</div>"
      ],
      "text/plain": [
       "               0\n",
       "count  20.000000\n",
       "mean    9.700000\n",
       "std     6.408054\n",
       "min     0.000000\n",
       "25%     3.750000\n",
       "50%    10.000000\n",
       "75%    16.000000\n",
       "max    18.000000"
      ]
     },
     "execution_count": 75,
     "metadata": {},
     "output_type": "execute_result"
    }
   ],
   "source": [
    "pd.DataFrame(np.array([6, 10, 18, 11, 16, 17, 13, 4, 10, 0, 18, 18, 3, 13, 10, 1, 8, 0, 16, 2])).describe()"
   ]
  },
  {
   "cell_type": "markdown",
   "metadata": {},
   "source": [
    "### Lista de valores acumulados"
   ]
  },
  {
   "cell_type": "code",
   "execution_count": 76,
   "metadata": {},
   "outputs": [
    {
     "data": {
      "text/html": [
       "<div>\n",
       "<style scoped>\n",
       "    .dataframe tbody tr th:only-of-type {\n",
       "        vertical-align: middle;\n",
       "    }\n",
       "\n",
       "    .dataframe tbody tr th {\n",
       "        vertical-align: top;\n",
       "    }\n",
       "\n",
       "    .dataframe thead th {\n",
       "        text-align: right;\n",
       "    }\n",
       "</style>\n",
       "<table border=\"1\" class=\"dataframe\">\n",
       "  <thead>\n",
       "    <tr style=\"text-align: right;\">\n",
       "      <th></th>\n",
       "      <th>numeros</th>\n",
       "      <th>letras</th>\n",
       "      <th>cuadrados</th>\n",
       "    </tr>\n",
       "  </thead>\n",
       "  <tbody>\n",
       "    <tr>\n",
       "      <th>0</th>\n",
       "      <td>1</td>\n",
       "      <td>a</td>\n",
       "      <td>1</td>\n",
       "    </tr>\n",
       "    <tr>\n",
       "      <th>1</th>\n",
       "      <td>2</td>\n",
       "      <td>b</td>\n",
       "      <td>4</td>\n",
       "    </tr>\n",
       "    <tr>\n",
       "      <th>2</th>\n",
       "      <td>3</td>\n",
       "      <td>c</td>\n",
       "      <td>9</td>\n",
       "    </tr>\n",
       "    <tr>\n",
       "      <th>3</th>\n",
       "      <td>4</td>\n",
       "      <td>d</td>\n",
       "      <td>16</td>\n",
       "    </tr>\n",
       "  </tbody>\n",
       "</table>\n",
       "</div>"
      ],
      "text/plain": [
       "   numeros letras  cuadrados\n",
       "0        1      a          1\n",
       "1        2      b          4\n",
       "2        3      c          9\n",
       "3        4      d         16"
      ]
     },
     "execution_count": 76,
     "metadata": {},
     "output_type": "execute_result"
    }
   ],
   "source": [
    "tabla"
   ]
  },
  {
   "cell_type": "code",
   "execution_count": 77,
   "metadata": {},
   "outputs": [
    {
     "data": {
      "text/plain": [
       "[1, 3, 6, 10]"
      ]
     },
     "execution_count": 77,
     "metadata": {},
     "output_type": "execute_result"
    }
   ],
   "source": [
    "acumulados = []     # una lista vacía\n",
    "suma = 0            # una suma en cero\n",
    "\n",
    "for i in tabla['numeros']:  # para cada dato i en la columna de números\n",
    "    suma = suma + i             # suma e i se adicionan y el resultado va a suma\n",
    "    acumulados.append(suma)     # agrega suma a la lista\n",
    "\n",
    "acumulados          # visualiza la lista de números acumulados"
   ]
  },
  {
   "cell_type": "code",
   "execution_count": 78,
   "metadata": {},
   "outputs": [
    {
     "data": {
      "text/plain": [
       "0     1\n",
       "1     3\n",
       "2     6\n",
       "3    10\n",
       "Name: numeros, dtype: int64"
      ]
     },
     "execution_count": 78,
     "metadata": {},
     "output_type": "execute_result"
    }
   ],
   "source": [
    "# método cumsum de pd.Series\n",
    "tabla['numeros'].cumsum()"
   ]
  },
  {
   "cell_type": "code",
   "execution_count": 79,
   "metadata": {},
   "outputs": [
    {
     "data": {
      "text/plain": [
       "[1, 3, 6, 10]"
      ]
     },
     "execution_count": 79,
     "metadata": {},
     "output_type": "execute_result"
    }
   ],
   "source": [
    "# conversión a lista\n",
    "tabla['numeros'].cumsum().tolist()"
   ]
  },
  {
   "cell_type": "code",
   "execution_count": 80,
   "metadata": {},
   "outputs": [
    {
     "data": {
      "text/html": [
       "<div>\n",
       "<style scoped>\n",
       "    .dataframe tbody tr th:only-of-type {\n",
       "        vertical-align: middle;\n",
       "    }\n",
       "\n",
       "    .dataframe tbody tr th {\n",
       "        vertical-align: top;\n",
       "    }\n",
       "\n",
       "    .dataframe thead th {\n",
       "        text-align: right;\n",
       "    }\n",
       "</style>\n",
       "<table border=\"1\" class=\"dataframe\">\n",
       "  <thead>\n",
       "    <tr style=\"text-align: right;\">\n",
       "      <th></th>\n",
       "      <th>numeros</th>\n",
       "      <th>letras</th>\n",
       "      <th>cuadrados</th>\n",
       "      <th>acumulados</th>\n",
       "    </tr>\n",
       "  </thead>\n",
       "  <tbody>\n",
       "    <tr>\n",
       "      <th>0</th>\n",
       "      <td>1</td>\n",
       "      <td>a</td>\n",
       "      <td>1</td>\n",
       "      <td>1</td>\n",
       "    </tr>\n",
       "    <tr>\n",
       "      <th>1</th>\n",
       "      <td>2</td>\n",
       "      <td>b</td>\n",
       "      <td>4</td>\n",
       "      <td>3</td>\n",
       "    </tr>\n",
       "    <tr>\n",
       "      <th>2</th>\n",
       "      <td>3</td>\n",
       "      <td>c</td>\n",
       "      <td>9</td>\n",
       "      <td>6</td>\n",
       "    </tr>\n",
       "    <tr>\n",
       "      <th>3</th>\n",
       "      <td>4</td>\n",
       "      <td>d</td>\n",
       "      <td>16</td>\n",
       "      <td>10</td>\n",
       "    </tr>\n",
       "  </tbody>\n",
       "</table>\n",
       "</div>"
      ],
      "text/plain": [
       "   numeros letras  cuadrados  acumulados\n",
       "0        1      a          1           1\n",
       "1        2      b          4           3\n",
       "2        3      c          9           6\n",
       "3        4      d         16          10"
      ]
     },
     "execution_count": 80,
     "metadata": {},
     "output_type": "execute_result"
    }
   ],
   "source": [
    "# nueva columna de tabla con el nombre acumulados\n",
    "tabla['acumulados'] = tabla['numeros'].cumsum()\n",
    "\n",
    "tabla"
   ]
  },
  {
   "cell_type": "markdown",
   "metadata": {},
   "source": [
    "### Alturas y pesos de jugadores de baloncesto\n",
    "Datos extraídos de las páginas de los equipos."
   ]
  },
  {
   "cell_type": "code",
   "execution_count": 81,
   "metadata": {},
   "outputs": [],
   "source": [
    "# import numpy as np\n",
    "a=[2.11, 2.06, 2.13, 1.85, 1.96, 1.96, 1.93, 1.91, 2.06, 2.01,\n",
    "                    2.13, 2.13, 1.8, 1.93, 2.01, 2.01, 2.03, 2.08]"
   ]
  },
  {
   "cell_type": "code",
   "execution_count": 82,
   "metadata": {},
   "outputs": [],
   "source": [
    "b=[110, 98, 113, 97, 99, 95, 92, 85, 107, 96,\n",
    "                  128, 127, 86, 100, 101, 102, 108, 105]"
   ]
  },
  {
   "cell_type": "code",
   "execution_count": 83,
   "metadata": {},
   "outputs": [
    {
     "data": {
      "text/html": [
       "<div>\n",
       "<style scoped>\n",
       "    .dataframe tbody tr th:only-of-type {\n",
       "        vertical-align: middle;\n",
       "    }\n",
       "\n",
       "    .dataframe tbody tr th {\n",
       "        vertical-align: top;\n",
       "    }\n",
       "\n",
       "    .dataframe thead th {\n",
       "        text-align: right;\n",
       "    }\n",
       "</style>\n",
       "<table border=\"1\" class=\"dataframe\">\n",
       "  <thead>\n",
       "    <tr style=\"text-align: right;\">\n",
       "      <th></th>\n",
       "      <th>alt</th>\n",
       "      <th>pes</th>\n",
       "    </tr>\n",
       "  </thead>\n",
       "  <tbody>\n",
       "    <tr>\n",
       "      <th>0</th>\n",
       "      <td>2.11</td>\n",
       "      <td>110</td>\n",
       "    </tr>\n",
       "    <tr>\n",
       "      <th>1</th>\n",
       "      <td>2.06</td>\n",
       "      <td>98</td>\n",
       "    </tr>\n",
       "    <tr>\n",
       "      <th>2</th>\n",
       "      <td>2.13</td>\n",
       "      <td>113</td>\n",
       "    </tr>\n",
       "    <tr>\n",
       "      <th>3</th>\n",
       "      <td>1.85</td>\n",
       "      <td>97</td>\n",
       "    </tr>\n",
       "    <tr>\n",
       "      <th>4</th>\n",
       "      <td>1.96</td>\n",
       "      <td>99</td>\n",
       "    </tr>\n",
       "    <tr>\n",
       "      <th>5</th>\n",
       "      <td>1.96</td>\n",
       "      <td>95</td>\n",
       "    </tr>\n",
       "    <tr>\n",
       "      <th>6</th>\n",
       "      <td>1.93</td>\n",
       "      <td>92</td>\n",
       "    </tr>\n",
       "    <tr>\n",
       "      <th>7</th>\n",
       "      <td>1.91</td>\n",
       "      <td>85</td>\n",
       "    </tr>\n",
       "    <tr>\n",
       "      <th>8</th>\n",
       "      <td>2.06</td>\n",
       "      <td>107</td>\n",
       "    </tr>\n",
       "    <tr>\n",
       "      <th>9</th>\n",
       "      <td>2.01</td>\n",
       "      <td>96</td>\n",
       "    </tr>\n",
       "    <tr>\n",
       "      <th>10</th>\n",
       "      <td>2.13</td>\n",
       "      <td>128</td>\n",
       "    </tr>\n",
       "    <tr>\n",
       "      <th>11</th>\n",
       "      <td>2.13</td>\n",
       "      <td>127</td>\n",
       "    </tr>\n",
       "    <tr>\n",
       "      <th>12</th>\n",
       "      <td>1.80</td>\n",
       "      <td>86</td>\n",
       "    </tr>\n",
       "    <tr>\n",
       "      <th>13</th>\n",
       "      <td>1.93</td>\n",
       "      <td>100</td>\n",
       "    </tr>\n",
       "    <tr>\n",
       "      <th>14</th>\n",
       "      <td>2.01</td>\n",
       "      <td>101</td>\n",
       "    </tr>\n",
       "    <tr>\n",
       "      <th>15</th>\n",
       "      <td>2.01</td>\n",
       "      <td>102</td>\n",
       "    </tr>\n",
       "    <tr>\n",
       "      <th>16</th>\n",
       "      <td>2.03</td>\n",
       "      <td>108</td>\n",
       "    </tr>\n",
       "    <tr>\n",
       "      <th>17</th>\n",
       "      <td>2.08</td>\n",
       "      <td>105</td>\n",
       "    </tr>\n",
       "  </tbody>\n",
       "</table>\n",
       "</div>"
      ],
      "text/plain": [
       "     alt  pes\n",
       "0   2.11  110\n",
       "1   2.06   98\n",
       "2   2.13  113\n",
       "3   1.85   97\n",
       "4   1.96   99\n",
       "5   1.96   95\n",
       "6   1.93   92\n",
       "7   1.91   85\n",
       "8   2.06  107\n",
       "9   2.01   96\n",
       "10  2.13  128\n",
       "11  2.13  127\n",
       "12  1.80   86\n",
       "13  1.93  100\n",
       "14  2.01  101\n",
       "15  2.01  102\n",
       "16  2.03  108\n",
       "17  2.08  105"
      ]
     },
     "execution_count": 83,
     "metadata": {},
     "output_type": "execute_result"
    }
   ],
   "source": [
    "pd.DataFrame({\"alt\":a,\"pes\":b})"
   ]
  },
  {
   "cell_type": "code",
   "execution_count": 84,
   "metadata": {},
   "outputs": [
    {
     "data": {
      "text/html": [
       "<div>\n",
       "<style scoped>\n",
       "    .dataframe tbody tr th:only-of-type {\n",
       "        vertical-align: middle;\n",
       "    }\n",
       "\n",
       "    .dataframe tbody tr th {\n",
       "        vertical-align: top;\n",
       "    }\n",
       "\n",
       "    .dataframe thead th {\n",
       "        text-align: right;\n",
       "    }\n",
       "</style>\n",
       "<table border=\"1\" class=\"dataframe\">\n",
       "  <thead>\n",
       "    <tr style=\"text-align: right;\">\n",
       "      <th></th>\n",
       "      <th>0</th>\n",
       "      <th>1</th>\n",
       "      <th>2</th>\n",
       "      <th>3</th>\n",
       "      <th>4</th>\n",
       "      <th>5</th>\n",
       "      <th>6</th>\n",
       "      <th>7</th>\n",
       "      <th>8</th>\n",
       "      <th>9</th>\n",
       "      <th>10</th>\n",
       "      <th>11</th>\n",
       "      <th>12</th>\n",
       "      <th>13</th>\n",
       "      <th>14</th>\n",
       "      <th>15</th>\n",
       "      <th>16</th>\n",
       "      <th>17</th>\n",
       "    </tr>\n",
       "  </thead>\n",
       "  <tbody>\n",
       "    <tr>\n",
       "      <th>alt</th>\n",
       "      <td>2.11</td>\n",
       "      <td>2.06</td>\n",
       "      <td>2.13</td>\n",
       "      <td>1.85</td>\n",
       "      <td>1.96</td>\n",
       "      <td>1.96</td>\n",
       "      <td>1.93</td>\n",
       "      <td>1.91</td>\n",
       "      <td>2.06</td>\n",
       "      <td>2.01</td>\n",
       "      <td>2.13</td>\n",
       "      <td>2.13</td>\n",
       "      <td>1.8</td>\n",
       "      <td>1.93</td>\n",
       "      <td>2.01</td>\n",
       "      <td>2.01</td>\n",
       "      <td>2.03</td>\n",
       "      <td>2.08</td>\n",
       "    </tr>\n",
       "    <tr>\n",
       "      <th>pes</th>\n",
       "      <td>110.00</td>\n",
       "      <td>98.00</td>\n",
       "      <td>113.00</td>\n",
       "      <td>97.00</td>\n",
       "      <td>99.00</td>\n",
       "      <td>95.00</td>\n",
       "      <td>92.00</td>\n",
       "      <td>85.00</td>\n",
       "      <td>107.00</td>\n",
       "      <td>96.00</td>\n",
       "      <td>128.00</td>\n",
       "      <td>127.00</td>\n",
       "      <td>86.0</td>\n",
       "      <td>100.00</td>\n",
       "      <td>101.00</td>\n",
       "      <td>102.00</td>\n",
       "      <td>108.00</td>\n",
       "      <td>105.00</td>\n",
       "    </tr>\n",
       "  </tbody>\n",
       "</table>\n",
       "</div>"
      ],
      "text/plain": [
       "         0      1       2      3      4      5      6      7       8      9   \\\n",
       "alt    2.11   2.06    2.13   1.85   1.96   1.96   1.93   1.91    2.06   2.01   \n",
       "pes  110.00  98.00  113.00  97.00  99.00  95.00  92.00  85.00  107.00  96.00   \n",
       "\n",
       "         10      11    12      13      14      15      16      17  \n",
       "alt    2.13    2.13   1.8    1.93    2.01    2.01    2.03    2.08  \n",
       "pes  128.00  127.00  86.0  100.00  101.00  102.00  108.00  105.00  "
      ]
     },
     "execution_count": 84,
     "metadata": {},
     "output_type": "execute_result"
    }
   ],
   "source": [
    "pd.DataFrame({\"alt\":a,\"pes\":b}).T"
   ]
  },
  {
   "cell_type": "code",
   "execution_count": null,
   "metadata": {},
   "outputs": [],
   "source": []
  },
  {
   "cell_type": "code",
   "execution_count": null,
   "metadata": {},
   "outputs": [],
   "source": []
  },
  {
   "cell_type": "code",
   "execution_count": null,
   "metadata": {},
   "outputs": [],
   "source": []
  },
  {
   "cell_type": "code",
   "execution_count": 73,
   "metadata": {},
   "outputs": [],
   "source": [
    "# tabla de alturas y pesos de cuatro equipos de baloncesto\n",
    "bucks = pd.DataFrame()\n",
    "bucks['alturas'] = [2.11, 2.06, 2.13, 1.85, 1.96, 1.96, 1.93, 1.91, 2.06, 2.01,\n",
    "                    2.13, 2.13, 1.8, 1.93, 2.01, 2.01, 2.03, 2.08]\n",
    "bucks['pesos']   = [110, 98, 113, 97, 99, 95, 92, 85, 107, 96,\n",
    "                  128, 127, 86, 100, 101, 102, 108, 105]\n",
    "bucks.index.name = \"Bucks\"\n",
    "\n",
    "clippers = pd.DataFrame()\n",
    "clippers['alturas'] = [1.85, 2.01, 2.03, 2.03, 2.01, 1.91, 2.06, 2.01, 1.96, 1.93,\n",
    "                       2.03, 2.03, 2.03, 1.93, 1.85, 2.13]\n",
    "clippers['pesos'] = [82, 95, 100, 103, 109, 94, 113, 102, 98, 93,\n",
    "                     99, 104, 107, 86, 79, 109]\n",
    "clippers.index.name = \"Clippers\"\n",
    "\n",
    "lakers = pd.DataFrame()\n",
    "lakers['alturas'] = [2.08, 1.91, 2.01, 1.96, 1.96, 1.88, 2.08, 2.01, 1.98, 1.93,\n",
    "                     2.11, 2.03, 2.06, 2.13, 2.03, 1.85, 1.98, 1.91]\n",
    "lakers['pesos'] = [91, 82, 109, 93, 84, 81, 115, 108, 97, 107,\n",
    "                   120, 113, 100, 122, 111, 84, 102, 95]\n",
    "lakers.index.name = \"Lakers\"\n",
    "\n",
    "raptors = pd.DataFrame()\n",
    "raptors['alturas'] = [2.01, 2.06, 2.01, 1.93, 2.11, 2.08, 1.98, 2.13, 1.98, 1.83,\n",
    "                      2.01, 2.01, 1.83, 1.91, 2.06, 1.93, 1.85]\n",
    "raptors['pesos'] = [105, 91, 95, 91, 116, 107, 98, 107, 110, 89,\n",
    "                    82, 95, 79, 98, 104, 86, 89]\n",
    "raptors.index.name = \"Raptors\""
   ]
  },
  {
   "cell_type": "code",
   "execution_count": 74,
   "metadata": {},
   "outputs": [
    {
     "data": {
      "text/html": [
       "<div>\n",
       "<style scoped>\n",
       "    .dataframe tbody tr th:only-of-type {\n",
       "        vertical-align: middle;\n",
       "    }\n",
       "\n",
       "    .dataframe tbody tr th {\n",
       "        vertical-align: top;\n",
       "    }\n",
       "\n",
       "    .dataframe thead th {\n",
       "        text-align: right;\n",
       "    }\n",
       "</style>\n",
       "<table border=\"1\" class=\"dataframe\">\n",
       "  <thead>\n",
       "    <tr style=\"text-align: right;\">\n",
       "      <th></th>\n",
       "      <th>alturas</th>\n",
       "      <th>pesos</th>\n",
       "    </tr>\n",
       "    <tr>\n",
       "      <th>Bucks</th>\n",
       "      <th></th>\n",
       "      <th></th>\n",
       "    </tr>\n",
       "  </thead>\n",
       "  <tbody>\n",
       "    <tr>\n",
       "      <th>0</th>\n",
       "      <td>2.11</td>\n",
       "      <td>110</td>\n",
       "    </tr>\n",
       "    <tr>\n",
       "      <th>1</th>\n",
       "      <td>2.06</td>\n",
       "      <td>98</td>\n",
       "    </tr>\n",
       "    <tr>\n",
       "      <th>2</th>\n",
       "      <td>2.13</td>\n",
       "      <td>113</td>\n",
       "    </tr>\n",
       "    <tr>\n",
       "      <th>3</th>\n",
       "      <td>1.85</td>\n",
       "      <td>97</td>\n",
       "    </tr>\n",
       "    <tr>\n",
       "      <th>4</th>\n",
       "      <td>1.96</td>\n",
       "      <td>99</td>\n",
       "    </tr>\n",
       "    <tr>\n",
       "      <th>5</th>\n",
       "      <td>1.96</td>\n",
       "      <td>95</td>\n",
       "    </tr>\n",
       "    <tr>\n",
       "      <th>6</th>\n",
       "      <td>1.93</td>\n",
       "      <td>92</td>\n",
       "    </tr>\n",
       "    <tr>\n",
       "      <th>7</th>\n",
       "      <td>1.91</td>\n",
       "      <td>85</td>\n",
       "    </tr>\n",
       "    <tr>\n",
       "      <th>8</th>\n",
       "      <td>2.06</td>\n",
       "      <td>107</td>\n",
       "    </tr>\n",
       "    <tr>\n",
       "      <th>9</th>\n",
       "      <td>2.01</td>\n",
       "      <td>96</td>\n",
       "    </tr>\n",
       "    <tr>\n",
       "      <th>10</th>\n",
       "      <td>2.13</td>\n",
       "      <td>128</td>\n",
       "    </tr>\n",
       "    <tr>\n",
       "      <th>11</th>\n",
       "      <td>2.13</td>\n",
       "      <td>127</td>\n",
       "    </tr>\n",
       "    <tr>\n",
       "      <th>12</th>\n",
       "      <td>1.80</td>\n",
       "      <td>86</td>\n",
       "    </tr>\n",
       "    <tr>\n",
       "      <th>13</th>\n",
       "      <td>1.93</td>\n",
       "      <td>100</td>\n",
       "    </tr>\n",
       "    <tr>\n",
       "      <th>14</th>\n",
       "      <td>2.01</td>\n",
       "      <td>101</td>\n",
       "    </tr>\n",
       "    <tr>\n",
       "      <th>15</th>\n",
       "      <td>2.01</td>\n",
       "      <td>102</td>\n",
       "    </tr>\n",
       "    <tr>\n",
       "      <th>16</th>\n",
       "      <td>2.03</td>\n",
       "      <td>108</td>\n",
       "    </tr>\n",
       "    <tr>\n",
       "      <th>17</th>\n",
       "      <td>2.08</td>\n",
       "      <td>105</td>\n",
       "    </tr>\n",
       "  </tbody>\n",
       "</table>\n",
       "</div>"
      ],
      "text/plain": [
       "       alturas  pesos\n",
       "Bucks                \n",
       "0         2.11    110\n",
       "1         2.06     98\n",
       "2         2.13    113\n",
       "3         1.85     97\n",
       "4         1.96     99\n",
       "5         1.96     95\n",
       "6         1.93     92\n",
       "7         1.91     85\n",
       "8         2.06    107\n",
       "9         2.01     96\n",
       "10        2.13    128\n",
       "11        2.13    127\n",
       "12        1.80     86\n",
       "13        1.93    100\n",
       "14        2.01    101\n",
       "15        2.01    102\n",
       "16        2.03    108\n",
       "17        2.08    105"
      ]
     },
     "execution_count": 74,
     "metadata": {},
     "output_type": "execute_result"
    }
   ],
   "source": [
    "bucks   # tabla de los Bucks"
   ]
  },
  {
   "cell_type": "markdown",
   "metadata": {},
   "source": [
    "## 2.2 Tabla de frecuencias por valores"
   ]
  },
  {
   "cell_type": "code",
   "execution_count": 75,
   "metadata": {},
   "outputs": [
    {
     "data": {
      "text/plain": [
       "18"
      ]
     },
     "execution_count": 75,
     "metadata": {},
     "output_type": "execute_result"
    }
   ],
   "source": [
    "lakers['pesos'].count()     # número de datos de la columna de pesos"
   ]
  },
  {
   "cell_type": "code",
   "execution_count": 76,
   "metadata": {},
   "outputs": [
    {
     "data": {
      "text/plain": [
       "count     18.000000\n",
       "mean     100.777778\n",
       "std       13.166605\n",
       "min       81.000000\n",
       "25%       91.500000\n",
       "50%      101.000000\n",
       "75%      110.500000\n",
       "max      122.000000\n",
       "Name: pesos, dtype: float64"
      ]
     },
     "execution_count": 76,
     "metadata": {},
     "output_type": "execute_result"
    }
   ],
   "source": [
    "lakers['pesos'].describe()"
   ]
  },
  {
   "cell_type": "code",
   "execution_count": 77,
   "metadata": {},
   "outputs": [
    {
     "data": {
      "text/html": [
       "<div>\n",
       "<style scoped>\n",
       "    .dataframe tbody tr th:only-of-type {\n",
       "        vertical-align: middle;\n",
       "    }\n",
       "\n",
       "    .dataframe tbody tr th {\n",
       "        vertical-align: top;\n",
       "    }\n",
       "\n",
       "    .dataframe thead th {\n",
       "        text-align: right;\n",
       "    }\n",
       "</style>\n",
       "<table border=\"1\" class=\"dataframe\">\n",
       "  <thead>\n",
       "    <tr style=\"text-align: right;\">\n",
       "      <th></th>\n",
       "      <th>alturas</th>\n",
       "    </tr>\n",
       "    <tr>\n",
       "      <th>pesos</th>\n",
       "      <th></th>\n",
       "    </tr>\n",
       "  </thead>\n",
       "  <tbody>\n",
       "    <tr>\n",
       "      <th>81</th>\n",
       "      <td>1</td>\n",
       "    </tr>\n",
       "    <tr>\n",
       "      <th>82</th>\n",
       "      <td>1</td>\n",
       "    </tr>\n",
       "    <tr>\n",
       "      <th>84</th>\n",
       "      <td>2</td>\n",
       "    </tr>\n",
       "    <tr>\n",
       "      <th>91</th>\n",
       "      <td>1</td>\n",
       "    </tr>\n",
       "    <tr>\n",
       "      <th>93</th>\n",
       "      <td>1</td>\n",
       "    </tr>\n",
       "    <tr>\n",
       "      <th>95</th>\n",
       "      <td>1</td>\n",
       "    </tr>\n",
       "    <tr>\n",
       "      <th>97</th>\n",
       "      <td>1</td>\n",
       "    </tr>\n",
       "    <tr>\n",
       "      <th>100</th>\n",
       "      <td>1</td>\n",
       "    </tr>\n",
       "    <tr>\n",
       "      <th>102</th>\n",
       "      <td>1</td>\n",
       "    </tr>\n",
       "    <tr>\n",
       "      <th>107</th>\n",
       "      <td>1</td>\n",
       "    </tr>\n",
       "    <tr>\n",
       "      <th>108</th>\n",
       "      <td>1</td>\n",
       "    </tr>\n",
       "    <tr>\n",
       "      <th>109</th>\n",
       "      <td>1</td>\n",
       "    </tr>\n",
       "    <tr>\n",
       "      <th>111</th>\n",
       "      <td>1</td>\n",
       "    </tr>\n",
       "    <tr>\n",
       "      <th>113</th>\n",
       "      <td>1</td>\n",
       "    </tr>\n",
       "    <tr>\n",
       "      <th>115</th>\n",
       "      <td>1</td>\n",
       "    </tr>\n",
       "    <tr>\n",
       "      <th>120</th>\n",
       "      <td>1</td>\n",
       "    </tr>\n",
       "    <tr>\n",
       "      <th>122</th>\n",
       "      <td>1</td>\n",
       "    </tr>\n",
       "  </tbody>\n",
       "</table>\n",
       "</div>"
      ],
      "text/plain": [
       "       alturas\n",
       "pesos         \n",
       "81           1\n",
       "82           1\n",
       "84           2\n",
       "91           1\n",
       "93           1\n",
       "95           1\n",
       "97           1\n",
       "100          1\n",
       "102          1\n",
       "107          1\n",
       "108          1\n",
       "109          1\n",
       "111          1\n",
       "113          1\n",
       "115          1\n",
       "120          1\n",
       "122          1"
      ]
     },
     "execution_count": 77,
     "metadata": {},
     "output_type": "execute_result"
    }
   ],
   "source": [
    "tabla = lakers.groupby('pesos').count()     # cuenta las ocurrencias de los pesos\n",
    "tabla"
   ]
  },
  {
   "cell_type": "code",
   "execution_count": 78,
   "metadata": {},
   "outputs": [
    {
     "data": {
      "text/html": [
       "<div>\n",
       "<style scoped>\n",
       "    .dataframe tbody tr th:only-of-type {\n",
       "        vertical-align: middle;\n",
       "    }\n",
       "\n",
       "    .dataframe tbody tr th {\n",
       "        vertical-align: top;\n",
       "    }\n",
       "\n",
       "    .dataframe thead th {\n",
       "        text-align: right;\n",
       "    }\n",
       "</style>\n",
       "<table border=\"1\" class=\"dataframe\">\n",
       "  <thead>\n",
       "    <tr style=\"text-align: right;\">\n",
       "      <th></th>\n",
       "      <th>pesos</th>\n",
       "    </tr>\n",
       "    <tr>\n",
       "      <th>alturas</th>\n",
       "      <th></th>\n",
       "    </tr>\n",
       "  </thead>\n",
       "  <tbody>\n",
       "    <tr>\n",
       "      <th>1.85</th>\n",
       "      <td>1</td>\n",
       "    </tr>\n",
       "    <tr>\n",
       "      <th>1.88</th>\n",
       "      <td>1</td>\n",
       "    </tr>\n",
       "    <tr>\n",
       "      <th>1.91</th>\n",
       "      <td>2</td>\n",
       "    </tr>\n",
       "    <tr>\n",
       "      <th>1.93</th>\n",
       "      <td>1</td>\n",
       "    </tr>\n",
       "    <tr>\n",
       "      <th>1.96</th>\n",
       "      <td>2</td>\n",
       "    </tr>\n",
       "    <tr>\n",
       "      <th>1.98</th>\n",
       "      <td>2</td>\n",
       "    </tr>\n",
       "    <tr>\n",
       "      <th>2.01</th>\n",
       "      <td>2</td>\n",
       "    </tr>\n",
       "    <tr>\n",
       "      <th>2.03</th>\n",
       "      <td>2</td>\n",
       "    </tr>\n",
       "    <tr>\n",
       "      <th>2.06</th>\n",
       "      <td>1</td>\n",
       "    </tr>\n",
       "    <tr>\n",
       "      <th>2.08</th>\n",
       "      <td>2</td>\n",
       "    </tr>\n",
       "    <tr>\n",
       "      <th>2.11</th>\n",
       "      <td>1</td>\n",
       "    </tr>\n",
       "    <tr>\n",
       "      <th>2.13</th>\n",
       "      <td>1</td>\n",
       "    </tr>\n",
       "  </tbody>\n",
       "</table>\n",
       "</div>"
      ],
      "text/plain": [
       "         pesos\n",
       "alturas       \n",
       "1.85         1\n",
       "1.88         1\n",
       "1.91         2\n",
       "1.93         1\n",
       "1.96         2\n",
       "1.98         2\n",
       "2.01         2\n",
       "2.03         2\n",
       "2.06         1\n",
       "2.08         2\n",
       "2.11         1\n",
       "2.13         1"
      ]
     },
     "execution_count": 78,
     "metadata": {},
     "output_type": "execute_result"
    }
   ],
   "source": [
    "tabla = lakers.groupby('alturas').count()   # cuenta las ocurrencias de las alturas\n",
    "tabla"
   ]
  },
  {
   "cell_type": "code",
   "execution_count": 79,
   "metadata": {},
   "outputs": [],
   "source": [
    "## 2.2 Tabla de frecuencias por valores"
   ]
  },
  {
   "cell_type": "code",
   "execution_count": 81,
   "metadata": {},
   "outputs": [
    {
     "data": {
      "text/plain": [
       "(       alturas\n",
       " pesos         \n",
       " 79           1\n",
       " 82           1\n",
       " 86           1\n",
       " 89           2\n",
       " 91           2\n",
       " 95           2\n",
       " 98           2\n",
       " 104          1\n",
       " 105          1\n",
       " 107          2\n",
       " 110          1\n",
       " 116          1,\n",
       "        alturas\n",
       " pesos         \n",
       " 79       1.830\n",
       " 82       2.010\n",
       " 86       1.930\n",
       " 89       1.840\n",
       " 91       1.995\n",
       " 95       2.010\n",
       " 98       1.945\n",
       " 104      2.060\n",
       " 105      2.010\n",
       " 107      2.105\n",
       " 110      1.980\n",
       " 116      2.110)"
      ]
     },
     "execution_count": 81,
     "metadata": {},
     "output_type": "execute_result"
    }
   ],
   "source": [
    "tabla = raptors.groupby(\"pesos\")\n",
    "tabla.count(),tabla.mean()"
   ]
  },
  {
   "cell_type": "markdown",
   "metadata": {},
   "source": [
    "## 2.3 Tabla de frecuencias por intervalos"
   ]
  },
  {
   "cell_type": "code",
   "execution_count": 82,
   "metadata": {},
   "outputs": [
    {
     "name": "stdout",
     "output_type": "stream",
     "text": [
      "[81, 82, 84, 84, 91, 93, 95, 97, 100, 102, 107, 108, 109, 111, 113, 115, 120, 122]\n"
     ]
    }
   ],
   "source": [
    "print(sorted(lakers['pesos']))# muestra los pesos ordenados de menor a mayor"
   ]
  },
  {
   "cell_type": "markdown",
   "metadata": {},
   "source": [
    "### Intervalos de pesos [80 - 90), [90, 100), [100, 110), [110, 120), [120, 130)"
   ]
  },
  {
   "cell_type": "code",
   "execution_count": 83,
   "metadata": {},
   "outputs": [
    {
     "data": {
      "text/plain": [
       "Lakers\n",
       "0     False\n",
       "1      True\n",
       "2     False\n",
       "3     False\n",
       "4      True\n",
       "5      True\n",
       "6     False\n",
       "7     False\n",
       "8     False\n",
       "9     False\n",
       "10    False\n",
       "11    False\n",
       "12    False\n",
       "13    False\n",
       "14    False\n",
       "15     True\n",
       "16    False\n",
       "17    False\n",
       "Name: pesos, dtype: bool"
      ]
     },
     "execution_count": 83,
     "metadata": {},
     "output_type": "execute_result"
    }
   ],
   "source": [
    "# filtro para pesos mayores o iguales que 80 y menores que 90\n",
    "# & --> and\n",
    "# | --> or\n",
    "# ^ --> Xor\n",
    "filtro = (lakers['pesos'] >= 80) & (lakers['pesos'] < 80 + 10)\n",
    "filtro"
   ]
  },
  {
   "cell_type": "code",
   "execution_count": 84,
   "metadata": {},
   "outputs": [
    {
     "data": {
      "text/plain": [
       "Lakers\n",
       "1     82\n",
       "4     84\n",
       "5     81\n",
       "15    84\n",
       "Name: pesos, dtype: int64"
      ]
     },
     "execution_count": 84,
     "metadata": {},
     "output_type": "execute_result"
    }
   ],
   "source": [
    "# una serie de pesos mayores o iguales que 80 y menores que 90\n",
    "serie = lakers['pesos'][filtro]\n",
    "serie"
   ]
  },
  {
   "cell_type": "code",
   "execution_count": 85,
   "metadata": {},
   "outputs": [
    {
     "data": {
      "text/plain": [
       "4"
      ]
     },
     "execution_count": 85,
     "metadata": {},
     "output_type": "execute_result"
    }
   ],
   "source": [
    "# número de pesos en el intervalo [80, 90>\n",
    "len(serie)"
   ]
  },
  {
   "cell_type": "markdown",
   "metadata": {},
   "source": [
    "### Lista de números de pesos por intervalos"
   ]
  },
  {
   "cell_type": "code",
   "execution_count": 86,
   "metadata": {},
   "outputs": [
    {
     "data": {
      "text/plain": [
       "[4, 4, 5, 3, 2]"
      ]
     },
     "execution_count": 86,
     "metadata": {},
     "output_type": "execute_result"
    }
   ],
   "source": [
    "lista = []\n",
    "\n",
    "# para cada peso i desde 80 hasta 120\n",
    "for i in [80, 90, 100, 110, 120]:\n",
    "    \n",
    "    # filtra y cuenta los pesos en el intervalo [i, i + 10)\n",
    "    filtro = (lakers['pesos'] >= i) & (lakers['pesos'] < i + 10)\n",
    "    # print(filtro)\n",
    "    serie = lakers['pesos'][filtro]\n",
    "    n = len(serie)\n",
    "\n",
    "    lista.append(n)\n",
    "\n",
    "lista"
   ]
  },
  {
   "cell_type": "markdown",
   "metadata": {},
   "source": [
    "### Tabla de frecuencias por intervalos"
   ]
  },
  {
   "cell_type": "code",
   "execution_count": 87,
   "metadata": {},
   "outputs": [
    {
     "data": {
      "text/html": [
       "<div>\n",
       "<style scoped>\n",
       "    .dataframe tbody tr th:only-of-type {\n",
       "        vertical-align: middle;\n",
       "    }\n",
       "\n",
       "    .dataframe tbody tr th {\n",
       "        vertical-align: top;\n",
       "    }\n",
       "\n",
       "    .dataframe thead th {\n",
       "        text-align: right;\n",
       "    }\n",
       "</style>\n",
       "<table border=\"1\" class=\"dataframe\">\n",
       "  <thead>\n",
       "    <tr style=\"text-align: right;\">\n",
       "      <th></th>\n",
       "      <th>frecuencia</th>\n",
       "    </tr>\n",
       "    <tr>\n",
       "      <th>pesos</th>\n",
       "      <th></th>\n",
       "    </tr>\n",
       "  </thead>\n",
       "  <tbody>\n",
       "    <tr>\n",
       "      <th>[80 - 90)</th>\n",
       "      <td>4</td>\n",
       "    </tr>\n",
       "    <tr>\n",
       "      <th>[90, 100)</th>\n",
       "      <td>4</td>\n",
       "    </tr>\n",
       "    <tr>\n",
       "      <th>[100, 110)</th>\n",
       "      <td>5</td>\n",
       "    </tr>\n",
       "    <tr>\n",
       "      <th>[110, 120)</th>\n",
       "      <td>3</td>\n",
       "    </tr>\n",
       "    <tr>\n",
       "      <th>[120, 130)</th>\n",
       "      <td>2</td>\n",
       "    </tr>\n",
       "    <tr>\n",
       "      <th>Total</th>\n",
       "      <td>18</td>\n",
       "    </tr>\n",
       "  </tbody>\n",
       "</table>\n",
       "</div>"
      ],
      "text/plain": [
       "            frecuencia\n",
       "pesos                 \n",
       "[80 - 90)            4\n",
       "[90, 100)            4\n",
       "[100, 110)           5\n",
       "[110, 120)           3\n",
       "[120, 130)           2\n",
       "Total               18"
      ]
     },
     "execution_count": 87,
     "metadata": {},
     "output_type": "execute_result"
    }
   ],
   "source": [
    "indices = ['[80 - 90)', '[90, 100)', '[100, 110)', '[110, 120)', '[120, 130)', 'Total']\n",
    "\n",
    "# crea una tabla con los textos como índices\n",
    "pesos_agrupados = pd.DataFrame(index = indices)\n",
    "\n",
    "# número de datos\n",
    "total = len(lakers['pesos'])\n",
    "\n",
    "# una columna con las frecuencias de ocurrencias más el total\n",
    "pesos_agrupados['frecuencia'] = lista + [total]\n",
    "\n",
    "# el nombre de la columna de índices\n",
    "pesos_agrupados.index.name = 'pesos'\n",
    "\n",
    "pesos_agrupados"
   ]
  },
  {
   "cell_type": "markdown",
   "metadata": {},
   "source": [
    "### Concatenación de textos"
   ]
  },
  {
   "cell_type": "code",
   "execution_count": 88,
   "metadata": {},
   "outputs": [
    {
     "data": {
      "text/plain": [
       "'[80 - 90>'"
      ]
     },
     "execution_count": 88,
     "metadata": {},
     "output_type": "execute_result"
    }
   ],
   "source": [
    "i = 80\n",
    "\n",
    "# el método str convierte valores de objetos a textos\n",
    "indice = '[' + str(i) + ' - ' + str(i + 10) + '>'\n",
    "\n",
    "indice"
   ]
  },
  {
   "cell_type": "markdown",
   "metadata": {},
   "source": [
    "### Función tabla_de_frecuencias"
   ]
  },
  {
   "cell_type": "code",
   "execution_count": 89,
   "metadata": {},
   "outputs": [],
   "source": [
    "# import numpy as np\n",
    "def tabla_de_frecuencias(datos, minimo, maximo, intervalo, nombre_del_indice = '', decimales = 2):\n",
    "    \"\"\"\n",
    "    Retorna una tabla de frecuencias.\n",
    "    Recibe una secuencia de datos, un valor inicial, un valor final, un intervalo,\n",
    "    un nombre para la columna de índices y el número de decimales de redondeo.\n",
    "    \"\"\"\n",
    "    \n",
    "    cuentas = []    # lista de número de valores en cada intervalo\n",
    "    indices = []    # lista de los índices de la tabla\n",
    "    \n",
    "    # para valores de i desde minimo con incrementos de intervalo y menores que maximo\n",
    "    for i in np.arange(minimo, maximo, intervalo): \n",
    "        \n",
    "        # filtra y cuenta los datos en el intervalo [i, i + 10)\n",
    "        filtro = (datos >= i) & (datos < i + intervalo)\n",
    "        cuenta = len(datos[filtro])\n",
    "        \n",
    "        # forma el texto del índice\n",
    "        indice = '[' + str(round(i, decimales)) + ', ' + str(round(i + intervalo, decimales)) + ')'\n",
    "\n",
    "        # agrega el índice y la cuenta de datos\n",
    "        indices.append(indice)\n",
    "        cuentas.append(cuenta)\n",
    "\n",
    "    # agrega un índice 'Total'\n",
    "    indices.append('Total')\n",
    "    # crea una tabla con los índices formados\n",
    "    tabla = pd.DataFrame(index = indices)\n",
    "    \n",
    "    # agrega el total de datos a cuentas\n",
    "    cuentas.append(len(datos))\n",
    "    # crea una columna con las cuentas\n",
    "    tabla['frecuencia'] = cuentas\n",
    "    \n",
    "    tabla.index.name = nombre_del_indice\n",
    "\n",
    "    return tabla"
   ]
  },
  {
   "cell_type": "code",
   "execution_count": 90,
   "metadata": {},
   "outputs": [
    {
     "data": {
      "text/html": [
       "<div>\n",
       "<style scoped>\n",
       "    .dataframe tbody tr th:only-of-type {\n",
       "        vertical-align: middle;\n",
       "    }\n",
       "\n",
       "    .dataframe tbody tr th {\n",
       "        vertical-align: top;\n",
       "    }\n",
       "\n",
       "    .dataframe thead th {\n",
       "        text-align: right;\n",
       "    }\n",
       "</style>\n",
       "<table border=\"1\" class=\"dataframe\">\n",
       "  <thead>\n",
       "    <tr style=\"text-align: right;\">\n",
       "      <th></th>\n",
       "      <th>frecuencia</th>\n",
       "    </tr>\n",
       "    <tr>\n",
       "      <th>pesos (kg)</th>\n",
       "      <th></th>\n",
       "    </tr>\n",
       "  </thead>\n",
       "  <tbody>\n",
       "    <tr>\n",
       "      <th>[80, 90)</th>\n",
       "      <td>4</td>\n",
       "    </tr>\n",
       "    <tr>\n",
       "      <th>[90, 100)</th>\n",
       "      <td>4</td>\n",
       "    </tr>\n",
       "    <tr>\n",
       "      <th>[100, 110)</th>\n",
       "      <td>5</td>\n",
       "    </tr>\n",
       "    <tr>\n",
       "      <th>[110, 120)</th>\n",
       "      <td>3</td>\n",
       "    </tr>\n",
       "    <tr>\n",
       "      <th>[120, 130)</th>\n",
       "      <td>2</td>\n",
       "    </tr>\n",
       "    <tr>\n",
       "      <th>Total</th>\n",
       "      <td>18</td>\n",
       "    </tr>\n",
       "  </tbody>\n",
       "</table>\n",
       "</div>"
      ],
      "text/plain": [
       "            frecuencia\n",
       "pesos (kg)            \n",
       "[80, 90)             4\n",
       "[90, 100)            4\n",
       "[100, 110)           5\n",
       "[110, 120)           3\n",
       "[120, 130)           2\n",
       "Total               18"
      ]
     },
     "execution_count": 90,
     "metadata": {},
     "output_type": "execute_result"
    }
   ],
   "source": [
    "# frecuencias de pesos\n",
    "tabla_de_frecuencias(lakers['pesos'], 80, 130, 10, 'pesos (kg)')"
   ]
  },
  {
   "cell_type": "code",
   "execution_count": 91,
   "metadata": {},
   "outputs": [
    {
     "name": "stdout",
     "output_type": "stream",
     "text": [
      "[1.85, 1.88, 1.91, 1.91, 1.93, 1.96, 1.96, 1.98, 1.98, 2.01, 2.01, 2.03, 2.03, 2.06, 2.08, 2.08, 2.11, 2.13]\n"
     ]
    }
   ],
   "source": [
    "print(sorted(lakers['alturas']))"
   ]
  },
  {
   "cell_type": "code",
   "execution_count": 92,
   "metadata": {},
   "outputs": [
    {
     "data": {
      "text/html": [
       "<div>\n",
       "<style scoped>\n",
       "    .dataframe tbody tr th:only-of-type {\n",
       "        vertical-align: middle;\n",
       "    }\n",
       "\n",
       "    .dataframe tbody tr th {\n",
       "        vertical-align: top;\n",
       "    }\n",
       "\n",
       "    .dataframe thead th {\n",
       "        text-align: right;\n",
       "    }\n",
       "</style>\n",
       "<table border=\"1\" class=\"dataframe\">\n",
       "  <thead>\n",
       "    <tr style=\"text-align: right;\">\n",
       "      <th></th>\n",
       "      <th>frecuencia</th>\n",
       "    </tr>\n",
       "    <tr>\n",
       "      <th>alturas (m)</th>\n",
       "      <th></th>\n",
       "    </tr>\n",
       "  </thead>\n",
       "  <tbody>\n",
       "    <tr>\n",
       "      <th>[1.85, 1.9)</th>\n",
       "      <td>2</td>\n",
       "    </tr>\n",
       "    <tr>\n",
       "      <th>[1.9, 1.95)</th>\n",
       "      <td>3</td>\n",
       "    </tr>\n",
       "    <tr>\n",
       "      <th>[1.95, 2.0)</th>\n",
       "      <td>4</td>\n",
       "    </tr>\n",
       "    <tr>\n",
       "      <th>[2.0, 2.05)</th>\n",
       "      <td>4</td>\n",
       "    </tr>\n",
       "    <tr>\n",
       "      <th>[2.05, 2.1)</th>\n",
       "      <td>3</td>\n",
       "    </tr>\n",
       "    <tr>\n",
       "      <th>[2.1, 2.15)</th>\n",
       "      <td>2</td>\n",
       "    </tr>\n",
       "    <tr>\n",
       "      <th>Total</th>\n",
       "      <td>18</td>\n",
       "    </tr>\n",
       "  </tbody>\n",
       "</table>\n",
       "</div>"
      ],
      "text/plain": [
       "             frecuencia\n",
       "alturas (m)            \n",
       "[1.85, 1.9)           2\n",
       "[1.9, 1.95)           3\n",
       "[1.95, 2.0)           4\n",
       "[2.0, 2.05)           4\n",
       "[2.05, 2.1)           3\n",
       "[2.1, 2.15)           2\n",
       "Total                18"
      ]
     },
     "execution_count": 92,
     "metadata": {},
     "output_type": "execute_result"
    }
   ],
   "source": [
    "# frecuencias de alturas\n",
    "tabla_de_frecuencias(lakers['alturas'], 1.85, 2.15, 0.05, 'alturas (m)')"
   ]
  },
  {
   "cell_type": "markdown",
   "metadata": {},
   "source": [
    "## 2.4 Tabla de frecuencias por intervalos con datos acumulados"
   ]
  },
  {
   "cell_type": "code",
   "execution_count": 93,
   "metadata": {},
   "outputs": [],
   "source": [
    "def tabla_de_frecuencias(datos, minimo, maximo, intervalo, nombre_del_indice = '', decimales = 2):\n",
    "    \"\"\"\n",
    "    Retorna una tabla de frecuencias con porcentajes y porcentajes acumulados.\n",
    "    Recibe una secuencia de datos, un valor inicial, un valor final, un intervalo,\n",
    "    un nombre para la columna de índices y el número de decimales de redondeo.\n",
    "    \"\"\"\n",
    "    \n",
    "    cuentas = []    # lista de número de valores en cada intervalo\n",
    "    indices = []    # lista de los índices de la tabla\n",
    "    \n",
    "    # para valores de i desde minimo con incrementos de intervalo y menores que maximo\n",
    "    for i in np.arange(minimo, maximo, intervalo):\n",
    "        \n",
    "        # filtra y cuenta los datos en el intervalo [i, i + 10)\n",
    "        filtro = (datos >= i) & (datos < i + intervalo)\n",
    "        cuenta = len(datos[filtro])\n",
    "        \n",
    "        # forma el texto del índice\n",
    "        indice = '[' + str(round(i, decimales)) + ', ' + str(round(i + intervalo, decimales)) + ')'\n",
    "        \n",
    "        # agrega el índice y la cuenta de datos\n",
    "        indices.append(indice)\n",
    "        cuentas.append(cuenta)\n",
    "\n",
    "    # número de datos\n",
    "    total = len(datos)\n",
    "    \n",
    "    # agrega un índice 'Total'\n",
    "    indices.append('Total')\n",
    "    \n",
    "    # crea una tabla con los índices formados\n",
    "    tabla = pd.DataFrame(index = indices)\n",
    "    \n",
    "    # agrega el total de datos a cuentas\n",
    "    cuentas.append(total)\n",
    "    \n",
    "    # crea una columna con las cuentas\n",
    "    tabla['frecuencia'] = cuentas\n",
    "    \n",
    "    # cada valor de la columna 'frecuencia' se divide entre total y se multiplica por 100\n",
    "    tabla['porcentajes'] = round(tabla['frecuencia'] / total * 100, decimales)\n",
    "    \n",
    "    # acumula los valores de porcentajes\n",
    "    acumulados = tabla['porcentajes'].cumsum().tolist()\n",
    "    \n",
    "    # el último valor resulta 200, entonces se fija en 100\n",
    "    acumulados[-1] = 100\n",
    "    \n",
    "    # crea una columna 'acumulados'\n",
    "    tabla['acumulados'] = acumulados\n",
    "    \n",
    "    tabla.index.name = nombre_del_indice\n",
    "    \n",
    "    return tabla"
   ]
  },
  {
   "cell_type": "code",
   "execution_count": 94,
   "metadata": {},
   "outputs": [
    {
     "data": {
      "text/html": [
       "<div>\n",
       "<style scoped>\n",
       "    .dataframe tbody tr th:only-of-type {\n",
       "        vertical-align: middle;\n",
       "    }\n",
       "\n",
       "    .dataframe tbody tr th {\n",
       "        vertical-align: top;\n",
       "    }\n",
       "\n",
       "    .dataframe thead th {\n",
       "        text-align: right;\n",
       "    }\n",
       "</style>\n",
       "<table border=\"1\" class=\"dataframe\">\n",
       "  <thead>\n",
       "    <tr style=\"text-align: right;\">\n",
       "      <th></th>\n",
       "      <th>frecuencia</th>\n",
       "      <th>porcentajes</th>\n",
       "      <th>acumulados</th>\n",
       "    </tr>\n",
       "    <tr>\n",
       "      <th>pesos (kg)</th>\n",
       "      <th></th>\n",
       "      <th></th>\n",
       "      <th></th>\n",
       "    </tr>\n",
       "  </thead>\n",
       "  <tbody>\n",
       "    <tr>\n",
       "      <th>[80, 90)</th>\n",
       "      <td>4</td>\n",
       "      <td>22.22</td>\n",
       "      <td>22.22</td>\n",
       "    </tr>\n",
       "    <tr>\n",
       "      <th>[90, 100)</th>\n",
       "      <td>4</td>\n",
       "      <td>22.22</td>\n",
       "      <td>44.44</td>\n",
       "    </tr>\n",
       "    <tr>\n",
       "      <th>[100, 110)</th>\n",
       "      <td>5</td>\n",
       "      <td>27.78</td>\n",
       "      <td>72.22</td>\n",
       "    </tr>\n",
       "    <tr>\n",
       "      <th>[110, 120)</th>\n",
       "      <td>3</td>\n",
       "      <td>16.67</td>\n",
       "      <td>88.89</td>\n",
       "    </tr>\n",
       "    <tr>\n",
       "      <th>[120, 130)</th>\n",
       "      <td>2</td>\n",
       "      <td>11.11</td>\n",
       "      <td>100.00</td>\n",
       "    </tr>\n",
       "    <tr>\n",
       "      <th>Total</th>\n",
       "      <td>18</td>\n",
       "      <td>100.00</td>\n",
       "      <td>100.00</td>\n",
       "    </tr>\n",
       "  </tbody>\n",
       "</table>\n",
       "</div>"
      ],
      "text/plain": [
       "            frecuencia  porcentajes  acumulados\n",
       "pesos (kg)                                     \n",
       "[80, 90)             4        22.22       22.22\n",
       "[90, 100)            4        22.22       44.44\n",
       "[100, 110)           5        27.78       72.22\n",
       "[110, 120)           3        16.67       88.89\n",
       "[120, 130)           2        11.11      100.00\n",
       "Total               18       100.00      100.00"
      ]
     },
     "execution_count": 94,
     "metadata": {},
     "output_type": "execute_result"
    }
   ],
   "source": [
    "tabla_de_frecuencias(lakers['pesos'], 80, 130, 10, 'pesos (kg)')"
   ]
  },
  {
   "cell_type": "code",
   "execution_count": 95,
   "metadata": {},
   "outputs": [
    {
     "data": {
      "text/html": [
       "<div>\n",
       "<style scoped>\n",
       "    .dataframe tbody tr th:only-of-type {\n",
       "        vertical-align: middle;\n",
       "    }\n",
       "\n",
       "    .dataframe tbody tr th {\n",
       "        vertical-align: top;\n",
       "    }\n",
       "\n",
       "    .dataframe thead th {\n",
       "        text-align: right;\n",
       "    }\n",
       "</style>\n",
       "<table border=\"1\" class=\"dataframe\">\n",
       "  <thead>\n",
       "    <tr style=\"text-align: right;\">\n",
       "      <th></th>\n",
       "      <th>frecuencia</th>\n",
       "      <th>porcentajes</th>\n",
       "      <th>acumulados</th>\n",
       "    </tr>\n",
       "    <tr>\n",
       "      <th>alturas (kg)</th>\n",
       "      <th></th>\n",
       "      <th></th>\n",
       "      <th></th>\n",
       "    </tr>\n",
       "  </thead>\n",
       "  <tbody>\n",
       "    <tr>\n",
       "      <th>[1.85, 1.9)</th>\n",
       "      <td>2</td>\n",
       "      <td>11.111</td>\n",
       "      <td>11.111</td>\n",
       "    </tr>\n",
       "    <tr>\n",
       "      <th>[1.9, 1.95)</th>\n",
       "      <td>3</td>\n",
       "      <td>16.667</td>\n",
       "      <td>27.778</td>\n",
       "    </tr>\n",
       "    <tr>\n",
       "      <th>[1.95, 2.0)</th>\n",
       "      <td>4</td>\n",
       "      <td>22.222</td>\n",
       "      <td>50.000</td>\n",
       "    </tr>\n",
       "    <tr>\n",
       "      <th>[2.0, 2.05)</th>\n",
       "      <td>4</td>\n",
       "      <td>22.222</td>\n",
       "      <td>72.222</td>\n",
       "    </tr>\n",
       "    <tr>\n",
       "      <th>[2.05, 2.1)</th>\n",
       "      <td>3</td>\n",
       "      <td>16.667</td>\n",
       "      <td>88.889</td>\n",
       "    </tr>\n",
       "    <tr>\n",
       "      <th>[2.1, 2.15)</th>\n",
       "      <td>2</td>\n",
       "      <td>11.111</td>\n",
       "      <td>100.000</td>\n",
       "    </tr>\n",
       "    <tr>\n",
       "      <th>Total</th>\n",
       "      <td>18</td>\n",
       "      <td>100.000</td>\n",
       "      <td>100.000</td>\n",
       "    </tr>\n",
       "  </tbody>\n",
       "</table>\n",
       "</div>"
      ],
      "text/plain": [
       "              frecuencia  porcentajes  acumulados\n",
       "alturas (kg)                                     \n",
       "[1.85, 1.9)            2       11.111      11.111\n",
       "[1.9, 1.95)            3       16.667      27.778\n",
       "[1.95, 2.0)            4       22.222      50.000\n",
       "[2.0, 2.05)            4       22.222      72.222\n",
       "[2.05, 2.1)            3       16.667      88.889\n",
       "[2.1, 2.15)            2       11.111     100.000\n",
       "Total                 18      100.000     100.000"
      ]
     },
     "execution_count": 95,
     "metadata": {},
     "output_type": "execute_result"
    }
   ],
   "source": [
    "tabla_de_frecuencias(lakers['alturas'], 1.85, 2.15, 0.05, 'alturas (kg)', 3)"
   ]
  },
  {
   "cell_type": "markdown",
   "metadata": {},
   "source": [
    "## Más información\n",
    "Después de ejecutar **import pandas as pd**, puedes conseguir ayuda en inglés escribiendo los siguientes textos en una celda seguidos de ? o como argumentos de **help()**:\n",
    "```python\n",
    "pd.DataFrame, pd.Series, pd.Series.cumsum, pd.Series.tolist\n",
    "pd.DataFrame.count, pd.Series.count, pd.Series.groupby\n",
    "```"
   ]
  },
  {
   "cell_type": "markdown",
   "metadata": {},
   "source": [
    "<a id='tarea3'></a>\n",
    "<br><img src=\"linea.png\">\n",
    "# [Tarea 3](#inicio)\n",
    "# Graficando datos\n",
    "<br><img src=\"linea.png\"><br>"
   ]
  },
  {
   "cell_type": "code",
   "execution_count": 96,
   "metadata": {},
   "outputs": [],
   "source": [
    "# biblioteca de funciones gráficas\n",
    "import matplotlib.pyplot as plt"
   ]
  },
  {
   "cell_type": "markdown",
   "metadata": {},
   "source": [
    "## 3.1 Histogramas\n",
    "Barras de alturas proporcionales a las frecuencias de los datos (representación gráfica de la tabla de frecuencias)."
   ]
  },
  {
   "cell_type": "code",
   "execution_count": 97,
   "metadata": {},
   "outputs": [
    {
     "data": {
      "text/html": [
       "<div>\n",
       "<style scoped>\n",
       "    .dataframe tbody tr th:only-of-type {\n",
       "        vertical-align: middle;\n",
       "    }\n",
       "\n",
       "    .dataframe tbody tr th {\n",
       "        vertical-align: top;\n",
       "    }\n",
       "\n",
       "    .dataframe thead th {\n",
       "        text-align: right;\n",
       "    }\n",
       "</style>\n",
       "<table border=\"1\" class=\"dataframe\">\n",
       "  <thead>\n",
       "    <tr style=\"text-align: right;\">\n",
       "      <th></th>\n",
       "      <th>frecuencia</th>\n",
       "      <th>porcentajes</th>\n",
       "      <th>acumulados</th>\n",
       "    </tr>\n",
       "    <tr>\n",
       "      <th></th>\n",
       "      <th></th>\n",
       "      <th></th>\n",
       "      <th></th>\n",
       "    </tr>\n",
       "  </thead>\n",
       "  <tbody>\n",
       "    <tr>\n",
       "      <th>[80, 90)</th>\n",
       "      <td>4</td>\n",
       "      <td>22.22</td>\n",
       "      <td>22.22</td>\n",
       "    </tr>\n",
       "    <tr>\n",
       "      <th>[90, 100)</th>\n",
       "      <td>4</td>\n",
       "      <td>22.22</td>\n",
       "      <td>44.44</td>\n",
       "    </tr>\n",
       "    <tr>\n",
       "      <th>[100, 110)</th>\n",
       "      <td>5</td>\n",
       "      <td>27.78</td>\n",
       "      <td>72.22</td>\n",
       "    </tr>\n",
       "    <tr>\n",
       "      <th>[110, 120)</th>\n",
       "      <td>3</td>\n",
       "      <td>16.67</td>\n",
       "      <td>88.89</td>\n",
       "    </tr>\n",
       "    <tr>\n",
       "      <th>[120, 130)</th>\n",
       "      <td>2</td>\n",
       "      <td>11.11</td>\n",
       "      <td>100.00</td>\n",
       "    </tr>\n",
       "    <tr>\n",
       "      <th>Total</th>\n",
       "      <td>18</td>\n",
       "      <td>100.00</td>\n",
       "      <td>100.00</td>\n",
       "    </tr>\n",
       "  </tbody>\n",
       "</table>\n",
       "</div>"
      ],
      "text/plain": [
       "            frecuencia  porcentajes  acumulados\n",
       "                                               \n",
       "[80, 90)             4        22.22       22.22\n",
       "[90, 100)            4        22.22       44.44\n",
       "[100, 110)           5        27.78       72.22\n",
       "[110, 120)           3        16.67       88.89\n",
       "[120, 130)           2        11.11      100.00\n",
       "Total               18       100.00      100.00"
      ]
     },
     "execution_count": 97,
     "metadata": {},
     "output_type": "execute_result"
    }
   ],
   "source": [
    "tabla_de_frecuencias(lakers['pesos'], 80, 130, 10)"
   ]
  },
  {
   "cell_type": "code",
   "execution_count": 98,
   "metadata": {},
   "outputs": [
    {
     "data": {
      "image/png": "[encoded data removed]",
      "text/plain": [
       "<Figure size 432x288 with 1 Axes>"
      ]
     },
     "metadata": {
      "needs_background": "light"
     },
     "output_type": "display_data"
    }
   ],
   "source": [
    "# histograma de pesos con 5 intervalos\n",
    "plt.hist(lakers['pesos'], bins = [80, 90, 100, 110, 120, 130] ,rwidth = .7, color=\"red\") \n",
    "\n",
    "# muestra la figura\n",
    "plt.show()"
   ]
  },
  {
   "cell_type": "code",
   "execution_count": 99,
   "metadata": {},
   "outputs": [
    {
     "data": {
      "text/html": [
       "<div>\n",
       "<style scoped>\n",
       "    .dataframe tbody tr th:only-of-type {\n",
       "        vertical-align: middle;\n",
       "    }\n",
       "\n",
       "    .dataframe tbody tr th {\n",
       "        vertical-align: top;\n",
       "    }\n",
       "\n",
       "    .dataframe thead th {\n",
       "        text-align: right;\n",
       "    }\n",
       "</style>\n",
       "<table border=\"1\" class=\"dataframe\">\n",
       "  <thead>\n",
       "    <tr style=\"text-align: right;\">\n",
       "      <th></th>\n",
       "      <th>frecuencia</th>\n",
       "      <th>porcentajes</th>\n",
       "      <th>acumulados</th>\n",
       "    </tr>\n",
       "    <tr>\n",
       "      <th>alturas (kg)</th>\n",
       "      <th></th>\n",
       "      <th></th>\n",
       "      <th></th>\n",
       "    </tr>\n",
       "  </thead>\n",
       "  <tbody>\n",
       "    <tr>\n",
       "      <th>[1.85, 1.9)</th>\n",
       "      <td>2</td>\n",
       "      <td>11.11</td>\n",
       "      <td>11.11</td>\n",
       "    </tr>\n",
       "    <tr>\n",
       "      <th>[1.9, 1.95)</th>\n",
       "      <td>3</td>\n",
       "      <td>16.67</td>\n",
       "      <td>27.78</td>\n",
       "    </tr>\n",
       "    <tr>\n",
       "      <th>[1.95, 2.0)</th>\n",
       "      <td>4</td>\n",
       "      <td>22.22</td>\n",
       "      <td>50.00</td>\n",
       "    </tr>\n",
       "    <tr>\n",
       "      <th>[2.0, 2.05)</th>\n",
       "      <td>4</td>\n",
       "      <td>22.22</td>\n",
       "      <td>72.22</td>\n",
       "    </tr>\n",
       "    <tr>\n",
       "      <th>[2.05, 2.1)</th>\n",
       "      <td>3</td>\n",
       "      <td>16.67</td>\n",
       "      <td>88.89</td>\n",
       "    </tr>\n",
       "    <tr>\n",
       "      <th>[2.1, 2.15)</th>\n",
       "      <td>2</td>\n",
       "      <td>11.11</td>\n",
       "      <td>100.00</td>\n",
       "    </tr>\n",
       "    <tr>\n",
       "      <th>Total</th>\n",
       "      <td>18</td>\n",
       "      <td>100.00</td>\n",
       "      <td>100.00</td>\n",
       "    </tr>\n",
       "  </tbody>\n",
       "</table>\n",
       "</div>"
      ],
      "text/plain": [
       "              frecuencia  porcentajes  acumulados\n",
       "alturas (kg)                                     \n",
       "[1.85, 1.9)            2        11.11       11.11\n",
       "[1.9, 1.95)            3        16.67       27.78\n",
       "[1.95, 2.0)            4        22.22       50.00\n",
       "[2.0, 2.05)            4        22.22       72.22\n",
       "[2.05, 2.1)            3        16.67       88.89\n",
       "[2.1, 2.15)            2        11.11      100.00\n",
       "Total                 18       100.00      100.00"
      ]
     },
     "execution_count": 99,
     "metadata": {},
     "output_type": "execute_result"
    }
   ],
   "source": [
    "tabla_de_frecuencias(lakers['alturas'], 1.85, 2.15, 0.05, 'alturas (kg)')"
   ]
  },
  {
   "cell_type": "code",
   "execution_count": 100,
   "metadata": {},
   "outputs": [
    {
     "data": {
      "image/png": "[encoded data removed]",
      "text/plain": [
       "<Figure size 432x288 with 1 Axes>"
      ]
     },
     "metadata": {
      "needs_background": "light"
     },
     "output_type": "display_data"
    }
   ],
   "source": [
    "plt.hist(lakers['alturas'],                     # datos del histograma\n",
    "         bins = np.arange(1.85, 2.16, 0.05),    # intervalos\n",
    "         rwidth = .7)                           # anchura de las barras\n",
    "\n",
    "# título del gráfico\n",
    "plt.title('Alturas en metros de jugadores de baloncesto')  \n",
    "\n",
    "plt.xlabel('Intervalos')        # etiqueta para las abscisas\n",
    "plt.ylabel('Frecuencia')        # etiqueta para las ordenadas\n",
    "plt.show()"
   ]
  },
  {
   "cell_type": "markdown",
   "metadata": {},
   "source": [
    "### Histograma de los cuatro equipos"
   ]
  },
  {
   "cell_type": "markdown",
   "metadata": {},
   "source": [
    "#### Listas de tablas, nombres, alturas y pesos por equipos"
   ]
  },
  {
   "cell_type": "code",
   "execution_count": 101,
   "metadata": {},
   "outputs": [],
   "source": [
    "lista_de_equipos = [bucks, clippers, lakers, raptors]\n",
    "\n",
    "lista_de_colores = ['green', 'blue', 'gold', '#ff55a1']      # https://en.wikipedia.org/wiki/X11_color_names\n",
    "\n",
    "lista_de_alturas_por_equipos = []\n",
    "lista_de_pesos_por_equipos = []\n",
    "lista_de_nombres = []\n",
    "\n",
    "# para cada equipo en la lista de equipos\n",
    "for equipo in lista_de_equipos:\n",
    "    \n",
    "    # agrega la columna de alturas del equipo\n",
    "    lista_de_alturas_por_equipos.append(equipo['alturas'])\n",
    "    \n",
    "    # agrega la columna de pesos del equipo\n",
    "    lista_de_pesos_por_equipos.append(equipo['pesos'])\n",
    "    \n",
    "    # agrega el nombre del equipo\n",
    "    lista_de_nombres.append(equipo.index.name)"
   ]
  },
  {
   "cell_type": "code",
   "execution_count": 102,
   "metadata": {},
   "outputs": [
    {
     "name": "stdout",
     "output_type": "stream",
     "text": [
      "1.8 2.13\n",
      "1.85 2.13\n",
      "1.85 2.13\n",
      "1.83 2.13\n"
     ]
    }
   ],
   "source": [
    "# alturas mínimas y máximas en cada equipo\n",
    "for i in lista_de_alturas_por_equipos:\n",
    "    print(min(i), max(i))"
   ]
  },
  {
   "cell_type": "code",
   "execution_count": 103,
   "metadata": {},
   "outputs": [
    {
     "data": {
      "image/png": "[encoded data removed]",
      "text/plain": [
       "<Figure size 432x288 with 1 Axes>"
      ]
     },
     "metadata": {
      "needs_background": "light"
     },
     "output_type": "display_data"
    }
   ],
   "source": [
    "plt.hist(lista_de_alturas_por_equipos,           # lista de columnas de alturas\n",
    "         bins = np.arange(1.80, 2.16, 0.05),    # límites de los intervalos\n",
    "         rwidth = .7,                           # anchura de las barras\n",
    "         color = lista_de_colores)\n",
    "\n",
    "# etiquetas de los equipos\n",
    "plt.legend(lista_de_nombres)\n",
    "\n",
    "plt.title('Alturas en metros de jugadores de baloncesto')\n",
    "plt.xlabel('Intervalos')\n",
    "plt.ylabel('Frecuencia')\n",
    "plt.show()"
   ]
  },
  {
   "cell_type": "code",
   "execution_count": 104,
   "metadata": {},
   "outputs": [
    {
     "data": {
      "image/png": "[encoded data removed]",
      "text/plain": [
       "<Figure size 1152x720 with 4 Axes>"
      ]
     },
     "metadata": {
      "needs_background": "light"
     },
     "output_type": "display_data"
    }
   ],
   "source": [
    "# dimensiones de la figura\n",
    "plt.figure(figsize = (16, 10))\n",
    "\n",
    "# para cada índice en la lista de alturas por equipo\n",
    "for i in range(len(lista_de_alturas_por_equipos)):\n",
    "    \n",
    "    # el gráfico i de cuatro gráficas, 1 fila x 4 columnas\n",
    "    plt.subplot(221 + i)\n",
    "    \n",
    "    plt.hist(lista_de_alturas_por_equipos[i], \n",
    "             bins   = np.arange(1.80, 2.16, 0.05),\n",
    "             rwidth = 0.9,\n",
    "             color  = lista_de_colores[i])\n",
    "    \n",
    "    plt.title(lista_de_nombres[i])\n",
    "    \n",
    "    # muestra los valores entre 0 y 8 (la mayor frecuencia)\n",
    "    plt.ylim(0, 8)\n",
    "    \n",
    "plt.show()"
   ]
  },
  {
   "cell_type": "markdown",
   "metadata": {},
   "source": [
    "## 3.2 Gráficos de dos variables"
   ]
  },
  {
   "cell_type": "code",
   "execution_count": 105,
   "metadata": {},
   "outputs": [
    {
     "data": {
      "image/png": "[encoded data removed]",
      "text/plain": [
       "<Figure size 432x288 with 1 Axes>"
      ]
     },
     "metadata": {
      "needs_background": "light"
     },
     "output_type": "display_data"
    }
   ],
   "source": [
    "# la función plot recibe las ordenadas y abscisas,\n",
    "# y opcionalmente un patrón de trazado\n",
    "plt.plot(lakers['alturas'], lakers['pesos'], 'b+')\n",
    "\n",
    "plt.title('Jugadores de los Lakers')\n",
    "plt.xlabel('Alturas')\n",
    "plt.ylabel('Pesos')\n",
    "plt.grid()              # muestra una grilla\n",
    "plt.show()"
   ]
  },
  {
   "cell_type": "code",
   "execution_count": 106,
   "metadata": {},
   "outputs": [
    {
     "data": {
      "text/html": [
       "<div>\n",
       "<style scoped>\n",
       "    .dataframe tbody tr th:only-of-type {\n",
       "        vertical-align: middle;\n",
       "    }\n",
       "\n",
       "    .dataframe tbody tr th {\n",
       "        vertical-align: top;\n",
       "    }\n",
       "\n",
       "    .dataframe thead th {\n",
       "        text-align: right;\n",
       "    }\n",
       "</style>\n",
       "<table border=\"1\" class=\"dataframe\">\n",
       "  <thead>\n",
       "    <tr style=\"text-align: right;\">\n",
       "      <th></th>\n",
       "      <th>alturas</th>\n",
       "      <th>pesos</th>\n",
       "    </tr>\n",
       "    <tr>\n",
       "      <th>Lakers</th>\n",
       "      <th></th>\n",
       "      <th></th>\n",
       "    </tr>\n",
       "  </thead>\n",
       "  <tbody>\n",
       "    <tr>\n",
       "      <th>0</th>\n",
       "      <td>2.08</td>\n",
       "      <td>91</td>\n",
       "    </tr>\n",
       "    <tr>\n",
       "      <th>1</th>\n",
       "      <td>1.91</td>\n",
       "      <td>82</td>\n",
       "    </tr>\n",
       "    <tr>\n",
       "      <th>2</th>\n",
       "      <td>2.01</td>\n",
       "      <td>109</td>\n",
       "    </tr>\n",
       "  </tbody>\n",
       "</table>\n",
       "</div>"
      ],
      "text/plain": [
       "        alturas  pesos\n",
       "Lakers                \n",
       "0          2.08     91\n",
       "1          1.91     82\n",
       "2          2.01    109"
      ]
     },
     "execution_count": 106,
     "metadata": {},
     "output_type": "execute_result"
    }
   ],
   "source": [
    "lakers.head(3)       # muestra las primeras tres filas de la tabla"
   ]
  },
  {
   "cell_type": "markdown",
   "metadata": {},
   "source": [
    "### Grupo de gráficos"
   ]
  },
  {
   "cell_type": "code",
   "execution_count": 107,
   "metadata": {},
   "outputs": [
    {
     "data": {
      "image/png": "[encoded data removed]",
      "text/plain": [
       "<Figure size 432x288 with 1 Axes>"
      ]
     },
     "metadata": {
      "needs_background": "light"
     },
     "output_type": "display_data"
    }
   ],
   "source": [
    "# alturas y pesos de dos equipos\n",
    "plt.plot(lakers['alturas'], lakers['pesos'], color='gold', linestyle='', marker='^')\n",
    "plt.plot(bucks['alturas'], bucks['pesos'],   color='green', linestyle='', marker='o')\n",
    "\n",
    "plt.title('Jugadores de baloncesto')\n",
    "plt.xlabel('Alturas')\n",
    "plt.ylabel('Pesos')\n",
    "\n",
    "plt.grid()\n",
    "plt.show()"
   ]
  },
  {
   "cell_type": "markdown",
   "metadata": {},
   "source": [
    "### Función zip\n",
    "Retorna una secuencia de tuplas con datos de las mismas posiciones de objetos iterables"
   ]
  },
  {
   "cell_type": "code",
   "execution_count": 108,
   "metadata": {},
   "outputs": [
    {
     "name": "stdout",
     "output_type": "stream",
     "text": [
      "1 uno\n",
      "5 cinco\n",
      "100 cien\n"
     ]
    }
   ],
   "source": [
    "for numero, palabra in zip([1, 5, 100], ['uno', 'cinco', 'cien']):\n",
    "    print(numero, palabra)"
   ]
  },
  {
   "cell_type": "markdown",
   "metadata": {},
   "source": [
    "### Función pesos_versus_alturas"
   ]
  },
  {
   "cell_type": "code",
   "execution_count": 109,
   "metadata": {},
   "outputs": [],
   "source": [
    "def pesos_versus_alturas(lista_de_equipos, lista_de_nombres, lista_de_colores):\n",
    "    \"\"\"\n",
    "    Muestra un gráfico de pesos versus alturas de los equipos.\n",
    "    Recibe una lista de equipos y su respectiva lista de nombres\n",
    "    y colores.\n",
    "    \"\"\"\n",
    "\n",
    "    # para cada equipo y color\n",
    "    for equipo, color in zip(lista_de_equipos, lista_de_colores):\n",
    "        \n",
    "        # grafica las columnas de pesos versus las de alturas con el color respectivo\n",
    "        plt.plot(equipo['alturas'], equipo['pesos'], color=color, linestyle='', marker='o')\n",
    "    \n",
    "    plt.legend(lista_de_nombres)\n",
    "    plt.title('Pesos versus alturas')\n",
    "    plt.xlabel('Alturas') \n",
    "    plt.ylabel('Pesos')\n",
    "    plt.grid()\n",
    "    plt.show()"
   ]
  },
  {
   "cell_type": "code",
   "execution_count": 110,
   "metadata": {},
   "outputs": [
    {
     "data": {
      "image/png": "[encoded data removed]",
      "text/plain": [
       "<Figure size 432x288 with 1 Axes>"
      ]
     },
     "metadata": {
      "needs_background": "light"
     },
     "output_type": "display_data"
    }
   ],
   "source": [
    "pesos_versus_alturas(lista_de_equipos, lista_de_nombres, lista_de_colores) "
   ]
  },
  {
   "cell_type": "markdown",
   "metadata": {},
   "source": [
    "## 3.3 Línea de tendencia o regresión"
   ]
  },
  {
   "cell_type": "markdown",
   "metadata": {},
   "source": [
    "### Método escalar"
   ]
  },
  {
   "cell_type": "code",
   "execution_count": 111,
   "metadata": {},
   "outputs": [
    {
     "name": "stdout",
     "output_type": "stream",
     "text": [
      "99.5850048416067 -97.00103748788896\n"
     ]
    }
   ],
   "source": [
    "# inicialización de datos\n",
    "sumaxy = 0          # la suma de los productos de abscisas y ordenadas \n",
    "sumax  = 0           # la suma de las abscisas\n",
    "sumay  = 0           # la suma de las ordenadas\n",
    "sumax2 = 0          # la suma de los cuadrados de las abscisas\n",
    "\n",
    "n = len(bucks['alturas'])    # el número de abscisas o de ordenadas\n",
    "\n",
    "for x, y in zip(bucks['alturas'], bucks['pesos']):      # para cada par de alturas y pesos\n",
    "    sumaxy += x * y         # agrega el producto\n",
    "    sumax  += x             # agrega x\n",
    "    sumay  += y             # agrega y\n",
    "    sumax2 += x * x         # agrega el cuadrado de x\n",
    "\n",
    "# la pendiente de la línea de tendencia\n",
    "m = (sumaxy - sumax*sumay/n) / (sumax2 - sumax**2/n)\n",
    "\n",
    "# el cruce por el eje y\n",
    "b = sumay/n - m*sumax/n\n",
    "\n",
    "print(m, b)"
   ]
  },
  {
   "cell_type": "markdown",
   "metadata": {},
   "source": [
    "### Método vectorial"
   ]
  },
  {
   "cell_type": "code",
   "execution_count": 112,
   "metadata": {},
   "outputs": [
    {
     "name": "stdout",
     "output_type": "stream",
     "text": [
      "99.58500484160712 -97.00103748788979\n"
     ]
    }
   ],
   "source": [
    "x = bucks['alturas']\n",
    "y = bucks['pesos']\n",
    "\n",
    "# datos de tipo numpy.float64\n",
    "sumaxy = np.sum(x * y)  # la suma de los productos de cada altura y peso\n",
    "sumax = np.sum(x)       # la suma de las alturas\n",
    "sumay = np.sum(y)       # la suma de los pesos\n",
    "sumax2 = np.sum(x * x)  # la suma de los cuadrados de las alturas\n",
    "\n",
    "# la pendiente de la línea de tendencia\n",
    "m = (n*sumaxy - sumax*sumay) / (n*sumax2 - sumax**2)\n",
    "\n",
    "# el cruce por el eje y\n",
    "b = (sumay - m*sumax)/n\n",
    "\n",
    "print(m, b)"
   ]
  },
  {
   "cell_type": "markdown",
   "metadata": {},
   "source": [
    "### Función polyfit de NumPy"
   ]
  },
  {
   "cell_type": "code",
   "execution_count": 113,
   "metadata": {},
   "outputs": [
    {
     "data": {
      "text/plain": [
       "(99.58500484161007, -97.00103748789581)"
      ]
     },
     "execution_count": 113,
     "metadata": {},
     "output_type": "execute_result"
    }
   ],
   "source": [
    "# encuentra un polinomio de grado 1 (mx + b)\n",
    "mb = np.polyfit(bucks['alturas'], bucks['pesos'], 1)\n",
    "mb[0], mb[1]    # pendiente de la recta y cruce por el eje y"
   ]
  },
  {
   "cell_type": "markdown",
   "metadata": {},
   "source": [
    "### Gráfica de la línea de tendencia"
   ]
  },
  {
   "cell_type": "code",
   "execution_count": 114,
   "metadata": {},
   "outputs": [
    {
     "data": {
      "image/png": "[encoded data removed]",
      "text/plain": [
       "<Figure size 432x288 with 1 Axes>"
      ]
     },
     "metadata": {
      "needs_background": "light"
     },
     "output_type": "display_data"
    }
   ],
   "source": [
    "# extremos de los datos\n",
    "x = np.array([min(bucks['alturas']), max(bucks['alturas'])])\n",
    "\n",
    "# las ordenadas de los extremos\n",
    "y = m*x + b \n",
    "\n",
    "# dos pares de puntos unidos por línea azul\n",
    "plt.plot(x, y, 'b-') \n",
    "\n",
    "# datos de alturas y pesos\n",
    "plt.plot(bucks['alturas'], bucks['pesos'], 'bo')\n",
    "\n",
    "plt.grid()\n",
    "plt.show()"
   ]
  },
  {
   "cell_type": "code",
   "execution_count": 115,
   "metadata": {},
   "outputs": [],
   "source": [
    "def pesos_versus_alturas(lista_de_equipos, lista_de_nombres, lista_de_colores):\n",
    "    \"\"\"\n",
    "    Muestra un gráfico de pesos versus alturas de los equipos con sus\n",
    "    líneas de tendencias.\n",
    "    Recibe una lista de equipos y su respectiva lista de nombres\n",
    "    y colores.\n",
    "    \"\"\"\n",
    "\n",
    "    # para cada equipo y color\n",
    "    for equipo, color in zip(lista_de_equipos, lista_de_colores):\n",
    "        \n",
    "        # grafica las columnas de pesos versus las de alturas con el color respectivo\n",
    "        plt.plot(equipo['alturas'], equipo['pesos'], color=color, linestyle='', marker='o')\n",
    "    \n",
    "    plt.legend(lista_de_nombres)\n",
    "    \n",
    "    \n",
    "    for equipo, color in zip(lista_de_equipos, lista_de_colores):\n",
    "\n",
    "        # obtiene los parámetros de la línea de tendencia\n",
    "        parametros = np.polyfit(equipo['alturas'], equipo['pesos'], 1)\n",
    "        m, b = parametros[0], parametros[1]\n",
    "\n",
    "        # extremos de la línea de tendencia\n",
    "        x = np.array([min(equipo['alturas']), max(equipo['alturas'])])\n",
    "\n",
    "        # las ordenadas de los extremos\n",
    "        y = m*x + b \n",
    "\n",
    "        # dibuja la línea de tendencia\n",
    "        plt.plot(x, y, color = color, linestyle = '-', marker = '')\n",
    "\n",
    "\n",
    "    plt.title('Pesos versus alturas')\n",
    "    plt.xlabel('Alturas') \n",
    "    plt.ylabel('Pesos')\n",
    "    plt.grid()\n",
    "    plt.show()"
   ]
  },
  {
   "cell_type": "code",
   "execution_count": 139,
   "metadata": {},
   "outputs": [
    {
     "data": {
      "image/png": "[encoded data removed]",
      "text/plain": [
       "<Figure size 432x288 with 1 Axes>"
      ]
     },
     "metadata": {
      "needs_background": "light"
     },
     "output_type": "display_data"
    }
   ],
   "source": [
    "pesos_versus_alturas(lista_de_equipos, lista_de_nombres, lista_de_colores)"
   ]
  },
  {
   "cell_type": "markdown",
   "metadata": {},
   "source": [
    "## Más información\n",
    "Después de ejecutar **import matplotlib.pyplot as plt**, puedes conseguir ayuda en inglés escribiendo los siguientes textos en una celda seguidos de ? o como argumentos de **help()**:\n",
    "```python\n",
    "plt.hist, plt.show, plt.title, plt.xlabel, plt.ylabel, plt.grid, plt.legend\n",
    "plt.subplot, plt.yticks, plt.ylim\n",
    "\n",
    "pd.Series.iloc, pd.DataFrame.iloc, pd.DataFrame.hist, pd.DataFrame.plot.hist\n",
    "pd.DataFrame.head, pd.Series.head\n",
    "\n",
    "zip\n",
    "\n",
    "np.sum, np.polyfit\n",
    "```"
   ]
  },
  {
   "cell_type": "markdown",
   "metadata": {},
   "source": [
    "<a id='tarea4'></a>\n",
    "<br><img src=\"linea.png\">\n",
    "# [Tarea 4](#inicio)\n",
    "# Calculando tendencias centrales: medias, medianas y modas\n",
    "<br><img src=\"linea.png\"><br>"
   ]
  },
  {
   "cell_type": "markdown",
   "metadata": {},
   "source": [
    "## 4.1 Media\n",
    "El promedio de una lista de valores o datos."
   ]
  },
  {
   "cell_type": "code",
   "execution_count": 116,
   "metadata": {},
   "outputs": [
    {
     "name": "stdout",
     "output_type": "stream",
     "text": [
      "1.9875000000000003\n"
     ]
    }
   ],
   "source": [
    "suma = 0    # acumulador\n",
    "n = 0       # contador\n",
    "\n",
    "# suma y cuenta cada altura de los Clippers\n",
    "for altura in clippers['alturas']:\n",
    "    suma = suma + altura\n",
    "    n = n + 1\n",
    "\n",
    "# divide la suma de las alturas\n",
    "# entre el número de alturas\n",
    "promedio = suma / n\n",
    "\n",
    "print(promedio)"
   ]
  },
  {
   "cell_type": "code",
   "execution_count": 117,
   "metadata": {},
   "outputs": [
    {
     "data": {
      "text/plain": [
       "1.9875000000000003"
      ]
     },
     "execution_count": 117,
     "metadata": {},
     "output_type": "execute_result"
    }
   ],
   "source": [
    "# media con funciones sum y len\n",
    "sum(clippers['alturas']) / len(clippers['alturas'])"
   ]
  },
  {
   "cell_type": "code",
   "execution_count": 118,
   "metadata": {},
   "outputs": [
    {
     "data": {
      "text/plain": [
       "1.9874999999999998"
      ]
     },
     "execution_count": 118,
     "metadata": {},
     "output_type": "execute_result"
    }
   ],
   "source": [
    "# media con función mean de NumPy\n",
    "np.mean(clippers['alturas'])"
   ]
  },
  {
   "cell_type": "code",
   "execution_count": 119,
   "metadata": {},
   "outputs": [
    {
     "data": {
      "text/plain": [
       "1.9874999999999998"
      ]
     },
     "execution_count": 119,
     "metadata": {},
     "output_type": "execute_result"
    }
   ],
   "source": [
    "# media con el método mean de Series (pandas)\n",
    "clippers['alturas'].mean()"
   ]
  },
  {
   "cell_type": "markdown",
   "metadata": {},
   "source": [
    "### Tabla de promedios de alturas"
   ]
  },
  {
   "cell_type": "code",
   "execution_count": 120,
   "metadata": {},
   "outputs": [
    {
     "data": {
      "text/html": [
       "<div>\n",
       "<style scoped>\n",
       "    .dataframe tbody tr th:only-of-type {\n",
       "        vertical-align: middle;\n",
       "    }\n",
       "\n",
       "    .dataframe tbody tr th {\n",
       "        vertical-align: top;\n",
       "    }\n",
       "\n",
       "    .dataframe thead th {\n",
       "        text-align: right;\n",
       "    }\n",
       "</style>\n",
       "<table border=\"1\" class=\"dataframe\">\n",
       "  <thead>\n",
       "    <tr style=\"text-align: right;\">\n",
       "      <th></th>\n",
       "      <th>Promedios de alturas</th>\n",
       "    </tr>\n",
       "    <tr>\n",
       "      <th>Equipos</th>\n",
       "      <th></th>\n",
       "    </tr>\n",
       "  </thead>\n",
       "  <tbody>\n",
       "    <tr>\n",
       "      <th>Bucks</th>\n",
       "      <td>2.01</td>\n",
       "    </tr>\n",
       "    <tr>\n",
       "      <th>Clippers</th>\n",
       "      <td>1.99</td>\n",
       "    </tr>\n",
       "    <tr>\n",
       "      <th>Lakers</th>\n",
       "      <td>1.99</td>\n",
       "    </tr>\n",
       "    <tr>\n",
       "      <th>Raptors</th>\n",
       "      <td>1.98</td>\n",
       "    </tr>\n",
       "  </tbody>\n",
       "</table>\n",
       "</div>"
      ],
      "text/plain": [
       "          Promedios de alturas\n",
       "Equipos                       \n",
       "Bucks                     2.01\n",
       "Clippers                  1.99\n",
       "Lakers                    1.99\n",
       "Raptors                   1.98"
      ]
     },
     "execution_count": 120,
     "metadata": {},
     "output_type": "execute_result"
    }
   ],
   "source": [
    "promedios_de_alturas = pd.DataFrame(index = lista_de_nombres)\n",
    "promedios_de_alturas.index.name = 'Equipos'\n",
    "\n",
    "datos = []\n",
    "for alturas_de_un_equipo in lista_de_alturas_por_equipos:\n",
    "    datos.append(round(np.mean(alturas_de_un_equipo), 2))\n",
    "\n",
    "promedios_de_alturas['Promedios de alturas'] = datos\n",
    "promedios_de_alturas"
   ]
  },
  {
   "cell_type": "markdown",
   "metadata": {},
   "source": [
    "## 4.2 Barras"
   ]
  },
  {
   "cell_type": "markdown",
   "metadata": {},
   "source": [
    "### Barras verticales"
   ]
  },
  {
   "cell_type": "code",
   "execution_count": 121,
   "metadata": {},
   "outputs": [
    {
     "data": {
      "image/png": "[encoded data removed]",
      "text/plain": [
       "<Figure size 432x288 with 1 Axes>"
      ]
     },
     "metadata": {
      "needs_background": "light"
     },
     "output_type": "display_data"
    }
   ],
   "source": [
    "indices = range(len(datos)) # posiciones de las barras: 0, 1, 2, 3\n",
    "\n",
    "# dibuja barras verticales en las posiciones indicadas por el rango indices\n",
    "# con alturas dadas por los elementos de la lista datos\n",
    "plt.bar(indices, datos)\n",
    "\n",
    "plt.xlabel('Equipos')\n",
    "plt.ylabel('Valores')\n",
    "plt.title('Promedios de alturas (m)')\n",
    "\n",
    "# etiqueta las posiciones con los nombres de los equipos\n",
    "plt.xticks(indices, lista_de_nombres)\n",
    "\n",
    "plt.show()"
   ]
  },
  {
   "cell_type": "markdown",
   "metadata": {},
   "source": [
    "### Barras horizontales"
   ]
  },
  {
   "cell_type": "code",
   "execution_count": 122,
   "metadata": {},
   "outputs": [
    {
     "data": {
      "image/png": "[encoded data removed]",
      "text/plain": [
       "<Figure size 432x288 with 1 Axes>"
      ]
     },
     "metadata": {
      "needs_background": "light"
     },
     "output_type": "display_data"
    }
   ],
   "source": [
    "datos = []\n",
    "for pesos_de_un_equipo in lista_de_pesos_por_equipos:\n",
    "    datos.append(round(np.mean(pesos_de_un_equipo), 2))\n",
    "\n",
    "plt.barh(indices, datos, color='darkgreen')        # barh\n",
    "plt.xlabel('Valores')\n",
    "plt.ylabel('Equipos')\n",
    "plt.yticks(indices, lista_de_nombres)    # los nombres en el eje de ordenadas\n",
    "\n",
    "plt.title('Promedios de pesos (kg)')\n",
    "plt.show()"
   ]
  },
  {
   "cell_type": "markdown",
   "metadata": {},
   "source": [
    "## 4.3 Mediana\n",
    "El valor o dato central de una lista de datos."
   ]
  },
  {
   "cell_type": "markdown",
   "metadata": {},
   "source": [
    "### Algoritmo\n",
    "```python\n",
    "Ordenar los datos de menor a mayor\n",
    "Si el número de datos es impar\n",
    "    retornar el número central\n",
    "Sino\n",
    "    retornar el promedio de los dos números centrales\n",
    "```\n",
    "\n",
    "```python\n",
    "Caso 1:\n",
    "11 elementos = 5 + 1 + 5\n",
    "índices:    0..4   5   6..11\n",
    "5 = (11 - 1) // 2\n",
    "```\n",
    "\n",
    "```python\n",
    "Caso 2:\n",
    "12 elementos = 5 + 1 + 1 + 5\n",
    "índices:    0..4   5   6   7..12\n",
    "5 = 12 // 2 - 1\n",
    "6 = 12 // 2\n",
    "```"
   ]
  },
  {
   "cell_type": "code",
   "execution_count": 123,
   "metadata": {},
   "outputs": [
    {
     "name": "stdout",
     "output_type": "stream",
     "text": [
      "2.01\n"
     ]
    }
   ],
   "source": [
    "lista = sorted(raptors['alturas'])\n",
    "n = len(lista)\n",
    "\n",
    "# si el residuo del número entre 2 es cero\n",
    "if n % 2 == 0:  # n es par\n",
    "    # división entera con //\n",
    "    mediana = (lista[n//2 - 1] + lista[n//2]) / 2\n",
    "# sino\n",
    "else:           # n es impar\n",
    "    mediana = lista[(n - 1)//2]\n",
    "\n",
    "print(mediana)"
   ]
  },
  {
   "cell_type": "code",
   "execution_count": 124,
   "metadata": {},
   "outputs": [
    {
     "data": {
      "text/plain": [
       "2.01"
      ]
     },
     "execution_count": 124,
     "metadata": {},
     "output_type": "execute_result"
    }
   ],
   "source": [
    "# mediana con la función median de NumPy\n",
    "np.median(raptors['alturas'])"
   ]
  },
  {
   "cell_type": "code",
   "execution_count": 125,
   "metadata": {},
   "outputs": [
    {
     "data": {
      "text/plain": [
       "2.01"
      ]
     },
     "execution_count": 125,
     "metadata": {},
     "output_type": "execute_result"
    }
   ],
   "source": [
    "# mediana con el método median de Series\n",
    "raptors['alturas'].median()"
   ]
  },
  {
   "cell_type": "markdown",
   "metadata": {},
   "source": [
    "## 4.4 Barras emparejadas"
   ]
  },
  {
   "cell_type": "code",
   "execution_count": 126,
   "metadata": {},
   "outputs": [
    {
     "data": {
      "text/plain": [
       "(array([0, 1, 2, 3]), array([0.4, 1.4, 2.4, 3.4]))"
      ]
     },
     "execution_count": 126,
     "metadata": {},
     "output_type": "execute_result"
    }
   ],
   "source": [
    "indices = np.arange(len(lista_de_equipos))\n",
    "anchura = 0.4\n",
    "\n",
    "# la suma de un arreglo con escalar\n",
    "# aplica el escalar a cada elemento del arreglo\n",
    "indices, indices + anchura"
   ]
  },
  {
   "cell_type": "code",
   "execution_count": 127,
   "metadata": {},
   "outputs": [
    {
     "data": {
      "image/png": "[encoded data removed]",
      "text/plain": [
       "<Figure size 432x288 with 1 Axes>"
      ]
     },
     "metadata": {
      "needs_background": "light"
     },
     "output_type": "display_data"
    }
   ],
   "source": [
    "promedios = []\n",
    "medianas = []\n",
    "\n",
    "for alturas_por_equipo in lista_de_alturas_por_equipos:\n",
    "    promedios.append(round(alturas_por_equipo.mean(), 2))\n",
    "    medianas.append(round(alturas_por_equipo.median(), 2))\n",
    "\n",
    "plt.barh(indices, promedios, anchura)                # centros de las barras de promedios\n",
    "plt.barh(indices + anchura, medianas, anchura)       # centros de las barras de medianas\n",
    "\n",
    "plt.xlabel('Equipos')\n",
    "plt.ylabel('Valores')\n",
    "plt.title('Promedios y medianas de alturas')\n",
    "plt.xticks(indices + anchura/2, lista_de_nombres)            # posiciones de los nombres\n",
    "plt.legend(['Promedios', 'Medianas'], loc='lower center')\n",
    "\n",
    "plt.show()"
   ]
  },
  {
   "cell_type": "markdown",
   "metadata": {},
   "source": [
    "## 4.5 Moda\n",
    "El valor o los valores que más aparecen en una colección de datos."
   ]
  },
  {
   "cell_type": "code",
   "execution_count": 128,
   "metadata": {},
   "outputs": [
    {
     "data": {
      "text/plain": [
       "[79, 82, 86, 93, 94, 95, 98, 99, 100, 102, 103, 104, 107, 109, 109, 113]"
      ]
     },
     "execution_count": 128,
     "metadata": {},
     "output_type": "execute_result"
    }
   ],
   "source": [
    "sorted(clippers['pesos'])"
   ]
  },
  {
   "cell_type": "code",
   "execution_count": 129,
   "metadata": {},
   "outputs": [
    {
     "data": {
      "text/html": [
       "<div>\n",
       "<style scoped>\n",
       "    .dataframe tbody tr th:only-of-type {\n",
       "        vertical-align: middle;\n",
       "    }\n",
       "\n",
       "    .dataframe tbody tr th {\n",
       "        vertical-align: top;\n",
       "    }\n",
       "\n",
       "    .dataframe thead th {\n",
       "        text-align: right;\n",
       "    }\n",
       "</style>\n",
       "<table border=\"1\" class=\"dataframe\">\n",
       "  <thead>\n",
       "    <tr style=\"text-align: right;\">\n",
       "      <th></th>\n",
       "      <th>alturas</th>\n",
       "    </tr>\n",
       "    <tr>\n",
       "      <th>pesos</th>\n",
       "      <th></th>\n",
       "    </tr>\n",
       "  </thead>\n",
       "  <tbody>\n",
       "    <tr>\n",
       "      <th>79</th>\n",
       "      <td>1</td>\n",
       "    </tr>\n",
       "    <tr>\n",
       "      <th>82</th>\n",
       "      <td>1</td>\n",
       "    </tr>\n",
       "    <tr>\n",
       "      <th>86</th>\n",
       "      <td>1</td>\n",
       "    </tr>\n",
       "    <tr>\n",
       "      <th>93</th>\n",
       "      <td>1</td>\n",
       "    </tr>\n",
       "    <tr>\n",
       "      <th>94</th>\n",
       "      <td>1</td>\n",
       "    </tr>\n",
       "    <tr>\n",
       "      <th>95</th>\n",
       "      <td>1</td>\n",
       "    </tr>\n",
       "    <tr>\n",
       "      <th>98</th>\n",
       "      <td>1</td>\n",
       "    </tr>\n",
       "    <tr>\n",
       "      <th>99</th>\n",
       "      <td>1</td>\n",
       "    </tr>\n",
       "    <tr>\n",
       "      <th>100</th>\n",
       "      <td>1</td>\n",
       "    </tr>\n",
       "    <tr>\n",
       "      <th>102</th>\n",
       "      <td>1</td>\n",
       "    </tr>\n",
       "    <tr>\n",
       "      <th>103</th>\n",
       "      <td>1</td>\n",
       "    </tr>\n",
       "    <tr>\n",
       "      <th>104</th>\n",
       "      <td>1</td>\n",
       "    </tr>\n",
       "    <tr>\n",
       "      <th>107</th>\n",
       "      <td>1</td>\n",
       "    </tr>\n",
       "    <tr>\n",
       "      <th>109</th>\n",
       "      <td>2</td>\n",
       "    </tr>\n",
       "    <tr>\n",
       "      <th>113</th>\n",
       "      <td>1</td>\n",
       "    </tr>\n",
       "  </tbody>\n",
       "</table>\n",
       "</div>"
      ],
      "text/plain": [
       "       alturas\n",
       "pesos         \n",
       "79           1\n",
       "82           1\n",
       "86           1\n",
       "93           1\n",
       "94           1\n",
       "95           1\n",
       "98           1\n",
       "99           1\n",
       "100          1\n",
       "102          1\n",
       "103          1\n",
       "104          1\n",
       "107          1\n",
       "109          2\n",
       "113          1"
      ]
     },
     "execution_count": 129,
     "metadata": {},
     "output_type": "execute_result"
    }
   ],
   "source": [
    "clippers.groupby('pesos').count()"
   ]
  },
  {
   "cell_type": "code",
   "execution_count": 130,
   "metadata": {},
   "outputs": [
    {
     "data": {
      "text/plain": [
       "0    109\n",
       "Name: pesos, dtype: int64"
      ]
     },
     "execution_count": 130,
     "metadata": {},
     "output_type": "execute_result"
    }
   ],
   "source": [
    "# moda de pesos de los Clippers con el método mode de Series (pd.Series.mode)\n",
    "clippers['pesos'].mode()"
   ]
  },
  {
   "cell_type": "code",
   "execution_count": 131,
   "metadata": {},
   "outputs": [
    {
     "data": {
      "text/html": [
       "<div>\n",
       "<style scoped>\n",
       "    .dataframe tbody tr th:only-of-type {\n",
       "        vertical-align: middle;\n",
       "    }\n",
       "\n",
       "    .dataframe tbody tr th {\n",
       "        vertical-align: top;\n",
       "    }\n",
       "\n",
       "    .dataframe thead th {\n",
       "        text-align: right;\n",
       "    }\n",
       "</style>\n",
       "<table border=\"1\" class=\"dataframe\">\n",
       "  <thead>\n",
       "    <tr style=\"text-align: right;\">\n",
       "      <th></th>\n",
       "      <th>pesos</th>\n",
       "    </tr>\n",
       "    <tr>\n",
       "      <th>alturas</th>\n",
       "      <th></th>\n",
       "    </tr>\n",
       "  </thead>\n",
       "  <tbody>\n",
       "    <tr>\n",
       "      <th>1.85</th>\n",
       "      <td>1</td>\n",
       "    </tr>\n",
       "    <tr>\n",
       "      <th>1.88</th>\n",
       "      <td>1</td>\n",
       "    </tr>\n",
       "    <tr>\n",
       "      <th>1.91</th>\n",
       "      <td>2</td>\n",
       "    </tr>\n",
       "    <tr>\n",
       "      <th>1.93</th>\n",
       "      <td>1</td>\n",
       "    </tr>\n",
       "    <tr>\n",
       "      <th>1.96</th>\n",
       "      <td>2</td>\n",
       "    </tr>\n",
       "    <tr>\n",
       "      <th>1.98</th>\n",
       "      <td>2</td>\n",
       "    </tr>\n",
       "    <tr>\n",
       "      <th>2.01</th>\n",
       "      <td>2</td>\n",
       "    </tr>\n",
       "    <tr>\n",
       "      <th>2.03</th>\n",
       "      <td>2</td>\n",
       "    </tr>\n",
       "    <tr>\n",
       "      <th>2.06</th>\n",
       "      <td>1</td>\n",
       "    </tr>\n",
       "    <tr>\n",
       "      <th>2.08</th>\n",
       "      <td>2</td>\n",
       "    </tr>\n",
       "    <tr>\n",
       "      <th>2.11</th>\n",
       "      <td>1</td>\n",
       "    </tr>\n",
       "    <tr>\n",
       "      <th>2.13</th>\n",
       "      <td>1</td>\n",
       "    </tr>\n",
       "  </tbody>\n",
       "</table>\n",
       "</div>"
      ],
      "text/plain": [
       "         pesos\n",
       "alturas       \n",
       "1.85         1\n",
       "1.88         1\n",
       "1.91         2\n",
       "1.93         1\n",
       "1.96         2\n",
       "1.98         2\n",
       "2.01         2\n",
       "2.03         2\n",
       "2.06         1\n",
       "2.08         2\n",
       "2.11         1\n",
       "2.13         1"
      ]
     },
     "execution_count": 131,
     "metadata": {},
     "output_type": "execute_result"
    }
   ],
   "source": [
    "# modas de alturas de los Lakers\n",
    "lakers.groupby('alturas').count()"
   ]
  },
  {
   "cell_type": "code",
   "execution_count": 132,
   "metadata": {},
   "outputs": [
    {
     "data": {
      "text/plain": [
       "0    1.91\n",
       "1    1.96\n",
       "2    1.98\n",
       "3    2.01\n",
       "4    2.03\n",
       "5    2.08\n",
       "Name: alturas, dtype: float64"
      ]
     },
     "execution_count": 132,
     "metadata": {},
     "output_type": "execute_result"
    }
   ],
   "source": [
    "lakers['alturas'].mode()"
   ]
  },
  {
   "cell_type": "markdown",
   "metadata": {},
   "source": [
    "## Más información\n",
    "Después de ejecutar **import matplotlib.pyplot as plt**, puedes conseguir ayuda en inglés escribiendo los siguientes textos en una celda seguidos de ? o como argumentos de help():\n",
    "```python\n",
    "plt.bar, plt.barh, plt.xticks\n",
    "\n",
    "pd.Series.mean, pd.Series.median, pd.Series.mode\n",
    "\n",
    "np.mean, np.median\n",
    "```"
   ]
  },
  {
   "cell_type": "markdown",
   "metadata": {},
   "source": [
    "<a id='tarea5'></a>\n",
    "<br><img src=\"linea.png\">\n",
    "# [Tarea 5](#inicio)\n",
    "# Calculando dispersiones: rangos, varianzas y desviaciones estándares\n",
    "<br><img src=\"linea.png\"><br>"
   ]
  },
  {
   "cell_type": "markdown",
   "metadata": {},
   "source": [
    "## 5.1 Rango\n",
    "La diferencia entre el valor máximo y el valor mínimo de los datos."
   ]
  },
  {
   "cell_type": "code",
   "execution_count": 133,
   "metadata": {},
   "outputs": [
    {
     "data": {
      "text/plain": [
       "37"
      ]
     },
     "execution_count": 133,
     "metadata": {},
     "output_type": "execute_result"
    }
   ],
   "source": [
    "# rango de pesos de los jugadores de los Raptors\n",
    "max(raptors['pesos']) - min(raptors['pesos'])"
   ]
  },
  {
   "cell_type": "code",
   "execution_count": 134,
   "metadata": {},
   "outputs": [
    {
     "data": {
      "text/html": [
       "<div>\n",
       "<style scoped>\n",
       "    .dataframe tbody tr th:only-of-type {\n",
       "        vertical-align: middle;\n",
       "    }\n",
       "\n",
       "    .dataframe tbody tr th {\n",
       "        vertical-align: top;\n",
       "    }\n",
       "\n",
       "    .dataframe thead th {\n",
       "        text-align: right;\n",
       "    }\n",
       "</style>\n",
       "<table border=\"1\" class=\"dataframe\">\n",
       "  <thead>\n",
       "    <tr style=\"text-align: right;\">\n",
       "      <th></th>\n",
       "      <th>pesos mínimos</th>\n",
       "      <th>pesos máximos</th>\n",
       "      <th>rangos de pesos</th>\n",
       "    </tr>\n",
       "    <tr>\n",
       "      <th>equipos</th>\n",
       "      <th></th>\n",
       "      <th></th>\n",
       "      <th></th>\n",
       "    </tr>\n",
       "  </thead>\n",
       "  <tbody>\n",
       "    <tr>\n",
       "      <th>Bucks</th>\n",
       "      <td>85</td>\n",
       "      <td>128</td>\n",
       "      <td>43</td>\n",
       "    </tr>\n",
       "    <tr>\n",
       "      <th>Clippers</th>\n",
       "      <td>79</td>\n",
       "      <td>113</td>\n",
       "      <td>34</td>\n",
       "    </tr>\n",
       "    <tr>\n",
       "      <th>Lakers</th>\n",
       "      <td>81</td>\n",
       "      <td>122</td>\n",
       "      <td>41</td>\n",
       "    </tr>\n",
       "    <tr>\n",
       "      <th>Raptors</th>\n",
       "      <td>79</td>\n",
       "      <td>116</td>\n",
       "      <td>37</td>\n",
       "    </tr>\n",
       "  </tbody>\n",
       "</table>\n",
       "</div>"
      ],
      "text/plain": [
       "          pesos mínimos  pesos máximos  rangos de pesos\n",
       "equipos                                                \n",
       "Bucks                85            128               43\n",
       "Clippers             79            113               34\n",
       "Lakers               81            122               41\n",
       "Raptors              79            116               37"
      ]
     },
     "execution_count": 134,
     "metadata": {},
     "output_type": "execute_result"
    }
   ],
   "source": [
    "# rangos de pesos de los cuatro equipos\n",
    "\n",
    "tabla = pd.DataFrame(index = lista_de_nombres)\n",
    "tabla.index.name = 'equipos'\n",
    "\n",
    "minimos = []\n",
    "maximos = []\n",
    "rangos = []\n",
    "\n",
    "# para cada pesos por equipo\n",
    "for pesos_por_equipo in lista_de_pesos_por_equipos:\n",
    "    # agrega los valores mínimos y máximos\n",
    "    minimo = min(pesos_por_equipo)\n",
    "    maximo = max(pesos_por_equipo)\n",
    "    minimos.append(minimo)\n",
    "    maximos.append(maximo)\n",
    "    \n",
    "    # agrega el rango\n",
    "    rangos.append(maximo - minimo)\n",
    "\n",
    "# crea columnas de mínimos, máximos y rangos\n",
    "tabla['pesos mínimos'] = minimos\n",
    "tabla['pesos máximos'] = maximos\n",
    "tabla['rangos de pesos'] = rangos\n",
    "\n",
    "tabla"
   ]
  },
  {
   "cell_type": "markdown",
   "metadata": {},
   "source": [
    "## 5.2 Rango intercuartil\n",
    "La diferencia entre el dato del tercer cuartil y el dato del primer cuartil."
   ]
  },
  {
   "cell_type": "code",
   "execution_count": 135,
   "metadata": {},
   "outputs": [
    {
     "name": "stdout",
     "output_type": "stream",
     "text": [
      "[85, 86, 92, 95, 96, 97, 98, 99, 100, 101, 102, 105, 107, 108, 110, 113, 127, 128]\n",
      "18\n"
     ]
    }
   ],
   "source": [
    "datos = sorted(bucks['pesos'])\n",
    "print(datos)\n",
    "print(len(datos))"
   ]
  },
  {
   "cell_type": "code",
   "execution_count": 136,
   "metadata": {},
   "outputs": [
    {
     "data": {
      "text/plain": [
       "(4, 0.25)"
      ]
     },
     "execution_count": 136,
     "metadata": {},
     "output_type": "execute_result"
    }
   ],
   "source": [
    "# primer cuartil, interpolación lineal\n",
    "x = (len(datos) - 1) * 0.25\n",
    "\n",
    "# el valor entero de x marca la posición del dato en el primer cuartil\n",
    "# la parte decimal sirve para interpolar un dato entre la posición entera y la siguiente\n",
    "i = int(x)\n",
    "d = x - int(x)\n",
    "i, d"
   ]
  },
  {
   "cell_type": "code",
   "execution_count": 137,
   "metadata": {},
   "outputs": [
    {
     "data": {
      "text/plain": [
       "96.25"
      ]
     },
     "execution_count": 137,
     "metadata": {},
     "output_type": "execute_result"
    }
   ],
   "source": [
    "q1 = datos[i] + d*(datos[i + 1] - datos[i])\n",
    "q1"
   ]
  },
  {
   "cell_type": "code",
   "execution_count": 138,
   "metadata": {},
   "outputs": [
    {
     "data": {
      "text/plain": [
       "0.25     96.25\n",
       "0.50    100.50\n",
       "0.75    107.75\n",
       "Name: pesos, dtype: float64"
      ]
     },
     "execution_count": 138,
     "metadata": {},
     "output_type": "execute_result"
    }
   ],
   "source": [
    "# cuartiles con pandas, retorna un objeto Series\n",
    "bucks['pesos'].quantile([0.25, 0.5, 0.75])"
   ]
  },
  {
   "cell_type": "code",
   "execution_count": 139,
   "metadata": {},
   "outputs": [
    {
     "data": {
      "text/plain": [
       "array([ 96.25, 100.5 , 107.75])"
      ]
     },
     "execution_count": 139,
     "metadata": {},
     "output_type": "execute_result"
    }
   ],
   "source": [
    "# cuartiles con NumPy, retorna una lista\n",
    "np.quantile(bucks['pesos'], [0.25, 0.50, 0.75])"
   ]
  },
  {
   "cell_type": "code",
   "execution_count": 140,
   "metadata": {},
   "outputs": [
    {
     "data": {
      "text/html": [
       "<div>\n",
       "<style scoped>\n",
       "    .dataframe tbody tr th:only-of-type {\n",
       "        vertical-align: middle;\n",
       "    }\n",
       "\n",
       "    .dataframe tbody tr th {\n",
       "        vertical-align: top;\n",
       "    }\n",
       "\n",
       "    .dataframe thead th {\n",
       "        text-align: right;\n",
       "    }\n",
       "</style>\n",
       "<table border=\"1\" class=\"dataframe\">\n",
       "  <thead>\n",
       "    <tr style=\"text-align: right;\">\n",
       "      <th></th>\n",
       "      <th>pesos mínimos</th>\n",
       "      <th>pesos máximos</th>\n",
       "      <th>rangos de pesos</th>\n",
       "      <th>rangos intercuartiles</th>\n",
       "    </tr>\n",
       "    <tr>\n",
       "      <th>equipos</th>\n",
       "      <th></th>\n",
       "      <th></th>\n",
       "      <th></th>\n",
       "      <th></th>\n",
       "    </tr>\n",
       "  </thead>\n",
       "  <tbody>\n",
       "    <tr>\n",
       "      <th>Bucks</th>\n",
       "      <td>85</td>\n",
       "      <td>128</td>\n",
       "      <td>43</td>\n",
       "      <td>11.5</td>\n",
       "    </tr>\n",
       "    <tr>\n",
       "      <th>Clippers</th>\n",
       "      <td>79</td>\n",
       "      <td>113</td>\n",
       "      <td>34</td>\n",
       "      <td>11.0</td>\n",
       "    </tr>\n",
       "    <tr>\n",
       "      <th>Lakers</th>\n",
       "      <td>81</td>\n",
       "      <td>122</td>\n",
       "      <td>41</td>\n",
       "      <td>19.0</td>\n",
       "    </tr>\n",
       "    <tr>\n",
       "      <th>Raptors</th>\n",
       "      <td>79</td>\n",
       "      <td>116</td>\n",
       "      <td>37</td>\n",
       "      <td>16.0</td>\n",
       "    </tr>\n",
       "  </tbody>\n",
       "</table>\n",
       "</div>"
      ],
      "text/plain": [
       "          pesos mínimos  pesos máximos  rangos de pesos  rangos intercuartiles\n",
       "equipos                                                                       \n",
       "Bucks                85            128               43                   11.5\n",
       "Clippers             79            113               34                   11.0\n",
       "Lakers               81            122               41                   19.0\n",
       "Raptors              79            116               37                   16.0"
      ]
     },
     "execution_count": 140,
     "metadata": {},
     "output_type": "execute_result"
    }
   ],
   "source": [
    "# rangos intercuartiles\n",
    "rangos_intercuartiles = []\n",
    "\n",
    "for pesos_por_equipo in lista_de_pesos_por_equipos:\n",
    "    q = np.quantile(pesos_por_equipo, [0.25, 0.75])\n",
    "    rangos_intercuartiles.append(q[1] - q[0])\n",
    "\n",
    "tabla['rangos intercuartiles'] = rangos_intercuartiles\n",
    "\n",
    "tabla"
   ]
  },
  {
   "cell_type": "markdown",
   "metadata": {},
   "source": [
    "### El método describe"
   ]
  },
  {
   "cell_type": "code",
   "execution_count": 141,
   "metadata": {},
   "outputs": [
    {
     "data": {
      "text/html": [
       "<div>\n",
       "<style scoped>\n",
       "    .dataframe tbody tr th:only-of-type {\n",
       "        vertical-align: middle;\n",
       "    }\n",
       "\n",
       "    .dataframe tbody tr th {\n",
       "        vertical-align: top;\n",
       "    }\n",
       "\n",
       "    .dataframe thead th {\n",
       "        text-align: right;\n",
       "    }\n",
       "</style>\n",
       "<table border=\"1\" class=\"dataframe\">\n",
       "  <thead>\n",
       "    <tr style=\"text-align: right;\">\n",
       "      <th></th>\n",
       "      <th>alturas</th>\n",
       "      <th>pesos</th>\n",
       "    </tr>\n",
       "  </thead>\n",
       "  <tbody>\n",
       "    <tr>\n",
       "      <th>count</th>\n",
       "      <td>17.000000</td>\n",
       "      <td>17.000000</td>\n",
       "    </tr>\n",
       "    <tr>\n",
       "      <th>mean</th>\n",
       "      <td>1.983529</td>\n",
       "      <td>96.588235</td>\n",
       "    </tr>\n",
       "    <tr>\n",
       "      <th>std</th>\n",
       "      <td>0.092665</td>\n",
       "      <td>10.368575</td>\n",
       "    </tr>\n",
       "    <tr>\n",
       "      <th>min</th>\n",
       "      <td>1.830000</td>\n",
       "      <td>79.000000</td>\n",
       "    </tr>\n",
       "    <tr>\n",
       "      <th>25%</th>\n",
       "      <td>1.930000</td>\n",
       "      <td>89.000000</td>\n",
       "    </tr>\n",
       "    <tr>\n",
       "      <th>50%</th>\n",
       "      <td>2.010000</td>\n",
       "      <td>95.000000</td>\n",
       "    </tr>\n",
       "    <tr>\n",
       "      <th>75%</th>\n",
       "      <td>2.060000</td>\n",
       "      <td>105.000000</td>\n",
       "    </tr>\n",
       "    <tr>\n",
       "      <th>max</th>\n",
       "      <td>2.130000</td>\n",
       "      <td>116.000000</td>\n",
       "    </tr>\n",
       "  </tbody>\n",
       "</table>\n",
       "</div>"
      ],
      "text/plain": [
       "         alturas       pesos\n",
       "count  17.000000   17.000000\n",
       "mean    1.983529   96.588235\n",
       "std     0.092665   10.368575\n",
       "min     1.830000   79.000000\n",
       "25%     1.930000   89.000000\n",
       "50%     2.010000   95.000000\n",
       "75%     2.060000  105.000000\n",
       "max     2.130000  116.000000"
      ]
     },
     "execution_count": 141,
     "metadata": {},
     "output_type": "execute_result"
    }
   ],
   "source": [
    "raptors.describe()"
   ]
  },
  {
   "cell_type": "markdown",
   "metadata": {},
   "source": [
    "## 5.3 Diagramas de cajas"
   ]
  },
  {
   "cell_type": "code",
   "execution_count": 142,
   "metadata": {},
   "outputs": [
    {
     "data": {
      "image/png": "[encoded data removed]",
      "text/plain": [
       "<Figure size 432x288 with 1 Axes>"
      ]
     },
     "metadata": {
      "needs_background": "light"
     },
     "output_type": "display_data"
    }
   ],
   "source": [
    "# muestra un diagrama de caja (caja y bigotes)\n",
    "plt.boxplot(raptors['pesos'])\n",
    "\n",
    "plt.grid()\n",
    "plt.show()"
   ]
  },
  {
   "cell_type": "markdown",
   "metadata": {},
   "source": [
    "### Comparación de pesos"
   ]
  },
  {
   "cell_type": "code",
   "execution_count": 143,
   "metadata": {},
   "outputs": [
    {
     "data": {
      "image/png": "[encoded data removed]",
      "text/plain": [
       "<Figure size 432x288 with 1 Axes>"
      ]
     },
     "metadata": {
      "needs_background": "light"
     },
     "output_type": "display_data"
    }
   ],
   "source": [
    "# diagramas de caja de los pesos por equipo \n",
    "plt.boxplot(lista_de_pesos_por_equipos)\n",
    "\n",
    "# etiqueta el eje x con los nombres\n",
    "plt.xticks(range(1, len(lista_de_nombres) + 1), lista_de_nombres)\n",
    "\n",
    "plt.title('Comparación de pesos')\n",
    "plt.grid()\n",
    "plt.show()"
   ]
  },
  {
   "cell_type": "code",
   "execution_count": 144,
   "metadata": {},
   "outputs": [
    {
     "data": {
      "text/html": [
       "<div>\n",
       "<style scoped>\n",
       "    .dataframe tbody tr th:only-of-type {\n",
       "        vertical-align: middle;\n",
       "    }\n",
       "\n",
       "    .dataframe tbody tr th {\n",
       "        vertical-align: top;\n",
       "    }\n",
       "\n",
       "    .dataframe thead th {\n",
       "        text-align: right;\n",
       "    }\n",
       "</style>\n",
       "<table border=\"1\" class=\"dataframe\">\n",
       "  <thead>\n",
       "    <tr style=\"text-align: right;\">\n",
       "      <th></th>\n",
       "      <th>alturas</th>\n",
       "      <th>pesos</th>\n",
       "    </tr>\n",
       "    <tr>\n",
       "      <th>Bucks</th>\n",
       "      <th></th>\n",
       "      <th></th>\n",
       "    </tr>\n",
       "  </thead>\n",
       "  <tbody>\n",
       "    <tr>\n",
       "      <th>10</th>\n",
       "      <td>2.13</td>\n",
       "      <td>128</td>\n",
       "    </tr>\n",
       "    <tr>\n",
       "      <th>11</th>\n",
       "      <td>2.13</td>\n",
       "      <td>127</td>\n",
       "    </tr>\n",
       "  </tbody>\n",
       "</table>\n",
       "</div>"
      ],
      "text/plain": [
       "       alturas  pesos\n",
       "Bucks                \n",
       "10        2.13    128\n",
       "11        2.13    127"
      ]
     },
     "execution_count": 144,
     "metadata": {},
     "output_type": "execute_result"
    }
   ],
   "source": [
    "bucks[bucks['pesos'] > 120]     # los casos estadísticos atípicos de los Bucks"
   ]
  },
  {
   "cell_type": "markdown",
   "metadata": {},
   "source": [
    "### Comparación de alturas"
   ]
  },
  {
   "cell_type": "code",
   "execution_count": 145,
   "metadata": {},
   "outputs": [
    {
     "data": {
      "image/png": "[encoded data removed]",
      "text/plain": [
       "<Figure size 432x288 with 1 Axes>"
      ]
     },
     "metadata": {
      "needs_background": "light"
     },
     "output_type": "display_data"
    }
   ],
   "source": [
    "plt.boxplot(lista_de_alturas_por_equipos)\n",
    "\n",
    "plt.xticks(np.arange(len(lista_de_nombres)) + 1, lista_de_nombres)\n",
    "plt.grid()\n",
    "plt.show()"
   ]
  },
  {
   "cell_type": "markdown",
   "metadata": {},
   "source": [
    "## 5.4 Valores atípicos\n",
    "Los valores fuera del intervalo [Q1 - 1.5 IQR, Q3 + 1.5 IQR]"
   ]
  },
  {
   "cell_type": "code",
   "execution_count": 146,
   "metadata": {},
   "outputs": [
    {
     "name": "stdout",
     "output_type": "stream",
     "text": [
      "79.0 125.0\n",
      "[85, 86, 92, 95, 96, 97, 98, 99, 100, 101, 102, 105, 107, 108, 110, 113, 127, 128]\n"
     ]
    }
   ],
   "source": [
    "# retorna una serie con el valor mínimo, \n",
    "# los cuartiles Q1, Q2 y Q3, y el valor máximo.\n",
    "dato = bucks['pesos'].quantile([0, 0.25, 0.5, 0.75, 1])\n",
    "\n",
    "# rango intercuartil\n",
    "iqr = dato[0.75] - dato[0.25]\n",
    "\n",
    "m = dato[0.25] - 1.5 * iqr    # límite superior de valores atípicos menores\n",
    "n = dato[0.75] + 1.5 * iqr    # límite inferior de valores atípicos mayores\n",
    "\n",
    "print(m, n)\n",
    "print(sorted(bucks['pesos']))"
   ]
  },
  {
   "cell_type": "markdown",
   "metadata": {},
   "source": [
    "## 5.5 Varianza\n"
   ]
  },
  {
   "cell_type": "code",
   "execution_count": 147,
   "metadata": {},
   "outputs": [
    {
     "name": "stdout",
     "output_type": "stream",
     "text": [
      "Varianza de población: 0.005456249999999991\n",
      "Varianza de muestra:   0.00581999999999999\n"
     ]
    }
   ],
   "source": [
    "x = clippers['alturas']\n",
    "N = len(x)  # número de datos\n",
    "\n",
    "# varianza de una población\n",
    "varianza = sum((x - np.mean(x))**2) / N\n",
    "print('Varianza de población:', varianza)\n",
    "\n",
    "\n",
    "# varianza de una muestra\n",
    "varianza = sum((x - np.mean(x))**2) / (N - 1)\n",
    "print('Varianza de muestra:  ', varianza)\n",
    "\n",
    "# pasar saber la diferencia entre la varianza de muestra y de poblacion\n",
    "# https://es.sawakinome.com/articles/mathematics--statistics/unassigned-4411.html"
   ]
  },
  {
   "cell_type": "markdown",
   "metadata": {},
   "source": [
    "## 5.6 Desviación estándar"
   ]
  },
  {
   "cell_type": "markdown",
   "metadata": {},
   "source": [
    "### Desviación estándar de una población"
   ]
  },
  {
   "cell_type": "code",
   "execution_count": 148,
   "metadata": {},
   "outputs": [
    {
     "name": "stdout",
     "output_type": "stream",
     "text": [
      "Desviación estándar de población: 0.07386643351347072\n"
     ]
    }
   ],
   "source": [
    "x = clippers['alturas']\n",
    "N = len(x)  # número de datos\n",
    "\n",
    "# varianza de una población\n",
    "varianza = sum((x - np.mean(x))**2) / N\n",
    "desviacion_estandar = varianza**0.5\n",
    "print('Desviación estándar de población:', desviacion_estandar)"
   ]
  },
  {
   "cell_type": "code",
   "execution_count": 149,
   "metadata": {},
   "outputs": [
    {
     "name": "stdout",
     "output_type": "stream",
     "text": [
      "Desviación estándar de muestra:   0.07628892449104253\n"
     ]
    }
   ],
   "source": [
    "# varianza de una muestra\n",
    "varianza = sum((x - np.mean(x))**2) / (N - 1)\n",
    "desviacion_estandar = np.sqrt(varianza)\n",
    "print('Desviación estándar de muestra:  ', desviacion_estandar)"
   ]
  },
  {
   "cell_type": "code",
   "execution_count": 150,
   "metadata": {},
   "outputs": [
    {
     "data": {
      "text/plain": [
       "0.07386643351347072"
      ]
     },
     "execution_count": 150,
     "metadata": {},
     "output_type": "execute_result"
    }
   ],
   "source": [
    "# desviación estándar de una población con pandas\n",
    "clippers['alturas'].std(ddof = 0)       # el denominador es N - ddof"
   ]
  },
  {
   "cell_type": "code",
   "execution_count": 151,
   "metadata": {},
   "outputs": [
    {
     "data": {
      "text/plain": [
       "0.07386643351347072"
      ]
     },
     "execution_count": 151,
     "metadata": {},
     "output_type": "execute_result"
    }
   ],
   "source": [
    "# desviación estándar de una población con NumPy\n",
    "np.std(clippers['alturas'])"
   ]
  },
  {
   "cell_type": "code",
   "execution_count": 152,
   "metadata": {},
   "outputs": [
    {
     "data": {
      "text/plain": [
       "0.07628892449104253"
      ]
     },
     "execution_count": 152,
     "metadata": {},
     "output_type": "execute_result"
    }
   ],
   "source": [
    "# desviación estándar de una muestra con pandas\n",
    "clippers['alturas'].std()         # el denominador es N - ddof, ddof es 1 por defecto"
   ]
  },
  {
   "cell_type": "code",
   "execution_count": 153,
   "metadata": {},
   "outputs": [
    {
     "data": {
      "text/plain": [
       "0.07628892449104253"
      ]
     },
     "execution_count": 153,
     "metadata": {},
     "output_type": "execute_result"
    }
   ],
   "source": [
    "# desviación estándar de una muestra con NumPy\n",
    "np.std(clippers['alturas'], ddof = 1)  # # el denominador es N - ddof, ddof es 0 por defecto"
   ]
  },
  {
   "cell_type": "code",
   "execution_count": 154,
   "metadata": {},
   "outputs": [
    {
     "data": {
      "text/html": [
       "<div>\n",
       "<style scoped>\n",
       "    .dataframe tbody tr th:only-of-type {\n",
       "        vertical-align: middle;\n",
       "    }\n",
       "\n",
       "    .dataframe tbody tr th {\n",
       "        vertical-align: top;\n",
       "    }\n",
       "\n",
       "    .dataframe thead th {\n",
       "        text-align: right;\n",
       "    }\n",
       "</style>\n",
       "<table border=\"1\" class=\"dataframe\">\n",
       "  <thead>\n",
       "    <tr style=\"text-align: right;\">\n",
       "      <th></th>\n",
       "      <th>variancia de población</th>\n",
       "      <th>variancia de muestra</th>\n",
       "    </tr>\n",
       "    <tr>\n",
       "      <th>equipos</th>\n",
       "      <th></th>\n",
       "      <th></th>\n",
       "    </tr>\n",
       "  </thead>\n",
       "  <tbody>\n",
       "    <tr>\n",
       "      <th>Bucks</th>\n",
       "      <td>0.094471</td>\n",
       "      <td>0.097209</td>\n",
       "    </tr>\n",
       "    <tr>\n",
       "      <th>Clippers</th>\n",
       "      <td>0.073866</td>\n",
       "      <td>0.076289</td>\n",
       "    </tr>\n",
       "    <tr>\n",
       "      <th>Lakers</th>\n",
       "      <td>0.077762</td>\n",
       "      <td>0.080016</td>\n",
       "    </tr>\n",
       "    <tr>\n",
       "      <th>Raptors</th>\n",
       "      <td>0.089898</td>\n",
       "      <td>0.092665</td>\n",
       "    </tr>\n",
       "  </tbody>\n",
       "</table>\n",
       "</div>"
      ],
      "text/plain": [
       "          variancia de población  variancia de muestra\n",
       "equipos                                               \n",
       "Bucks                   0.094471              0.097209\n",
       "Clippers                0.073866              0.076289\n",
       "Lakers                  0.077762              0.080016\n",
       "Raptors                 0.089898              0.092665"
      ]
     },
     "execution_count": 154,
     "metadata": {},
     "output_type": "execute_result"
    }
   ],
   "source": [
    "# varianzas de pesos y alturas en los equipos\n",
    "\n",
    "tabla = pd.DataFrame(index = lista_de_nombres)\n",
    "tabla.index.name = 'equipos'\n",
    "\n",
    "poblaciones = []\n",
    "muestras = []\n",
    "\n",
    "for alturas_por_equipo in lista_de_alturas_por_equipos:\n",
    "    poblaciones.append(np.std(alturas_por_equipo))\n",
    "    muestras.append(np.std(alturas_por_equipo, ddof = 1))\n",
    "        \n",
    "tabla['variancia de población'] = poblaciones\n",
    "tabla['variancia de muestra'] = muestras\n",
    "\n",
    "tabla"
   ]
  },
  {
   "cell_type": "markdown",
   "metadata": {},
   "source": [
    "### Regla 68 95 99.7\n",
    "https://es.wikipedia.org/wiki/Regla_68-95-99.7#:~:text=En%20estad%C3%ADstica%2C%20la%20regla%2068,veces%20la%20desviaci%C3%B3n%20t%C3%ADpica%2C%20respectivamente."
   ]
  },
  {
   "cell_type": "code",
   "execution_count": null,
   "metadata": {},
   "outputs": [],
   "source": [
    "## desviación estándar de una muestra\n",
    "s = np.std(bucks['alturas'], ddof = 1)\n",
    "m = np.mean(bucks['alturas'])\n",
    "bucks[abs(bucks['alturas'] - m) <= s] "
   ]
  },
  {
   "cell_type": "code",
   "execution_count": null,
   "metadata": {},
   "outputs": [],
   "source": [
    "p68 = len(bucks[abs(bucks['alturas'] - m) <=   s]) / len(bucks)\n",
    "p95 = len(bucks[abs(bucks['alturas'] - m) <= 2*s]) / len(bucks)\n",
    "p99 = len(bucks[abs(bucks['alturas'] - m) <= 3*s]) / len(bucks)\n",
    "p68, p95, p99"
   ]
  },
  {
   "cell_type": "markdown",
   "metadata": {},
   "source": [
    "## Más información\n",
    "Puedes conseguir ayuda en inglés escribiendo los siguientes textos en una celda seguidos de ? o como argumentos de help():\n",
    "```python\n",
    "plt.boxplot\n",
    "\n",
    "pd.Series., pd.Series.std\n",
    "\n",
    "np.sqrt, np.quantile\n",
    "```"
   ]
  },
  {
   "cell_type": "markdown",
   "metadata": {},
   "source": [
    "<a id='tarea6'></a>\n",
    "<br><img src=\"linea.png\">\n",
    "# [Tarea 6](#inicio)\n",
    "# Comparando índices de masas corporales\n",
    "<br><img src=\"linea.png\"><br>"
   ]
  },
  {
   "cell_type": "markdown",
   "metadata": {},
   "source": [
    "## 6.1 Índice de masa corporal (IMC)\n",
    "El peso dividido entre el cuadrado de la altura"
   ]
  },
  {
   "cell_type": "markdown",
   "metadata": {},
   "source": [
    "### Función agrega_imc"
   ]
  },
  {
   "cell_type": "code",
   "execution_count": 155,
   "metadata": {},
   "outputs": [],
   "source": [
    "def agrega_imc(equipos):\n",
    "    \"\"\"\n",
    "    Agrega una columna 'imc' de índices de masas corporales\n",
    "    \"\"\"\n",
    "    for equipo in equipos:\n",
    "        \n",
    "        imc = []\n",
    "        \n",
    "        for altura, peso in zip(equipo['alturas'], equipo['pesos']):\n",
    "            \n",
    "            # agrega el peso entre el cuadrado de la altura\n",
    "            imc.append(round(peso/altura**2, 1))\n",
    "            \n",
    "        equipo['imc'] = imc"
   ]
  },
  {
   "cell_type": "code",
   "execution_count": 156,
   "metadata": {},
   "outputs": [],
   "source": [
    "agrega_imc(lista_de_equipos)"
   ]
  },
  {
   "cell_type": "code",
   "execution_count": 157,
   "metadata": {},
   "outputs": [
    {
     "data": {
      "text/html": [
       "<div>\n",
       "<style scoped>\n",
       "    .dataframe tbody tr th:only-of-type {\n",
       "        vertical-align: middle;\n",
       "    }\n",
       "\n",
       "    .dataframe tbody tr th {\n",
       "        vertical-align: top;\n",
       "    }\n",
       "\n",
       "    .dataframe thead th {\n",
       "        text-align: right;\n",
       "    }\n",
       "</style>\n",
       "<table border=\"1\" class=\"dataframe\">\n",
       "  <thead>\n",
       "    <tr style=\"text-align: right;\">\n",
       "      <th></th>\n",
       "      <th>alturas</th>\n",
       "      <th>pesos</th>\n",
       "      <th>imc</th>\n",
       "    </tr>\n",
       "    <tr>\n",
       "      <th>Bucks</th>\n",
       "      <th></th>\n",
       "      <th></th>\n",
       "      <th></th>\n",
       "    </tr>\n",
       "  </thead>\n",
       "  <tbody>\n",
       "    <tr>\n",
       "      <th>0</th>\n",
       "      <td>2.11</td>\n",
       "      <td>110</td>\n",
       "      <td>24.7</td>\n",
       "    </tr>\n",
       "    <tr>\n",
       "      <th>1</th>\n",
       "      <td>2.06</td>\n",
       "      <td>98</td>\n",
       "      <td>23.1</td>\n",
       "    </tr>\n",
       "    <tr>\n",
       "      <th>2</th>\n",
       "      <td>2.13</td>\n",
       "      <td>113</td>\n",
       "      <td>24.9</td>\n",
       "    </tr>\n",
       "    <tr>\n",
       "      <th>3</th>\n",
       "      <td>1.85</td>\n",
       "      <td>97</td>\n",
       "      <td>28.3</td>\n",
       "    </tr>\n",
       "    <tr>\n",
       "      <th>4</th>\n",
       "      <td>1.96</td>\n",
       "      <td>99</td>\n",
       "      <td>25.8</td>\n",
       "    </tr>\n",
       "    <tr>\n",
       "      <th>5</th>\n",
       "      <td>1.96</td>\n",
       "      <td>95</td>\n",
       "      <td>24.7</td>\n",
       "    </tr>\n",
       "    <tr>\n",
       "      <th>6</th>\n",
       "      <td>1.93</td>\n",
       "      <td>92</td>\n",
       "      <td>24.7</td>\n",
       "    </tr>\n",
       "    <tr>\n",
       "      <th>7</th>\n",
       "      <td>1.91</td>\n",
       "      <td>85</td>\n",
       "      <td>23.3</td>\n",
       "    </tr>\n",
       "    <tr>\n",
       "      <th>8</th>\n",
       "      <td>2.06</td>\n",
       "      <td>107</td>\n",
       "      <td>25.2</td>\n",
       "    </tr>\n",
       "    <tr>\n",
       "      <th>9</th>\n",
       "      <td>2.01</td>\n",
       "      <td>96</td>\n",
       "      <td>23.8</td>\n",
       "    </tr>\n",
       "    <tr>\n",
       "      <th>10</th>\n",
       "      <td>2.13</td>\n",
       "      <td>128</td>\n",
       "      <td>28.2</td>\n",
       "    </tr>\n",
       "    <tr>\n",
       "      <th>11</th>\n",
       "      <td>2.13</td>\n",
       "      <td>127</td>\n",
       "      <td>28.0</td>\n",
       "    </tr>\n",
       "    <tr>\n",
       "      <th>12</th>\n",
       "      <td>1.80</td>\n",
       "      <td>86</td>\n",
       "      <td>26.5</td>\n",
       "    </tr>\n",
       "    <tr>\n",
       "      <th>13</th>\n",
       "      <td>1.93</td>\n",
       "      <td>100</td>\n",
       "      <td>26.8</td>\n",
       "    </tr>\n",
       "    <tr>\n",
       "      <th>14</th>\n",
       "      <td>2.01</td>\n",
       "      <td>101</td>\n",
       "      <td>25.0</td>\n",
       "    </tr>\n",
       "    <tr>\n",
       "      <th>15</th>\n",
       "      <td>2.01</td>\n",
       "      <td>102</td>\n",
       "      <td>25.2</td>\n",
       "    </tr>\n",
       "    <tr>\n",
       "      <th>16</th>\n",
       "      <td>2.03</td>\n",
       "      <td>108</td>\n",
       "      <td>26.2</td>\n",
       "    </tr>\n",
       "    <tr>\n",
       "      <th>17</th>\n",
       "      <td>2.08</td>\n",
       "      <td>105</td>\n",
       "      <td>24.3</td>\n",
       "    </tr>\n",
       "  </tbody>\n",
       "</table>\n",
       "</div>"
      ],
      "text/plain": [
       "       alturas  pesos   imc\n",
       "Bucks                      \n",
       "0         2.11    110  24.7\n",
       "1         2.06     98  23.1\n",
       "2         2.13    113  24.9\n",
       "3         1.85     97  28.3\n",
       "4         1.96     99  25.8\n",
       "5         1.96     95  24.7\n",
       "6         1.93     92  24.7\n",
       "7         1.91     85  23.3\n",
       "8         2.06    107  25.2\n",
       "9         2.01     96  23.8\n",
       "10        2.13    128  28.2\n",
       "11        2.13    127  28.0\n",
       "12        1.80     86  26.5\n",
       "13        1.93    100  26.8\n",
       "14        2.01    101  25.0\n",
       "15        2.01    102  25.2\n",
       "16        2.03    108  26.2\n",
       "17        2.08    105  24.3"
      ]
     },
     "execution_count": 157,
     "metadata": {},
     "output_type": "execute_result"
    }
   ],
   "source": [
    "bucks"
   ]
  },
  {
   "cell_type": "markdown",
   "metadata": {},
   "source": [
    "### Función grafica_imc"
   ]
  },
  {
   "cell_type": "code",
   "execution_count": 158,
   "metadata": {},
   "outputs": [],
   "source": [
    "def grafica_imc(equipos, colores, etiquetas):\n",
    "    \"\"\"\n",
    "    Grafica los índices de masas corporales de una lista de equipos.\n",
    "    \"\"\"\n",
    "    # para cada par de equipos y colores\n",
    "    for equipo, color in zip(equipos, colores):\n",
    "        plt.plot(range(len(equipo)),    # índices de los datos, desde 0 hasta número de datos - 1\n",
    "                 equipo['imc'],         # datos de IMC\n",
    "                 color = color,         # color del punto\n",
    "                 linestyle = '',        # sin segmentos entre puntos\n",
    "                 marker = 'o')          # punto\n",
    "\n",
    "    plt.title('Índices de masas corporales')\n",
    "    plt.xlabel('Jugadores')\n",
    "    plt.ylabel('IMC')\n",
    "    plt.legend(etiquetas)\n",
    "    plt.show()"
   ]
  },
  {
   "cell_type": "code",
   "execution_count": 184,
   "metadata": {},
   "outputs": [
    {
     "data": {
      "image/png": "[encoded data removed]",
      "text/plain": [
       "<Figure size 432x288 with 1 Axes>"
      ]
     },
     "metadata": {
      "needs_background": "light"
     },
     "output_type": "display_data"
    }
   ],
   "source": [
    "grafica_imc(lista_de_equipos, lista_de_colores, lista_de_nombres)"
   ]
  },
  {
   "cell_type": "markdown",
   "metadata": {},
   "source": [
    "### Promedio de IMC por equipos"
   ]
  },
  {
   "cell_type": "code",
   "execution_count": 159,
   "metadata": {},
   "outputs": [
    {
     "name": "stdout",
     "output_type": "stream",
     "text": [
      "Bucks 25.5\n",
      "Clippers 24.8\n",
      "Lakers 25.2\n",
      "Raptors 24.5\n"
     ]
    }
   ],
   "source": [
    "for equipo, nombre in zip(lista_de_equipos, lista_de_nombres):\n",
    "    print(nombre, round(np.mean(equipo['imc']), 1))"
   ]
  },
  {
   "cell_type": "markdown",
   "metadata": {},
   "source": [
    "## 6.2 Rangos de IMC\n",
    "[Índice de masa corporal](https://medlineplus.gov/spanish/ency/article/007196.htm)"
   ]
  },
  {
   "cell_type": "code",
   "execution_count": 160,
   "metadata": {},
   "outputs": [
    {
     "name": "stdout",
     "output_type": "stream",
     "text": [
      "Debajo del peso: 0\n",
      "Saludable:       8\n",
      "Con sobrepeso:   10\n",
      "Obeso:           0\n",
      "Alto riesgo:     0\n"
     ]
    }
   ],
   "source": [
    "# https://medlineplus.gov/spanish/ency/article/007196.htm\n",
    "# Debajo de 18.5    Por debajo del peso\n",
    "# 18.5 a 24.9       Saludable\n",
    "# 25.0 a 29.9       Con sobrepeso\n",
    "# 30.0 a 39.9       Obeso\n",
    "# Más de 40         Obesidad extrema o de alto riesgo\n",
    "\n",
    "imc = bucks['imc']\n",
    "print(\"Debajo del peso:\", len(imc[imc < 18.5]))\n",
    "print(\"Saludable:      \", len(imc[(imc >= 18.5) & (imc < 25)]))\n",
    "print(\"Con sobrepeso:  \", len(imc[(imc >= 25) & (imc < 30)]))\n",
    "print(\"Obeso:          \", len(imc[(imc >= 30) & (imc < 40)]))\n",
    "print(\"Alto riesgo:    \", len(imc[imc >= 40]))"
   ]
  },
  {
   "cell_type": "markdown",
   "metadata": {},
   "source": [
    "### Función porcentajes_imc"
   ]
  },
  {
   "cell_type": "code",
   "execution_count": 161,
   "metadata": {},
   "outputs": [],
   "source": [
    "def porcentajes_imc(equipos, nombres):\n",
    "    \"\"\"\n",
    "    Retorna una tabla de porcentajes en cada categoría de IMC.\n",
    "    \"\"\"\n",
    "\n",
    "    tabla = pd.DataFrame(index = [\"Debajo del peso\",\n",
    "                                  \"Saludable\",\n",
    "                                  \"Con sobrepeso\",\n",
    "                                  \"Obeso\",\n",
    "                                  \"Alto riesgo\"])\n",
    "\n",
    "    marcas = [0, 18.5, 25, 30, 40, 1000]    # 1000 es extremo, con \n",
    "    \n",
    "    # para cada equipo y nombre\n",
    "    for equipo, nombre in zip(equipos, nombres):\n",
    "        \n",
    "        imc = equipo['imc']     # los valores IMC\n",
    "        tpc = 100 / len(imc)    # el factor de tanto por ciento \n",
    "        \n",
    "        lista = []\n",
    "        \n",
    "        # para cada índice de la lista marcas desde el primero hasta el penúltimo\n",
    "        for i in range(len(marcas) - 1):\n",
    "            \n",
    "            # número de elementos entre la marca actual y la siguiente\n",
    "            n = len(imc[(imc >= marcas[i]) & (imc < marcas[i + 1])])\n",
    "            \n",
    "            # agrega el porcentaje con dos cifras decimales\n",
    "            lista.append(round(n * tpc, 2))\n",
    "        \n",
    "        # columna de datos IMC del equipo\n",
    "        tabla[nombre] = lista\n",
    "        \n",
    "    return tabla"
   ]
  },
  {
   "cell_type": "code",
   "execution_count": 162,
   "metadata": {},
   "outputs": [
    {
     "data": {
      "text/html": [
       "<div>\n",
       "<style scoped>\n",
       "    .dataframe tbody tr th:only-of-type {\n",
       "        vertical-align: middle;\n",
       "    }\n",
       "\n",
       "    .dataframe tbody tr th {\n",
       "        vertical-align: top;\n",
       "    }\n",
       "\n",
       "    .dataframe thead th {\n",
       "        text-align: right;\n",
       "    }\n",
       "</style>\n",
       "<table border=\"1\" class=\"dataframe\">\n",
       "  <thead>\n",
       "    <tr style=\"text-align: right;\">\n",
       "      <th></th>\n",
       "      <th>Bucks</th>\n",
       "      <th>Clippers</th>\n",
       "      <th>Lakers</th>\n",
       "      <th>Raptors</th>\n",
       "    </tr>\n",
       "  </thead>\n",
       "  <tbody>\n",
       "    <tr>\n",
       "      <th>Debajo del peso</th>\n",
       "      <td>0.00</td>\n",
       "      <td>0.00</td>\n",
       "      <td>0.00</td>\n",
       "      <td>0.00</td>\n",
       "    </tr>\n",
       "    <tr>\n",
       "      <th>Saludable</th>\n",
       "      <td>44.44</td>\n",
       "      <td>43.75</td>\n",
       "      <td>44.44</td>\n",
       "      <td>58.82</td>\n",
       "    </tr>\n",
       "    <tr>\n",
       "      <th>Con sobrepeso</th>\n",
       "      <td>55.56</td>\n",
       "      <td>56.25</td>\n",
       "      <td>55.56</td>\n",
       "      <td>41.18</td>\n",
       "    </tr>\n",
       "    <tr>\n",
       "      <th>Obeso</th>\n",
       "      <td>0.00</td>\n",
       "      <td>0.00</td>\n",
       "      <td>0.00</td>\n",
       "      <td>0.00</td>\n",
       "    </tr>\n",
       "    <tr>\n",
       "      <th>Alto riesgo</th>\n",
       "      <td>0.00</td>\n",
       "      <td>0.00</td>\n",
       "      <td>0.00</td>\n",
       "      <td>0.00</td>\n",
       "    </tr>\n",
       "  </tbody>\n",
       "</table>\n",
       "</div>"
      ],
      "text/plain": [
       "                 Bucks  Clippers  Lakers  Raptors\n",
       "Debajo del peso   0.00      0.00    0.00     0.00\n",
       "Saludable        44.44     43.75   44.44    58.82\n",
       "Con sobrepeso    55.56     56.25   55.56    41.18\n",
       "Obeso             0.00      0.00    0.00     0.00\n",
       "Alto riesgo       0.00      0.00    0.00     0.00"
      ]
     },
     "execution_count": 162,
     "metadata": {},
     "output_type": "execute_result"
    }
   ],
   "source": [
    "porcentajes_imc(lista_de_equipos, lista_de_nombres)"
   ]
  },
  {
   "cell_type": "markdown",
   "metadata": {},
   "source": [
    "### Tabla transpuesta"
   ]
  },
  {
   "cell_type": "code",
   "execution_count": 163,
   "metadata": {},
   "outputs": [
    {
     "data": {
      "text/html": [
       "<div>\n",
       "<style scoped>\n",
       "    .dataframe tbody tr th:only-of-type {\n",
       "        vertical-align: middle;\n",
       "    }\n",
       "\n",
       "    .dataframe tbody tr th {\n",
       "        vertical-align: top;\n",
       "    }\n",
       "\n",
       "    .dataframe thead th {\n",
       "        text-align: right;\n",
       "    }\n",
       "</style>\n",
       "<table border=\"1\" class=\"dataframe\">\n",
       "  <thead>\n",
       "    <tr style=\"text-align: right;\">\n",
       "      <th></th>\n",
       "      <th>Debajo del peso</th>\n",
       "      <th>Saludable</th>\n",
       "      <th>Con sobrepeso</th>\n",
       "      <th>Obeso</th>\n",
       "      <th>Alto riesgo</th>\n",
       "    </tr>\n",
       "  </thead>\n",
       "  <tbody>\n",
       "    <tr>\n",
       "      <th>Bucks</th>\n",
       "      <td>0.0</td>\n",
       "      <td>44.44</td>\n",
       "      <td>55.56</td>\n",
       "      <td>0.0</td>\n",
       "      <td>0.0</td>\n",
       "    </tr>\n",
       "    <tr>\n",
       "      <th>Clippers</th>\n",
       "      <td>0.0</td>\n",
       "      <td>43.75</td>\n",
       "      <td>56.25</td>\n",
       "      <td>0.0</td>\n",
       "      <td>0.0</td>\n",
       "    </tr>\n",
       "    <tr>\n",
       "      <th>Lakers</th>\n",
       "      <td>0.0</td>\n",
       "      <td>44.44</td>\n",
       "      <td>55.56</td>\n",
       "      <td>0.0</td>\n",
       "      <td>0.0</td>\n",
       "    </tr>\n",
       "    <tr>\n",
       "      <th>Raptors</th>\n",
       "      <td>0.0</td>\n",
       "      <td>58.82</td>\n",
       "      <td>41.18</td>\n",
       "      <td>0.0</td>\n",
       "      <td>0.0</td>\n",
       "    </tr>\n",
       "  </tbody>\n",
       "</table>\n",
       "</div>"
      ],
      "text/plain": [
       "          Debajo del peso  Saludable  Con sobrepeso  Obeso  Alto riesgo\n",
       "Bucks                 0.0      44.44          55.56    0.0          0.0\n",
       "Clippers              0.0      43.75          56.25    0.0          0.0\n",
       "Lakers                0.0      44.44          55.56    0.0          0.0\n",
       "Raptors               0.0      58.82          41.18    0.0          0.0"
      ]
     },
     "execution_count": 163,
     "metadata": {},
     "output_type": "execute_result"
    }
   ],
   "source": [
    "porcentajes_imc(lista_de_equipos, lista_de_nombres).T"
   ]
  },
  {
   "cell_type": "markdown",
   "metadata": {},
   "source": [
    "## 6.3 Barras apiladas"
   ]
  },
  {
   "cell_type": "code",
   "execution_count": 164,
   "metadata": {},
   "outputs": [],
   "source": [
    "def barras_imc(tabla, nombres, dimensiones = (8, 4), anchura = 0.8):\n",
    "    \"\"\"\n",
    "    Muestra barras apiladas de datos de porcentajes de jugadores\n",
    "    de acuerdo a condiciones saludables, con sobrepeso, obesos y en alto riesgo.\n",
    "    Fuente: medlineplus.gov/spanish/ency/article/007196.htm\n",
    "    \"\"\"\n",
    "    saludables = tabla['Saludable']\n",
    "    sobrepesos = tabla['Con sobrepeso']\n",
    "    obesos = tabla['Obeso']\n",
    "    enriesgos = tabla['Alto riesgo']\n",
    "\n",
    "    indices = np.arange(len(tabla))\n",
    "    \n",
    "    plt.figure(figsize=dimensiones)\n",
    "    \n",
    "    plt.bar(indices, saludables, anchura)\n",
    "    plt.bar(indices, sobrepesos, anchura, bottom=saludables)\n",
    "    plt.bar(indices, obesos,     anchura, bottom=saludables + sobrepesos)\n",
    "    plt.bar(indices, enriesgos,  anchura, bottom=saludables + sobrepesos + obesos)\n",
    "    \n",
    "    plt.xlabel('Equipos')\n",
    "    plt.ylabel('Valores')\n",
    "    plt.title('Condiciones de IMC, medlineplus.gov/spanish/ency/article/007196.htm')\n",
    "    plt.xticks(indices, nombres)\n",
    "    plt.legend(['Saludables', 'Sobrepesos', 'Obesos', 'Alto riesgo'], loc='lower center')\n",
    "\n",
    "    plt.show()"
   ]
  },
  {
   "cell_type": "code",
   "execution_count": 165,
   "metadata": {},
   "outputs": [
    {
     "data": {
      "text/html": [
       "<div>\n",
       "<style scoped>\n",
       "    .dataframe tbody tr th:only-of-type {\n",
       "        vertical-align: middle;\n",
       "    }\n",
       "\n",
       "    .dataframe tbody tr th {\n",
       "        vertical-align: top;\n",
       "    }\n",
       "\n",
       "    .dataframe thead th {\n",
       "        text-align: right;\n",
       "    }\n",
       "</style>\n",
       "<table border=\"1\" class=\"dataframe\">\n",
       "  <thead>\n",
       "    <tr style=\"text-align: right;\">\n",
       "      <th></th>\n",
       "      <th>Debajo del peso</th>\n",
       "      <th>Saludable</th>\n",
       "      <th>Con sobrepeso</th>\n",
       "      <th>Obeso</th>\n",
       "      <th>Alto riesgo</th>\n",
       "    </tr>\n",
       "  </thead>\n",
       "  <tbody>\n",
       "    <tr>\n",
       "      <th>Bucks</th>\n",
       "      <td>0.0</td>\n",
       "      <td>44.44</td>\n",
       "      <td>55.56</td>\n",
       "      <td>0.0</td>\n",
       "      <td>0.0</td>\n",
       "    </tr>\n",
       "    <tr>\n",
       "      <th>Clippers</th>\n",
       "      <td>0.0</td>\n",
       "      <td>43.75</td>\n",
       "      <td>56.25</td>\n",
       "      <td>0.0</td>\n",
       "      <td>0.0</td>\n",
       "    </tr>\n",
       "    <tr>\n",
       "      <th>Lakers</th>\n",
       "      <td>0.0</td>\n",
       "      <td>44.44</td>\n",
       "      <td>55.56</td>\n",
       "      <td>0.0</td>\n",
       "      <td>0.0</td>\n",
       "    </tr>\n",
       "    <tr>\n",
       "      <th>Raptors</th>\n",
       "      <td>0.0</td>\n",
       "      <td>58.82</td>\n",
       "      <td>41.18</td>\n",
       "      <td>0.0</td>\n",
       "      <td>0.0</td>\n",
       "    </tr>\n",
       "  </tbody>\n",
       "</table>\n",
       "</div>"
      ],
      "text/plain": [
       "          Debajo del peso  Saludable  Con sobrepeso  Obeso  Alto riesgo\n",
       "Bucks                 0.0      44.44          55.56    0.0          0.0\n",
       "Clippers              0.0      43.75          56.25    0.0          0.0\n",
       "Lakers                0.0      44.44          55.56    0.0          0.0\n",
       "Raptors               0.0      58.82          41.18    0.0          0.0"
      ]
     },
     "execution_count": 165,
     "metadata": {},
     "output_type": "execute_result"
    }
   ],
   "source": [
    "tabla = porcentajes_imc(lista_de_equipos, lista_de_nombres).T\n",
    "tabla"
   ]
  },
  {
   "cell_type": "code",
   "execution_count": 166,
   "metadata": {},
   "outputs": [
    {
     "data": {
      "image/png": "[encoded data removed]",
      "text/plain": [
       "<Figure size 576x288 with 1 Axes>"
      ]
     },
     "metadata": {
      "needs_background": "light"
     },
     "output_type": "display_data"
    }
   ],
   "source": [
    "barras_imc(tabla, lista_de_nombres)"
   ]
  },
  {
   "cell_type": "markdown",
   "metadata": {},
   "source": [
    "## 6.4 Alturas y pesos de deportistas de fútbol, fútbol americano y sumo\n",
    "Datos extraídos de las páginas de los clubes, Wikipedia y de la página oficial de sumo"
   ]
  },
  {
   "cell_type": "code",
   "execution_count": 167,
   "metadata": {},
   "outputs": [],
   "source": [
    "# Fútbol \n",
    "\n",
    "barcelona = pd.DataFrame()\n",
    "barcelona['alturas'] = [1.87, 1.90, 1.77, 1.94, 1.86, 1.70, 1.78, 1.82, 1.84, 1.84,\n",
    "                        1.89, 1.71, 1.80, 1.80, 1.82, 1.70, 1.78, 1.76, 1.77]\n",
    "barcelona['pesos'] = [85, 84, 67, 85, 81, 68, 68, 75, 78, 78,\n",
    "                      76, 73, 74, 75, 86, 72, 67, 73, 73]\n",
    "\n",
    "bayern = pd.DataFrame()\n",
    "bayern['alturas'] = [1.93, 1.92, 1.92, 1.93, 1.89, 1.76, 1.80, 1.82, 1.92, 1.86, \n",
    "                     1.95, 1.76, 1.81, 1.81, 1.89, 1.81, 1.72, 1.92, 1.74, 1.79, \n",
    "                     1.86, 1.75, 1.84, 1.86, 1.84]\n",
    "bayern['pesos'] = [92, 87, 84, 84, 84, 73, 78, 76, 90, 76,\n",
    "                   97, 66, 81, 72, 76, 74, 68, 86, 70, 75,\n",
    "                   75, 75, 78, 80, 80]\n",
    "\n",
    "juventus = pd.DataFrame()\n",
    "juventus['alturas'] = [1.92, 1.96, 1.92, 1.90, 1.84, 1.89, 1.83, 1.87, 1.89, 1.82, \n",
    "                       1.89, 1.78, 1.87, 1.86, 1.79, 1.77]\n",
    "juventus['pesos'] = [91, 90, 89, 85, 80, 86, 74, 78, 71, 77,\n",
    "                     80, 72, 83, 75, 71, 73]\n",
    "\n",
    "madrid = pd.DataFrame()\n",
    "madrid['alturas'] = [1.95, 1.99, 1.73, 1.86, 1.84, 1.91, 1.80, 1.74, 1.80, 1.83,\n",
    "                     1.72, 1.85, 1.82, 1.80, 1.76, 1.75, 1.85, 1.85, 1.73, 1.82, \n",
    "                     1.82, 1.71, 1.80, 1.76, 1.74]\n",
    "madrid['pesos'] = [94, 96, 73.5, 78, 82.2, 81.2, 76.3, 75, 73, 76, 66.2, 84,\n",
    "                   78, 75, 79, 74, 81.2, 81.8, 70.5, 85, 76, 68, 76, 73, 64]\n",
    "\n",
    "# Fútbol americano\n",
    "\n",
    "saints = pd.DataFrame()\n",
    "saints['alturas'] = [1.91, 1.93, 1.85, 1.83, 1.78, 1.85, 1.85, 1.91, 1.96, 1.93, \n",
    "                     1.96, 1.91, 1.78, 1.96, 1.96, 1.88, 1.88, 1.8, 1.93, 1.8, \n",
    "                     1.85, 1.91, 1.88, 1.98, 2.01, 1.96, 1.83, 1.93, 1.93, 1.78, \n",
    "                     1.91, 1.93, 1.83, 1.78, 1.93, 1.93, 1.8, 1.96, 1.7, 1.83, \n",
    "                     1.96, 1.78, 1.93, 1.8, 1.93, 1.91, 1.83, 1.78, 1.96, 2.03, \n",
    "                     1.93, 1.91, 1.88, 1.96, 1.93, 1.68, 1.85, 1.91, 1.85, 1.93, \n",
    "                     1.93, 1.83, 1.96, 1.88, 1.8, 1.85, 1.91, 1.85, 1.91, 1.91, \n",
    "                     1.85, 1.88, 1.98, 1.98, 2.01, 1.96, 1.96, 1.91, 1.85, 1.88, \n",
    "                     1.93, 1.83, 1.88, 1.83, 1.91, 1.83, 1.88, 1.96, 1.91, 1.91, \n",
    "                     1.88]\n",
    "saints['pesos'] = [115.7, 104.8, 88.5, 88.9, 83.9, 81.6, 101.2, 136.1, 114.8, 136.1,\n",
    "                   141.1, 96.2, 93.0, 106.6, 138.3, 138.3, 95.3, 81.6, 144.7, 86.6, \n",
    "                   106.1, 131.5, 138.3, 142.4, 143.3, 142.9, 107.0, 136.1, 148.3, 85.7,\n",
    "                   104.3, 106.6, 98.0, 83.9, 142.4, 155.6, 83.5, 124.7, 76.2, 87.1, \n",
    "                   145.1, 97.5, 130.2, 101.6, 104.8, 90.7, 92.5, 86.2, 140.6, 133.8, \n",
    "                   102.1, 98.4, 100.2, 113.4, 122.5, 77.1, 90.7, 100.7, 93.4, 108.9, \n",
    "                   152.0, 91.6, 118.4, 88.9, 95.3, 98.9, 108.9, 88.5, 127.0, 137.4, \n",
    "                   102.1, 112.5, 120.2, 136.1, 116.1, 115.2, 141.1, 115.7, 88.5, 92.5, \n",
    "                   99.8, 108.9, 145.1, 94.8, 108.9, 99.3, 104.8, 137.9, 109.3, 108.4, \n",
    "                   113.9]\n",
    "\n",
    "packers = pd.DataFrame()\n",
    "packers['alturas'] = [1.88, 1.91, 1.83, 1.88, 1.8, 1.85, 1.98, 1.93, 1.96, 1.96, \n",
    "                      1.88, 1.88, 1.91, 1.88, 1.85, 1.8, 1.83, 1.93, 1.96, 1.93, \n",
    "                      1.96, 1.8, 1.88, 1.98, 1.96, 1.8, 1.85, 1.93, 1.88, 1.8, \n",
    "                      1.91, 1.96, 1.91, 2.01, 1.91, 1.91, 1.96, 1.98, 1.91, 1.93, \n",
    "                      1.91, 1.91, 1.96, 1.98, 1.98, 1.96, 1.91, 1.93, 1.88, 1.91, \n",
    "                      1.91, 1.85, 1.75, 1.98, 1.96, 1.83, 1.83, 1.93, 1.83, 1.8, \n",
    "                      1.96, 1.93, 1.96, 1.78, 1.85, 1.83, 1.91, 1.88, 1.93, 1.8, \n",
    "                      1.98, 1.91, 1.91, 1.98, 1.93, 1.83, 1.83, 1.83, 1.96, 1.88, \n",
    "                      1.93, 1.83, 1.83, 1.78, 1.93, 1.85, 1.93, 1.96, 1.88, 1.85, \n",
    "                      1.91]\n",
    "packers['pesos'] = [136.1, 110.7, 96.6, 87.5, 96.2, 109.3, 142.9, 93.4, 140.6, 107.5, \n",
    "                    98.4, 98.0, 147.0, 88.9, 109.3, 85.7, 96.2, 143.3, 97.1, 123.4, \n",
    "                    120.2, 84.4, 91.6, 94.3, 111.6, 89.8, 84.8, 139.3, 102.1, 84.4, \n",
    "                    108.0, 130.2, 142.0, 142.4, 107.5, 108.9, 139.7, 134.3, 102.1, 99.3, \n",
    "                    130.2, 136.5, 140.2, 121.1, 136.5, 103.0, 142.0, 94.8, 106.6, 90.7, \n",
    "                    130.6, 115.7, 94.3, 136.5, 141.1, 88.9, 88.9, 134.3, 92.5, 89.4, \n",
    "                    125.6, 116.6, 103.9, 87.1, 84.8, 112.0, 89.8, 108.0, 108.9, 102.1, \n",
    "                    139.3, 142.4, 105.7, 135.2, 105.2, 103.4, 92.5, 90.7, 113.4, 103.9, \n",
    "                    140.6, 86.2, 97.1, 88.9, 137.9, 97.5, 113.9, 117.0, 137.9, 93.9, \n",
    "                    109.3]\n",
    "\n",
    "ravens = pd.DataFrame()\n",
    "ravens['alturas'] = [1.91, 1.96, 1.93, 1.91, 1.85, 1.93, 1.91, 1.91, 1.96, 1.75, \n",
    "                     1.85, 1.75, 1.78, 1.78, 1.98, 1.8, 1.8, 1.88, 1.91, 1.96, \n",
    "                     1.96, 1.88, 1.88, 1.8, 1.91, 1.83, 1.85, 1.8, 1.98, 1.93, \n",
    "                     1.96, 1.96, 1.83, 1.96, 1.91, 1.88, 1.8, 1.85, 1.8, 1.93, \n",
    "                     1.83, 1.91, 1.85, 1.85, 1.91, 1.8, 1.85, 1.91, 1.88, 1.75, \n",
    "                     1.85, 1.83, 2.01, 1.78, 1.83, 1.91, 1.88, 1.83, 1.96, 1.96, \n",
    "                     1.88, 1.85, 1.98, 1.85, 1.8, 1.75, 1.78, 1.96, 1.8, 1.88, \n",
    "                     1.96, 1.85, 1.93, 1.91, 1.83, 2.03, 2.03, 1.75, 1.98, 1.96, \n",
    "                     1.91, 1.93, 1.93, 1.91, 1.73, 1.88, 1.8, 1.96, 1.91, 1.98, \n",
    "                     1.96, 1.96, 1.85]\n",
    "ravens['pesos'] = [138.3, 129.3, 108.0, 114.3, 152.4, 93.4, 108.4, 138.3, 130.2, 85.3, \n",
    "                   83.0, 83.9, 91.6, 95.3, 142.9, 93.0, 88.9, 95.3, 142.0, 95.3, \n",
    "                   112.9, 108.9, 118.8, 95.3, 141.1, 104.3, 103.0, 87.5, 141.1, 140.6, \n",
    "                   146.1, 156.5, 88.5, 115.7, 89.4, 112.5, 86.6, 90.7, 83.0, 139.7, \n",
    "                   91.6, 120.2, 95.3, 87.1, 132.9, 93.9, 100.7, 118.4, 96.2, 97.5, \n",
    "                   93.0, 89.4, 149.7, 90.7, 79.4, 112.0, 96.6, 105.2, 155.1, 124.7, \n",
    "                   158.8, 95.3, 140.6, 108.0, 95.3, 82.1, 96.2, 147.4, 93.9, 108.9, \n",
    "                   136.1, 142.9, 106.6, 142.0, 93.0, 136.1, 156.5, 77.1, 114.3, 143.3,\n",
    "                   143.8, 122.5, 99.8, 109.8, 82.6, 103.9, 80.7, 116.1, 108.4, 113.4, \n",
    "                   115.2, 157.4, 89.4]\n",
    "\n",
    "patriots = pd.DataFrame()\n",
    "patriots['alturas'] = [1.83, 1.88, 1.88, 1.96, 1.91, 1.91, 1.78, 1.88, 1.91, 1.93, \n",
    "                       1.96, 1.78, 1.68, 1.91, 1.85, 1.83, 1.88, 1.88, 1.75, 1.75, \n",
    "                       1.91, 1.96, 1.73, 1.83, 1.8, 1.8, 1.91, 1.83, 1.96, 1.93, \n",
    "                       1.8, 1.88, 1.93, 1.8, 1.78, 1.85, 1.83, 1.91, 1.88, 1.93, \n",
    "                       1.78, 1.91, 1.91, 1.85, 1.96, 1.88, 1.96, 1.78, 1.93, 1.8, \n",
    "                       1.8, 1.88, 1.93, 1.85, 1.88, 1.96, 1.93, 1.78, 1.88, 1.88, \n",
    "                       1.98, 1.91, 1.91, 1.96, 1.91, 1.93, 1.96, 1.75, 1.96, 1.91, \n",
    "                       1.78, 1.75, 1.8, 1.96, 1.83, 1.93, 1.88, 1.88, 1.91, 1.91, \n",
    "                       1.91, 1.91]\n",
    "patriots['pesos'] = [86.2, 140.6, 132.0, 124.7, 113.4, 96.2, 93.0, 138.3, 102.5, 138.3, \n",
    "                     139.7, 78.9, 83.9, 97.5, 98.9, 93.0, 117.9, 95.3, 87.1, 86.2, \n",
    "                     104.3, 113.4, 80.7, 88.9, 89.8, 95.3, 158.8, 86.2, 111.1, 120.2, \n",
    "                     97.5, 90.7, 101.6, 88.5, 88.5, 140.6, 112.5, 98.0, 99.8, 113.9, \n",
    "                     86.2, 115.7, 117.5, 89.8, 115.7, 98.0, 138.3, 78.9, 102.1, 106.1, \n",
    "                     96.6, 106.6, 142.9, 91.6, 92.1, 140.6, 152.0, 89.8, 99.8, 92.1, \n",
    "                     141.1, 136.1, 119.3, 132.0, 111.1, 117.9, 140.6, 81.6, 136.1, 117.9, \n",
    "                     97.5, 83.9, 93.0, 113.4, 90.7, 115.7, 115.7, 93.0, 116.6, 136.1, \n",
    "                     148.3, 90.7]\n",
    "\n",
    "# Sumo\n",
    "\n",
    "sumo = pd.DataFrame()\n",
    "sumo['alturas'] = [1.92, 1.78, 1.82, 1.75, 1.78, 1.95, 1.91, 1.91, 1.85, 1.84,\n",
    "                   1.95, 1.93, 1.92, 1.82, 1.85, 1.81, 1.91, 1.89, 1.78, 1.69,\n",
    "                   1.85, 1.69, 1.87, 1.84, 1.78, 1.79, 1.85, 1.85, 1.88, 1.84,\n",
    "                   1.80, 1.92, 1.87, 1.82, 1.90, 1.89, 1.81, 1.83]\n",
    "sumo['pesos'] = [201, 133, 124, 111, 161, 201, 173, 165, 170, 140,\n",
    "                 171, 163, 194, 188, 157, 178, 153, 169, 130, 120,\n",
    "                 175,  96, 172, 162, 155, 190, 168, 135, 172, 165, \n",
    "                 175, 180, 152, 164, 160, 169, 188, 150]"
   ]
  },
  {
   "cell_type": "markdown",
   "metadata": {},
   "source": [
    "### Listas de equipos y nombres"
   ]
  },
  {
   "cell_type": "code",
   "execution_count": 168,
   "metadata": {},
   "outputs": [],
   "source": [
    "equipos = [bucks, clippers, lakers, raptors,\n",
    "           barcelona, bayern, juventus, madrid,\n",
    "           packers, patriots, ravens, saints,\n",
    "           sumo]\n",
    "\n",
    "nombres = ['Bucks', 'Clippers', 'Lakers', 'Raptors', \n",
    "           'Barcelona', 'Bayern', 'Juventus', 'Madrid',\n",
    "           'Packers', 'Patriots', 'Ravens', 'Saints',\n",
    "           'Sumo']"
   ]
  },
  {
   "cell_type": "markdown",
   "metadata": {},
   "source": [
    "## 6.5 Gráfica de pesos versus alturas por deporte"
   ]
  },
  {
   "cell_type": "code",
   "execution_count": 169,
   "metadata": {},
   "outputs": [
    {
     "data": {
      "image/png": "[encoded data removed]",
      "text/plain": [
       "<Figure size 432x288 with 1 Axes>"
      ]
     },
     "metadata": {
      "needs_background": "light"
     },
     "output_type": "display_data"
    }
   ],
   "source": [
    "listas = [[bucks, clippers, lakers, raptors],\n",
    "          [barcelona, bayern, juventus, madrid],\n",
    "          [packers, patriots, ravens, saints],\n",
    "          [sumo]]\n",
    "\n",
    "colores = ['bo', 'go', 'ro', 'co']\n",
    "\n",
    "for indice, lista in enumerate(listas): # crea pares de índices y valores\n",
    "    \n",
    "    alturas = []\n",
    "    pesos = []\n",
    "    \n",
    "    # compone una lista por deporte con los elementos de las listas de equipos\n",
    "    for equipo in lista:\n",
    "        alturas.extend(equipo['alturas'])\n",
    "        pesos.extend(equipo['pesos'])\n",
    "    \n",
    "    plt.plot(alturas, pesos, colores[indice])\n",
    "\n",
    "plt.title('Pesos versus alturas por deportes')\n",
    "plt.xlabel('Alturas')\n",
    "plt.ylabel('Pesos')\n",
    "plt.legend(['Baloncesto', 'Fútbol', 'Fútbol americano', 'Sumo'])\n",
    "\n",
    "plt.show()"
   ]
  },
  {
   "cell_type": "markdown",
   "metadata": {},
   "source": [
    "## 6.6 Comparaciones de cajas con bigotes"
   ]
  },
  {
   "cell_type": "code",
   "execution_count": 170,
   "metadata": {},
   "outputs": [],
   "source": [
    "def cajas(equipos, atributo, nombres, dimensiones=(8, 4)):\n",
    "    \"\"\"\n",
    "    Muestra cajas con bigotes de un atributo de equipos.\n",
    "    \"\"\"\n",
    "    lista = []\n",
    "    for equipo in equipos:\n",
    "        lista.append(equipo[atributo])\n",
    "\n",
    "    plt.figure(figsize=dimensiones)\n",
    "        \n",
    "    plt.boxplot(lista)\n",
    "    plt.xticks(range(1, len(nombres) + 1), nombres)\n",
    "    plt.title(atributo.capitalize())\n",
    "    plt.grid()\n",
    "    plt.show()"
   ]
  },
  {
   "cell_type": "code",
   "execution_count": 197,
   "metadata": {},
   "outputs": [
    {
     "data": {
      "image/png": "[encoded data removed]",
      "text/plain": [
       "<Figure size 1152x288 with 1 Axes>"
      ]
     },
     "metadata": {
      "needs_background": "light"
     },
     "output_type": "display_data"
    }
   ],
   "source": [
    "cajas(equipos, 'alturas', nombres, (16, 4))"
   ]
  },
  {
   "cell_type": "code",
   "execution_count": 198,
   "metadata": {},
   "outputs": [
    {
     "data": {
      "image/png": "[encoded data removed]",
      "text/plain": [
       "<Figure size 1152x288 with 1 Axes>"
      ]
     },
     "metadata": {
      "needs_background": "light"
     },
     "output_type": "display_data"
    }
   ],
   "source": [
    "cajas(equipos, 'pesos', nombres, (16, 4))"
   ]
  },
  {
   "cell_type": "code",
   "execution_count": 171,
   "metadata": {},
   "outputs": [
    {
     "data": {
      "image/png": "[encoded data removed]",
      "text/plain": [
       "<Figure size 1152x288 with 1 Axes>"
      ]
     },
     "metadata": {
      "needs_background": "light"
     },
     "output_type": "display_data"
    }
   ],
   "source": [
    "agrega_imc(equipos)\n",
    "cajas(equipos, 'imc', nombres, (16, 4))"
   ]
  },
  {
   "cell_type": "code",
   "execution_count": 172,
   "metadata": {},
   "outputs": [
    {
     "data": {
      "text/html": [
       "<div>\n",
       "<style scoped>\n",
       "    .dataframe tbody tr th:only-of-type {\n",
       "        vertical-align: middle;\n",
       "    }\n",
       "\n",
       "    .dataframe tbody tr th {\n",
       "        vertical-align: top;\n",
       "    }\n",
       "\n",
       "    .dataframe thead th {\n",
       "        text-align: right;\n",
       "    }\n",
       "</style>\n",
       "<table border=\"1\" class=\"dataframe\">\n",
       "  <thead>\n",
       "    <tr style=\"text-align: right;\">\n",
       "      <th></th>\n",
       "      <th>Debajo del peso</th>\n",
       "      <th>Saludable</th>\n",
       "      <th>Con sobrepeso</th>\n",
       "      <th>Obeso</th>\n",
       "      <th>Alto riesgo</th>\n",
       "    </tr>\n",
       "  </thead>\n",
       "  <tbody>\n",
       "    <tr>\n",
       "      <th>Bucks</th>\n",
       "      <td>0.0</td>\n",
       "      <td>44.44</td>\n",
       "      <td>55.56</td>\n",
       "      <td>0.00</td>\n",
       "      <td>0.00</td>\n",
       "    </tr>\n",
       "    <tr>\n",
       "      <th>Clippers</th>\n",
       "      <td>0.0</td>\n",
       "      <td>43.75</td>\n",
       "      <td>56.25</td>\n",
       "      <td>0.00</td>\n",
       "      <td>0.00</td>\n",
       "    </tr>\n",
       "    <tr>\n",
       "      <th>Lakers</th>\n",
       "      <td>0.0</td>\n",
       "      <td>44.44</td>\n",
       "      <td>55.56</td>\n",
       "      <td>0.00</td>\n",
       "      <td>0.00</td>\n",
       "    </tr>\n",
       "    <tr>\n",
       "      <th>Raptors</th>\n",
       "      <td>0.0</td>\n",
       "      <td>58.82</td>\n",
       "      <td>41.18</td>\n",
       "      <td>0.00</td>\n",
       "      <td>0.00</td>\n",
       "    </tr>\n",
       "    <tr>\n",
       "      <th>Barcelona</th>\n",
       "      <td>0.0</td>\n",
       "      <td>89.47</td>\n",
       "      <td>10.53</td>\n",
       "      <td>0.00</td>\n",
       "      <td>0.00</td>\n",
       "    </tr>\n",
       "    <tr>\n",
       "      <th>Bayern</th>\n",
       "      <td>0.0</td>\n",
       "      <td>96.00</td>\n",
       "      <td>4.00</td>\n",
       "      <td>0.00</td>\n",
       "      <td>0.00</td>\n",
       "    </tr>\n",
       "    <tr>\n",
       "      <th>Juventus</th>\n",
       "      <td>0.0</td>\n",
       "      <td>100.00</td>\n",
       "      <td>0.00</td>\n",
       "      <td>0.00</td>\n",
       "      <td>0.00</td>\n",
       "    </tr>\n",
       "    <tr>\n",
       "      <th>Madrid</th>\n",
       "      <td>0.0</td>\n",
       "      <td>92.00</td>\n",
       "      <td>8.00</td>\n",
       "      <td>0.00</td>\n",
       "      <td>0.00</td>\n",
       "    </tr>\n",
       "    <tr>\n",
       "      <th>Packers</th>\n",
       "      <td>0.0</td>\n",
       "      <td>6.59</td>\n",
       "      <td>45.05</td>\n",
       "      <td>47.25</td>\n",
       "      <td>1.10</td>\n",
       "    </tr>\n",
       "    <tr>\n",
       "      <th>Patriots</th>\n",
       "      <td>0.0</td>\n",
       "      <td>3.66</td>\n",
       "      <td>50.00</td>\n",
       "      <td>41.46</td>\n",
       "      <td>4.88</td>\n",
       "    </tr>\n",
       "    <tr>\n",
       "      <th>Ravens</th>\n",
       "      <td>0.0</td>\n",
       "      <td>5.38</td>\n",
       "      <td>43.01</td>\n",
       "      <td>45.16</td>\n",
       "      <td>6.45</td>\n",
       "    </tr>\n",
       "    <tr>\n",
       "      <th>Saints</th>\n",
       "      <td>0.0</td>\n",
       "      <td>2.20</td>\n",
       "      <td>52.75</td>\n",
       "      <td>41.76</td>\n",
       "      <td>3.30</td>\n",
       "    </tr>\n",
       "    <tr>\n",
       "      <th>Sumo</th>\n",
       "      <td>0.0</td>\n",
       "      <td>0.00</td>\n",
       "      <td>0.00</td>\n",
       "      <td>10.53</td>\n",
       "      <td>89.47</td>\n",
       "    </tr>\n",
       "  </tbody>\n",
       "</table>\n",
       "</div>"
      ],
      "text/plain": [
       "           Debajo del peso  Saludable  Con sobrepeso  Obeso  Alto riesgo\n",
       "Bucks                  0.0      44.44          55.56   0.00         0.00\n",
       "Clippers               0.0      43.75          56.25   0.00         0.00\n",
       "Lakers                 0.0      44.44          55.56   0.00         0.00\n",
       "Raptors                0.0      58.82          41.18   0.00         0.00\n",
       "Barcelona              0.0      89.47          10.53   0.00         0.00\n",
       "Bayern                 0.0      96.00           4.00   0.00         0.00\n",
       "Juventus               0.0     100.00           0.00   0.00         0.00\n",
       "Madrid                 0.0      92.00           8.00   0.00         0.00\n",
       "Packers                0.0       6.59          45.05  47.25         1.10\n",
       "Patriots               0.0       3.66          50.00  41.46         4.88\n",
       "Ravens                 0.0       5.38          43.01  45.16         6.45\n",
       "Saints                 0.0       2.20          52.75  41.76         3.30\n",
       "Sumo                   0.0       0.00           0.00  10.53        89.47"
      ]
     },
     "execution_count": 172,
     "metadata": {},
     "output_type": "execute_result"
    }
   ],
   "source": [
    "tabla = porcentajes_imc(equipos, nombres).T\n",
    "tabla"
   ]
  },
  {
   "cell_type": "code",
   "execution_count": 201,
   "metadata": {},
   "outputs": [
    {
     "data": {
      "image/png": "[encoded data removed]",
      "text/plain": [
       "<Figure size 1152x288 with 1 Axes>"
      ]
     },
     "metadata": {
      "needs_background": "light"
     },
     "output_type": "display_data"
    }
   ],
   "source": [
    "barras_imc(tabla, nombres, dimensiones=(16, 4))"
   ]
  },
  {
   "cell_type": "markdown",
   "metadata": {},
   "source": [
    "## Más información\n",
    "Puedes conseguir ayuda en inglés escribiendo los siguientes textos en una celda seguidos de ? o como argumentos de **help()**:\n",
    "```python\n",
    "list.extend\n",
    "\n",
    "pd.DataFrame.T\n",
    "\n",
    "plt.figure\n",
    "\n",
    "enumerate\n",
    "```"
   ]
  },
  {
   "cell_type": "markdown",
   "metadata": {},
   "source": [
    "<a id='tarea7'></a>\n",
    "<br><img src=\"linea.png\">\n",
    "# [Tarea 7](#inicio)\n",
    "# Almacenando y leyendo archivos\n",
    "<br><img src=\"linea.png\"><br>"
   ]
  },
  {
   "cell_type": "markdown",
   "metadata": {},
   "source": [
    "## 7.1 Guardado y leyendo archivos "
   ]
  },
  {
   "cell_type": "code",
   "execution_count": 173,
   "metadata": {},
   "outputs": [
    {
     "data": {
      "text/html": [
       "<div>\n",
       "<style scoped>\n",
       "    .dataframe tbody tr th:only-of-type {\n",
       "        vertical-align: middle;\n",
       "    }\n",
       "\n",
       "    .dataframe tbody tr th {\n",
       "        vertical-align: top;\n",
       "    }\n",
       "\n",
       "    .dataframe thead th {\n",
       "        text-align: right;\n",
       "    }\n",
       "</style>\n",
       "<table border=\"1\" class=\"dataframe\">\n",
       "  <thead>\n",
       "    <tr style=\"text-align: right;\">\n",
       "      <th></th>\n",
       "      <th>alturas</th>\n",
       "      <th>pesos</th>\n",
       "      <th>imc</th>\n",
       "    </tr>\n",
       "  </thead>\n",
       "  <tbody>\n",
       "    <tr>\n",
       "      <th>0</th>\n",
       "      <td>1.92</td>\n",
       "      <td>201</td>\n",
       "      <td>54.5</td>\n",
       "    </tr>\n",
       "    <tr>\n",
       "      <th>1</th>\n",
       "      <td>1.78</td>\n",
       "      <td>133</td>\n",
       "      <td>42.0</td>\n",
       "    </tr>\n",
       "    <tr>\n",
       "      <th>2</th>\n",
       "      <td>1.82</td>\n",
       "      <td>124</td>\n",
       "      <td>37.4</td>\n",
       "    </tr>\n",
       "    <tr>\n",
       "      <th>3</th>\n",
       "      <td>1.75</td>\n",
       "      <td>111</td>\n",
       "      <td>36.2</td>\n",
       "    </tr>\n",
       "    <tr>\n",
       "      <th>4</th>\n",
       "      <td>1.78</td>\n",
       "      <td>161</td>\n",
       "      <td>50.8</td>\n",
       "    </tr>\n",
       "    <tr>\n",
       "      <th>5</th>\n",
       "      <td>1.95</td>\n",
       "      <td>201</td>\n",
       "      <td>52.9</td>\n",
       "    </tr>\n",
       "    <tr>\n",
       "      <th>6</th>\n",
       "      <td>1.91</td>\n",
       "      <td>173</td>\n",
       "      <td>47.4</td>\n",
       "    </tr>\n",
       "    <tr>\n",
       "      <th>7</th>\n",
       "      <td>1.91</td>\n",
       "      <td>165</td>\n",
       "      <td>45.2</td>\n",
       "    </tr>\n",
       "    <tr>\n",
       "      <th>8</th>\n",
       "      <td>1.85</td>\n",
       "      <td>170</td>\n",
       "      <td>49.7</td>\n",
       "    </tr>\n",
       "    <tr>\n",
       "      <th>9</th>\n",
       "      <td>1.84</td>\n",
       "      <td>140</td>\n",
       "      <td>41.4</td>\n",
       "    </tr>\n",
       "    <tr>\n",
       "      <th>10</th>\n",
       "      <td>1.95</td>\n",
       "      <td>171</td>\n",
       "      <td>45.0</td>\n",
       "    </tr>\n",
       "    <tr>\n",
       "      <th>11</th>\n",
       "      <td>1.93</td>\n",
       "      <td>163</td>\n",
       "      <td>43.8</td>\n",
       "    </tr>\n",
       "    <tr>\n",
       "      <th>12</th>\n",
       "      <td>1.92</td>\n",
       "      <td>194</td>\n",
       "      <td>52.6</td>\n",
       "    </tr>\n",
       "    <tr>\n",
       "      <th>13</th>\n",
       "      <td>1.82</td>\n",
       "      <td>188</td>\n",
       "      <td>56.8</td>\n",
       "    </tr>\n",
       "    <tr>\n",
       "      <th>14</th>\n",
       "      <td>1.85</td>\n",
       "      <td>157</td>\n",
       "      <td>45.9</td>\n",
       "    </tr>\n",
       "    <tr>\n",
       "      <th>15</th>\n",
       "      <td>1.81</td>\n",
       "      <td>178</td>\n",
       "      <td>54.3</td>\n",
       "    </tr>\n",
       "    <tr>\n",
       "      <th>16</th>\n",
       "      <td>1.91</td>\n",
       "      <td>153</td>\n",
       "      <td>41.9</td>\n",
       "    </tr>\n",
       "    <tr>\n",
       "      <th>17</th>\n",
       "      <td>1.89</td>\n",
       "      <td>169</td>\n",
       "      <td>47.3</td>\n",
       "    </tr>\n",
       "    <tr>\n",
       "      <th>18</th>\n",
       "      <td>1.78</td>\n",
       "      <td>130</td>\n",
       "      <td>41.0</td>\n",
       "    </tr>\n",
       "    <tr>\n",
       "      <th>19</th>\n",
       "      <td>1.69</td>\n",
       "      <td>120</td>\n",
       "      <td>42.0</td>\n",
       "    </tr>\n",
       "    <tr>\n",
       "      <th>20</th>\n",
       "      <td>1.85</td>\n",
       "      <td>175</td>\n",
       "      <td>51.1</td>\n",
       "    </tr>\n",
       "    <tr>\n",
       "      <th>21</th>\n",
       "      <td>1.69</td>\n",
       "      <td>96</td>\n",
       "      <td>33.6</td>\n",
       "    </tr>\n",
       "    <tr>\n",
       "      <th>22</th>\n",
       "      <td>1.87</td>\n",
       "      <td>172</td>\n",
       "      <td>49.2</td>\n",
       "    </tr>\n",
       "    <tr>\n",
       "      <th>23</th>\n",
       "      <td>1.84</td>\n",
       "      <td>162</td>\n",
       "      <td>47.8</td>\n",
       "    </tr>\n",
       "    <tr>\n",
       "      <th>24</th>\n",
       "      <td>1.78</td>\n",
       "      <td>155</td>\n",
       "      <td>48.9</td>\n",
       "    </tr>\n",
       "    <tr>\n",
       "      <th>25</th>\n",
       "      <td>1.79</td>\n",
       "      <td>190</td>\n",
       "      <td>59.3</td>\n",
       "    </tr>\n",
       "    <tr>\n",
       "      <th>26</th>\n",
       "      <td>1.85</td>\n",
       "      <td>168</td>\n",
       "      <td>49.1</td>\n",
       "    </tr>\n",
       "    <tr>\n",
       "      <th>27</th>\n",
       "      <td>1.85</td>\n",
       "      <td>135</td>\n",
       "      <td>39.4</td>\n",
       "    </tr>\n",
       "    <tr>\n",
       "      <th>28</th>\n",
       "      <td>1.88</td>\n",
       "      <td>172</td>\n",
       "      <td>48.7</td>\n",
       "    </tr>\n",
       "    <tr>\n",
       "      <th>29</th>\n",
       "      <td>1.84</td>\n",
       "      <td>165</td>\n",
       "      <td>48.7</td>\n",
       "    </tr>\n",
       "    <tr>\n",
       "      <th>30</th>\n",
       "      <td>1.80</td>\n",
       "      <td>175</td>\n",
       "      <td>54.0</td>\n",
       "    </tr>\n",
       "    <tr>\n",
       "      <th>31</th>\n",
       "      <td>1.92</td>\n",
       "      <td>180</td>\n",
       "      <td>48.8</td>\n",
       "    </tr>\n",
       "    <tr>\n",
       "      <th>32</th>\n",
       "      <td>1.87</td>\n",
       "      <td>152</td>\n",
       "      <td>43.5</td>\n",
       "    </tr>\n",
       "    <tr>\n",
       "      <th>33</th>\n",
       "      <td>1.82</td>\n",
       "      <td>164</td>\n",
       "      <td>49.5</td>\n",
       "    </tr>\n",
       "    <tr>\n",
       "      <th>34</th>\n",
       "      <td>1.90</td>\n",
       "      <td>160</td>\n",
       "      <td>44.3</td>\n",
       "    </tr>\n",
       "    <tr>\n",
       "      <th>35</th>\n",
       "      <td>1.89</td>\n",
       "      <td>169</td>\n",
       "      <td>47.3</td>\n",
       "    </tr>\n",
       "    <tr>\n",
       "      <th>36</th>\n",
       "      <td>1.81</td>\n",
       "      <td>188</td>\n",
       "      <td>57.4</td>\n",
       "    </tr>\n",
       "    <tr>\n",
       "      <th>37</th>\n",
       "      <td>1.83</td>\n",
       "      <td>150</td>\n",
       "      <td>44.8</td>\n",
       "    </tr>\n",
       "  </tbody>\n",
       "</table>\n",
       "</div>"
      ],
      "text/plain": [
       "    alturas  pesos   imc\n",
       "0      1.92    201  54.5\n",
       "1      1.78    133  42.0\n",
       "2      1.82    124  37.4\n",
       "3      1.75    111  36.2\n",
       "4      1.78    161  50.8\n",
       "5      1.95    201  52.9\n",
       "6      1.91    173  47.4\n",
       "7      1.91    165  45.2\n",
       "8      1.85    170  49.7\n",
       "9      1.84    140  41.4\n",
       "10     1.95    171  45.0\n",
       "11     1.93    163  43.8\n",
       "12     1.92    194  52.6\n",
       "13     1.82    188  56.8\n",
       "14     1.85    157  45.9\n",
       "15     1.81    178  54.3\n",
       "16     1.91    153  41.9\n",
       "17     1.89    169  47.3\n",
       "18     1.78    130  41.0\n",
       "19     1.69    120  42.0\n",
       "20     1.85    175  51.1\n",
       "21     1.69     96  33.6\n",
       "22     1.87    172  49.2\n",
       "23     1.84    162  47.8\n",
       "24     1.78    155  48.9\n",
       "25     1.79    190  59.3\n",
       "26     1.85    168  49.1\n",
       "27     1.85    135  39.4\n",
       "28     1.88    172  48.7\n",
       "29     1.84    165  48.7\n",
       "30     1.80    175  54.0\n",
       "31     1.92    180  48.8\n",
       "32     1.87    152  43.5\n",
       "33     1.82    164  49.5\n",
       "34     1.90    160  44.3\n",
       "35     1.89    169  47.3\n",
       "36     1.81    188  57.4\n",
       "37     1.83    150  44.8"
      ]
     },
     "execution_count": 173,
     "metadata": {},
     "output_type": "execute_result"
    }
   ],
   "source": [
    "sumo"
   ]
  },
  {
   "cell_type": "markdown",
   "metadata": {},
   "source": [
    "### Guardar datos en archivos CSV "
   ]
  },
  {
   "cell_type": "code",
   "execution_count": 174,
   "metadata": {},
   "outputs": [],
   "source": [
    "# guarda el archivo sin incluir la columna de índices\n",
    "sumo.to_csv('sumo.csv', index = False)"
   ]
  },
  {
   "cell_type": "markdown",
   "metadata": {},
   "source": [
    "### Leer datos desde archivos CSV"
   ]
  },
  {
   "cell_type": "code",
   "execution_count": 175,
   "metadata": {},
   "outputs": [
    {
     "data": {
      "text/html": [
       "<div>\n",
       "<style scoped>\n",
       "    .dataframe tbody tr th:only-of-type {\n",
       "        vertical-align: middle;\n",
       "    }\n",
       "\n",
       "    .dataframe tbody tr th {\n",
       "        vertical-align: top;\n",
       "    }\n",
       "\n",
       "    .dataframe thead th {\n",
       "        text-align: right;\n",
       "    }\n",
       "</style>\n",
       "<table border=\"1\" class=\"dataframe\">\n",
       "  <thead>\n",
       "    <tr style=\"text-align: right;\">\n",
       "      <th></th>\n",
       "      <th>alturas</th>\n",
       "      <th>pesos</th>\n",
       "      <th>imc</th>\n",
       "    </tr>\n",
       "  </thead>\n",
       "  <tbody>\n",
       "    <tr>\n",
       "      <th>0</th>\n",
       "      <td>1.92</td>\n",
       "      <td>201</td>\n",
       "      <td>54.5</td>\n",
       "    </tr>\n",
       "    <tr>\n",
       "      <th>1</th>\n",
       "      <td>1.78</td>\n",
       "      <td>133</td>\n",
       "      <td>42.0</td>\n",
       "    </tr>\n",
       "    <tr>\n",
       "      <th>2</th>\n",
       "      <td>1.82</td>\n",
       "      <td>124</td>\n",
       "      <td>37.4</td>\n",
       "    </tr>\n",
       "    <tr>\n",
       "      <th>3</th>\n",
       "      <td>1.75</td>\n",
       "      <td>111</td>\n",
       "      <td>36.2</td>\n",
       "    </tr>\n",
       "    <tr>\n",
       "      <th>4</th>\n",
       "      <td>1.78</td>\n",
       "      <td>161</td>\n",
       "      <td>50.8</td>\n",
       "    </tr>\n",
       "    <tr>\n",
       "      <th>5</th>\n",
       "      <td>1.95</td>\n",
       "      <td>201</td>\n",
       "      <td>52.9</td>\n",
       "    </tr>\n",
       "    <tr>\n",
       "      <th>6</th>\n",
       "      <td>1.91</td>\n",
       "      <td>173</td>\n",
       "      <td>47.4</td>\n",
       "    </tr>\n",
       "    <tr>\n",
       "      <th>7</th>\n",
       "      <td>1.91</td>\n",
       "      <td>165</td>\n",
       "      <td>45.2</td>\n",
       "    </tr>\n",
       "    <tr>\n",
       "      <th>8</th>\n",
       "      <td>1.85</td>\n",
       "      <td>170</td>\n",
       "      <td>49.7</td>\n",
       "    </tr>\n",
       "    <tr>\n",
       "      <th>9</th>\n",
       "      <td>1.84</td>\n",
       "      <td>140</td>\n",
       "      <td>41.4</td>\n",
       "    </tr>\n",
       "    <tr>\n",
       "      <th>10</th>\n",
       "      <td>1.95</td>\n",
       "      <td>171</td>\n",
       "      <td>45.0</td>\n",
       "    </tr>\n",
       "    <tr>\n",
       "      <th>11</th>\n",
       "      <td>1.93</td>\n",
       "      <td>163</td>\n",
       "      <td>43.8</td>\n",
       "    </tr>\n",
       "    <tr>\n",
       "      <th>12</th>\n",
       "      <td>1.92</td>\n",
       "      <td>194</td>\n",
       "      <td>52.6</td>\n",
       "    </tr>\n",
       "    <tr>\n",
       "      <th>13</th>\n",
       "      <td>1.82</td>\n",
       "      <td>188</td>\n",
       "      <td>56.8</td>\n",
       "    </tr>\n",
       "    <tr>\n",
       "      <th>14</th>\n",
       "      <td>1.85</td>\n",
       "      <td>157</td>\n",
       "      <td>45.9</td>\n",
       "    </tr>\n",
       "    <tr>\n",
       "      <th>15</th>\n",
       "      <td>1.81</td>\n",
       "      <td>178</td>\n",
       "      <td>54.3</td>\n",
       "    </tr>\n",
       "    <tr>\n",
       "      <th>16</th>\n",
       "      <td>1.91</td>\n",
       "      <td>153</td>\n",
       "      <td>41.9</td>\n",
       "    </tr>\n",
       "    <tr>\n",
       "      <th>17</th>\n",
       "      <td>1.89</td>\n",
       "      <td>169</td>\n",
       "      <td>47.3</td>\n",
       "    </tr>\n",
       "    <tr>\n",
       "      <th>18</th>\n",
       "      <td>1.78</td>\n",
       "      <td>130</td>\n",
       "      <td>41.0</td>\n",
       "    </tr>\n",
       "    <tr>\n",
       "      <th>19</th>\n",
       "      <td>1.69</td>\n",
       "      <td>120</td>\n",
       "      <td>42.0</td>\n",
       "    </tr>\n",
       "    <tr>\n",
       "      <th>20</th>\n",
       "      <td>1.85</td>\n",
       "      <td>175</td>\n",
       "      <td>51.1</td>\n",
       "    </tr>\n",
       "    <tr>\n",
       "      <th>21</th>\n",
       "      <td>1.69</td>\n",
       "      <td>96</td>\n",
       "      <td>33.6</td>\n",
       "    </tr>\n",
       "    <tr>\n",
       "      <th>22</th>\n",
       "      <td>1.87</td>\n",
       "      <td>172</td>\n",
       "      <td>49.2</td>\n",
       "    </tr>\n",
       "    <tr>\n",
       "      <th>23</th>\n",
       "      <td>1.84</td>\n",
       "      <td>162</td>\n",
       "      <td>47.8</td>\n",
       "    </tr>\n",
       "    <tr>\n",
       "      <th>24</th>\n",
       "      <td>1.78</td>\n",
       "      <td>155</td>\n",
       "      <td>48.9</td>\n",
       "    </tr>\n",
       "    <tr>\n",
       "      <th>25</th>\n",
       "      <td>1.79</td>\n",
       "      <td>190</td>\n",
       "      <td>59.3</td>\n",
       "    </tr>\n",
       "    <tr>\n",
       "      <th>26</th>\n",
       "      <td>1.85</td>\n",
       "      <td>168</td>\n",
       "      <td>49.1</td>\n",
       "    </tr>\n",
       "    <tr>\n",
       "      <th>27</th>\n",
       "      <td>1.85</td>\n",
       "      <td>135</td>\n",
       "      <td>39.4</td>\n",
       "    </tr>\n",
       "    <tr>\n",
       "      <th>28</th>\n",
       "      <td>1.88</td>\n",
       "      <td>172</td>\n",
       "      <td>48.7</td>\n",
       "    </tr>\n",
       "    <tr>\n",
       "      <th>29</th>\n",
       "      <td>1.84</td>\n",
       "      <td>165</td>\n",
       "      <td>48.7</td>\n",
       "    </tr>\n",
       "    <tr>\n",
       "      <th>30</th>\n",
       "      <td>1.80</td>\n",
       "      <td>175</td>\n",
       "      <td>54.0</td>\n",
       "    </tr>\n",
       "    <tr>\n",
       "      <th>31</th>\n",
       "      <td>1.92</td>\n",
       "      <td>180</td>\n",
       "      <td>48.8</td>\n",
       "    </tr>\n",
       "    <tr>\n",
       "      <th>32</th>\n",
       "      <td>1.87</td>\n",
       "      <td>152</td>\n",
       "      <td>43.5</td>\n",
       "    </tr>\n",
       "    <tr>\n",
       "      <th>33</th>\n",
       "      <td>1.82</td>\n",
       "      <td>164</td>\n",
       "      <td>49.5</td>\n",
       "    </tr>\n",
       "    <tr>\n",
       "      <th>34</th>\n",
       "      <td>1.90</td>\n",
       "      <td>160</td>\n",
       "      <td>44.3</td>\n",
       "    </tr>\n",
       "    <tr>\n",
       "      <th>35</th>\n",
       "      <td>1.89</td>\n",
       "      <td>169</td>\n",
       "      <td>47.3</td>\n",
       "    </tr>\n",
       "    <tr>\n",
       "      <th>36</th>\n",
       "      <td>1.81</td>\n",
       "      <td>188</td>\n",
       "      <td>57.4</td>\n",
       "    </tr>\n",
       "    <tr>\n",
       "      <th>37</th>\n",
       "      <td>1.83</td>\n",
       "      <td>150</td>\n",
       "      <td>44.8</td>\n",
       "    </tr>\n",
       "  </tbody>\n",
       "</table>\n",
       "</div>"
      ],
      "text/plain": [
       "    alturas  pesos   imc\n",
       "0      1.92    201  54.5\n",
       "1      1.78    133  42.0\n",
       "2      1.82    124  37.4\n",
       "3      1.75    111  36.2\n",
       "4      1.78    161  50.8\n",
       "5      1.95    201  52.9\n",
       "6      1.91    173  47.4\n",
       "7      1.91    165  45.2\n",
       "8      1.85    170  49.7\n",
       "9      1.84    140  41.4\n",
       "10     1.95    171  45.0\n",
       "11     1.93    163  43.8\n",
       "12     1.92    194  52.6\n",
       "13     1.82    188  56.8\n",
       "14     1.85    157  45.9\n",
       "15     1.81    178  54.3\n",
       "16     1.91    153  41.9\n",
       "17     1.89    169  47.3\n",
       "18     1.78    130  41.0\n",
       "19     1.69    120  42.0\n",
       "20     1.85    175  51.1\n",
       "21     1.69     96  33.6\n",
       "22     1.87    172  49.2\n",
       "23     1.84    162  47.8\n",
       "24     1.78    155  48.9\n",
       "25     1.79    190  59.3\n",
       "26     1.85    168  49.1\n",
       "27     1.85    135  39.4\n",
       "28     1.88    172  48.7\n",
       "29     1.84    165  48.7\n",
       "30     1.80    175  54.0\n",
       "31     1.92    180  48.8\n",
       "32     1.87    152  43.5\n",
       "33     1.82    164  49.5\n",
       "34     1.90    160  44.3\n",
       "35     1.89    169  47.3\n",
       "36     1.81    188  57.4\n",
       "37     1.83    150  44.8"
      ]
     },
     "execution_count": 175,
     "metadata": {},
     "output_type": "execute_result"
    }
   ],
   "source": [
    "archivo_sumo = pd.read_csv('sumo.csv')\n",
    "archivo_sumo"
   ]
  },
  {
   "cell_type": "code",
   "execution_count": 176,
   "metadata": {},
   "outputs": [],
   "source": [
    "tabla.to_excel(\"tabla.xls\", engine=\"openpyxl\")"
   ]
  },
  {
   "cell_type": "markdown",
   "metadata": {},
   "source": [
    "### Conservar índices de tablas"
   ]
  },
  {
   "cell_type": "code",
   "execution_count": 177,
   "metadata": {},
   "outputs": [
    {
     "data": {
      "text/html": [
       "<div>\n",
       "<style scoped>\n",
       "    .dataframe tbody tr th:only-of-type {\n",
       "        vertical-align: middle;\n",
       "    }\n",
       "\n",
       "    .dataframe tbody tr th {\n",
       "        vertical-align: top;\n",
       "    }\n",
       "\n",
       "    .dataframe thead th {\n",
       "        text-align: right;\n",
       "    }\n",
       "</style>\n",
       "<table border=\"1\" class=\"dataframe\">\n",
       "  <thead>\n",
       "    <tr style=\"text-align: right;\">\n",
       "      <th></th>\n",
       "      <th>frecuencia</th>\n",
       "      <th>porcentajes</th>\n",
       "      <th>acumulados</th>\n",
       "    </tr>\n",
       "    <tr>\n",
       "      <th>pesos</th>\n",
       "      <th></th>\n",
       "      <th></th>\n",
       "      <th></th>\n",
       "    </tr>\n",
       "  </thead>\n",
       "  <tbody>\n",
       "    <tr>\n",
       "      <th>[95, 105)</th>\n",
       "      <td>1</td>\n",
       "      <td>2.63</td>\n",
       "      <td>2.63</td>\n",
       "    </tr>\n",
       "    <tr>\n",
       "      <th>[105, 115)</th>\n",
       "      <td>1</td>\n",
       "      <td>2.63</td>\n",
       "      <td>5.26</td>\n",
       "    </tr>\n",
       "    <tr>\n",
       "      <th>[115, 125)</th>\n",
       "      <td>2</td>\n",
       "      <td>5.26</td>\n",
       "      <td>10.52</td>\n",
       "    </tr>\n",
       "    <tr>\n",
       "      <th>[125, 135)</th>\n",
       "      <td>2</td>\n",
       "      <td>5.26</td>\n",
       "      <td>15.78</td>\n",
       "    </tr>\n",
       "    <tr>\n",
       "      <th>[135, 145)</th>\n",
       "      <td>2</td>\n",
       "      <td>5.26</td>\n",
       "      <td>21.04</td>\n",
       "    </tr>\n",
       "    <tr>\n",
       "      <th>[145, 155)</th>\n",
       "      <td>3</td>\n",
       "      <td>7.89</td>\n",
       "      <td>28.93</td>\n",
       "    </tr>\n",
       "    <tr>\n",
       "      <th>[155, 165)</th>\n",
       "      <td>7</td>\n",
       "      <td>18.42</td>\n",
       "      <td>47.35</td>\n",
       "    </tr>\n",
       "    <tr>\n",
       "      <th>[165, 175)</th>\n",
       "      <td>10</td>\n",
       "      <td>26.32</td>\n",
       "      <td>73.67</td>\n",
       "    </tr>\n",
       "    <tr>\n",
       "      <th>[175, 185)</th>\n",
       "      <td>4</td>\n",
       "      <td>10.53</td>\n",
       "      <td>84.20</td>\n",
       "    </tr>\n",
       "    <tr>\n",
       "      <th>[185, 195)</th>\n",
       "      <td>4</td>\n",
       "      <td>10.53</td>\n",
       "      <td>94.73</td>\n",
       "    </tr>\n",
       "    <tr>\n",
       "      <th>[195, 205)</th>\n",
       "      <td>2</td>\n",
       "      <td>5.26</td>\n",
       "      <td>99.99</td>\n",
       "    </tr>\n",
       "    <tr>\n",
       "      <th>Total</th>\n",
       "      <td>38</td>\n",
       "      <td>100.00</td>\n",
       "      <td>100.00</td>\n",
       "    </tr>\n",
       "  </tbody>\n",
       "</table>\n",
       "</div>"
      ],
      "text/plain": [
       "            frecuencia  porcentajes  acumulados\n",
       "pesos                                          \n",
       "[95, 105)            1         2.63        2.63\n",
       "[105, 115)           1         2.63        5.26\n",
       "[115, 125)           2         5.26       10.52\n",
       "[125, 135)           2         5.26       15.78\n",
       "[135, 145)           2         5.26       21.04\n",
       "[145, 155)           3         7.89       28.93\n",
       "[155, 165)           7        18.42       47.35\n",
       "[165, 175)          10        26.32       73.67\n",
       "[175, 185)           4        10.53       84.20\n",
       "[185, 195)           4        10.53       94.73\n",
       "[195, 205)           2         5.26       99.99\n",
       "Total               38       100.00      100.00"
      ]
     },
     "execution_count": 177,
     "metadata": {},
     "output_type": "execute_result"
    }
   ],
   "source": [
    "tabla_sumo = tabla_de_frecuencias(archivo_sumo['pesos'], 95, 205, 10, 'pesos')\n",
    "tabla_sumo"
   ]
  },
  {
   "cell_type": "code",
   "execution_count": 178,
   "metadata": {},
   "outputs": [],
   "source": [
    "# guarda el archivo incluyendo índices y columnas\n",
    "tabla_sumo.to_csv('tabla_sumo.csv')"
   ]
  },
  {
   "cell_type": "code",
   "execution_count": 179,
   "metadata": {},
   "outputs": [
    {
     "data": {
      "text/html": [
       "<div>\n",
       "<style scoped>\n",
       "    .dataframe tbody tr th:only-of-type {\n",
       "        vertical-align: middle;\n",
       "    }\n",
       "\n",
       "    .dataframe tbody tr th {\n",
       "        vertical-align: top;\n",
       "    }\n",
       "\n",
       "    .dataframe thead th {\n",
       "        text-align: right;\n",
       "    }\n",
       "</style>\n",
       "<table border=\"1\" class=\"dataframe\">\n",
       "  <thead>\n",
       "    <tr style=\"text-align: right;\">\n",
       "      <th></th>\n",
       "      <th>pesos</th>\n",
       "      <th>frecuencia</th>\n",
       "      <th>porcentajes</th>\n",
       "      <th>acumulados</th>\n",
       "    </tr>\n",
       "  </thead>\n",
       "  <tbody>\n",
       "    <tr>\n",
       "      <th>0</th>\n",
       "      <td>[95, 105)</td>\n",
       "      <td>1</td>\n",
       "      <td>2.63</td>\n",
       "      <td>2.63</td>\n",
       "    </tr>\n",
       "    <tr>\n",
       "      <th>1</th>\n",
       "      <td>[105, 115)</td>\n",
       "      <td>1</td>\n",
       "      <td>2.63</td>\n",
       "      <td>5.26</td>\n",
       "    </tr>\n",
       "    <tr>\n",
       "      <th>2</th>\n",
       "      <td>[115, 125)</td>\n",
       "      <td>2</td>\n",
       "      <td>5.26</td>\n",
       "      <td>10.52</td>\n",
       "    </tr>\n",
       "    <tr>\n",
       "      <th>3</th>\n",
       "      <td>[125, 135)</td>\n",
       "      <td>2</td>\n",
       "      <td>5.26</td>\n",
       "      <td>15.78</td>\n",
       "    </tr>\n",
       "    <tr>\n",
       "      <th>4</th>\n",
       "      <td>[135, 145)</td>\n",
       "      <td>2</td>\n",
       "      <td>5.26</td>\n",
       "      <td>21.04</td>\n",
       "    </tr>\n",
       "    <tr>\n",
       "      <th>5</th>\n",
       "      <td>[145, 155)</td>\n",
       "      <td>3</td>\n",
       "      <td>7.89</td>\n",
       "      <td>28.93</td>\n",
       "    </tr>\n",
       "    <tr>\n",
       "      <th>6</th>\n",
       "      <td>[155, 165)</td>\n",
       "      <td>7</td>\n",
       "      <td>18.42</td>\n",
       "      <td>47.35</td>\n",
       "    </tr>\n",
       "    <tr>\n",
       "      <th>7</th>\n",
       "      <td>[165, 175)</td>\n",
       "      <td>10</td>\n",
       "      <td>26.32</td>\n",
       "      <td>73.67</td>\n",
       "    </tr>\n",
       "    <tr>\n",
       "      <th>8</th>\n",
       "      <td>[175, 185)</td>\n",
       "      <td>4</td>\n",
       "      <td>10.53</td>\n",
       "      <td>84.20</td>\n",
       "    </tr>\n",
       "    <tr>\n",
       "      <th>9</th>\n",
       "      <td>[185, 195)</td>\n",
       "      <td>4</td>\n",
       "      <td>10.53</td>\n",
       "      <td>94.73</td>\n",
       "    </tr>\n",
       "    <tr>\n",
       "      <th>10</th>\n",
       "      <td>[195, 205)</td>\n",
       "      <td>2</td>\n",
       "      <td>5.26</td>\n",
       "      <td>99.99</td>\n",
       "    </tr>\n",
       "    <tr>\n",
       "      <th>11</th>\n",
       "      <td>Total</td>\n",
       "      <td>38</td>\n",
       "      <td>100.00</td>\n",
       "      <td>100.00</td>\n",
       "    </tr>\n",
       "  </tbody>\n",
       "</table>\n",
       "</div>"
      ],
      "text/plain": [
       "         pesos  frecuencia  porcentajes  acumulados\n",
       "0    [95, 105)           1         2.63        2.63\n",
       "1   [105, 115)           1         2.63        5.26\n",
       "2   [115, 125)           2         5.26       10.52\n",
       "3   [125, 135)           2         5.26       15.78\n",
       "4   [135, 145)           2         5.26       21.04\n",
       "5   [145, 155)           3         7.89       28.93\n",
       "6   [155, 165)           7        18.42       47.35\n",
       "7   [165, 175)          10        26.32       73.67\n",
       "8   [175, 185)           4        10.53       84.20\n",
       "9   [185, 195)           4        10.53       94.73\n",
       "10  [195, 205)           2         5.26       99.99\n",
       "11       Total          38       100.00      100.00"
      ]
     },
     "execution_count": 179,
     "metadata": {},
     "output_type": "execute_result"
    }
   ],
   "source": [
    "pd.read_csv(\"tabla_sumo.csv\")"
   ]
  },
  {
   "cell_type": "code",
   "execution_count": 181,
   "metadata": {},
   "outputs": [
    {
     "data": {
      "text/html": [
       "<div>\n",
       "<style scoped>\n",
       "    .dataframe tbody tr th:only-of-type {\n",
       "        vertical-align: middle;\n",
       "    }\n",
       "\n",
       "    .dataframe tbody tr th {\n",
       "        vertical-align: top;\n",
       "    }\n",
       "\n",
       "    .dataframe thead th {\n",
       "        text-align: right;\n",
       "    }\n",
       "</style>\n",
       "<table border=\"1\" class=\"dataframe\">\n",
       "  <thead>\n",
       "    <tr style=\"text-align: right;\">\n",
       "      <th></th>\n",
       "      <th>frecuencia</th>\n",
       "      <th>porcentajes</th>\n",
       "      <th>acumulados</th>\n",
       "    </tr>\n",
       "    <tr>\n",
       "      <th>pesos</th>\n",
       "      <th></th>\n",
       "      <th></th>\n",
       "      <th></th>\n",
       "    </tr>\n",
       "  </thead>\n",
       "  <tbody>\n",
       "    <tr>\n",
       "      <th>[95, 105)</th>\n",
       "      <td>1</td>\n",
       "      <td>2.63</td>\n",
       "      <td>2.63</td>\n",
       "    </tr>\n",
       "    <tr>\n",
       "      <th>[105, 115)</th>\n",
       "      <td>1</td>\n",
       "      <td>2.63</td>\n",
       "      <td>5.26</td>\n",
       "    </tr>\n",
       "    <tr>\n",
       "      <th>[115, 125)</th>\n",
       "      <td>2</td>\n",
       "      <td>5.26</td>\n",
       "      <td>10.52</td>\n",
       "    </tr>\n",
       "    <tr>\n",
       "      <th>[125, 135)</th>\n",
       "      <td>2</td>\n",
       "      <td>5.26</td>\n",
       "      <td>15.78</td>\n",
       "    </tr>\n",
       "    <tr>\n",
       "      <th>[135, 145)</th>\n",
       "      <td>2</td>\n",
       "      <td>5.26</td>\n",
       "      <td>21.04</td>\n",
       "    </tr>\n",
       "    <tr>\n",
       "      <th>[145, 155)</th>\n",
       "      <td>3</td>\n",
       "      <td>7.89</td>\n",
       "      <td>28.93</td>\n",
       "    </tr>\n",
       "    <tr>\n",
       "      <th>[155, 165)</th>\n",
       "      <td>7</td>\n",
       "      <td>18.42</td>\n",
       "      <td>47.35</td>\n",
       "    </tr>\n",
       "    <tr>\n",
       "      <th>[165, 175)</th>\n",
       "      <td>10</td>\n",
       "      <td>26.32</td>\n",
       "      <td>73.67</td>\n",
       "    </tr>\n",
       "    <tr>\n",
       "      <th>[175, 185)</th>\n",
       "      <td>4</td>\n",
       "      <td>10.53</td>\n",
       "      <td>84.20</td>\n",
       "    </tr>\n",
       "    <tr>\n",
       "      <th>[185, 195)</th>\n",
       "      <td>4</td>\n",
       "      <td>10.53</td>\n",
       "      <td>94.73</td>\n",
       "    </tr>\n",
       "    <tr>\n",
       "      <th>[195, 205)</th>\n",
       "      <td>2</td>\n",
       "      <td>5.26</td>\n",
       "      <td>99.99</td>\n",
       "    </tr>\n",
       "    <tr>\n",
       "      <th>Total</th>\n",
       "      <td>38</td>\n",
       "      <td>100.00</td>\n",
       "      <td>100.00</td>\n",
       "    </tr>\n",
       "  </tbody>\n",
       "</table>\n",
       "</div>"
      ],
      "text/plain": [
       "            frecuencia  porcentajes  acumulados\n",
       "pesos                                          \n",
       "[95, 105)            1         2.63        2.63\n",
       "[105, 115)           1         2.63        5.26\n",
       "[115, 125)           2         5.26       10.52\n",
       "[125, 135)           2         5.26       15.78\n",
       "[135, 145)           2         5.26       21.04\n",
       "[145, 155)           3         7.89       28.93\n",
       "[155, 165)           7        18.42       47.35\n",
       "[165, 175)          10        26.32       73.67\n",
       "[175, 185)           4        10.53       84.20\n",
       "[185, 195)           4        10.53       94.73\n",
       "[195, 205)           2         5.26       99.99\n",
       "Total               38       100.00      100.00"
      ]
     },
     "execution_count": 181,
     "metadata": {},
     "output_type": "execute_result"
    }
   ],
   "source": [
    "# fija el índice con la primera columna de datos\n",
    "tabla = pd.read_csv(\"tabla_sumo.csv\", index_col = 0)\n",
    "tabla"
   ]
  },
  {
   "cell_type": "markdown",
   "metadata": {},
   "source": [
    "## 7.2 Descargando datos de Internet"
   ]
  },
  {
   "cell_type": "code",
   "execution_count": 183,
   "metadata": {},
   "outputs": [
    {
     "data": {
      "text/html": [
       "<div>\n",
       "<style scoped>\n",
       "    .dataframe tbody tr th:only-of-type {\n",
       "        vertical-align: middle;\n",
       "    }\n",
       "\n",
       "    .dataframe tbody tr th {\n",
       "        vertical-align: top;\n",
       "    }\n",
       "\n",
       "    .dataframe thead th {\n",
       "        text-align: right;\n",
       "    }\n",
       "</style>\n",
       "<table border=\"1\" class=\"dataframe\">\n",
       "  <thead>\n",
       "    <tr style=\"text-align: right;\">\n",
       "      <th></th>\n",
       "      <th>Country/Region/World</th>\n",
       "      <th>ISO</th>\n",
       "      <th>Sex</th>\n",
       "      <th>Year</th>\n",
       "      <th>Mean BMI</th>\n",
       "      <th>Mean BMI lower 95% uncertainty interval</th>\n",
       "      <th>Mean BMI upper 95% uncertainty interval</th>\n",
       "      <th>Prevalence of BMI&gt;=30 kg/m² (obesity)</th>\n",
       "      <th>Prevalence of BMI&gt;=30 kg/m² lower 95% uncertainty interval</th>\n",
       "      <th>Prevalence of BMI&gt;=30 kg/m² upper 95% uncertainty interval</th>\n",
       "      <th>...</th>\n",
       "      <th>Prevalence of BMI 25 kg/m² to &lt;30 kg/m² upper 95% uncertainty interval</th>\n",
       "      <th>Prevalence of BMI 30 kg/m² to &lt;35 kg/m²</th>\n",
       "      <th>Prevalence of BMI 30 kg/m² to &lt;35 kg/m² lower 95% uncertainty interval</th>\n",
       "      <th>Prevalence of BMI 30 kg/m² to &lt;35 kg/m² upper 95% uncertainty interval</th>\n",
       "      <th>Prevalence of BMI 35 kg/m² to &lt;40 kg/m²</th>\n",
       "      <th>Prevalence of BMI 35 kg/m² to &lt;40 kg/m² lower 95% uncertainty interval</th>\n",
       "      <th>Prevalence of BMI 35 kg/m² to &lt;40 kg/m² upper 95% uncertainty interval</th>\n",
       "      <th>Prevalence of BMI &gt;=40 kg/m²(morbid obesity)</th>\n",
       "      <th>Prevalence of BMI &gt;=40 kg/m² lower 95% uncertainty interval</th>\n",
       "      <th>Prevalence of BMI &gt;=40 kg/m² upper 95% uncertainty interval</th>\n",
       "    </tr>\n",
       "  </thead>\n",
       "  <tbody>\n",
       "    <tr>\n",
       "      <th>0</th>\n",
       "      <td>World</td>\n",
       "      <td>NaN</td>\n",
       "      <td>Men</td>\n",
       "      <td>1975</td>\n",
       "      <td>21.655140</td>\n",
       "      <td>21.271800</td>\n",
       "      <td>22.041264</td>\n",
       "      <td>0.030488</td>\n",
       "      <td>0.023406</td>\n",
       "      <td>0.038916</td>\n",
       "      <td>...</td>\n",
       "      <td>0.205734</td>\n",
       "      <td>0.028041</td>\n",
       "      <td>0.021160</td>\n",
       "      <td>0.036384</td>\n",
       "      <td>0.002174</td>\n",
       "      <td>0.001272</td>\n",
       "      <td>0.003476</td>\n",
       "      <td>0.000273</td>\n",
       "      <td>0.000116</td>\n",
       "      <td>0.000565</td>\n",
       "    </tr>\n",
       "    <tr>\n",
       "      <th>1</th>\n",
       "      <td>World</td>\n",
       "      <td>NaN</td>\n",
       "      <td>Men</td>\n",
       "      <td>1976</td>\n",
       "      <td>21.722038</td>\n",
       "      <td>21.371320</td>\n",
       "      <td>22.078741</td>\n",
       "      <td>0.031527</td>\n",
       "      <td>0.024576</td>\n",
       "      <td>0.039674</td>\n",
       "      <td>...</td>\n",
       "      <td>0.207031</td>\n",
       "      <td>0.028926</td>\n",
       "      <td>0.022197</td>\n",
       "      <td>0.037038</td>\n",
       "      <td>0.002307</td>\n",
       "      <td>0.001393</td>\n",
       "      <td>0.003582</td>\n",
       "      <td>0.000294</td>\n",
       "      <td>0.000132</td>\n",
       "      <td>0.000580</td>\n",
       "    </tr>\n",
       "    <tr>\n",
       "      <th>2</th>\n",
       "      <td>World</td>\n",
       "      <td>NaN</td>\n",
       "      <td>Men</td>\n",
       "      <td>1977</td>\n",
       "      <td>21.789208</td>\n",
       "      <td>21.462569</td>\n",
       "      <td>22.116141</td>\n",
       "      <td>0.032596</td>\n",
       "      <td>0.025764</td>\n",
       "      <td>0.040628</td>\n",
       "      <td>...</td>\n",
       "      <td>0.208148</td>\n",
       "      <td>0.029830</td>\n",
       "      <td>0.023211</td>\n",
       "      <td>0.037707</td>\n",
       "      <td>0.002448</td>\n",
       "      <td>0.001518</td>\n",
       "      <td>0.003714</td>\n",
       "      <td>0.000317</td>\n",
       "      <td>0.000149</td>\n",
       "      <td>0.000597</td>\n",
       "    </tr>\n",
       "    <tr>\n",
       "      <th>3</th>\n",
       "      <td>World</td>\n",
       "      <td>NaN</td>\n",
       "      <td>Men</td>\n",
       "      <td>1978</td>\n",
       "      <td>21.856669</td>\n",
       "      <td>21.556821</td>\n",
       "      <td>22.154782</td>\n",
       "      <td>0.033695</td>\n",
       "      <td>0.027015</td>\n",
       "      <td>0.041522</td>\n",
       "      <td>...</td>\n",
       "      <td>0.209042</td>\n",
       "      <td>0.030753</td>\n",
       "      <td>0.024254</td>\n",
       "      <td>0.038381</td>\n",
       "      <td>0.002598</td>\n",
       "      <td>0.001662</td>\n",
       "      <td>0.003854</td>\n",
       "      <td>0.000344</td>\n",
       "      <td>0.000172</td>\n",
       "      <td>0.000621</td>\n",
       "    </tr>\n",
       "    <tr>\n",
       "      <th>4</th>\n",
       "      <td>World</td>\n",
       "      <td>NaN</td>\n",
       "      <td>Men</td>\n",
       "      <td>1979</td>\n",
       "      <td>21.924555</td>\n",
       "      <td>21.653523</td>\n",
       "      <td>22.196014</td>\n",
       "      <td>0.034829</td>\n",
       "      <td>0.028264</td>\n",
       "      <td>0.042306</td>\n",
       "      <td>...</td>\n",
       "      <td>0.210156</td>\n",
       "      <td>0.031699</td>\n",
       "      <td>0.025303</td>\n",
       "      <td>0.039045</td>\n",
       "      <td>0.002758</td>\n",
       "      <td>0.001818</td>\n",
       "      <td>0.003991</td>\n",
       "      <td>0.000373</td>\n",
       "      <td>0.000194</td>\n",
       "      <td>0.000649</td>\n",
       "    </tr>\n",
       "    <tr>\n",
       "      <th>...</th>\n",
       "      <td>...</td>\n",
       "      <td>...</td>\n",
       "      <td>...</td>\n",
       "      <td>...</td>\n",
       "      <td>...</td>\n",
       "      <td>...</td>\n",
       "      <td>...</td>\n",
       "      <td>...</td>\n",
       "      <td>...</td>\n",
       "      <td>...</td>\n",
       "      <td>...</td>\n",
       "      <td>...</td>\n",
       "      <td>...</td>\n",
       "      <td>...</td>\n",
       "      <td>...</td>\n",
       "      <td>...</td>\n",
       "      <td>...</td>\n",
       "      <td>...</td>\n",
       "      <td>...</td>\n",
       "      <td>...</td>\n",
       "      <td>...</td>\n",
       "    </tr>\n",
       "    <tr>\n",
       "      <th>79</th>\n",
       "      <td>World</td>\n",
       "      <td>NaN</td>\n",
       "      <td>Women</td>\n",
       "      <td>2012</td>\n",
       "      <td>24.489016</td>\n",
       "      <td>24.366855</td>\n",
       "      <td>24.607914</td>\n",
       "      <td>0.143715</td>\n",
       "      <td>0.135882</td>\n",
       "      <td>0.151875</td>\n",
       "      <td>...</td>\n",
       "      <td>0.254913</td>\n",
       "      <td>0.095600</td>\n",
       "      <td>0.088116</td>\n",
       "      <td>0.103508</td>\n",
       "      <td>0.032572</td>\n",
       "      <td>0.029133</td>\n",
       "      <td>0.036211</td>\n",
       "      <td>0.015543</td>\n",
       "      <td>0.013341</td>\n",
       "      <td>0.017869</td>\n",
       "    </tr>\n",
       "    <tr>\n",
       "      <th>80</th>\n",
       "      <td>World</td>\n",
       "      <td>NaN</td>\n",
       "      <td>Women</td>\n",
       "      <td>2013</td>\n",
       "      <td>24.554953</td>\n",
       "      <td>24.417656</td>\n",
       "      <td>24.691009</td>\n",
       "      <td>0.146909</td>\n",
       "      <td>0.138307</td>\n",
       "      <td>0.155706</td>\n",
       "      <td>...</td>\n",
       "      <td>0.257626</td>\n",
       "      <td>0.097215</td>\n",
       "      <td>0.089229</td>\n",
       "      <td>0.105775</td>\n",
       "      <td>0.033490</td>\n",
       "      <td>0.029824</td>\n",
       "      <td>0.037448</td>\n",
       "      <td>0.016203</td>\n",
       "      <td>0.013803</td>\n",
       "      <td>0.018769</td>\n",
       "    </tr>\n",
       "    <tr>\n",
       "      <th>81</th>\n",
       "      <td>World</td>\n",
       "      <td>NaN</td>\n",
       "      <td>Women</td>\n",
       "      <td>2014</td>\n",
       "      <td>24.620736</td>\n",
       "      <td>24.466254</td>\n",
       "      <td>24.775179</td>\n",
       "      <td>0.150190</td>\n",
       "      <td>0.140840</td>\n",
       "      <td>0.159615</td>\n",
       "      <td>...</td>\n",
       "      <td>0.260704</td>\n",
       "      <td>0.098852</td>\n",
       "      <td>0.090210</td>\n",
       "      <td>0.108078</td>\n",
       "      <td>0.034439</td>\n",
       "      <td>0.030497</td>\n",
       "      <td>0.038735</td>\n",
       "      <td>0.016899</td>\n",
       "      <td>0.014277</td>\n",
       "      <td>0.019727</td>\n",
       "    </tr>\n",
       "    <tr>\n",
       "      <th>82</th>\n",
       "      <td>World</td>\n",
       "      <td>NaN</td>\n",
       "      <td>Women</td>\n",
       "      <td>2015</td>\n",
       "      <td>24.686396</td>\n",
       "      <td>24.509798</td>\n",
       "      <td>24.864322</td>\n",
       "      <td>0.153557</td>\n",
       "      <td>0.143446</td>\n",
       "      <td>0.163972</td>\n",
       "      <td>...</td>\n",
       "      <td>0.263373</td>\n",
       "      <td>0.100504</td>\n",
       "      <td>0.091145</td>\n",
       "      <td>0.110390</td>\n",
       "      <td>0.035421</td>\n",
       "      <td>0.031126</td>\n",
       "      <td>0.040094</td>\n",
       "      <td>0.017632</td>\n",
       "      <td>0.014774</td>\n",
       "      <td>0.020760</td>\n",
       "    </tr>\n",
       "    <tr>\n",
       "      <th>83</th>\n",
       "      <td>World</td>\n",
       "      <td>NaN</td>\n",
       "      <td>Women</td>\n",
       "      <td>2016</td>\n",
       "      <td>24.751606</td>\n",
       "      <td>24.551370</td>\n",
       "      <td>24.954765</td>\n",
       "      <td>0.157009</td>\n",
       "      <td>0.146010</td>\n",
       "      <td>0.168470</td>\n",
       "      <td>...</td>\n",
       "      <td>0.266408</td>\n",
       "      <td>0.102167</td>\n",
       "      <td>0.092050</td>\n",
       "      <td>0.112851</td>\n",
       "      <td>0.036436</td>\n",
       "      <td>0.031701</td>\n",
       "      <td>0.041581</td>\n",
       "      <td>0.018406</td>\n",
       "      <td>0.015257</td>\n",
       "      <td>0.021881</td>\n",
       "    </tr>\n",
       "  </tbody>\n",
       "</table>\n",
       "<p>84 rows × 34 columns</p>\n",
       "</div>"
      ],
      "text/plain": [
       "   Country/Region/World  ISO    Sex  Year   Mean BMI  \\\n",
       "0                 World  NaN    Men  1975  21.655140   \n",
       "1                 World  NaN    Men  1976  21.722038   \n",
       "2                 World  NaN    Men  1977  21.789208   \n",
       "3                 World  NaN    Men  1978  21.856669   \n",
       "4                 World  NaN    Men  1979  21.924555   \n",
       "..                  ...  ...    ...   ...        ...   \n",
       "79                World  NaN  Women  2012  24.489016   \n",
       "80                World  NaN  Women  2013  24.554953   \n",
       "81                World  NaN  Women  2014  24.620736   \n",
       "82                World  NaN  Women  2015  24.686396   \n",
       "83                World  NaN  Women  2016  24.751606   \n",
       "\n",
       "    Mean BMI lower 95% uncertainty interval  \\\n",
       "0                                 21.271800   \n",
       "1                                 21.371320   \n",
       "2                                 21.462569   \n",
       "3                                 21.556821   \n",
       "4                                 21.653523   \n",
       "..                                      ...   \n",
       "79                                24.366855   \n",
       "80                                24.417656   \n",
       "81                                24.466254   \n",
       "82                                24.509798   \n",
       "83                                24.551370   \n",
       "\n",
       "    Mean BMI upper 95% uncertainty interval  \\\n",
       "0                                 22.041264   \n",
       "1                                 22.078741   \n",
       "2                                 22.116141   \n",
       "3                                 22.154782   \n",
       "4                                 22.196014   \n",
       "..                                      ...   \n",
       "79                                24.607914   \n",
       "80                                24.691009   \n",
       "81                                24.775179   \n",
       "82                                24.864322   \n",
       "83                                24.954765   \n",
       "\n",
       "    Prevalence of BMI>=30 kg/m² (obesity)  \\\n",
       "0                                0.030488   \n",
       "1                                0.031527   \n",
       "2                                0.032596   \n",
       "3                                0.033695   \n",
       "4                                0.034829   \n",
       "..                                    ...   \n",
       "79                               0.143715   \n",
       "80                               0.146909   \n",
       "81                               0.150190   \n",
       "82                               0.153557   \n",
       "83                               0.157009   \n",
       "\n",
       "    Prevalence of BMI>=30 kg/m² lower 95% uncertainty interval  \\\n",
       "0                                            0.023406            \n",
       "1                                            0.024576            \n",
       "2                                            0.025764            \n",
       "3                                            0.027015            \n",
       "4                                            0.028264            \n",
       "..                                                ...            \n",
       "79                                           0.135882            \n",
       "80                                           0.138307            \n",
       "81                                           0.140840            \n",
       "82                                           0.143446            \n",
       "83                                           0.146010            \n",
       "\n",
       "    Prevalence of BMI>=30 kg/m² upper 95% uncertainty interval  ...  \\\n",
       "0                                            0.038916           ...   \n",
       "1                                            0.039674           ...   \n",
       "2                                            0.040628           ...   \n",
       "3                                            0.041522           ...   \n",
       "4                                            0.042306           ...   \n",
       "..                                                ...           ...   \n",
       "79                                           0.151875           ...   \n",
       "80                                           0.155706           ...   \n",
       "81                                           0.159615           ...   \n",
       "82                                           0.163972           ...   \n",
       "83                                           0.168470           ...   \n",
       "\n",
       "    Prevalence of BMI 25 kg/m² to <30 kg/m² upper 95% uncertainty interval  \\\n",
       "0                                            0.205734                        \n",
       "1                                            0.207031                        \n",
       "2                                            0.208148                        \n",
       "3                                            0.209042                        \n",
       "4                                            0.210156                        \n",
       "..                                                ...                        \n",
       "79                                           0.254913                        \n",
       "80                                           0.257626                        \n",
       "81                                           0.260704                        \n",
       "82                                           0.263373                        \n",
       "83                                           0.266408                        \n",
       "\n",
       "    Prevalence of BMI 30 kg/m² to <35 kg/m²  \\\n",
       "0                                  0.028041   \n",
       "1                                  0.028926   \n",
       "2                                  0.029830   \n",
       "3                                  0.030753   \n",
       "4                                  0.031699   \n",
       "..                                      ...   \n",
       "79                                 0.095600   \n",
       "80                                 0.097215   \n",
       "81                                 0.098852   \n",
       "82                                 0.100504   \n",
       "83                                 0.102167   \n",
       "\n",
       "    Prevalence of BMI 30 kg/m² to <35 kg/m² lower 95% uncertainty interval  \\\n",
       "0                                            0.021160                        \n",
       "1                                            0.022197                        \n",
       "2                                            0.023211                        \n",
       "3                                            0.024254                        \n",
       "4                                            0.025303                        \n",
       "..                                                ...                        \n",
       "79                                           0.088116                        \n",
       "80                                           0.089229                        \n",
       "81                                           0.090210                        \n",
       "82                                           0.091145                        \n",
       "83                                           0.092050                        \n",
       "\n",
       "    Prevalence of BMI 30 kg/m² to <35 kg/m² upper 95% uncertainty interval  \\\n",
       "0                                            0.036384                        \n",
       "1                                            0.037038                        \n",
       "2                                            0.037707                        \n",
       "3                                            0.038381                        \n",
       "4                                            0.039045                        \n",
       "..                                                ...                        \n",
       "79                                           0.103508                        \n",
       "80                                           0.105775                        \n",
       "81                                           0.108078                        \n",
       "82                                           0.110390                        \n",
       "83                                           0.112851                        \n",
       "\n",
       "    Prevalence of BMI 35 kg/m² to <40 kg/m²  \\\n",
       "0                                  0.002174   \n",
       "1                                  0.002307   \n",
       "2                                  0.002448   \n",
       "3                                  0.002598   \n",
       "4                                  0.002758   \n",
       "..                                      ...   \n",
       "79                                 0.032572   \n",
       "80                                 0.033490   \n",
       "81                                 0.034439   \n",
       "82                                 0.035421   \n",
       "83                                 0.036436   \n",
       "\n",
       "    Prevalence of BMI 35 kg/m² to <40 kg/m² lower 95% uncertainty interval  \\\n",
       "0                                            0.001272                        \n",
       "1                                            0.001393                        \n",
       "2                                            0.001518                        \n",
       "3                                            0.001662                        \n",
       "4                                            0.001818                        \n",
       "..                                                ...                        \n",
       "79                                           0.029133                        \n",
       "80                                           0.029824                        \n",
       "81                                           0.030497                        \n",
       "82                                           0.031126                        \n",
       "83                                           0.031701                        \n",
       "\n",
       "    Prevalence of BMI 35 kg/m² to <40 kg/m² upper 95% uncertainty interval  \\\n",
       "0                                            0.003476                        \n",
       "1                                            0.003582                        \n",
       "2                                            0.003714                        \n",
       "3                                            0.003854                        \n",
       "4                                            0.003991                        \n",
       "..                                                ...                        \n",
       "79                                           0.036211                        \n",
       "80                                           0.037448                        \n",
       "81                                           0.038735                        \n",
       "82                                           0.040094                        \n",
       "83                                           0.041581                        \n",
       "\n",
       "    Prevalence of BMI >=40 kg/m²(morbid obesity)  \\\n",
       "0                                       0.000273   \n",
       "1                                       0.000294   \n",
       "2                                       0.000317   \n",
       "3                                       0.000344   \n",
       "4                                       0.000373   \n",
       "..                                           ...   \n",
       "79                                      0.015543   \n",
       "80                                      0.016203   \n",
       "81                                      0.016899   \n",
       "82                                      0.017632   \n",
       "83                                      0.018406   \n",
       "\n",
       "    Prevalence of BMI >=40 kg/m² lower 95% uncertainty interval  \\\n",
       "0                                            0.000116             \n",
       "1                                            0.000132             \n",
       "2                                            0.000149             \n",
       "3                                            0.000172             \n",
       "4                                            0.000194             \n",
       "..                                                ...             \n",
       "79                                           0.013341             \n",
       "80                                           0.013803             \n",
       "81                                           0.014277             \n",
       "82                                           0.014774             \n",
       "83                                           0.015257             \n",
       "\n",
       "    Prevalence of BMI >=40 kg/m² upper 95% uncertainty interval  \n",
       "0                                            0.000565            \n",
       "1                                            0.000580            \n",
       "2                                            0.000597            \n",
       "3                                            0.000621            \n",
       "4                                            0.000649            \n",
       "..                                                ...            \n",
       "79                                           0.017869            \n",
       "80                                           0.018769            \n",
       "81                                           0.019727            \n",
       "82                                           0.020760            \n",
       "83                                           0.021881            \n",
       "\n",
       "[84 rows x 34 columns]"
      ]
     },
     "execution_count": 183,
     "metadata": {},
     "output_type": "execute_result"
    }
   ],
   "source": [
    "import pandas as pd\n",
    "# NCD Risk Factor Collaboration (NCD-RisC) , ht,tp://ncdrisc.org/\n",
    "bmi = pd.read_csv(\"http://ncdrisc.org/downloads/bmi/NCD_RisC_Lancet_2017_BMI_age_standardised_world.csv\", encoding = \"cp1252\")\n",
    "                  \n",
    "                 #engine='python')  # método para formatear los datos encoding = \"cp1252\",) latin1\n",
    "\n",
    "# primeras cinco filas de datos\n",
    "bmi"
   ]
  },
  {
   "cell_type": "code",
   "execution_count": 184,
   "metadata": {},
   "outputs": [
    {
     "data": {
      "text/html": [
       "<div>\n",
       "<style scoped>\n",
       "    .dataframe tbody tr th:only-of-type {\n",
       "        vertical-align: middle;\n",
       "    }\n",
       "\n",
       "    .dataframe tbody tr th {\n",
       "        vertical-align: top;\n",
       "    }\n",
       "\n",
       "    .dataframe thead th {\n",
       "        text-align: right;\n",
       "    }\n",
       "</style>\n",
       "<table border=\"1\" class=\"dataframe\">\n",
       "  <thead>\n",
       "    <tr style=\"text-align: right;\">\n",
       "      <th></th>\n",
       "      <th>Sex</th>\n",
       "      <th>Year</th>\n",
       "      <th>Mean BMI</th>\n",
       "    </tr>\n",
       "  </thead>\n",
       "  <tbody>\n",
       "    <tr>\n",
       "      <th>0</th>\n",
       "      <td>Men</td>\n",
       "      <td>1975</td>\n",
       "      <td>21.655140</td>\n",
       "    </tr>\n",
       "    <tr>\n",
       "      <th>1</th>\n",
       "      <td>Men</td>\n",
       "      <td>1976</td>\n",
       "      <td>21.722038</td>\n",
       "    </tr>\n",
       "    <tr>\n",
       "      <th>2</th>\n",
       "      <td>Men</td>\n",
       "      <td>1977</td>\n",
       "      <td>21.789208</td>\n",
       "    </tr>\n",
       "    <tr>\n",
       "      <th>3</th>\n",
       "      <td>Men</td>\n",
       "      <td>1978</td>\n",
       "      <td>21.856669</td>\n",
       "    </tr>\n",
       "    <tr>\n",
       "      <th>4</th>\n",
       "      <td>Men</td>\n",
       "      <td>1979</td>\n",
       "      <td>21.924555</td>\n",
       "    </tr>\n",
       "    <tr>\n",
       "      <th>5</th>\n",
       "      <td>Men</td>\n",
       "      <td>1980</td>\n",
       "      <td>21.993276</td>\n",
       "    </tr>\n",
       "    <tr>\n",
       "      <th>6</th>\n",
       "      <td>Men</td>\n",
       "      <td>1981</td>\n",
       "      <td>22.063108</td>\n",
       "    </tr>\n",
       "    <tr>\n",
       "      <th>7</th>\n",
       "      <td>Men</td>\n",
       "      <td>1982</td>\n",
       "      <td>22.133649</td>\n",
       "    </tr>\n",
       "    <tr>\n",
       "      <th>8</th>\n",
       "      <td>Men</td>\n",
       "      <td>1983</td>\n",
       "      <td>22.204357</td>\n",
       "    </tr>\n",
       "    <tr>\n",
       "      <th>9</th>\n",
       "      <td>Men</td>\n",
       "      <td>1984</td>\n",
       "      <td>22.274490</td>\n",
       "    </tr>\n",
       "  </tbody>\n",
       "</table>\n",
       "</div>"
      ],
      "text/plain": [
       "   Sex  Year   Mean BMI\n",
       "0  Men  1975  21.655140\n",
       "1  Men  1976  21.722038\n",
       "2  Men  1977  21.789208\n",
       "3  Men  1978  21.856669\n",
       "4  Men  1979  21.924555\n",
       "5  Men  1980  21.993276\n",
       "6  Men  1981  22.063108\n",
       "7  Men  1982  22.133649\n",
       "8  Men  1983  22.204357\n",
       "9  Men  1984  22.274490"
      ]
     },
     "execution_count": 184,
     "metadata": {},
     "output_type": "execute_result"
    }
   ],
   "source": [
    "# una nueva tabla con tres columnas de datos\n",
    "bmi = bmi[ ['Sex', 'Year', 'Mean BMI'] ]\n",
    "\n",
    "# primeras cinco filas\n",
    "bmi.head(10)"
   ]
  },
  {
   "cell_type": "code",
   "execution_count": 185,
   "metadata": {},
   "outputs": [
    {
     "data": {
      "text/html": [
       "<div>\n",
       "<style scoped>\n",
       "    .dataframe tbody tr th:only-of-type {\n",
       "        vertical-align: middle;\n",
       "    }\n",
       "\n",
       "    .dataframe tbody tr th {\n",
       "        vertical-align: top;\n",
       "    }\n",
       "\n",
       "    .dataframe thead th {\n",
       "        text-align: right;\n",
       "    }\n",
       "</style>\n",
       "<table border=\"1\" class=\"dataframe\">\n",
       "  <thead>\n",
       "    <tr style=\"text-align: right;\">\n",
       "      <th></th>\n",
       "      <th>Sex</th>\n",
       "      <th>Year</th>\n",
       "      <th>Mean BMI</th>\n",
       "    </tr>\n",
       "  </thead>\n",
       "  <tbody>\n",
       "    <tr>\n",
       "      <th>79</th>\n",
       "      <td>Women</td>\n",
       "      <td>2012</td>\n",
       "      <td>24.489016</td>\n",
       "    </tr>\n",
       "    <tr>\n",
       "      <th>80</th>\n",
       "      <td>Women</td>\n",
       "      <td>2013</td>\n",
       "      <td>24.554953</td>\n",
       "    </tr>\n",
       "    <tr>\n",
       "      <th>81</th>\n",
       "      <td>Women</td>\n",
       "      <td>2014</td>\n",
       "      <td>24.620736</td>\n",
       "    </tr>\n",
       "    <tr>\n",
       "      <th>82</th>\n",
       "      <td>Women</td>\n",
       "      <td>2015</td>\n",
       "      <td>24.686396</td>\n",
       "    </tr>\n",
       "    <tr>\n",
       "      <th>83</th>\n",
       "      <td>Women</td>\n",
       "      <td>2016</td>\n",
       "      <td>24.751606</td>\n",
       "    </tr>\n",
       "  </tbody>\n",
       "</table>\n",
       "</div>"
      ],
      "text/plain": [
       "      Sex  Year   Mean BMI\n",
       "79  Women  2012  24.489016\n",
       "80  Women  2013  24.554953\n",
       "81  Women  2014  24.620736\n",
       "82  Women  2015  24.686396\n",
       "83  Women  2016  24.751606"
      ]
     },
     "execution_count": 185,
     "metadata": {},
     "output_type": "execute_result"
    }
   ],
   "source": [
    "# últimas cinco filas\n",
    "bmi.tail()"
   ]
  },
  {
   "cell_type": "code",
   "execution_count": 187,
   "metadata": {},
   "outputs": [
    {
     "data": {
      "text/html": [
       "<div>\n",
       "<style scoped>\n",
       "    .dataframe tbody tr th:only-of-type {\n",
       "        vertical-align: middle;\n",
       "    }\n",
       "\n",
       "    .dataframe tbody tr th {\n",
       "        vertical-align: top;\n",
       "    }\n",
       "\n",
       "    .dataframe thead th {\n",
       "        text-align: right;\n",
       "    }\n",
       "</style>\n",
       "<table border=\"1\" class=\"dataframe\">\n",
       "  <thead>\n",
       "    <tr style=\"text-align: right;\">\n",
       "      <th></th>\n",
       "      <th>Sex</th>\n",
       "      <th>Year</th>\n",
       "      <th>Mean BMI</th>\n",
       "    </tr>\n",
       "  </thead>\n",
       "  <tbody>\n",
       "    <tr>\n",
       "      <th>50</th>\n",
       "      <td>Women</td>\n",
       "      <td>1983</td>\n",
       "      <td>22.602453</td>\n",
       "    </tr>\n",
       "    <tr>\n",
       "      <th>71</th>\n",
       "      <td>Women</td>\n",
       "      <td>2004</td>\n",
       "      <td>23.953314</td>\n",
       "    </tr>\n",
       "    <tr>\n",
       "      <th>47</th>\n",
       "      <td>Women</td>\n",
       "      <td>1980</td>\n",
       "      <td>22.400873</td>\n",
       "    </tr>\n",
       "    <tr>\n",
       "      <th>65</th>\n",
       "      <td>Women</td>\n",
       "      <td>1998</td>\n",
       "      <td>23.555735</td>\n",
       "    </tr>\n",
       "    <tr>\n",
       "      <th>23</th>\n",
       "      <td>Men</td>\n",
       "      <td>1998</td>\n",
       "      <td>23.163031</td>\n",
       "    </tr>\n",
       "    <tr>\n",
       "      <th>63</th>\n",
       "      <td>Women</td>\n",
       "      <td>1996</td>\n",
       "      <td>23.425819</td>\n",
       "    </tr>\n",
       "    <tr>\n",
       "      <th>43</th>\n",
       "      <td>Women</td>\n",
       "      <td>1976</td>\n",
       "      <td>22.141962</td>\n",
       "    </tr>\n",
       "    <tr>\n",
       "      <th>6</th>\n",
       "      <td>Men</td>\n",
       "      <td>1981</td>\n",
       "      <td>22.063108</td>\n",
       "    </tr>\n",
       "    <tr>\n",
       "      <th>17</th>\n",
       "      <td>Men</td>\n",
       "      <td>1992</td>\n",
       "      <td>22.788021</td>\n",
       "    </tr>\n",
       "    <tr>\n",
       "      <th>34</th>\n",
       "      <td>Men</td>\n",
       "      <td>2009</td>\n",
       "      <td>23.939078</td>\n",
       "    </tr>\n",
       "  </tbody>\n",
       "</table>\n",
       "</div>"
      ],
      "text/plain": [
       "      Sex  Year   Mean BMI\n",
       "50  Women  1983  22.602453\n",
       "71  Women  2004  23.953314\n",
       "47  Women  1980  22.400873\n",
       "65  Women  1998  23.555735\n",
       "23    Men  1998  23.163031\n",
       "63  Women  1996  23.425819\n",
       "43  Women  1976  22.141962\n",
       "6     Men  1981  22.063108\n",
       "17    Men  1992  22.788021\n",
       "34    Men  2009  23.939078"
      ]
     },
     "execution_count": 187,
     "metadata": {},
     "output_type": "execute_result"
    }
   ],
   "source": [
    "bmi.sample(10)"
   ]
  },
  {
   "cell_type": "code",
   "execution_count": 188,
   "metadata": {},
   "outputs": [
    {
     "data": {
      "text/html": [
       "<div>\n",
       "<style scoped>\n",
       "    .dataframe tbody tr th:only-of-type {\n",
       "        vertical-align: middle;\n",
       "    }\n",
       "\n",
       "    .dataframe tbody tr th {\n",
       "        vertical-align: top;\n",
       "    }\n",
       "\n",
       "    .dataframe thead th {\n",
       "        text-align: right;\n",
       "    }\n",
       "</style>\n",
       "<table border=\"1\" class=\"dataframe\">\n",
       "  <thead>\n",
       "    <tr style=\"text-align: right;\">\n",
       "      <th></th>\n",
       "      <th>Year</th>\n",
       "      <th>Mean BMI</th>\n",
       "    </tr>\n",
       "    <tr>\n",
       "      <th>Sex</th>\n",
       "      <th></th>\n",
       "      <th></th>\n",
       "    </tr>\n",
       "  </thead>\n",
       "  <tbody>\n",
       "    <tr>\n",
       "      <th>Men</th>\n",
       "      <td>42</td>\n",
       "      <td>42</td>\n",
       "    </tr>\n",
       "    <tr>\n",
       "      <th>Women</th>\n",
       "      <td>42</td>\n",
       "      <td>42</td>\n",
       "    </tr>\n",
       "  </tbody>\n",
       "</table>\n",
       "</div>"
      ],
      "text/plain": [
       "       Year  Mean BMI\n",
       "Sex                  \n",
       "Men      42        42\n",
       "Women    42        42"
      ]
     },
     "execution_count": 188,
     "metadata": {},
     "output_type": "execute_result"
    }
   ],
   "source": [
    "# cuenta los datos por género\n",
    "bmi.groupby('Sex').count()"
   ]
  },
  {
   "cell_type": "code",
   "execution_count": 189,
   "metadata": {},
   "outputs": [
    {
     "data": {
      "text/html": [
       "<div>\n",
       "<style scoped>\n",
       "    .dataframe tbody tr th:only-of-type {\n",
       "        vertical-align: middle;\n",
       "    }\n",
       "\n",
       "    .dataframe tbody tr th {\n",
       "        vertical-align: top;\n",
       "    }\n",
       "\n",
       "    .dataframe thead th {\n",
       "        text-align: right;\n",
       "    }\n",
       "</style>\n",
       "<table border=\"1\" class=\"dataframe\">\n",
       "  <thead>\n",
       "    <tr style=\"text-align: right;\">\n",
       "      <th></th>\n",
       "      <th>Sex</th>\n",
       "      <th>Year</th>\n",
       "      <th>Mean BMI</th>\n",
       "    </tr>\n",
       "  </thead>\n",
       "  <tbody>\n",
       "    <tr>\n",
       "      <th>count</th>\n",
       "      <td>84</td>\n",
       "      <td>84.000000</td>\n",
       "      <td>84.000000</td>\n",
       "    </tr>\n",
       "    <tr>\n",
       "      <th>unique</th>\n",
       "      <td>2</td>\n",
       "      <td>NaN</td>\n",
       "      <td>NaN</td>\n",
       "    </tr>\n",
       "    <tr>\n",
       "      <th>top</th>\n",
       "      <td>Men</td>\n",
       "      <td>NaN</td>\n",
       "      <td>NaN</td>\n",
       "    </tr>\n",
       "    <tr>\n",
       "      <th>freq</th>\n",
       "      <td>42</td>\n",
       "      <td>NaN</td>\n",
       "      <td>NaN</td>\n",
       "    </tr>\n",
       "    <tr>\n",
       "      <th>mean</th>\n",
       "      <td>NaN</td>\n",
       "      <td>1995.500000</td>\n",
       "      <td>23.218216</td>\n",
       "    </tr>\n",
       "    <tr>\n",
       "      <th>std</th>\n",
       "      <td>NaN</td>\n",
       "      <td>12.193718</td>\n",
       "      <td>0.828408</td>\n",
       "    </tr>\n",
       "    <tr>\n",
       "      <th>min</th>\n",
       "      <td>NaN</td>\n",
       "      <td>1975.000000</td>\n",
       "      <td>21.655140</td>\n",
       "    </tr>\n",
       "    <tr>\n",
       "      <th>25%</th>\n",
       "      <td>NaN</td>\n",
       "      <td>1985.000000</td>\n",
       "      <td>22.539964</td>\n",
       "    </tr>\n",
       "    <tr>\n",
       "      <th>50%</th>\n",
       "      <td>NaN</td>\n",
       "      <td>1995.500000</td>\n",
       "      <td>23.203687</td>\n",
       "    </tr>\n",
       "    <tr>\n",
       "      <th>75%</th>\n",
       "      <td>NaN</td>\n",
       "      <td>2006.000000</td>\n",
       "      <td>23.899972</td>\n",
       "    </tr>\n",
       "    <tr>\n",
       "      <th>max</th>\n",
       "      <td>NaN</td>\n",
       "      <td>2016.000000</td>\n",
       "      <td>24.751606</td>\n",
       "    </tr>\n",
       "  </tbody>\n",
       "</table>\n",
       "</div>"
      ],
      "text/plain": [
       "        Sex         Year   Mean BMI\n",
       "count    84    84.000000  84.000000\n",
       "unique    2          NaN        NaN\n",
       "top     Men          NaN        NaN\n",
       "freq     42          NaN        NaN\n",
       "mean    NaN  1995.500000  23.218216\n",
       "std     NaN    12.193718   0.828408\n",
       "min     NaN  1975.000000  21.655140\n",
       "25%     NaN  1985.000000  22.539964\n",
       "50%     NaN  1995.500000  23.203687\n",
       "75%     NaN  2006.000000  23.899972\n",
       "max     NaN  2016.000000  24.751606"
      ]
     },
     "execution_count": 189,
     "metadata": {},
     "output_type": "execute_result"
    }
   ],
   "source": [
    "# describe la tabla para datos numéricos y nominales\n",
    "bmi.describe(include='all')"
   ]
  },
  {
   "cell_type": "markdown",
   "metadata": {},
   "source": [
    "## 7.3 Promedios mundiales de IMC de hombres y mujeres"
   ]
  },
  {
   "cell_type": "code",
   "execution_count": 191,
   "metadata": {},
   "outputs": [
    {
     "data": {
      "image/png": "[encoded data removed]",
      "text/plain": [
       "<Figure size 864x288 with 1 Axes>"
      ]
     },
     "metadata": {
      "needs_background": "light"
     },
     "output_type": "display_data"
    }
   ],
   "source": [
    "from matplotlib import pyplot as plt\n",
    "# dimensiones de la figura\n",
    "plt.figure(figsize=(12, 4))\n",
    "\n",
    "# valores promedios de IMC desde 1975 hasta 2016\n",
    "\n",
    "hombres = bmi[bmi['Sex'] == 'Men']['Mean BMI']\n",
    "\n",
    "mujeres = bmi[bmi['Sex'] == 'Women']['Mean BMI']\n",
    "\n",
    "plt.plot(range(1975, 2017), hombres, 'r')\n",
    "plt.plot(range(1975, 2017), mujeres, 'b')\n",
    "\n",
    "# marcas cada tres años y marca final de 2016\n",
    "plt.xticks(list(range(1975, 2017, 3)) + [2016])\n",
    "plt.xlim(1975, 2016)\n",
    "\n",
    "plt.legend(['Hombres', 'Mujeres'])\n",
    "\n",
    "plt.title('Promedios mundiales anuales de IMC de mujeres y hombres, http://ncdrisc.org')\n",
    "plt.xlabel('Años')\n",
    "plt.ylabel('Promedios IMC')\n",
    "plt.grid()\n",
    "plt.show()"
   ]
  },
  {
   "cell_type": "markdown",
   "metadata": {},
   "source": [
    "## 7.4 Comparaciones de IMC entre países"
   ]
  },
  {
   "cell_type": "code",
   "execution_count": 193,
   "metadata": {},
   "outputs": [],
   "source": [
    "from matplotlib import pyplot as plt\n",
    "def linea_de_tiempo_de_imc(un_pais, otro_pais, paisA=\"\", paisB=\"\"):\n",
    "    \"\"\"\n",
    "    Línea de tiempo de promedios de índices de masas corporales de dos países\n",
    "    entre 1975 y 2016. Fuente: http://ncdrisc.org\n",
    "    \"\"\"\n",
    "    plt.figure(figsize=(12, 4))\n",
    "    ticks = range(1975, 2017)\n",
    "\n",
    "    color = ['r', 'b', 'g', 'y']\n",
    "    indice = 0\n",
    "\n",
    "    for pais in [un_pais, otro_pais]:\n",
    "    \n",
    "        # para obtener el URL base se pulsa click derecho en el botón \n",
    "        # Download de la página de descarga de los datos y luego se copia el enlace\n",
    "        url = \"http://ncdrisc.org/downloads/bmi/adult_country/NCD_RisC_Lancet_2017_BMI_age_standardised_\"\n",
    "        \n",
    "        # agrega el nombre del país reemplazando espacios por %20 para formar un enlace válido,\n",
    "        # y luego la extensión .csv\n",
    "        url += pais.replace(\" \", \"%20\") + \".csv\"\n",
    "        print(url)\n",
    "        # lee el archivo en el objeto imc\n",
    "        imc = pd.read_csv(url, encoding=\"cp1252\", engine='python')\n",
    "        \n",
    "        # toma los promedios anuales de imc de hombres y mujeres\n",
    "        hombres = imc[ imc['Sex'] == 'Men'  ]['Mean BMI']\n",
    "        mujeres = imc[ imc['Sex'] == 'Women']['Mean BMI']\n",
    "        \n",
    "        # grafica los datos, con los colores indizados de la lista color\n",
    "        plt.plot(ticks, hombres, color[2*indice])\n",
    "        plt.plot(ticks, mujeres, color[2*indice + 1])\n",
    "        \n",
    "        indice = indice + 1\n",
    "\n",
    "    # marcas desde 1975 hasta antes de 2017 de 3 en 3, y marca de 2016 final\n",
    "    plt.xticks(list(range(1975, 2017, 3)) + [2016])\n",
    "    plt.xlim(1975, 2016)\n",
    "\n",
    "    # si el nombre paisA está vacío se utiliza el primer nombre de país\n",
    "    if paisA == \"\":\n",
    "        paisA = un_pais\n",
    "\n",
    "    # si el nombre paisB está vacío se utiliza el segundo nombre de país\n",
    "    if paisB == \"\":\n",
    "        paisB = otro_pais\n",
    "    \n",
    "    # los identificadores de países y géneros\n",
    "    plt.legend(['Hombres de ' + paisA, 'Mujeres de ' + paisA,\n",
    "                'Hombres de ' + paisB, 'Mujeres de ' + paisB])\n",
    "\n",
    "    plt.title('(http://ncdrisc.org) Promedios anuales IMC de mujeres y hombres de ' + paisA + ' y ' + paisB)\n",
    "    \n",
    "    plt.xlabel('Años')\n",
    "    plt.ylabel('Promedios de IMC')\n",
    "    plt.grid()\n",
    "    plt.show()"
   ]
  },
  {
   "cell_type": "markdown",
   "metadata": {},
   "source": [
    "#### Nombres de países\n",
    "Afghanistan, Albania, Algeria, American Samoa, Andorra, Angola, Antigua and Barbuda, Argentina, Armenia, Australia, Austria, Azerbaijan, Bahamas, Bahrain, Bangladesh, Barbados, Belarus, Belgium, Belize, Benin, Bermuda, Bhutan, Bolivia, Bosnia and Herzegovina, Botswana, Brazil, Brunei Darussalam, Bulgaria, Burkina Faso, Burundi, Cabo Verde, Cambodia, Cameroon, Canada, Central African Republic, Chad, Chile, China, China (Hong Kong SAR), Colombia, Comoros, Congo, Cook Islands, Costa Rica, Cote d'Ivoire, Croatia, Cuba, Cyprus, Czech Republic, DR Congo, Denmark, Djibouti, Dominica, Dominican Republic, Ecuador, Egypt, El Salvador, Equatorial Guinea, Eritrea, Estonia, Ethiopia, Fiji, Finland, France, French Polynesia, Gabon, Gambia, Georgia, Germany, Ghana, Greece, Greenland, Grenada, Guatemala, Guinea, Guinea Bissau, Guyana, Haiti, Honduras, Hungary, Iceland, India, Indonesia, Iran, Iraq, Ireland, Israel, Italy, Jamaica, Japan, Jordan, Kazakhstan, Kenya, Kiribati, Kuwait, Kyrgyzstan, Lao PDR, Latvia, Lebanon, Lesotho, Liberia, Libya, Lithuania, Luxembourg, Macedonia (TFYR), Madagascar, Malawi, Malaysia, Maldives, Mali, Malta, Marshall Islands, Mauritania, Mauritius, Mexico, Micronesia (Federated States of), Moldova, Mongolia, Montenegro, Morocco, Mozambique, Myanmar, Namibia, Nauru, Nepal, Netherlands, New Zealand, Nicaragua, Niger, Nigeria, Niue, North Korea, Norway, Occupied Palestinian Territory, Oman, Pakistan, Palau, Panama, Papua New Guinea, Paraguay, Peru, Philippines, Poland, Portugal, Puerto Rico, Qatar, Romania, Russian Federation, Rwanda, Saint Kitts and Nevis, Saint Lucia, Saint Vincent and the Grenadines, Samoa, Sao Tome and Principe, Saudi Arabia, Senegal, Serbia, Seychelles, Sierra Leone, Singapore, Slovakia, Slovenia, Solomon Islands, Somalia, South Africa, South Korea, Spain, Sri Lanka, Sudan, Suriname, Swaziland, Sweden, Switzerland, Syrian Arab Republic, Taiwan, Tajikistan, Tanzania, Thailand, Timor-Leste, Togo, Tokelau, Tonga, Trinidad and Tobago, Tunisia, Turkey, Turkmenistan, Tuvalu, Uganda, Ukraine, United Arab Emirates, United Kingdom, United States of America, Uruguay, Uzbekistan, Vanuatu, Venezuela, Viet Nam, Yemen, Zambia, Zimbabwe"
   ]
  },
  {
   "cell_type": "code",
   "execution_count": 195,
   "metadata": {},
   "outputs": [
    {
     "name": "stdout",
     "output_type": "stream",
     "text": [
      "http://ncdrisc.org/downloads/bmi/adult_country/NCD_RisC_Lancet_2017_BMI_age_standardised_Oman.csv\n",
      "http://ncdrisc.org/downloads/bmi/adult_country/NCD_RisC_Lancet_2017_BMI_age_standardised_Argentina.csv\n"
     ]
    },
    {
     "data": {
      "image/png": "[encoded data removed]",
      "text/plain": [
       "<Figure size 864x288 with 1 Axes>"
      ]
     },
     "metadata": {
      "needs_background": "light"
     },
     "output_type": "display_data"
    }
   ],
   "source": [
    "linea_de_tiempo_de_imc('Oman', 'Argentina')"
   ]
  },
  {
   "cell_type": "markdown",
   "metadata": {},
   "source": [
    "## Más información\n",
    "Puedes conseguir ayuda en inglés escribiendo los siguientes textos en una celda seguidos de ? o como argumentos de **help()**:\n",
    "```python\n",
    "pd.DataFrame.to_csv, pd.DataFrame.describe, pd.DataFrame.head, pd.DataFrame.tail\n",
    "pd.read_csv, pd.Series.describe, pd.Series.head, pd.Series.tail\n",
    "\n",
    "plt.figure, plt.xlim\n",
    "\n",
    "str.replace\n",
    "```"
   ]
  },
  {
   "cell_type": "code",
   "execution_count": 196,
   "metadata": {},
   "outputs": [
    {
     "data": {
      "text/plain": [
       "33.662499999999994"
      ]
     },
     "execution_count": 196,
     "metadata": {},
     "output_type": "execute_result"
    }
   ],
   "source": [
    "#round(peso/altura**2, 1))\n",
    "alturas=[1.91, 1.93, 1.88, 1.91, 1.91, 1.96, 1.83 , 1.8]\n",
    "pesos  =[115.7, 104.8, 136.1, 110.7, 138.3, 129.3, 86.2 , 140.6]\n",
    "lista=[]\n",
    "for altura,peso in zip(alturas,pesos):\n",
    "    lista.append( round ( peso / altura ** 2 , 1))\n",
    "sum(lista)/len(lista)"
   ]
  },
  {
   "cell_type": "code",
   "execution_count": null,
   "metadata": {},
   "outputs": [],
   "source": []
  },
  {
   "cell_type": "code",
   "execution_count": null,
   "metadata": {},
   "outputs": [],
   "source": []
  }
 ],
 "metadata": {
  "interpreter": {
   "hash": "8a32cce1f9b3e4570ca846caf6903fa722a4c567520840cb717f6823875f1f99"
  },
  "kernelspec": {
   "display_name": "Python 3 (ipykernel)",
   "language": "python",
   "name": "python3"
  },
  "language_info": {
   "codemirror_mode": {
    "name": "ipython",
    "version": 3
   },
   "file_extension": ".py",
   "mimetype": "text/x-python",
   "name": "python",
   "nbconvert_exporter": "python",
   "pygments_lexer": "ipython3",
   "version": "3.10.4"
  }
 },
 "nbformat": 4,
 "nbformat_minor": 4
}
