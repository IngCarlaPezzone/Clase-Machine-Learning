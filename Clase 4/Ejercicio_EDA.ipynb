{
 "cells": [
  {
   "cell_type": "markdown",
   "metadata": {},
   "source": [
    "# Ejemplo de EDA: Análisis Exploratorio de Datos"
   ]
  },
  {
   "cell_type": "markdown",
   "metadata": {},
   "source": [
    "EDA es la sigla en inglés para Exploratory Data Analysis y consiste en una de las primeras tareas que\n",
    "tiene que desempeñar el Científico de Datos. Es cuando revisamos por primera vez los datos que nos\n",
    "llegan, por ejemplo un archivo CSV y deberemos intentar comprender “¿de qué se trata?”, vislumbrar\n",
    "posibles patrones y reconocer distribuciones estadísticas que puedan ser útiles en el futuro."
   ]
  },
  {
   "cell_type": "code",
   "execution_count": null,
   "metadata": {
    "ExecuteTime": {
     "end_time": "2019-12-08T22:02:37.412568Z",
     "start_time": "2019-12-08T22:02:37.407961Z"
    }
   },
   "outputs": [],
   "source": [
    "import pandas as pd\n",
    "import numpy as np\n",
    "import matplotlib.pyplot as plt\n",
    "import statsmodels.api as sm  #!pip install statsmodels"
   ]
  },
  {
   "cell_type": "markdown",
   "metadata": {},
   "source": [
    "## Carga de archivo csv desde una URL"
   ]
  },
  {
   "cell_type": "code",
   "execution_count": null,
   "metadata": {
    "ExecuteTime": {
     "end_time": "2019-12-08T22:02:38.571087Z",
     "start_time": "2019-12-08T22:02:37.416370Z"
    }
   },
   "outputs": [],
   "source": [
    "url = 'https://raw.githubusercontent.com/lorey/list-of-countries/master/csv/countries.csv'\n",
    "df = pd.read_csv(url, sep=\";\") #index_col=0\n",
    "display(df.head(5))\n",
    "print(df.head(5))"
   ]
  },
  {
   "cell_type": "code",
   "execution_count": null,
   "metadata": {},
   "outputs": [],
   "source": [
    "# ver las primeras filas \n",
    "df.head()"
   ]
  },
  {
   "cell_type": "code",
   "execution_count": null,
   "metadata": {},
   "outputs": [],
   "source": [
    "# ver las ultimas  filas \n",
    "df.tail()"
   ]
  },
  {
   "cell_type": "code",
   "execution_count": null,
   "metadata": {},
   "outputs": [],
   "source": [
    "# ver las exemplos de filas \n",
    "df.sample()"
   ]
  },
  {
   "cell_type": "code",
   "execution_count": null,
   "metadata": {},
   "outputs": [],
   "source": [
    "# guardamos en dataframe crudo en un archivo csv\n",
    "# df.to_csv(\"lista_de_paises.csv\") "
   ]
  },
  {
   "cell_type": "markdown",
   "metadata": {},
   "source": [
    "## Conocer información básica"
   ]
  },
  {
   "cell_type": "code",
   "execution_count": null,
   "metadata": {
    "ExecuteTime": {
     "end_time": "2019-12-08T23:09:35.570049Z",
     "start_time": "2019-12-08T23:09:35.562245Z"
    }
   },
   "outputs": [],
   "source": [
    "print('Cantidad de Filas y columnas:',df.shape)\n",
    "print('Nombre columnas:',end=\"\\n\\t\\t\")\n",
    "print(*df.columns,sep=\", \")"
   ]
  },
  {
   "cell_type": "code",
   "execution_count": null,
   "metadata": {
    "ExecuteTime": {
     "end_time": "2019-12-08T22:02:38.606905Z",
     "start_time": "2019-12-08T22:02:38.587047Z"
    }
   },
   "outputs": [],
   "source": [
    "df.info()"
   ]
  },
  {
   "cell_type": "markdown",
   "metadata": {},
   "source": [
    "Pandas filtra las features numéricas y calcula datos estadísticos que pueden ser útiles: cantidad,\n",
    "media, desvío estándar, valores máximo y mínimo."
   ]
  },
  {
   "cell_type": "code",
   "execution_count": null,
   "metadata": {
    "ExecuteTime": {
     "end_time": "2019-12-08T22:02:38.666169Z",
     "start_time": "2019-12-08T22:02:38.613732Z"
    }
   },
   "outputs": [],
   "source": [
    "df.describe()"
   ]
  },
  {
   "cell_type": "markdown",
   "metadata": {},
   "source": [
    "## Matriz de Correlación\n",
    "\n",
    "Verifiquemos si hay correlación entre los datos"
   ]
  },
  {
   "cell_type": "code",
   "execution_count": null,
   "metadata": {
    "ExecuteTime": {
     "end_time": "2019-12-08T22:08:56.919335Z",
     "start_time": "2019-12-08T22:08:49.847520Z"
    }
   },
   "outputs": [],
   "source": [
    "corr = df.corr()\n",
    "display(corr)\n",
    "sm.graphics.plot_corr(corr, xnames=list(corr.columns))\n",
    "plt.show()"
   ]
  },
  {
   "cell_type": "markdown",
   "metadata": {},
   "source": [
    "En este caso vemos baja correlación entre las variables. Dependiendo del algoritmo que utilicemos\n",
    "podría ser una buena decisión eliminar features que tuvieran alta correlación\n",
    "Cargamos un segundo archivo csv para ahondar en el crecimiento de la población en los últimos\n",
    "años, filtramos a España y visualizamos"
   ]
  },
  {
   "cell_type": "markdown",
   "metadata": {},
   "source": [
    "## Cargar una segunda fuente de datos"
   ]
  },
  {
   "cell_type": "code",
   "execution_count": null,
   "metadata": {
    "ExecuteTime": {
     "end_time": "2019-12-08T22:02:39.201638Z",
     "start_time": "2019-12-08T22:02:38.669191Z"
    }
   },
   "outputs": [],
   "source": [
    "url = 'https://raw.githubusercontent.com/DrueStaples/Population_Growth/master/countries.csv'\n",
    "df_pop = pd.read_csv(url)\n",
    "print(df_pop.head(5))"
   ]
  },
  {
   "cell_type": "code",
   "execution_count": null,
   "metadata": {},
   "outputs": [],
   "source": [
    "df_pop.sample(10)"
   ]
  },
  {
   "cell_type": "code",
   "execution_count": null,
   "metadata": {},
   "outputs": [],
   "source": [
    "df_pop.to_csv(\"Poblacion_crecimiento.csv\")"
   ]
  },
  {
   "cell_type": "markdown",
   "metadata": {},
   "source": [
    "### Aqui vemos la población año tras año de España"
   ]
  },
  {
   "cell_type": "code",
   "execution_count": null,
   "metadata": {
    "ExecuteTime": {
     "end_time": "2019-12-08T22:02:39.223694Z",
     "start_time": "2019-12-08T22:02:39.204902Z"
    }
   },
   "outputs": [],
   "source": [
    "df_pop_es = df_pop[df_pop[\"country\"] == 'Spain' ]\n",
    "df_pop_es.head()"
   ]
  },
  {
   "cell_type": "code",
   "execution_count": null,
   "metadata": {},
   "outputs": [],
   "source": [
    "df_pop_es.drop([1416],axis=0)"
   ]
  },
  {
   "cell_type": "code",
   "execution_count": null,
   "metadata": {
    "ExecuteTime": {
     "end_time": "2019-12-08T22:02:39.242255Z",
     "start_time": "2019-12-08T22:02:39.233781Z"
    }
   },
   "outputs": [],
   "source": [
    "df_pop_es.shape"
   ]
  },
  {
   "cell_type": "markdown",
   "metadata": {},
   "source": [
    "## Visualicemos datos"
   ]
  },
  {
   "cell_type": "code",
   "execution_count": null,
   "metadata": {
    "ExecuteTime": {
     "end_time": "2019-12-08T22:02:39.496444Z",
     "start_time": "2019-12-08T22:02:39.249756Z"
    }
   },
   "outputs": [],
   "source": [
    "df_pop_es.drop(['country'],axis=1)['population'].plot(kind='bar')"
   ]
  },
  {
   "cell_type": "code",
   "execution_count": null,
   "metadata": {},
   "outputs": [],
   "source": [
    "df_pop_es.drop(['country'],axis=1).set_index(\"year\").plot()"
   ]
  },
  {
   "cell_type": "code",
   "execution_count": null,
   "metadata": {
    "ExecuteTime": {
     "end_time": "2019-12-08T22:02:39.520411Z",
     "start_time": "2019-12-08T22:02:39.499275Z"
    }
   },
   "outputs": [],
   "source": [
    "df_pop_ar = df_pop[(df_pop[\"country\"] == 'Argentina')]\n",
    "df_pop_ar.head()"
   ]
  },
  {
   "cell_type": "code",
   "execution_count": null,
   "metadata": {
    "ExecuteTime": {
     "end_time": "2019-12-08T22:02:39.549547Z",
     "start_time": "2019-12-08T22:02:39.523476Z"
    }
   },
   "outputs": [],
   "source": [
    "df_pop_ar.shape"
   ]
  },
  {
   "cell_type": "code",
   "execution_count": null,
   "metadata": {
    "ExecuteTime": {
     "end_time": "2019-12-08T22:02:39.807622Z",
     "start_time": "2019-12-08T22:02:39.552783Z"
    }
   },
   "outputs": [],
   "source": [
    "df_pop_ar.set_index('year').plot(kind='bar')"
   ]
  },
  {
   "cell_type": "markdown",
   "metadata": {},
   "source": [
    "## Comparativa entre 2 países"
   ]
  },
  {
   "cell_type": "code",
   "execution_count": null,
   "metadata": {
    "ExecuteTime": {
     "end_time": "2019-12-08T22:02:40.139905Z",
     "start_time": "2019-12-08T22:02:39.810381Z"
    }
   },
   "outputs": [],
   "source": [
    "anios  = df_pop_es['year'].unique()\n",
    "pop_ar = df_pop_ar['population'].values\n",
    "pop_es = df_pop_es['population'].values\n",
    "\n",
    "df_plot = pd.DataFrame({'Argentina': pop_ar,\n",
    "                    'Spain': pop_es}, \n",
    "                       index=anios)\n",
    "df_plot.plot(kind='bar')"
   ]
  },
  {
   "cell_type": "code",
   "execution_count": null,
   "metadata": {},
   "outputs": [],
   "source": [
    "df_plot.plot()"
   ]
  },
  {
   "cell_type": "code",
   "execution_count": null,
   "metadata": {},
   "outputs": [],
   "source": [
    "plt.plot(anios, pop_ar  ,'go-', label = \"argentina\")\n",
    "plt.plot(anios, pop_es  ,'bo-', label = \"españa\")\n",
    "plt.legend()\n",
    "plt.show()"
   ]
  },
  {
   "cell_type": "markdown",
   "metadata": {},
   "source": [
    "# Filtremos paises hispano-hablantes"
   ]
  },
  {
   "cell_type": "code",
   "execution_count": null,
   "metadata": {
    "ExecuteTime": {
     "end_time": "2019-12-08T22:02:40.199235Z",
     "start_time": "2019-12-08T22:02:40.142691Z"
    }
   },
   "outputs": [],
   "source": [
    "df_espanol = df.replace(np.nan, '', regex=True)\n",
    "df_espanol = df_espanol[ df_espanol['languages'].str.contains('es') ]\n",
    "df_espanol"
   ]
  },
  {
   "cell_type": "code",
   "execution_count": null,
   "metadata": {
    "ExecuteTime": {
     "end_time": "2019-12-08T22:02:40.210324Z",
     "start_time": "2019-12-08T22:02:40.202616Z"
    }
   },
   "outputs": [],
   "source": [
    "df_espanol.shape"
   ]
  },
  {
   "cell_type": "markdown",
   "metadata": {},
   "source": [
    "## Visualicemos por población"
   ]
  },
  {
   "cell_type": "code",
   "execution_count": null,
   "metadata": {
    "ExecuteTime": {
     "end_time": "2019-12-08T22:02:40.806679Z",
     "start_time": "2019-12-08T22:02:40.213973Z"
    }
   },
   "outputs": [],
   "source": [
    "df_espanol.set_index('alpha_3')[['population','area']].plot(kind='bar',rot=65,figsize=(20,10))"
   ]
  },
  {
   "cell_type": "markdown",
   "metadata": {},
   "source": [
    "## Detección de Outliers"
   ]
  },
  {
   "cell_type": "code",
   "execution_count": null,
   "metadata": {
    "ExecuteTime": {
     "end_time": "2019-12-08T22:02:55.543787Z",
     "start_time": "2019-12-08T22:02:55.521193Z"
    }
   },
   "outputs": [],
   "source": [
    "anomalies = []\n",
    "\n",
    "# Funcion ejemplo para detección de outliers\n",
    "def find_anomalies(data):\n",
    "    # Establecer límite superior e inferior a 2 desviación estándar\n",
    "    data_std  = data.std()\n",
    "    data_mean = data.mean()\n",
    "    anomaly_cut_off = data_std * 2\n",
    "    lower_limit     = data_mean - anomaly_cut_off \n",
    "    upper_limit     = data_mean + anomaly_cut_off\n",
    "    print(lower_limit.iloc[0])\n",
    "    print(upper_limit.iloc[0])\n",
    "\n",
    "    # Generate outliers\n",
    "    for index, row in data.iterrows():\n",
    "        outlier = row # # obtener primer columna\n",
    "        # print(row)\n",
    "        if (outlier.iloc[0] > upper_limit.iloc[0]) or \\\n",
    "           (outlier.iloc[0] < lower_limit.iloc[0]):\n",
    "            anomalies.append(index)\n",
    "    return anomalies\n",
    "\n",
    "anomalies = find_anomalies(df_espanol[['population']])"
   ]
  },
  {
   "cell_type": "code",
   "execution_count": null,
   "metadata": {},
   "outputs": [],
   "source": [
    "anomalies"
   ]
  },
  {
   "cell_type": "code",
   "execution_count": null,
   "metadata": {
    "ExecuteTime": {
     "end_time": "2019-12-08T22:03:21.432811Z",
     "start_time": "2019-12-08T22:03:21.427535Z"
    }
   },
   "outputs": [],
   "source": [
    "# Quitemos BRA y USA por ser outlies y volvamos a graficar:\n",
    "df_espanol.drop(anomalies, inplace = True)"
   ]
  },
  {
   "cell_type": "code",
   "execution_count": null,
   "metadata": {
    "ExecuteTime": {
     "end_time": "2019-12-08T22:03:22.946923Z",
     "start_time": "2019-12-08T22:03:22.477307Z"
    }
   },
   "outputs": [],
   "source": [
    "df_espanol.set_index('alpha_3')[['population','area']].plot(kind='bar',rot=65,figsize=(20,10))"
   ]
  },
  {
   "cell_type": "markdown",
   "metadata": {},
   "source": [
    "## Graficamos ordenando por tamaño Población"
   ]
  },
  {
   "cell_type": "code",
   "execution_count": null,
   "metadata": {
    "ExecuteTime": {
     "end_time": "2019-12-08T22:03:26.045129Z",
     "start_time": "2019-12-08T22:03:25.515844Z"
    }
   },
   "outputs": [],
   "source": [
    "df_espanol.set_index('alpha_3')[['population','area']].sort_values([\"population\"]).plot(kind='bar',rot=65,figsize=(20,10))"
   ]
  },
  {
   "cell_type": "markdown",
   "metadata": {},
   "source": [
    "## Visualización por Área"
   ]
  },
  {
   "cell_type": "code",
   "execution_count": null,
   "metadata": {
    "ExecuteTime": {
     "end_time": "2019-12-08T22:03:28.127698Z",
     "start_time": "2019-12-08T22:03:27.680006Z"
    }
   },
   "outputs": [],
   "source": [
    "df_espanol.set_index('alpha_3')[['area']].sort_values([\"area\"]).plot(kind='bar',rot=65,figsize=(20,10))"
   ]
  },
  {
   "cell_type": "code",
   "execution_count": null,
   "metadata": {
    "ExecuteTime": {
     "end_time": "2019-12-08T22:36:50.772742Z",
     "start_time": "2019-12-08T22:36:50.738258Z"
    }
   },
   "outputs": [],
   "source": [
    "# En este caso, podriamos quitar por \"lo bajo\", area menor a 110.000 km2:\n",
    "df_2 = df_espanol.set_index('alpha_3')\n",
    "df_2 = df_2[df_2['area'] > 110000]\n",
    "df_2"
   ]
  },
  {
   "cell_type": "code",
   "execution_count": null,
   "metadata": {
    "ExecuteTime": {
     "end_time": "2019-12-08T22:36:55.622303Z",
     "start_time": "2019-12-08T22:36:55.227650Z"
    }
   },
   "outputs": [],
   "source": [
    "df_2[['area']].sort_values([\"area\"]).plot(kind='bar',rot=65,figsize=(20,10))"
   ]
  },
  {
   "cell_type": "code",
   "execution_count": null,
   "metadata": {},
   "outputs": [],
   "source": [
    "df_espanol.set_index('alpha_3')[['population','area']].plot(kind='bar',rot=0,figsize=(20,15),width=0.8)"
   ]
  },
  {
   "cell_type": "code",
   "execution_count": null,
   "metadata": {},
   "outputs": [],
   "source": [
    "df_espanol.set_index('alpha_3')[\n",
    "    ['population','area']].sort_values(\n",
    "    [\"population\"]).plot(kind='bar',rot=65,figsize=(20,10),width=0.8)"
   ]
  },
  {
   "cell_type": "code",
   "execution_count": null,
   "metadata": {},
   "outputs": [],
   "source": [
    "\n",
    "df_2[['area']].sort_values([\"area\"]).plot(kind='pie',subplots=True,rot=65,figsize=(20,10))"
   ]
  },
  {
   "cell_type": "code",
   "execution_count": null,
   "metadata": {},
   "outputs": [],
   "source": []
  },
  {
   "cell_type": "code",
   "execution_count": null,
   "metadata": {},
   "outputs": [],
   "source": [
    "df_2.area.plot(kind = \"pie\",)"
   ]
  },
  {
   "cell_type": "code",
   "execution_count": null,
   "metadata": {},
   "outputs": [],
   "source": []
  }
 ],
 "metadata": {
  "kernelspec": {
   "display_name": "Python 3",
   "language": "python",
   "name": "python3"
  },
  "language_info": {
   "codemirror_mode": {
    "name": "ipython",
    "version": 3
   },
   "file_extension": ".py",
   "mimetype": "text/x-python",
   "name": "python",
   "nbconvert_exporter": "python",
   "pygments_lexer": "ipython3",
   "version": "3.6.9"
  }
 },
 "nbformat": 4,
 "nbformat_minor": 4
}
