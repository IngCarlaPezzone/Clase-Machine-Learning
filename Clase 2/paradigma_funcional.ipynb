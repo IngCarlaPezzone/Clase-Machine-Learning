{
 "cells": [
  {
   "cell_type": "code",
   "execution_count": 1,
   "metadata": {},
   "outputs": [],
   "source": [
    "datos=[3,8,11,16,21,24]"
   ]
  },
  {
   "cell_type": "code",
   "execution_count": 7,
   "metadata": {},
   "outputs": [],
   "source": [
    "datos = range(1000)"
   ]
  },
  {
   "cell_type": "markdown",
   "metadata": {},
   "source": [
    "hallar la suma del boble de los numeros pares  \n",
    "com el paradigma imperativo"
   ]
  },
  {
   "cell_type": "code",
   "execution_count": 8,
   "metadata": {},
   "outputs": [
    {
     "name": "stdout",
     "output_type": "stream",
     "text": [
      "CPU times: user 154 µs, sys: 31 µs, total: 185 µs\n",
      "Wall time: 188 µs\n"
     ]
    },
    {
     "data": {
      "text/plain": [
       "499000"
      ]
     },
     "execution_count": 8,
     "metadata": {},
     "output_type": "execute_result"
    }
   ],
   "source": [
    "%%time\n",
    "suma = 0\n",
    "for i in datos:\n",
    "    if i%2 == 0:\n",
    "        suma += i*2 # suma = suma + i * 2\n",
    "suma"
   ]
  },
  {
   "cell_type": "markdown",
   "metadata": {},
   "source": [
    "con una lista de comprencion"
   ]
  },
  {
   "cell_type": "code",
   "execution_count": 9,
   "metadata": {},
   "outputs": [
    {
     "name": "stdout",
     "output_type": "stream",
     "text": [
      "CPU times: user 106 µs, sys: 22 µs, total: 128 µs\n",
      "Wall time: 132 µs\n"
     ]
    },
    {
     "data": {
      "text/plain": [
       "499000"
      ]
     },
     "execution_count": 9,
     "metadata": {},
     "output_type": "execute_result"
    }
   ],
   "source": [
    "%%time\n",
    "suma = sum ( [ x*2 for x in datos if x % 2 == 0 ] )\n",
    "suma"
   ]
  },
  {
   "cell_type": "code",
   "execution_count": null,
   "metadata": {},
   "outputs": [],
   "source": [
    "def funcion(parametro):\n",
    "    ...\n",
    "    ...\n",
    "    return( valor) "
   ]
  },
  {
   "cell_type": "code",
   "execution_count": 9,
   "metadata": {},
   "outputs": [],
   "source": [
    "suma = lambda x,y : x +y "
   ]
  },
  {
   "cell_type": "code",
   "execution_count": 11,
   "metadata": {},
   "outputs": [
    {
     "data": {
      "text/plain": [
       "27"
      ]
     },
     "execution_count": 11,
     "metadata": {},
     "output_type": "execute_result"
    }
   ],
   "source": [
    "suma(15,12)"
   ]
  },
  {
   "cell_type": "code",
   "execution_count": null,
   "metadata": {},
   "outputs": [],
   "source": []
  },
  {
   "cell_type": "markdown",
   "metadata": {},
   "source": [
    "con paradigma funcional"
   ]
  },
  {
   "cell_type": "code",
   "execution_count": 8,
   "metadata": {},
   "outputs": [],
   "source": [
    "from functools import reduce"
   ]
  },
  {
   "cell_type": "code",
   "execution_count": 12,
   "metadata": {},
   "outputs": [
    {
     "data": {
      "text/plain": [
       "96"
      ]
     },
     "execution_count": 12,
     "metadata": {},
     "output_type": "execute_result"
    }
   ],
   "source": [
    "# aca los datos no pasan por bucles evitando que ocurra un error en la iteracion\n",
    "suma = reduce( lambda x,y: x+y , map( lambda x: x*2 , filter(lambda x: x%2 == 0, datos)))\n",
    "suma"
   ]
  },
  {
   "cell_type": "markdown",
   "metadata": {},
   "source": [
    "### Funcion map"
   ]
  },
  {
   "cell_type": "code",
   "execution_count": 13,
   "metadata": {},
   "outputs": [],
   "source": [
    "datos=[3,4,5,6,7,8,9]"
   ]
  },
  {
   "cell_type": "code",
   "execution_count": 25,
   "metadata": {},
   "outputs": [],
   "source": [
    "\n",
    "#  map pasa por una funcion un o varios iterables\n",
    "dobles = map (lambda x: x*2, datos)"
   ]
  },
  {
   "cell_type": "code",
   "execution_count": 15,
   "metadata": {},
   "outputs": [
    {
     "name": "stdout",
     "output_type": "stream",
     "text": [
      "<class 'map'>\n"
     ]
    }
   ],
   "source": [
    "print(type(dobles))"
   ]
  },
  {
   "cell_type": "code",
   "execution_count": 16,
   "metadata": {},
   "outputs": [
    {
     "data": {
      "text/plain": [
       "<map at 0x7fd3b8077a90>"
      ]
     },
     "execution_count": 16,
     "metadata": {},
     "output_type": "execute_result"
    }
   ],
   "source": [
    "dobles"
   ]
  },
  {
   "cell_type": "markdown",
   "metadata": {},
   "source": [
    "map genera un iterador que podemos llamar sus valores con next o haciendo un bucle for"
   ]
  },
  {
   "cell_type": "code",
   "execution_count": 24,
   "metadata": {},
   "outputs": [
    {
     "ename": "StopIteration",
     "evalue": "",
     "output_type": "error",
     "traceback": [
      "\u001b[0;31m---------------------------------------------------------------------------\u001b[0m",
      "\u001b[0;31mStopIteration\u001b[0m                             Traceback (most recent call last)",
      "\u001b[0;32m<ipython-input-24-a3bc8b2ddb17>\u001b[0m in \u001b[0;36m<module>\u001b[0;34m\u001b[0m\n\u001b[0;32m----> 1\u001b[0;31m \u001b[0mnext\u001b[0m\u001b[0;34m(\u001b[0m\u001b[0mdobles\u001b[0m\u001b[0;34m)\u001b[0m\u001b[0;34m\u001b[0m\u001b[0;34m\u001b[0m\u001b[0m\n\u001b[0m",
      "\u001b[0;31mStopIteration\u001b[0m: "
     ]
    }
   ],
   "source": [
    "next(dobles)"
   ]
  },
  {
   "cell_type": "code",
   "execution_count": 26,
   "metadata": {},
   "outputs": [
    {
     "name": "stdout",
     "output_type": "stream",
     "text": [
      "6\n",
      "8\n",
      "10\n",
      "12\n",
      "14\n",
      "16\n",
      "18\n"
     ]
    }
   ],
   "source": [
    "for i in dobles:\n",
    "    print(i)"
   ]
  },
  {
   "cell_type": "code",
   "execution_count": 27,
   "metadata": {},
   "outputs": [
    {
     "ename": "StopIteration",
     "evalue": "",
     "output_type": "error",
     "traceback": [
      "\u001b[0;31m---------------------------------------------------------------------------\u001b[0m",
      "\u001b[0;31mStopIteration\u001b[0m                             Traceback (most recent call last)",
      "\u001b[0;32m<ipython-input-27-5db486e98c9d>\u001b[0m in \u001b[0;36m<module>\u001b[0;34m\u001b[0m\n\u001b[0;32m----> 1\u001b[0;31m \u001b[0mnext\u001b[0m\u001b[0;34m(\u001b[0m\u001b[0mdobles\u001b[0m\u001b[0;34m)\u001b[0m \u001b[0;31m# da error por que el bucle for agoto el ieterador y ya no quedan valores\u001b[0m\u001b[0;34m\u001b[0m\u001b[0;34m\u001b[0m\u001b[0m\n\u001b[0m",
      "\u001b[0;31mStopIteration\u001b[0m: "
     ]
    }
   ],
   "source": [
    "next(dobles) # da error por que el bucle for agoto el ieterador y ya no quedan valores"
   ]
  },
  {
   "cell_type": "code",
   "execution_count": 28,
   "metadata": {},
   "outputs": [
    {
     "name": "stdout",
     "output_type": "stream",
     "text": [
      "<class 'list'> [6, 8, 10, 12, 14, 16, 18]\n",
      "<class 'tuple'> (6, 8, 10, 12, 14, 16, 18)\n",
      "<class 'set'> {6, 8, 10, 12, 14, 16, 18}\n",
      "<class 'frozenset'> frozenset({6, 8, 10, 12, 14, 16, 18})\n"
     ]
    }
   ],
   "source": [
    "# tambien se puede convertir en un itarable con list, tuple, set, frozenset\n",
    "lista_dobles     = list(map(lambda x: x*2,datos))\n",
    "tupla_dobles     = tuple(map(lambda x: x*2,datos))\n",
    "conjunto_dobles  = set(map(lambda x: x*2,datos))\n",
    "conjunto_inm_dob = frozenset(map(lambda x: x*2,datos))\n",
    "\n",
    "print(type(lista_dobles ),lista_dobles )\n",
    "print(type(tupla_dobles ),tupla_dobles )\n",
    "print(type(conjunto_dobles ),conjunto_dobles )\n",
    "print(type(conjunto_inm_dob ),conjunto_inm_dob )"
   ]
  },
  {
   "cell_type": "markdown",
   "metadata": {},
   "source": [
    "con funciones nuestras"
   ]
  },
  {
   "cell_type": "code",
   "execution_count": 29,
   "metadata": {},
   "outputs": [],
   "source": [
    "def celc_farh(c):\n",
    "    return (c*1.2)+ 32"
   ]
  },
  {
   "cell_type": "code",
   "execution_count": 30,
   "metadata": {},
   "outputs": [],
   "source": [
    "temperaturas=(-32,0,12,25,32,100,150)"
   ]
  },
  {
   "cell_type": "code",
   "execution_count": 31,
   "metadata": {},
   "outputs": [
    {
     "data": {
      "text/plain": [
       "(-6.399999999999999, 32.0, 46.4, 62.0, 70.4, 152.0, 212.0)"
      ]
     },
     "execution_count": 31,
     "metadata": {},
     "output_type": "execute_result"
    }
   ],
   "source": [
    "far=tuple(map(celc_farh,temperaturas))\n",
    "far"
   ]
  },
  {
   "cell_type": "code",
   "execution_count": 35,
   "metadata": {},
   "outputs": [
    {
     "name": "stdout",
     "output_type": "stream",
     "text": [
      "['emiliano', 'adrian', 'belen', 'luca', 'federico', 'micaela', 'luca']\n"
     ]
    },
    {
     "data": {
      "text/plain": [
       "['Emiliano', 'Federico', 'Micaela', 'Adrian', 'Belen', 'Luca']"
      ]
     },
     "execution_count": 35,
     "metadata": {},
     "output_type": "execute_result"
    }
   ],
   "source": [
    "nombres = \"emiliano adrian belen luca federico micaela luca\".split()\n",
    "print(nombres)\n",
    "nombres_capi = list(set(map(str.capitalize,nombres)))\n",
    "nombres_capi"
   ]
  },
  {
   "cell_type": "code",
   "execution_count": 36,
   "metadata": {},
   "outputs": [],
   "source": [
    "def suma(x,y):\n",
    "    return x+y"
   ]
  },
  {
   "cell_type": "code",
   "execution_count": 37,
   "metadata": {},
   "outputs": [
    {
     "data": {
      "text/plain": [
       "[10, 10, 10, 10, 10, 10, 10, 10, 10]"
      ]
     },
     "execution_count": 37,
     "metadata": {},
     "output_type": "execute_result"
    }
   ],
   "source": [
    "numeros1  = (1,2,3,4,5,6,7,8,9)\n",
    "numeros2  = [9,8,7,6,5,4,3,2,1]\n",
    "resultado = list(map (suma, numeros1, numeros2 ))\n",
    "resultado"
   ]
  },
  {
   "cell_type": "markdown",
   "metadata": {},
   "source": [
    "### Funcion Filter"
   ]
  },
  {
   "cell_type": "code",
   "execution_count": 53,
   "metadata": {},
   "outputs": [],
   "source": [
    "def esneg(numero):\n",
    "    # Devuelve True/False según sea o no nº negativo\n",
    "    return (numero < 0 and numero % 2 == 0)\n",
    "\n",
    "lista = [-3, -2, 0, 1, 9, -5,-45,25,35,-102,-0.5]\n"
   ]
  },
  {
   "cell_type": "code",
   "execution_count": 54,
   "metadata": {},
   "outputs": [],
   "source": [
    "negt=filter(esneg,lista)"
   ]
  },
  {
   "cell_type": "code",
   "execution_count": 55,
   "metadata": {},
   "outputs": [
    {
     "data": {
      "text/plain": [
       "filter"
      ]
     },
     "execution_count": 55,
     "metadata": {},
     "output_type": "execute_result"
    }
   ],
   "source": [
    "type(negt)"
   ]
  },
  {
   "cell_type": "code",
   "execution_count": 49,
   "metadata": {},
   "outputs": [
    {
     "ename": "StopIteration",
     "evalue": "",
     "output_type": "error",
     "traceback": [
      "\u001b[0;31m---------------------------------------------------------------------------\u001b[0m",
      "\u001b[0;31mStopIteration\u001b[0m                             Traceback (most recent call last)",
      "\u001b[0;32m<ipython-input-49-c5ccb43b6e67>\u001b[0m in \u001b[0;36m<module>\u001b[0;34m\u001b[0m\n\u001b[0;32m----> 1\u001b[0;31m \u001b[0mnext\u001b[0m\u001b[0;34m(\u001b[0m\u001b[0mnegt\u001b[0m\u001b[0;34m)\u001b[0m\u001b[0;34m\u001b[0m\u001b[0;34m\u001b[0m\u001b[0m\n\u001b[0m",
      "\u001b[0;31mStopIteration\u001b[0m: "
     ]
    }
   ],
   "source": [
    "next(negt)"
   ]
  },
  {
   "cell_type": "code",
   "execution_count": 56,
   "metadata": {},
   "outputs": [
    {
     "name": "stdout",
     "output_type": "stream",
     "text": [
      "-2\n",
      "-102\n"
     ]
    }
   ],
   "source": [
    "for i in negt:\n",
    "    print(i)"
   ]
  },
  {
   "cell_type": "code",
   "execution_count": null,
   "metadata": {},
   "outputs": [],
   "source": [
    "next(negt)"
   ]
  },
  {
   "cell_type": "code",
   "execution_count": 57,
   "metadata": {},
   "outputs": [],
   "source": [
    "negativos = tuple(filter(lambda x : x<0, lista)) "
   ]
  },
  {
   "cell_type": "code",
   "execution_count": 58,
   "metadata": {},
   "outputs": [
    {
     "data": {
      "text/plain": [
       "(-3, -2, -5, -45, -102, -0.5)"
      ]
     },
     "execution_count": 58,
     "metadata": {},
     "output_type": "execute_result"
    }
   ],
   "source": [
    "negativos"
   ]
  },
  {
   "cell_type": "code",
   "execution_count": 59,
   "metadata": {},
   "outputs": [],
   "source": [
    "datos=(0,1,2,3,4,5,6,7,8,9,10,\"\",False,True,None,[],[1,2,3],{})"
   ]
  },
  {
   "cell_type": "code",
   "execution_count": 60,
   "metadata": {},
   "outputs": [
    {
     "name": "stdout",
     "output_type": "stream",
     "text": [
      "[1, 2, 3, 4, 5, 6, 7, 8, 9, 10, True, [1, 2, 3]]\n"
     ]
    }
   ],
   "source": [
    "print(list (filter(lambda x : bool(x), datos)))"
   ]
  },
  {
   "cell_type": "code",
   "execution_count": 61,
   "metadata": {},
   "outputs": [
    {
     "name": "stdout",
     "output_type": "stream",
     "text": [
      "(1, 2, 3, 4, 5, 6, 7, 8, 9, 10, True, [1, 2, 3])\n"
     ]
    }
   ],
   "source": [
    "print(tuple(filter(bool, datos)))"
   ]
  },
  {
   "cell_type": "code",
   "execution_count": 62,
   "metadata": {},
   "outputs": [
    {
     "name": "stdout",
     "output_type": "stream",
     "text": [
      "[1, 2, 3, 4, 5, 6, 7, 8, 9, 10, True, [1, 2, 3]]\n"
     ]
    }
   ],
   "source": [
    "print(list (filter(None, datos)))"
   ]
  },
  {
   "cell_type": "code",
   "execution_count": 63,
   "metadata": {},
   "outputs": [
    {
     "name": "stdout",
     "output_type": "stream",
     "text": [
      "(0, 1, 2, 3, 4, 5, 6, 7, 8, 9, 10, '', False, True, [], [1, 2, 3], {})\n"
     ]
    }
   ],
   "source": [
    "print(tuple (filter(lambda x : x is not None, datos)))"
   ]
  },
  {
   "cell_type": "code",
   "execution_count": 64,
   "metadata": {},
   "outputs": [
    {
     "name": "stdout",
     "output_type": "stream",
     "text": [
      "[0, 1, 2, 3, 4, 5, 6, 7, 8, 9, 10, '', True, None, [], [1, 2, 3], {}]\n"
     ]
    }
   ],
   "source": [
    "print(list (filter(lambda x : x is not False, datos)))"
   ]
  },
  {
   "cell_type": "code",
   "execution_count": 65,
   "metadata": {},
   "outputs": [
    {
     "name": "stdout",
     "output_type": "stream",
     "text": [
      "(0, 1, 2, 3, 4, 5, 6, 7, 8, 9, 10, '', False, None, [], [1, 2, 3], {})\n"
     ]
    }
   ],
   "source": [
    "print(tuple (filter(lambda x : x is not True, datos)))"
   ]
  },
  {
   "cell_type": "code",
   "execution_count": 66,
   "metadata": {},
   "outputs": [
    {
     "name": "stdout",
     "output_type": "stream",
     "text": [
      "[0, '', False, None, [], {}]\n"
     ]
    }
   ],
   "source": [
    "print(list (filter(lambda x : bool(x) is not True, datos)))"
   ]
  },
  {
   "cell_type": "code",
   "execution_count": 67,
   "metadata": {},
   "outputs": [],
   "source": [
    "metales= {\n",
    "    \"hierro\":10,\n",
    "    \"cobre\" :11,\n",
    "    \"zinc\":25,\n",
    "    \"plata\":100,\n",
    "    \"oro\":500,\n",
    "    \"aluminio\" : 50,\n",
    "    \"plomo\" : 25}"
   ]
  },
  {
   "cell_type": "code",
   "execution_count": 68,
   "metadata": {},
   "outputs": [
    {
     "name": "stdout",
     "output_type": "stream",
     "text": [
      "['plata', 'oro']\n"
     ]
    }
   ],
   "source": [
    "print(list( filter( lambda x : (metales[x] >= 100) ,metales)))"
   ]
  },
  {
   "cell_type": "code",
   "execution_count": 69,
   "metadata": {},
   "outputs": [
    {
     "name": "stdout",
     "output_type": "stream",
     "text": [
      "['plata', 'oro']\n"
     ]
    }
   ],
   "source": [
    "print([x for x in metales if (metales[x] >= 100)])"
   ]
  },
  {
   "cell_type": "code",
   "execution_count": 71,
   "metadata": {},
   "outputs": [
    {
     "name": "stdout",
     "output_type": "stream",
     "text": [
      "['oro', 'aluminio']\n"
     ]
    }
   ],
   "source": [
    "print(list(filter(lambda x : \"o\" in x , filter (lambda x :(metales[x] >= 50) ,metales))))"
   ]
  },
  {
   "cell_type": "code",
   "execution_count": 73,
   "metadata": {},
   "outputs": [
    {
     "name": "stdout",
     "output_type": "stream",
     "text": [
      "['oro', 'aluminio']\n"
     ]
    }
   ],
   "source": [
    "print(list(filter(lambda x : (metales[x] >= 50) and \"o\" in x ,metales)))"
   ]
  },
  {
   "cell_type": "code",
   "execution_count": 75,
   "metadata": {},
   "outputs": [
    {
     "name": "stdout",
     "output_type": "stream",
     "text": [
      "['oro', 'aluminio']\n"
     ]
    }
   ],
   "source": [
    "print([x for x in metales if (metales[x] >= 50) and \"o\" in x])"
   ]
  },
  {
   "cell_type": "code",
   "execution_count": 76,
   "metadata": {},
   "outputs": [
    {
     "data": {
      "text/plain": [
       "['oro', 'aluminio']"
      ]
     },
     "execution_count": 76,
     "metadata": {},
     "output_type": "execute_result"
    }
   ],
   "source": [
    "selecion = list(filter(lambda x : (metales[x] >= 50) if \"o\" in  x else None,  metales))\n",
    "selecion"
   ]
  },
  {
   "cell_type": "code",
   "execution_count": null,
   "metadata": {},
   "outputs": [],
   "source": []
  },
  {
   "cell_type": "code",
   "execution_count": null,
   "metadata": {},
   "outputs": [],
   "source": []
  },
  {
   "cell_type": "code",
   "execution_count": 77,
   "metadata": {},
   "outputs": [
    {
     "name": "stdout",
     "output_type": "stream",
     "text": [
      "24\n"
     ]
    }
   ],
   "source": [
    "import functools\n",
    "\n",
    "def multiplicar(x, y):\n",
    "    #print(x * y)  # muestra el resultado parcial\n",
    "    return x * y\n",
    "\n",
    "lista = [1, 2, 3, 4]\n",
    "valor = functools.reduce(multiplicar, lista) # pasa la lista por la funcion elemento por elemento acumulando los resultados\n",
    "print(valor)  # muestra el resultado final"
   ]
  },
  {
   "cell_type": "code",
   "execution_count": null,
   "metadata": {},
   "outputs": [],
   "source": []
  },
  {
   "cell_type": "code",
   "execution_count": null,
   "metadata": {},
   "outputs": [],
   "source": [
    "import functools\n",
    "\n",
    "\n",
    "def myfunc(a, b=2):\n",
    "    \"Docstring for myfunc().\"\n",
    "    print('llamando a my funcion con :', (a, b))\n",
    "\n",
    "\n",
    "def show_details(name, f, is_partial=False):\n",
    "    \"Show details of a callable object.\"\n",
    "    print('{}:'.format(name))\n",
    "    print('  objeto            :', f)\n",
    "    if not is_partial:\n",
    "        print('  __name__          :', f.__name__)\n",
    "    if is_partial:\n",
    "        print('  funcion           :', f.func)\n",
    "        print('  argumentos args   :', f.args)\n",
    "        print('  llaves de  Kwargs :', f.keywords)\n",
    "    return\n",
    "\n",
    "\n",
    "show_details('myfunc', myfunc)\n",
    "myfunc('a', 3)\n",
    "print()\n",
    "\n",
    "# Set a different default value for 'b', but require\n",
    "# the caller to provide 'a'.\n",
    "p1 = functools.partial(myfunc, b=4)\n",
    "show_details('partial con argumento con nombre', p1, True)\n",
    "#p1('les paso hola')\n",
    "#p1('y ahora chau', b=5)\n",
    "print()\n",
    "\n",
    "# Set default values for both 'a' and 'b'.\n",
    "p2 = functools.partial(myfunc, 'dato por default ', b=99)\n",
    "show_details('partial con argumentos por defaults', p2, True)\n",
    "#p2()\n",
    "#p2(b='aca va el argumento b')\n",
    "print()\n",
    "\n",
    "print('Insufficient arguments:')\n",
    "p1()"
   ]
  },
  {
   "cell_type": "code",
   "execution_count": null,
   "metadata": {},
   "outputs": [],
   "source": []
  },
  {
   "cell_type": "code",
   "execution_count": null,
   "metadata": {},
   "outputs": [],
   "source": []
  }
 ],
 "metadata": {
  "kernelspec": {
   "display_name": "Python 3",
   "language": "python",
   "name": "python3"
  },
  "language_info": {
   "codemirror_mode": {
    "name": "ipython",
    "version": 3
   },
   "file_extension": ".py",
   "mimetype": "text/x-python",
   "name": "python",
   "nbconvert_exporter": "python",
   "pygments_lexer": "ipython3",
   "version": "3.6.9"
  }
 },
 "nbformat": 4,
 "nbformat_minor": 4
}
