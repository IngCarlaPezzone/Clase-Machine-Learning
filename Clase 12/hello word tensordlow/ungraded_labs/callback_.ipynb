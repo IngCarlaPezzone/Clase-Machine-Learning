{
 "cells": [
  {
   "cell_type": "markdown",
   "metadata": {},
   "source": [
    "<a target=\"_blank\" href=\"https://colab.research.google.com/github/IngCarlaPezzone/tensorflow-1-public/blob/main/C1/W2/ungraded_labs/C1_W2_Lab_2_callbacks_traducida.ipynb\">\n",
    "  <img src=\"https://colab.research.google.com/assets/colab-badge.svg\" alt=\"Open In Colab\"/>\n",
    "</a>"
   ]
  },
  {
   "cell_type": "markdown",
   "metadata": {
    "id": "vBNo9JrZIYG6"
   },
   "source": [
    "# Ungraded Lab: Uso de las devoluciones de llamada (Callbacks) para controlar el entrenamiento\n",
    "\n",
    "En este laboratorio, utilizará la [API de devoluciones de llamada](https://keras.io/api/callbacks/) para detener el entrenamiento cuando se cumpla una métrica especificada. Esta es una función útil para no tener que completar todas las épocas cuando se alcanza este umbral. Por ejemplo, si estableces 1000 épocas y la precisión deseada se alcanza en la época 200, el entrenamiento se detendrá automáticamente. Veamos cómo se implementa esto en las siguientes secciones."
   ]
  },
  {
   "cell_type": "markdown",
   "metadata": {
    "id": "Mcwrn9AKKVb8"
   },
   "source": [
    "## Cargar y normalizar el conjunto de datos Fashion MNIST\n",
    "\n",
    "Al igual que en el laboratorio anterior, para este ejercicio volverás a utilizar el conjunto de datos Fashion MNIST. Y también como se mencionó antes, normalizará los valores de los píxeles para ayudar a optimizar el entrenamiento."
   ]
  },
  {
   "cell_type": "code",
   "execution_count": 1,
   "metadata": {
    "id": "8LTaefqDJMIn"
   },
   "outputs": [],
   "source": [
    "import tensorflow as tf\n",
    "\n",
    "# Instantiate the dataset API\n",
    "fmnist = tf.keras.datasets.fashion_mnist\n",
    "\n",
    "# Load the dataset\n",
    "(x_train, y_train),(x_test, y_test) = fmnist.load_data()\n",
    "\n",
    "# Normalize the pixel values\n",
    "x_train, x_test = x_train / 255.0, x_test / 255.0"
   ]
  },
  {
   "cell_type": "markdown",
   "metadata": {
    "id": "Ia2OadhALJjS"
   },
   "source": [
    "## Creación de una clase Callback\n",
    "\n",
    "Puedes crear una devolución de llamada definiendo una clase que herede la clase base [tf.keras.callbacks.Callback](https://www.tensorflow.org/api_docs/python/tf/keras/callbacks/Callback). A partir de ahí, puedes definir los métodos disponibles para establecer dónde se ejecutará el callback. Por ejemplo, a continuación, utilizarás el método [on_epoch_end()](https://www.tensorflow.org/api_docs/python/tf/keras/callbacks/Callback#on_epoch_end) para comprobar la pérdida en cada época de entrenamiento."
   ]
  },
  {
   "cell_type": "code",
   "execution_count": 2,
   "metadata": {
    "id": "uuRmQZWVJAJH"
   },
   "outputs": [],
   "source": [
    "class myCallback(tf.keras.callbacks.Callback):\n",
    "    def on_epoch_end(self, epoch, logs={}):\n",
    "        '''\n",
    "        Detiene el entrenamiento tras alcanzar el 60% de precisión\n",
    "\n",
    "        Args:\n",
    "          epoch (integer) - índice de epoch (requerido pero no utilizado en la definición de la función)\n",
    "          logs (dict) - resultados métricos de la época de entrenamiento\n",
    "        '''\n",
    "\n",
    "        # Check accuracy\n",
    "        if(logs.get('loss') < 0.4):\n",
    "            # Parada si se alcanza el umbral\n",
    "            print(\"\\nLoss is lower than 0.4 so cancelling training!\")\n",
    "            self.model.stop_training = True\n",
    "\n",
    "# Instantiate class\n",
    "callbacks = myCallback()"
   ]
  },
  {
   "cell_type": "markdown",
   "metadata": {
    "id": "4xlXeLkFeMn8"
   },
   "source": [
    "## Definir y compilar el modelo\n",
    "\n",
    "A continuación, definirás y compilarás el modelo. La arquitectura será similar a la que construyó en el laboratorio anterior. Después, definirás el optimizador, la pérdida y las métricas que utilizarás para el entrenamiento."
   ]
  },
  {
   "cell_type": "code",
   "execution_count": 3,
   "metadata": {
    "id": "7JXxMg3TpzER"
   },
   "outputs": [],
   "source": [
    "# Define the model\n",
    "model = tf.keras.models.Sequential([\n",
    "  tf.keras.layers.Flatten(input_shape=(28, 28)),\n",
    "  tf.keras.layers.Dense(512, activation=tf.nn.relu),\n",
    "  tf.keras.layers.Dense(10, activation=tf.nn.softmax)\n",
    "])\n",
    "\n",
    "# Compile the model\n",
    "model.compile(optimizer=tf.optimizers.Adam(),\n",
    "              loss='sparse_categorical_crossentropy',\n",
    "              metrics=['accuracy'])\n",
    "\n"
   ]
  },
  {
   "cell_type": "markdown",
   "metadata": {
    "id": "6eLe4cPZe-ui"
   },
   "source": [
    "### Entrenar el modelo\n",
    "\n",
    "Ahora estás listo para entrenar el modelo. Para establecer el callback, simplemente establece el parámetro `callbacks` a la instancia `myCallback` que declaraste antes. Ejecuta la celda de abajo y observa lo que ocurre."
   ]
  },
  {
   "cell_type": "code",
   "execution_count": 4,
   "metadata": {
    "id": "nLXTB32de3_e"
   },
   "outputs": [
    {
     "name": "stdout",
     "output_type": "stream",
     "text": [
      "Epoch 1/10\n",
      "1875/1875 [==============================] - 5s 3ms/step - loss: 0.4729 - accuracy: 0.8311\n",
      "Epoch 2/10\n",
      "1875/1875 [==============================] - 5s 3ms/step - loss: 0.3571 - accuracy: 0.8694\n",
      "\n",
      "Loss is lower than 0.4 so cancelling training!\n"
     ]
    },
    {
     "data": {
      "text/plain": [
       "<keras.callbacks.History at 0x7f79387d6ef0>"
      ]
     },
     "execution_count": 4,
     "metadata": {},
     "output_type": "execute_result"
    }
   ],
   "source": [
    "# Train the model with a callback\n",
    "model.fit(x_train, y_train, epochs=10, callbacks=[callbacks])"
   ]
  },
  {
   "cell_type": "markdown",
   "metadata": {
    "id": "fGBSkRQPff93"
   },
   "source": [
    "Notarás que el entrenamiento no necesita completar las 10 épocas. Al tener una llamada de retorno al final de cada época, es capaz de comprobar los parámetros de entrenamiento y comparar si cumple con el umbral establecido en la definición de la función. En este caso, simplemente se detendrá cuando la pérdida caiga por debajo de `0.40` después de la época actual.\n",
    "\n",
    "*Reto opcional: Modificar el código para que el entrenamiento se detenga cuando la métrica de precisión supere el 60%.*\n",
    "\n",
    "Con esto concluye este sencillo ejercicio sobre las devoluciones de llamada."
   ]
  }
 ],
 "metadata": {
  "colab": {
   "collapsed_sections": [],
   "name": "C1_W2_Lab_2_callbacks.ipynb",
   "private_outputs": true,
   "provenance": [
    {
     "file_id": "https://github.com/https-deeplearning-ai/tensorflow-1-public/blob/adding_C1/C1/W2/ungraded_labs/C1_W2_Lab_2_callbacks.ipynb",
     "timestamp": 1638884482962
    }
   ],
   "toc_visible": true
  },
  "kernelspec": {
   "display_name": "Python 3",
   "language": "python",
   "name": "python3"
  },
  "language_info": {
   "codemirror_mode": {
    "name": "ipython",
    "version": 3
   },
   "file_extension": ".py",
   "mimetype": "text/x-python",
   "name": "python",
   "nbconvert_exporter": "python",
   "pygments_lexer": "ipython3",
   "version": "3.6.9"
  }
 },
 "nbformat": 4,
 "nbformat_minor": 4
}
