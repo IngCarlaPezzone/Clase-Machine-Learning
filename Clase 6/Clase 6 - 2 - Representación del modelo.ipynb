{
 "cells": [
  {
   "cell_type": "markdown",
   "id": "05ada38e-a173-47a0-9e34-a1f881850616",
   "metadata": {},
   "source": [
    "# Representación del modelo\n",
    "\n",
    "<figure>\n",
    " <img src=\"https://github.com/emipaz/Clase-Machine-Learning/blob/1675b58e5f024bf9375a8d62b80cbef71b622218/Clase%206/images/C1_W1_L3_S2_Lecture_b.png?raw=true\"   style=\"width:600px;height:200px;\">\n",
    "</figure>\n"
   ]
  },
  {
   "cell_type": "markdown",
   "id": "062706c6-5e21-453f-9dc7-df8f2e1a7357",
   "metadata": {},
   "source": [
    "## Objetivo\n",
    "\n",
    "Objetivos\n",
    "En este laboratorio podrás:\n",
    "- Aprender a implementar el modelo $f_{w,b}$ para la regresión lineal con una variable"
   ]
  },
  {
   "cell_type": "markdown",
   "id": "22bea8e4-3677-4c6a-a606-0c6a6cfd6b55",
   "metadata": {},
   "source": [
    "## Notación\n",
    "A continuación, un resumen de algunas de las notaciones que encontrará. \n",
    "\n",
    "| General       Notation  | Description Python (if applicable)         |  Python (if applicable) |\n",
    "| ------------------------| ------------------------------------------ | ----------------------- |\n",
    "| $a$                     | scalar, normal                             | |\n",
    "| $\\mathbf{a}$            | vector, negrita                            | |\n",
    "| **Regression**          |                                            | |\n",
    "|  $\\mathbf{x}$ | Ejemplo de entrenamiento  ( aca tamaños (1000 pies^2))  | `x_train` |  \n",
    "|  $\\mathbf{y}$  | Ejemplo de Objetivos  (aca precios (1000s de dolares)).  | `y_train` |\n",
    "|  $x^{(i)}$, $y^{(i)}$ | $i_{th}$ Exemplo  | `x_i`, `y_i`|\n",
    "| m | Numeros de exemplos  ed entrenamiento | `m`|\n",
    "|  $w$  |  parametro: weight, (pesos)                                 | `w`    |\n",
    "|  $b$           |  parametro: bias  (sesgo)                                           | `b`    |     \n",
    "| $f_{w,b}(x^{(i)})$ | El resultado de la evaluación del modelo en $x^{(i)}$ parametrizado con $w,b$: $f_{w,b}(x^{(i)}) = wx^{(i)}+b$  | `f_wb` | "
   ]
  },
  {
   "cell_type": "markdown",
   "id": "5fcea2f4-2c3a-4b2e-828b-c2ddfeaa577b",
   "metadata": {},
   "source": [
    "## Herramientas\n",
    "En este laboratorio harás uso de \n",
    "- NumPy, una biblioteca popular para la computación científica\n",
    "- Matplotlib, una biblioteca popular para trazar datos"
   ]
  },
  {
   "cell_type": "code",
   "execution_count": 1,
   "id": "4fcd209c-a647-4a6b-a18c-bff35a280467",
   "metadata": {},
   "outputs": [],
   "source": [
    "import numpy as np\n",
    "import matplotlib.pyplot as plt\n",
    "plt.style.use('./deeplearning.mplstyle')"
   ]
  },
  {
   "cell_type": "markdown",
   "id": "3766bc91-e434-4dbc-859b-13890ddc69cf",
   "metadata": {},
   "source": [
    "# Planteamiento del problema\n",
    "<img align=\"left\" src=\"https://github.com/emipaz/Clase-Machine-Learning/blob/1675b58e5f024bf9375a8d62b80cbef71b622218/Clase%206/images/C1_W1_L3_S1_trainingdata.png?raw=true\"    style=\" width:380px; padding: 10px;  \" /> \n",
    "\n",
    "Este laboratorio utilizará un conjunto de datos sencillo con sólo dos puntos de datos: una casa de 1.000 pies cuadrados vendida por 300.000 dólares y una casa de 2.000 pies cuadrados vendida por 500.000 dólares. Estos dos puntos constituirán nuestro *conjunto de datos o de entrenamiento*. En este laboratorio, las unidades de tamaño son 1000 pies cuadrados y las unidades de precio son 1000 dólares.\n",
    "\n",
    "| Size (1000 sqft)     | Price (1000s of dollars) |\n",
    "| -------------------| ------------------------ |\n",
    "| 1.0               | 300                      |\n",
    "| 2.0               | 500                      |\n",
    "\n",
    "Le gustaría ajustar un modelo de regresión lineal (que se muestra arriba como la línea recta azul) a través de estos dos puntos, de modo que pueda predecir el precio de otras casas, por ejemplo, una casa de 1200 pies cuadrados.\n"
   ]
  },
  {
   "cell_type": "markdown",
   "id": "7393fac8-0324-411b-a4a7-ae0d2a4114ec",
   "metadata": {},
   "source": [
    "Please run the following code cell to create your `x_train` and `y_train` variables. The data is stored in one-dimensional NumPy arrays."
   ]
  },
  {
   "cell_type": "code",
   "execution_count": 34,
   "id": "8c24be82-137c-4f52-a72c-9c26e085ed41",
   "metadata": {},
   "outputs": [
    {
     "name": "stdout",
     "output_type": "stream",
     "text": [
      "x_train = [1. 2.]\n",
      "y_train = [300. 500.]\n"
     ]
    }
   ],
   "source": [
    "# x_train es la variable de entrada (tamaño en 1000 pies cuadrados)\n",
    "# y_train es el objetivo (precio en 1000s de dólares)\n",
    "x_train = np.array([1.0, 2.0])\n",
    "y_train = np.array([300.0, 500.0])\n",
    "print(f\"x_train = {x_train}\")\n",
    "print(f\"y_train = {y_train}\")"
   ]
  },
  {
   "cell_type": "markdown",
   "id": "e87f0eb0-370d-4f92-a11d-243061032c12",
   "metadata": {},
   "source": [
    ">**Nota**: El curso utilizará frecuentemente el formato de salida 'f-string' de python descrito [aquí](https://docs.python.org/3/tutorial/inputoutput.html) al imprimir. El contenido entre las llaves se evalúa al producir la salida."
   ]
  },
  {
   "cell_type": "markdown",
   "id": "d12e2f70-5ae9-4aa9-82ce-c04525e9ccdb",
   "metadata": {},
   "source": [
    "### Número de ejemplos de entrenamiento `m`\n",
    "\n",
    "Se utilizará `m` para denotar el número de ejemplos de entrenamiento. Los arrays Numpy tienen un parámetro `.shape`. El parámetro `x_train.shape` devuelve una tupla python con una entrada para cada dimensión. `x_train.shape[0]` es la longitud del array y el número de ejemplos como se muestra a continuación."
   ]
  },
  {
   "cell_type": "code",
   "execution_count": 35,
   "id": "14af8e7c-298e-4598-add5-fc0b240d6a7d",
   "metadata": {},
   "outputs": [
    {
     "name": "stdout",
     "output_type": "stream",
     "text": [
      "x_train.shape: (2,)\n",
      "Numero de ejemplos de entrenamiento: 2\n"
     ]
    }
   ],
   "source": [
    "# m el numero de ejemplos de entrenamiento \n",
    "print(f\"x_train.shape: {x_train.shape}\")\n",
    "m = x_train.shape[0]\n",
    "print(f\"Numero de ejemplos de entrenamiento: {m}\")"
   ]
  },
  {
   "cell_type": "markdown",
   "id": "d5b5cf58-a6ee-4d41-a941-192d8f816d03",
   "metadata": {},
   "source": [
    "También se puede utilizar la función `len()` de Python como se muestra a continuación."
   ]
  },
  {
   "cell_type": "code",
   "execution_count": 37,
   "id": "30cb2e3d-d1a4-4ffb-8dc7-45dffcaeb0f4",
   "metadata": {},
   "outputs": [
    {
     "name": "stdout",
     "output_type": "stream",
     "text": [
      "Numero de ejemplos de entrenamiento: 2\n"
     ]
    }
   ],
   "source": [
    "m = len(x_train)\n",
    "print(f\"Numero de ejemplos de entrenamiento: {m}\")"
   ]
  },
  {
   "cell_type": "markdown",
   "id": "247cc02c-a24b-4ebd-a91f-8f8b842d079e",
   "metadata": {},
   "source": [
    "### Ejemplos de entrenamiento `x_i, y_i`\n",
    "\n",
    "Se utilizará ($x^{(i)}$ , $y^{(i)}$) para denotar el $i^{th}$ ejemplo de entrenamiento. Dado que Python tiene índice cero, ($x^{(0)}$, $y^{(0)}$) es (1,0, 300,0) y ($x^{(1)}$, $y^{(1)}$) es (2,0, 500,0). \n",
    "\n",
    "Para acceder a un valor en una matriz Numpy, uno indexa la matriz con el desplazamiento deseado. Por ejemplo, la sintaxis para acceder a la ubicación cero de `x_train` es `x_train[0]`.\n",
    "Ejecute el siguiente bloque de código para obtener el ejemplo de entrenamiento $i^{th}$."
   ]
  },
  {
   "cell_type": "code",
   "execution_count": 38,
   "id": "335e5ea8-7b4e-4a92-a0f9-67be3f28ca64",
   "metadata": {},
   "outputs": [
    {
     "name": "stdout",
     "output_type": "stream",
     "text": [
      "(x^(0), y^(0)) = (1.0, 300.0)\n"
     ]
    }
   ],
   "source": [
    "i = 0 \n",
    "\n",
    "x_i = x_train[i]\n",
    "y_i = y_train[i]\n",
    "print(f\"(x^({i}), y^({i})) = ({x_i}, {y_i})\")"
   ]
  },
  {
   "cell_type": "markdown",
   "id": "e2c0485a-53d7-414a-8514-e2a066a6c025",
   "metadata": {},
   "source": [
    "### Graficando los datos"
   ]
  },
  {
   "cell_type": "markdown",
   "id": "0867bd63-a73f-4290-9e4f-354d546c936c",
   "metadata": {},
   "source": [
    "Puede trazar estos dos puntos utilizando la función `scatter()` de la biblioteca `matplotlib`, como se muestra en la celda de abajo. \n",
    "- Los argumentos de la función `marker` y `c` muestran los puntos como cruces rojas (por defecto son puntos azules).\n",
    "\n",
    "Puede utilizar otras funciones de la biblioteca `matplotlib` para establecer el título y las etiquetas que se mostrarán"
   ]
  },
  {
   "cell_type": "code",
   "execution_count": 39,
   "id": "450a25d1-1912-406a-8f95-bc8ec4d32874",
   "metadata": {},
   "outputs": [
    {
     "data": {
      "image/png": "[encoded data removed]",
      "text/plain": [
       "<Figure size 432x288 with 1 Axes>"
      ]
     },
     "metadata": {
      "needs_background": "light"
     },
     "output_type": "display_data"
    }
   ],
   "source": [
    "# grefica los puntos\n",
    "plt.scatter(x_train, y_train, marker='x', c='r')\n",
    "plt.title(\"Precios de la vivienda\")\n",
    "# Set the y-axis label\n",
    "plt.ylabel('Precio (en 1000s de dolares)')\n",
    "# Set the x-axis label\n",
    "plt.xlabel('Tamaño (1000 pies cuedrados)')\n",
    "plt.show()"
   ]
  },
  {
   "cell_type": "markdown",
   "id": "3392cc9c-4bf9-48f5-a04d-feab0f489403",
   "metadata": {},
   "source": [
    "## Función del modelo\n",
    "\n",
    "<img align=\"left\" src=\"./images/C1_W1_L3_S1_model.png\"     style=\" width:380px; padding: 10px; \" > Como se describe en la lectura, el modelo de regresión linear es representada con las siguiente funcion.\n",
    "\n",
    "$$ f_{w,b}(x^{(i)}) = wx^{(i)} + b \\tag{1}$$\n",
    "\n",
    "La fórmula anterior es la forma en que se pueden representar las líneas rectas - diferentes valores de $w$ y $b$ dan diferentes líneas rectas en el gráfico. <br/> <br/> <br/> <br/> <br/> \n",
    "\n",
    "Intentemos intuirlo mejor a través de los bloques de código siguientes. Empecemos con $w = 100$ y $b = 100$. \n",
    "\n",
    "**Nota: Puedes volver a esta celda para ajustar los parámetros w y b del modelo**"
   ]
  },
  {
   "cell_type": "code",
   "execution_count": 47,
   "id": "b5992da4-7a01-48c0-99d6-48ec62e79b14",
   "metadata": {},
   "outputs": [
    {
     "name": "stdout",
     "output_type": "stream",
     "text": [
      "w: 100\n",
      "b: 100\n"
     ]
    }
   ],
   "source": [
    "w = 100\n",
    "b = 100\n",
    "print(f\"w: {w}\")\n",
    "print(f\"b: {b}\")"
   ]
  },
  {
   "cell_type": "markdown",
   "id": "9dbb7275-d4ed-48a6-a7c8-53fd0f246082",
   "metadata": {},
   "source": [
    "Ahora, vamos a calcular el valor de $f_{w,b}(x^{(i)})$ para sus dos puntos de datos. Usted puede escribir explícitamente esto para cada punto de datos como \n",
    "\n",
    "para $x^{(0)}$, `f_wb = w * x[0] + b`\n",
    "\n",
    "para $x^{(1)}$, `f_wb = w * x[1] + b`\n",
    "\n",
    "Para un gran número de puntos de datos, esto puede ser difícil de manejar y repetitivo. Así que en su lugar, puede calcular la salida de la función en un bucle `for` como se muestra en la función `compute_model_output` a continuación.\n",
    "> **Nota**: La descripción del argumento `(ndarray (m,))` describe un array n-dimensional de Numpy de forma (m,). El argumento `(scalar)` describe un argumento sin dimensiones, sólo una magnitud.  \n",
    "> **Nota**: `np.zero(n)` devolverá un array numpy unidimensional con $n$ entradas   \n"
   ]
  },
  {
   "cell_type": "code",
   "execution_count": 48,
   "id": "80fd7852-79f4-4780-96ef-ec3a864bad89",
   "metadata": {},
   "outputs": [],
   "source": [
    "def compute_model_output(x, w, b):\n",
    "    \"\"\"\n",
    "    Calcula el precios de la vivienda la predicción de un modelo lineal\n",
    "    Args:\n",
    "      x (ndarray (m,)): Datos, m ejemplos \n",
    "      w,b (escalar) : parámetros del modelo  \n",
    "    Devuelve\n",
    "      y (ndarray (m,)): valores objetivo\n",
    "    \"\"\"\n",
    "    m    = x.shape[0]\n",
    "    f_wb = np.zeros(m)\n",
    "    for i in range(m):\n",
    "        f_wb[i] = w * x[i] + b\n",
    "        \n",
    "    return f_wb"
   ]
  },
  {
   "cell_type": "markdown",
   "id": "a1bc80e4-2b26-4af7-b55f-a1b9108e6f4a",
   "metadata": {},
   "source": [
    "Ahora vamos a llamar a la función `compute_model_output` y a trazar la salida."
   ]
  },
  {
   "cell_type": "code",
   "execution_count": 49,
   "id": "6984b20e-9a5a-4814-80bb-0bbfc8244fd1",
   "metadata": {},
   "outputs": [
    {
     "data": {
      "image/png": "[encoded data removed]",
      "text/plain": [
       "<Figure size 432x288 with 1 Axes>"
      ]
     },
     "metadata": {
      "needs_background": "light"
     },
     "output_type": "display_data"
    }
   ],
   "source": [
    "tmp_f_wb = compute_model_output(x_train, w, b,)\n",
    "\n",
    "# Plot our model prediction\n",
    "plt.plot(x_train, tmp_f_wb, c='b',label='Our Prediction')\n",
    "\n",
    "# Plot the data points\n",
    "plt.scatter(x_train, y_train, marker='x', c='r',label='Actual Values')\n",
    "plt.title(\"Precios de la vivienda\")\n",
    "plt.ylabel('Precio (en 1000s de dolares)')\n",
    "plt.xlabel('Tamaño (1000 pies cuedrados)')\n",
    "plt.legend()\n",
    "plt.show()"
   ]
  },
  {
   "cell_type": "markdown",
   "id": "c89bde95-ebca-4cec-b663-528c0d63b445",
   "metadata": {},
   "source": [
    "Como puedes ver, al establecer $w = 100$ y $b = 100$ no se obtiene una línea que se ajuste a nuestros datos. \n",
    "\n",
    "### Desafío\n",
    "Prueba a experimentar con diferentes valores de $w$ y $b$. ¿Cuáles deberían ser los valores para obtener una recta que se ajuste a nuestros datos?\n",
    "\n",
    "#### Consejo:\n",
    "Puedes usar tu ratón para hacer clic en el triángulo a la izquierda de las \"Pistas\" verdes de abajo para revelar algunas pistas para elegir b y w."
   ]
  },
  {
   "cell_type": "markdown",
   "id": "e822c2cf-c649-47c4-84ab-c8b6b51b3777",
   "metadata": {},
   "source": [
    "<details>\n",
    "<summary>\n",
    "    <font size='3', color='darkgreen'><b>Hints</b></font>\n",
    "</summary>\n",
    "    <p>\n",
    "    <ul>\n",
    "        <li>Try $w = 200$ and $b = 100$ </li>\n",
    "    </ul>\n",
    "    </p>"
   ]
  },
  {
   "cell_type": "markdown",
   "id": "b611ff28-423f-4502-8f98-f3016ad74217",
   "metadata": {},
   "source": [
    "### Predicción\n",
    "Ahora que tenemos un modelo, podemos utilizarlo para hacer nuestra predicción original. Vamos a predecir el precio de una casa de 1200 pies cuadrados. Como las unidades de $x$ están en 1000 pies cuadrados, $x$ es 1,2.\n"
   ]
  },
  {
   "cell_type": "code",
   "execution_count": 46,
   "id": "19e99b34-539a-4f1d-bdaa-9ce1ca859289",
   "metadata": {},
   "outputs": [
    {
     "name": "stdout",
     "output_type": "stream",
     "text": [
      "$340 mil dólares\n"
     ]
    }
   ],
   "source": [
    "w = 200                         \n",
    "b = 100    \n",
    "x_i = 1.2\n",
    "cost_1200sqft = w * x_i + b    \n",
    "\n",
    "print(f\"${cost_1200sqft:.0f} mil dólares\")"
   ]
  },
  {
   "cell_type": "markdown",
   "id": "95f8c979-a28b-4444-9708-24a214c4025e",
   "metadata": {},
   "source": [
    "# Multiple Variable Linear Regression (Regresión lineal de múltiples variables)\n",
    "\n",
    "En este laboratorio, usted ampliará las estructuras de datos y las rutinas previamente desarrolladas para soportar múltiples características. Varias rutinas se actualizan haciendo que el laboratorio parezca largo, pero hace pequeños ajustes a las rutinas anteriores haciendo que sea rápido de revisar."
   ]
  },
  {
   "cell_type": "code",
   "execution_count": 66,
   "id": "f05cb65f-5bbc-472e-a242-55189d2d46a4",
   "metadata": {},
   "outputs": [],
   "source": [
    "import copy, math\n",
    "np.set_printoptions(precision=2)  # reduced display precision on numpy arrays"
   ]
  },
  {
   "cell_type": "markdown",
   "id": "cca45461-191e-4414-aa42-a971c7a467a6",
   "metadata": {},
   "source": [
    "## 1.3 Notacion\n",
    "A continuación se presenta un resumen de algunas de las anotaciones que encontrará, actualizadas para múltiples funciones.  \n",
    "\n",
    "|General | Description| Python (if applicable) |\n",
    "|:--------------|:------------------|:----------------------:|\n",
    "| $a$           | Escalar, normal  ||\n",
    "| $\\mathbf{A}$  | Matriz, Mayuscula negrita                              ||\n",
    "| **Regression** |         |    |     |\n",
    "|  $\\mathbf{X}$ | Matriz ejemplos de entrenamiento   | `X_train` |   \n",
    "|  $\\mathbf{y}$  | Vector con valores exactos        | `y_train` \n",
    "|  $\\mathbf{x}^{(i)}$, $y^{(i)}$ | $i_{th}$ Enecimo ejemplo| `X[i]`, `y[i]`|\n",
    "| m | Numero de ejemplos | `m`|\n",
    "| n | Número de características en cada ejemplo | `n`|\n",
    "|  $\\mathbf{w}$  |  Parametro: weight (pesos),                       | `w`    |\n",
    "|  $b$           |  Parametro : bias (sesgo)                         | `b`    |     \n",
    "| $f_{\\mathbf{w},b}(\\mathbf{x}^{(i)})$ | El resultado de la evaluación del modelo en $\\mathbf{x^{(i)}}$ parametrizado por $\\mathbf{w},b$: $f_{\\mathbf{w},b}(\\mathbf{x}^{(i)}) = \\mathbf{w} \\cdot \\mathbf{x}^{(i)}+b$  | `f_wb` | "
   ]
  },
  {
   "cell_type": "markdown",
   "id": "9b012eb2-d0d0-496f-b10a-6c53bb6f30c9",
   "metadata": {},
   "source": [
    "## 2 Planteamiento del problema\n",
    "\n",
    "Se utilizará el ejemplo motivador de la predicción del precio de la vivienda. El conjunto de datos de entrenamiento contiene tres ejemplos con cuatro características (tamaño, dormitorios, pisos y, edad) que se muestran en la tabla siguiente.  Tenga en cuenta que, a diferencia de los laboratorios anteriores, el tamaño está expresado en pies cuadrados en lugar de 1000 pies cuadrados. Esto causa un problema, que se resolverá en el próximo laboratorio.\n",
    "\n",
    "| Tamaño (pies cuadrados)| número de dormitorios| número de plantas| edad de la vivienda| precio (miles de dólares).|\n",
    "| ----------------| ------------------- |----------------- |--------------|-------------- |  \n",
    "| 2104            | 5                   | 1                | 45           | 460           |  \n",
    "| 1416            | 3                   | 2                | 40           | 232           |  \n",
    "| 852             | 2                   | 1                | 35           | 178           |\n",
    "\n",
    "Construirás un modelo de regresión lineal utilizando estos valores para poder predecir el precio de otras casas. Por ejemplo, una casa de 1200 pies cuadrados, 3 dormitorios, 1 piso, 40 años de antigüedad.  \n",
    "\n",
    "Por favor, ejecute la siguiente celda de código para crear sus variables `X_train` y `y_train`."
   ]
  },
  {
   "cell_type": "code",
   "execution_count": 67,
   "id": "f0c74979-83ca-4550-9f60-a2119d6f9514",
   "metadata": {},
   "outputs": [],
   "source": [
    "X_train = np.array([[2104, 5, 1, 45], [1416, 3, 2, 40], [852, 2, 1, 35]])\n",
    "y_train = np.array([460, 232, 178])"
   ]
  },
  {
   "cell_type": "markdown",
   "id": "acd31b9d-4f76-49b1-97c1-642264735ca8",
   "metadata": {},
   "source": [
    "# 2.1 Matriz X que contiene nuestros ejemplos\n",
    "Al igual que la tabla anterior, los ejemplos se almacenan en una matriz NumPy `X_train`. Cada fila de la matriz representa un ejemplo. Cuando usted tiene $m$ ejemplos de entrenamiento ( $m$ es tres en nuestro ejemplo), y hay $n$ características (cuatro en nuestro ejemplo), $\\mathbf{X}$ es una matriz con dimensiones ($m$, $n$) (m filas, n columnas).\n",
    "\n",
    "$$\\mathbf{X} = \n",
    "\\begin{pmatrix}\n",
    " x^{(0)}_0 & x^{(0)}_1 & \\cdots & x^{(0)}_{n-1} \\\\ \n",
    " x^{(1)}_0 & x^{(1)}_1 & \\cdots & x^{(1)}_{n-1} \\\\\n",
    " \\cdots \\\\\n",
    " x^{(m-1)}_0 & x^{(m-1)}_1 & \\cdots & x^{(m-1)}_{n-1} \n",
    "\\end{pmatrix}\n",
    "$$\n",
    "\n",
    "Notación:\n",
    "- $\\mathbf{x}^{(i)}$ es el vector que contiene el ejemplo i.  $\\mathbf{x}^{(i)}$ $ = (x^{(i)}_0, x^{(i)}_1, \\cdots,x^{(i)}_{n-1})$\n",
    "- $x^{(i)}_j$ es el elemento j en el ejemplo i. El superíndice entre paréntesis indica el número del ejemplo mientras que el subíndice representa un elemento.  "
   ]
  },
  {
   "cell_type": "code",
   "execution_count": 68,
   "id": "7364d629-b678-4735-a37d-f4ceb2ae5cb2",
   "metadata": {},
   "outputs": [
    {
     "name": "stdout",
     "output_type": "stream",
     "text": [
      "X Shape: (3, 4), X Type:<class 'numpy.ndarray'>)\n",
      "[[2104    5    1   45]\n",
      " [1416    3    2   40]\n",
      " [ 852    2    1   35]]\n",
      "y Shape: (3,), y Type:<class 'numpy.ndarray'>)\n",
      "[460 232 178]\n"
     ]
    }
   ],
   "source": [
    "# los datos se almacenan en un array/matriz numpy\n",
    "print(f\"X Shape: {X_train.shape}, X Type:{type(X_train)})\")\n",
    "print(X_train)\n",
    "print(f\"y Shape: {y_train.shape}, y Type:{type(y_train)})\")\n",
    "print(y_train)"
   ]
  },
  {
   "cell_type": "markdown",
   "id": "be9dc866-4008-4f6b-b12c-74de920d97c0",
   "metadata": {},
   "source": [
    "## 2.2 Vector de parámetros w, b\n",
    "\n",
    "* $\\mathbf{w}$ es un vector con $n$ elementos.\n",
    "  - Cada elemento contiene el parámetro asociado a una característica.\n",
    "  - En nuestro conjunto de datos, n es 4.\n",
    "  - nocionalmente, lo dibujamos como un vector de columnas\n",
    "\n",
    "$$\\mathbf{w} = \\begin{pmatrix}\n",
    "w_0 \\\\ \n",
    "w_1 \\\\\n",
    "\\cdots\\\\\n",
    "w_{n-1}\n",
    "\\end{pmatrix}\n",
    "$$\n",
    "* $b$ es un escalar. "
   ]
  },
  {
   "cell_type": "code",
   "execution_count": 69,
   "id": "729f9d66-3071-4c92-b65f-5d6196ad0b54",
   "metadata": {},
   "outputs": [
    {
     "name": "stdout",
     "output_type": "stream",
     "text": [
      "w_init shape: (4,), b_init type: <class 'float'>\n"
     ]
    }
   ],
   "source": [
    "b_init = 785.1811367994083\n",
    "w_init = np.array([ 0.39133535, 18.75376741, -53.36032453, -26.42131618])\n",
    "print(f\"w_init shape: {w_init.shape}, b_init type: {type(b_init)}\")"
   ]
  },
  {
   "cell_type": "markdown",
   "id": "d975cf89-df5a-4b7f-aee8-6d88db05e834",
   "metadata": {},
   "source": [
    "# 3 Predicción del modelo con múltiples variables\n",
    "La predicción del modelo con múltiples variables viene dada por el modelo lineal:\n",
    "\n",
    "\n",
    "$$ f_{\\mathbf{w},b}(\\mathbf{x}) =  w_0x_0 + w_1x_1 +... + w_{n-1}x_{n-1} + b \\tag{1}$$\n",
    "or in vector notation:\n",
    "$$ f_{\\mathbf{w},b}(\\mathbf{x}) = \\mathbf{w} \\cdot \\mathbf{x} + b  \\tag{2} $$ \n",
    "donde $\\cdot$ es el producto vectorial `dot product` \n",
    "\n",
    "Para demostrar el producto punto, implementaremos la predicción utilizando (1) y (2)."
   ]
  },
  {
   "cell_type": "code",
   "execution_count": 70,
   "id": "4a31165a-5cb1-4ddb-95a1-6973f18741a6",
   "metadata": {},
   "outputs": [],
   "source": [
    "def predict_single_loop(x, w, b): \n",
    "    \"\"\"\n",
    "    predicción simple mediante regresión lineal\n",
    "    \n",
    "    Args:\n",
    "      x (ndarray): Ejemplo de forma (n,) con múltiples características\n",
    "      w (ndarray): Parámetros del modelo Shape (n,)    \n",
    "      b (escalar): parámetro del modelo     \n",
    "      \n",
    "    Devuelve:\n",
    "      p (escalar): predicción\n",
    "    \"\"\"\n",
    "    n = x.shape[0]\n",
    "    p = 0\n",
    "    for i in range(n):\n",
    "        p_i = x[i] * w[i]  \n",
    "        p = p + p_i         \n",
    "    p = p + b                \n",
    "    return p"
   ]
  },
  {
   "cell_type": "code",
   "execution_count": 71,
   "id": "7fbdd708-6e41-4f2f-8a81-a5e4f5b37c10",
   "metadata": {},
   "outputs": [
    {
     "name": "stdout",
     "output_type": "stream",
     "text": [
      "x_vec shape (4,), x_vec valor: [2104    5    1   45]\n",
      "f_wb shape (), predicción: 459.9999976194083\n"
     ]
    }
   ],
   "source": [
    "# obtener una fila de nuestros datos de entrenamiento\n",
    "x_vec = X_train[0,:]\n",
    "print(f\"x_vec shape {x_vec.shape}, x_vec valor: {x_vec}\")\n",
    "\n",
    "# hacer una predicción\n",
    "f_wb = predict_single_loop(x_vec, w_init, b_init)\n",
    "print(f\"f_wb shape {f_wb.shape}, predicción: {f_wb}\")"
   ]
  },
  {
   "cell_type": "markdown",
   "id": "69a4d9ff-31be-4b6b-b55c-5c63a3e91743",
   "metadata": {},
   "source": [
    "## 3.2 Predicción única, vectorizada\n",
    "\n",
    "Observando que la ecuación (1) anterior puede implementarse utilizando el producto punto como en (2) anterior. Podemos hacer uso de las operaciones vectoriales para acelerar las predicciones.\n",
    "\n",
    "Recordemos del laboratorio de Python/Numpy que NumPy `np.dot()`[[link](https://numpy.org/doc/stable/reference/generated/numpy.dot.html)] puede utilizarse para realizar un producto punto vectorial."
   ]
  },
  {
   "cell_type": "code",
   "execution_count": 72,
   "id": "2b5aa19f-bfa8-4947-b3f1-b32ca3920e48",
   "metadata": {},
   "outputs": [],
   "source": [
    "def predict(x, w, b): \n",
    "    \"\"\"\n",
    "    Predicción simple mediante regresión lineal\n",
    "    Args:\n",
    "      x (ndarray): Ejemplo de forma (n,) con múltiples características\n",
    "      w (ndarray): Parámetros del modelo Shape (n,)   \n",
    "      b (escalar): parámetro del modelo \n",
    "      \n",
    "    Devuelve:\n",
    "      p (escalar): predicción\n",
    "    \"\"\"\n",
    "    p = np.dot(x, w) + b     \n",
    "    return p  "
   ]
  },
  {
   "cell_type": "code",
   "execution_count": 73,
   "id": "e2fec411-eeff-4410-a0ac-2467146d4e5d",
   "metadata": {},
   "outputs": [
    {
     "name": "stdout",
     "output_type": "stream",
     "text": [
      "x_vec shape (4,), x_vec valor: [2104    5    1   45]\n",
      "f_wb shape (), predicción: 459.9999976194083\n"
     ]
    }
   ],
   "source": [
    "# obtener una fila de nuestros datos de entrenamiento\n",
    "x_vec = X_train[0,:]\n",
    "print(f\"x_vec shape {x_vec.shape}, x_vec valor: {x_vec}\")\n",
    "\n",
    "# hacer una predicción\n",
    "f_wb = predict_single_loop(x_vec, w_init, b_init)\n",
    "print(f\"f_wb shape {f_wb.shape}, predicción: {f_wb}\")"
   ]
  },
  {
   "cell_type": "markdown",
   "id": "6cb9b018-7156-4ef2-9600-de1a86c4f141",
   "metadata": {},
   "source": [
    "Los resultados y las formas son los mismos que en la versión anterior, que utilizaba el bucle. En adelante, se utilizará `np.dot` para estas operaciones. La predicción es ahora una única sentencia. La mayoría de las rutinas la implementarán directamente en lugar de llamar a una rutina de predicción separada.\n"
   ]
  },
  {
   "cell_type": "markdown",
   "id": "7a0cf28c-e5fc-4032-9d81-5cef79248ecd",
   "metadata": {},
   "source": [
    "# 4 Calcular el coste con múltiples variables\n",
    "\n",
    "La ecuación para la función de coste con múltiples variables $J(\\mathbf{w},b)$ es:\n",
    "$$J(\\mathbf{w},b) = \\frac{1}{2m} \\sum\\limits_{i = 0}^{m-1} (f_{\\mathbf{w},b}(\\mathbf{x}^{(i)}) - y^{(i)})^2 \\tag{3}$$ \n",
    "donde:\n",
    "$$ f_{\\mathbf{w},b}(\\mathbf{x}^{(i)}) = \\mathbf{w} \\cdot \\mathbf{x}^{(i)} + b  \\tag{4} $$ \n",
    "\n",
    "A diferencia de los laboratorios anteriores, $\\mathbf{w}$ and $\\mathbf{x}^{(i)}$ son vectores en lugar de escalares que soportan múltiples características.\n",
    "\n",
    "A continuación se muestra una implementación de las ecuaciones (3) y (4). Tenga en cuenta que esto utiliza un *patrón estándar para este curso* donde se utiliza un bucle for sobre todos los ejemplos `m`."
   ]
  },
  {
   "cell_type": "code",
   "execution_count": 74,
   "id": "ffa5239a-1a85-4b62-8d19-90c2913dd38c",
   "metadata": {},
   "outputs": [],
   "source": [
    "def compute_cost(X, y, w, b): \n",
    "    \"\"\"\n",
    "    compute cost\n",
    "    Args:\n",
    "      X (ndarray (m,n)): Data, m examples with n features\n",
    "      y (ndarray (m,)) : target values\n",
    "      w (ndarray (n,)) : model parameters  \n",
    "      b (scalar)       : model parameter\n",
    "      \n",
    "    Returns:\n",
    "      cost (scalar): cost\n",
    "    \"\"\"\n",
    "    m = X.shape[0]\n",
    "    cost = 0.0\n",
    "    for i in range(m):                                \n",
    "        f_wb_i = np.dot(X[i], w) + b           #(n,)(n,) = scalar (see np.dot)\n",
    "        cost = cost + (f_wb_i - y[i])**2       #scalar\n",
    "    cost = cost / (2 * m)                      #scalar    \n",
    "    return cost"
   ]
  },
  {
   "cell_type": "code",
   "execution_count": 76,
   "id": "9d66b440-2e09-4a17-9473-767eb61d6551",
   "metadata": {},
   "outputs": [
    {
     "name": "stdout",
     "output_type": "stream",
     "text": [
      "Coste en el punto óptimo w : 1.5578904880036537e-12\n"
     ]
    }
   ],
   "source": [
    "# Compute and display cost using our pre-chosen optimal parameters. \n",
    "cost = compute_cost(X_train, y_train, w_init, b_init)\n",
    "print(f'Coste en el punto óptimo w : {cost}')"
   ]
  },
  {
   "cell_type": "markdown",
   "id": "4643eb94-8272-4544-94b3-d1af91e86b65",
   "metadata": {},
   "source": [
    "$$\\begin{align*} \\text{repite}&\\text{ hasta la convergencia:} \\; \\lbrace \\newline\\;\n",
    "& w_j = w_j -  \\alpha \\frac{\\partial J(\\mathbf{w},b)}{\\partial w_j} \\tag{5}  \\; & \\text{for j = 0..n-1}\\newline\n",
    "&b\\ \\ = b -  \\alpha \\frac{\\partial J(\\mathbf{w},b)}{\\partial b}  \\newline \\rbrace\n",
    "\\end{align*}$$\n",
    "\n",
    "donde , n es el número de características, los parámetros $w_j$, $b$, se actualizan simultáneamente y donde \n",
    "\n",
    "$$\n",
    "\\begin{align}\n",
    "\\frac{\\partial J(\\mathbf{w},b)}{\\partial w_j}  &= \\frac{1}{m} \\sum\\limits_{i = 0}^{m-1} (f_{\\mathbf{w},b}(\\mathbf{x}^{(i)}) - y^{(i)})x_{j}^{(i)} \\tag{6}  \\\\\n",
    "\\frac{\\partial J(\\mathbf{w},b)}{\\partial b}  &= \\frac{1}{m} \\sum\\limits_{i = 0}^{m-1} (f_{\\mathbf{w},b}(\\mathbf{x}^{(i)}) - y^{(i)}) \n",
    "\\end{align}\n",
    "$$\n",
    "\n",
    "* m es el número de ejemplos de entrenamiento en el conjunto de datos\n",
    "\n",
    "* $f_{\\mathbf{w},b}(\\mathbf{x}^{(i)})$  es la predicción del modelo, mientras que $y^{(i)}$ es el valor objetivo"
   ]
  },
  {
   "cell_type": "markdown",
   "id": "354c1d31-7fc7-44fa-b3e1-b8b2676650e7",
   "metadata": {},
   "source": [
    "## 5.1 Calcular el gradiente con múltiples variables\n",
    "A continuación se presenta una implementación para calcular las ecuaciones (6) y (7). Hay muchas maneras de implementar esto. En esta versión, hay un\n",
    "- bucle externo sobre todos los m ejemplos. \n",
    "    - $\\frac{\\partial J(\\mathbf{w},b)}{\\partial b}$ para el ejemplo puede ser calculado directamente y acumulado\n",
    "    - en un segundo bucle sobre todas las n características:\n",
    "        - $\\frac{\\partial J(\\mathbf{w},b)}{\\partial w_j}$ se calcula para cada $w_j$."
   ]
  },
  {
   "cell_type": "code",
   "execution_count": 28,
   "id": "9441b985-7af7-4f9b-b114-2130cc8c48ce",
   "metadata": {},
   "outputs": [],
   "source": [
    "def compute_gradient(X, y, w, b):\n",
    "    \"\"\"\n",
    "    Calcula el gradiente para la regresión lineal \n",
    "    Args:\n",
    "      X (ndarray (m,n)): Datos, m ejemplos con n características\n",
    "      y (ndarray (m,)) : valores objetivo\n",
    "      w (ndarray (n,)) : parámetros del modelo  \n",
    "      b (escalar) : parámetro del modelo\n",
    "      \n",
    "    Devuelve:\n",
    "      dj_dw (ndarray (n,)): El gradiente del coste con respecto a los parámetros w. \n",
    "      dj_db (escalar):       El gradiente del coste con respecto al parámetro b. \n",
    "    \"\"\"\n",
    "    m,n = X.shape           #(number of examples, number of features)\n",
    "    dj_dw = np.zeros((n,))\n",
    "    dj_db = 0.\n",
    "\n",
    "    for i in range(m):                             \n",
    "        err = (np.dot( X[i], w) + b) - y[i]   \n",
    "        for j in range(n):                         \n",
    "            dj_dw[j] = dj_dw[j] + err * X[i, j]    \n",
    "        dj_db = dj_db + err                        \n",
    "    dj_dw = dj_dw / m                                \n",
    "    dj_db = dj_db / m                                \n",
    "        \n",
    "    return dj_db, dj_dw"
   ]
  },
  {
   "cell_type": "code",
   "execution_count": 77,
   "id": "87b1b258-db0f-4386-a48a-39cedca87ca4",
   "metadata": {},
   "outputs": [
    {
     "name": "stdout",
     "output_type": "stream",
     "text": [
      "dj_db al inicio w,b: -1.673925169143331e-06\n",
      "dj_dw al inicio w,b: \n",
      " [-2.73e-03 -6.27e-06 -2.22e-06 -6.92e-05]\n"
     ]
    }
   ],
   "source": [
    "# Calcular y mostrar el gradiente \n",
    "tmp_dj_db, tmp_dj_dw = compute_gradient(X_train, y_train, w_init, b_init)\n",
    "print(f'dj_db al inicio w,b: {tmp_dj_db}')\n",
    "print(f'dj_dw al inicio w,b: \\n {tmp_dj_dw}')"
   ]
  },
  {
   "cell_type": "markdown",
   "id": "520883a3-f742-4f5a-ae6a-2c892c4794c3",
   "metadata": {},
   "source": [
    "## 5.2 Descenso de gradiente con múltiples variables\n",
    "La siguiente rutina implementa la ecuación (5) anterior."
   ]
  },
  {
   "cell_type": "code",
   "execution_count": 80,
   "id": "4d003f92-329c-4f37-a36e-e25614095ab9",
   "metadata": {},
   "outputs": [],
   "source": [
    "def gradient_descent(X, y, w_in, b_in, cost_function, gradient_function, alpha, num_iters): \n",
    "    \"\"\"\n",
    "    Realiza el descenso de gradiente por lotes para aprender theta. Actualiza theta tomando \n",
    "    num_iters pasos de gradiente con tasa de aprendizaje alpha\n",
    "    \n",
    "    Args:\n",
    "      X (ndarray (m,n))   : Datos, m ejemplos con n características\n",
    "      y (ndarray (m,))    : valores objetivo\n",
    "      w_in (ndarray (n,)) : parámetros iniciales del modelo  \n",
    "      b_in (escalar)      : parámetro inicial del modelo\n",
    "      función_de_coste    : función para calcular el coste\n",
    "      gradient_function   : función para calcular el gradiente\n",
    "      alpha (float)       : Tasa de aprendizaje\n",
    "      num_iters (int)     : número de iteraciones para ejecutar el descenso de gradiente\n",
    "      \n",
    "    Devuelve:\n",
    "      w (ndarray (n,))    : Valores actualizados de los parámetros \n",
    "      b (escalar)         : Valor actualizado del parámetro \n",
    "      \"\"\"\n",
    "    \n",
    "    # Una matriz para almacenar los costes J y w en cada iteración, principalmente para graficarlos posteriormente\n",
    "    J_history = []\n",
    "    w = copy.deepcopy(w_in)  # avoid modifying global w within function  ??\n",
    "    b = b_in\n",
    "    \n",
    "    for i in range(num_iters):\n",
    "\n",
    "        # Calcular el gradiente y actualizar los parámetros\n",
    "        dj_db,dj_dw = gradient_function(X, y, w, b)   ##None\n",
    "\n",
    "        # Actualizar los parámetros mediante w, b, alfa y gradiente\n",
    "        w = w - alpha * dj_dw               ##None\n",
    "        b = b - alpha * dj_db               ##None\n",
    "      \n",
    "        # Guardar el coste J en cada iteración\n",
    "        if i < 100000:      # evitar el agotamiento de los recursos \n",
    "            J_history.append( cost_function(X, y, w, b))\n",
    "\n",
    "        # Imprimir el coste cada a intervalos de 10 veces o tantas iteraciones si < 10\n",
    "        if i% math.ceil(num_iters / 10) == 0:\n",
    "            print(f\"Iteracion {i:4d}: Costo {J_history[-1]:8.2f}   \")\n",
    "        \n",
    "    return w, b, J_history # devuelve el historial final de w,b y J para su graficación"
   ]
  },
  {
   "cell_type": "code",
   "execution_count": 81,
   "id": "1dcfd3e4-191e-4b4b-b050-54e56d6a37d6",
   "metadata": {},
   "outputs": [
    {
     "name": "stdout",
     "output_type": "stream",
     "text": [
      "Iteracion    0: Costo  2529.46   \n",
      "Iteracion  100: Costo   695.99   \n",
      "Iteracion  200: Costo   694.92   \n",
      "Iteracion  300: Costo   693.86   \n",
      "Iteracion  400: Costo   692.81   \n",
      "Iteracion  500: Costo   691.77   \n",
      "Iteracion  600: Costo   690.73   \n",
      "Iteracion  700: Costo   689.71   \n",
      "Iteracion  800: Costo   688.70   \n",
      "Iteracion  900: Costo   687.69   \n",
      "b,w found by gradient descent: -0.00,[ 0.2   0.   -0.01 -0.07] \n",
      "prediction: 426.19, target value: 460\n",
      "prediction: 286.17, target value: 232\n",
      "prediction: 171.47, target value: 178\n"
     ]
    }
   ],
   "source": [
    "# initialize parameters\n",
    "initial_w = np.zeros_like(w_init)\n",
    "initial_b = 0.\n",
    "# some gradient descent settings\n",
    "iterations = 1000\n",
    "alpha = 5.0e-7\n",
    "# run gradient descent \n",
    "w_final, b_final, J_hist = gradient_descent(X_train, y_train, initial_w, initial_b,\n",
    "                                                    compute_cost, compute_gradient, \n",
    "                                                    alpha, iterations)\n",
    "print(f\"b,w encontrado por el descenso de gradiente: {b_final:0.2f},{w_final} \")\n",
    "m,_ = X_train.shape\n",
    "for i in range(m):\n",
    "    print(f\"predicción: {np.dot(X_train[i], w_final) + b_final:0.2f}, valor objetivo: {y_train[i]}\")"
   ]
  },
  {
   "cell_type": "code",
   "execution_count": 83,
   "id": "d1ca31bd-1129-4a1a-8e64-398b0b9f96c1",
   "metadata": {},
   "outputs": [
    {
     "data": {
      "image/png": "[encoded data removed]",
      "text/plain": [
       "<Figure size 864x288 with 2 Axes>"
      ]
     },
     "metadata": {
      "needs_background": "light"
     },
     "output_type": "display_data"
    }
   ],
   "source": [
    "# plot cost versus iteration  \n",
    "fig, (ax1, ax2) = plt.subplots(1, 2, constrained_layout=True, figsize=(12, 4))\n",
    "ax1.plot(J_hist)\n",
    "ax2.plot(100 + np.arange(len(J_hist[100:])), J_hist[100:])\n",
    "ax1.set_title(\"Costo vs. iteración\");  ax2.set_title(\"Cost vs. iteration (final)\")\n",
    "ax1.set_ylabel('Cost0')             ;  ax2.set_ylabel('Cost') \n",
    "ax1.set_xlabel('Nº de iteración')   ;  ax2.set_xlabel('Nº de iteración') \n",
    "plt.show()"
   ]
  },
  {
   "cell_type": "code",
   "execution_count": null,
   "id": "b9b5614c-0db6-4886-890f-56b4ed06da55",
   "metadata": {},
   "outputs": [],
   "source": []
  }
 ],
 "metadata": {
  "kernelspec": {
   "display_name": "Python 3",
   "language": "python",
   "name": "python3"
  },
  "language_info": {
   "codemirror_mode": {
    "name": "ipython",
    "version": 3
   },
   "file_extension": ".py",
   "mimetype": "text/x-python",
   "name": "python",
   "nbconvert_exporter": "python",
   "pygments_lexer": "ipython3",
   "version": "3.6.9"
  },
  "toc-autonumbering": false,
  "vscode": {
   "interpreter": {
    "hash": "26de051ba29f2982a8de78e945f0abaf191376122a1563185a90213a26c5da77"
   }
  }
 },
 "nbformat": 4,
 "nbformat_minor": 5
}
