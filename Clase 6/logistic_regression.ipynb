{
 "cells": [
  {
   "cell_type": "markdown",
   "metadata": {},
   "source": [
    "[![Open In Colab](https://colab.research.google.com/assets/colab-badge.svg)](https://colab.research.google.com/github/sensioai/blog/blob/master/014_clasificacion_binaria/clasificacion_binaria.ipynb)"
   ]
  },
  {
   "cell_type": "markdown",
   "metadata": {},
   "source": [
    "# Regresión Logística"
   ]
  },
  {
   "cell_type": "markdown",
   "metadata": {},
   "source": [
    "En el [post](https://sensioai.com/blog/014_clasificacion_binaria) anterior vimos cómo utilizar el `Perceptrón` para la tarea de clasificación binaria. Para ello utilizamos una función de activación de tipo `step` (que nos da una salida de $0$ ó $1$) y entrenamos el `Perceptrón` mediante el algoritmo de descenso por gradiente utilizando el error medio cuadrático (MSE) como función de pérdida. Sin embargo, en ocasiones no estamos interesados simplemente en conocer si un elemento en particular pertenece a una clase o no, si no también el grado de confianza con el que nuestro modelo da cada predicción. Para ello necesitamos que nuestro `Perceptrón` sea capaz de dar una `probabilidad` a la salida. Como ya hablamos en el post de [probabilidad](https://sensioai.com/blog/010_probabilidad), esta salida será un valor entre $0$ y $1$ (a diferencia del anterior modelo en el que la salida era $0$ ó $1$) siendo $0$ la absoluta certeza de que el elemento en cuestión no pertenece a la clase que nos interesa y $1$ la absoluta certeza de que sí pertenece. Un valor intermedio indicará una menor seguridad por parte del modelo (podemos utilizar esta información para mejorar el algoritmo añadiendo más datos similares). Un valor de $0.5$ indicará que nuestro modelo no tiene ni la más remota idea de cómo clasificar el elemento utilizado como entrada. Este modelo también se conoce por el nombre de `regresión logística` y vamos a ver cómo se define, su implementación y proceso de entrenamiento."
   ]
  },
  {
   "cell_type": "markdown",
   "metadata": {
    "heading_collapsed": true
   },
   "source": [
    "## Función de Activación"
   ]
  },
  {
   "cell_type": "markdown",
   "metadata": {
    "hidden": true
   },
   "source": [
    "Seguimos trabajando con el mismo modelo de `Perceptrón` que ya conocemos de los posts anteriores.\n",
    "\n",
    "![](https://www.researchgate.net/profile/Shibani_Singh2/publication/321141639/figure/fig2/AS:572731935727616@1513561342872/Schematic-of-Rosenblatts-perceptron.png)\n",
    "\n",
    "La principal diferencia es que, en el modelo de `regresión logísitca`, utilizaremos una función de activación conocida como `Sigmoid`.\n",
    "\n",
    "$$ \\sigma(z) = \\frac{1}{1 + e^{-z}} $$\n",
    "\n",
    "Como ya vimos en el post sobre [probabilidad](https://sensioai.com/blog/010_probabilidad), esta función recibirá como entrada un vector con la salida de nuestro perceptrón para unos datos de entrada determinados y lo convertirá en una probabilidad (un valor entre $0$ y $1$)."
   ]
  },
  {
   "cell_type": "code",
   "execution_count": 1,
   "metadata": {
    "ExecuteTime": {
     "end_time": "2020-07-04T13:27:42.969824Z",
     "start_time": "2020-07-04T13:27:42.954821Z"
    },
    "hidden": true
   },
   "outputs": [],
   "source": [
    "def sigmoid(x):\n",
    "  return 1 / (1 + np.exp(-x))"
   ]
  },
  {
   "cell_type": "code",
   "execution_count": 3,
   "metadata": {
    "ExecuteTime": {
     "end_time": "2020-07-04T13:27:43.747111Z",
     "start_time": "2020-07-04T13:27:42.970823Z"
    },
    "hidden": true
   },
   "outputs": [
    {
     "data": {
      "image/png": "[encoded data removed]",
      "text/plain": [
       "<Figure size 432x288 with 1 Axes>"
      ]
     },
     "metadata": {
      "needs_background": "light"
     },
     "output_type": "display_data"
    }
   ],
   "source": [
    "import numpy as np\n",
    "import matplotlib.pyplot as plt\n",
    "\n",
    "x = np.linspace(-10, 10)\n",
    "y = 1. / (1. + np.exp(-x))\n",
    "\n",
    "plt.plot(x, y)\n",
    "plt.grid(True)\n",
    "plt.xlabel('x', fontsize=14)\n",
    "plt.ylabel('$f(x) = 1/(1 + e^{-x})$', fontsize=14)\n",
    "plt.title('Sigmoid', fontsize=14)\n",
    "plt.plot(x, np.full(len(x), 0.5), '--k')\n",
    "plt.show()"
   ]
  },
  {
   "cell_type": "markdown",
   "metadata": {
    "hidden": true
   },
   "source": [
    "Como podemos ver, los valores muy negativos saturan a un valor de $0$ mientras que los valores muy positivos saturan a un valor de $1$. Cerca de $0$ la función `sigmoid` nos dará una transición suave entre los dos valores límite."
   ]
  },
  {
   "cell_type": "markdown",
   "metadata": {},
   "source": [
    "## Función de Pérdida"
   ]
  },
  {
   "cell_type": "markdown",
   "metadata": {},
   "source": [
    "Podríamos intentar entrenar nuestro modelo de `regresión logísitca` con la función de pérdida que ya conocemos, *MSE*, y de hecho funcionaría sin problemas ya que estamos forzando la salida a tomar el valor $0$ o $1$ en función del *ground truth*. Sin embargo, vamos a introducir una nueva función de pérdida muy utilizada cuando trabajamos con modelos probabilísticos ya que dan como resultado un mejor proceso de optimización. Esta función es conocida como *Binary Cross Entropy*, o también la puedes encontrar por el nombre de *log loss*.\n",
    "\n",
    "$$ J(\\mathbf{w}) = - \\frac{1}{N} \\sum^{N}_{j=1} \\left[ y^{(j)} log(\\hat{y}^{(j)}) + (1-y^{(j)})log(1-\\hat{y}^{(j)})\\right] $$\n",
    "\n",
    "Como puedes ver, cuando el *ground truth* sea $0$ sólo intervendrá el segundo término, $log(1-\\hat{y})$. En este caso, si la salida del modelo es correcta y nos da un valor cercano a $0$ obtendremos un valor de la función de pérdida pequeño. Sin embargo, si el modelo se equivoca y da una probabilidad alta, el valor de la función de pérdida será muy grande indicando un alto error (fíjate en el signo negativo al principio de la expresión, necesario ya que el límite cuando $x$ tiende a $0$ del logaritmo es $- \\infty$ pero necesitamos valores positivos para indicar error). Lo mismo se aplica al caso contrario en el que el *ground truth* sea $1$, pero con el primer término. "
   ]
  },
  {
   "cell_type": "code",
   "execution_count": 4,
   "metadata": {
    "ExecuteTime": {
     "end_time": "2020-07-04T13:27:43.855101Z",
     "start_time": "2020-07-04T13:27:43.748112Z"
    }
   },
   "outputs": [
    {
     "data": {
      "image/png": "[encoded data removed]",
      "text/plain": [
       "<Figure size 432x288 with 1 Axes>"
      ]
     },
     "metadata": {
      "needs_background": "light"
     },
     "output_type": "display_data"
    }
   ],
   "source": [
    "x = np.linspace(0.01, 1)\n",
    "y =  -np.log(x)\n",
    "\n",
    "plt.plot(x, y)\n",
    "plt.grid(True)\n",
    "plt.xlabel('x', fontsize=14)\n",
    "plt.ylabel('$f(x) = - log(x)$', fontsize=14)\n",
    "plt.show()"
   ]
  },
  {
   "cell_type": "markdown",
   "metadata": {},
   "source": [
    "El motivo por el que usamos logaritmos en la función de pérdida está relacionado con el concepto de `entropía`, una medida del grado de confianza asociado a una distribución de probabilidad. En este post no vamos a entrar en detalle en este concepto, pero si estás interesado [aquí](https://towardsdatascience.com/understanding-binary-cross-entropy-log-loss-a-visual-explanation-a3ac6025181a) encontrarás más referencias al respecto.\n",
    "\n",
    "Como bien sabrás ya en este punto (si has seguido nuestros posts anteriores) la función de pérdida no sólo sirve para calcular el error de nuestro modelo, si no también para su entrenamiento. Para ello necesitamos calcular la derivada de la función de pérdida con respecto a los pesos de nuestro modelo. En este caso es un poco más complicado que para la *MSE*, pero con un poco de matemáticas llegamos a la siguiente expresión:\n",
    "\n",
    "$$ \\frac{\\partial J}{\\partial w_i} =  \\frac{1}{N} \\sum^{N}_{j=1} (\\sigma(\\mathbf{w} \\cdot \\mathbf{x}^{(i)}) - y^{(i)})x^{(j)}_i $$\n",
    "\n",
    "¿Te resulta familiar? Es exactamente la misma expresión que obtenemos al calcular la derivada de la *MSE* en el caso del `Perceptrón` con función de activación lineal que ya utilizamos para tareas de `regresión`. Esto nos simplifica las cosas a la hora de hacer nuestra implementación."
   ]
  },
  {
   "cell_type": "markdown",
   "metadata": {
    "ExecuteTime": {
     "end_time": "2020-07-03T14:55:29.333019Z",
     "start_time": "2020-07-03T14:55:29.325507Z"
    }
   },
   "source": [
    "## Implementación"
   ]
  },
  {
   "cell_type": "markdown",
   "metadata": {},
   "source": [
    "Vamos a mejorar la implementación del `Perceptrón` del post anterior para que ahora también sea capaz de funcionar como un modelo de `regresión logística`."
   ]
  },
  {
   "cell_type": "code",
   "execution_count": 6,
   "metadata": {
    "ExecuteTime": {
     "end_time": "2020-07-04T13:27:43.871101Z",
     "start_time": "2020-07-04T13:27:43.857101Z"
    }
   },
   "outputs": [],
   "source": [
    "# funciones de pérdida\n",
    "\n",
    "def mse(y, y_hat):\n",
    "    return np.mean((y_hat - y)**2)\n",
    "\n",
    "def bce(y, y_hat):\n",
    "    return - np.mean(y*np.log(y_hat) - (1 - y)*np.log(1 - y_hat))\n",
    "\n",
    "# funciones de activación\n",
    "\n",
    "def linear(x):\n",
    "    return x\n",
    "\n",
    "def step(x):\n",
    "    return x > 0\n",
    "\n",
    "def sigmoid(x):\n",
    "    return 1 / (1 + np.exp(-x))\n",
    "\n",
    "# Perceptron\n",
    "\n",
    "class Perceptron():\n",
    "    def __init__(self, size, activation, loss):\n",
    "        self.w = np.random.randn(size) \n",
    "        self.ws = []\n",
    "        self.activation = activation\n",
    "        self.loss = loss\n",
    "    \n",
    "    def __call__(self, w, x):\n",
    "        return self.activation(np.dot(x, w)) \n",
    "\n",
    "    def fit(self, x, y, epochs, lr):\n",
    "        x = np.c_[np.ones(len(x)), x]\n",
    "        for epoch in range(epochs):\n",
    "            # Batch Gradient Descent\n",
    "            y_hat = self(self.w, x)  \n",
    "            # función de pérdida \n",
    "            l = self.loss(y, y_hat)\n",
    "            # derivadas\n",
    "            dldh = (y_hat - y)\n",
    "            dhdw = x\n",
    "            dldw = np.dot(dldh, dhdw)\n",
    "            # actualizar pesos\n",
    "            self.w = self.w - lr*dldw\n",
    "            # guardar pesos para animación\n",
    "            self.ws.append(self.w.copy())"
   ]
  },
  {
   "cell_type": "markdown",
   "metadata": {},
   "source": [
    "Como puedes ver hemos definido diferentes funciones para cada una de las funciones de pérdida y de activación que conocemos, y simplemente le diremos al `Perceptrón` cuales utilizar al inicializarlo. De esta manera nuestro modelo será capaz de resolver tanto tareas de `regresión` como de `clasificación binaria`."
   ]
  },
  {
   "cell_type": "markdown",
   "metadata": {},
   "source": [
    "> ⚡ Para hacer una implementación todavía más versátil puedes probar a cambiar la función `fit` para que funcione en modo `mini-batch`. En este [post](https://sensioai.com/blog/013_perceptron2) encontraras cómo hacerlo."
   ]
  },
  {
   "cell_type": "markdown",
   "metadata": {},
   "source": [
    "## Entrenamiento"
   ]
  },
  {
   "cell_type": "markdown",
   "metadata": {},
   "source": [
    "Ahora que ya tenemos todas las piezas en su lugar, vamos a utilizar nuestro `Perceptrón` para la tarea de clasificación binaria en el dataset Iris. Si no estás familizarizado con este dataset, te recomiendo que eches un vistazo a los posts anteriores en los que lo explicamos en detalle."
   ]
  },
  {
   "cell_type": "code",
   "execution_count": 7,
   "metadata": {
    "ExecuteTime": {
     "end_time": "2020-07-04T13:27:44.574176Z",
     "start_time": "2020-07-04T13:27:43.873101Z"
    }
   },
   "outputs": [
    {
     "data": {
      "text/plain": [
       "((150, 2), (150,))"
      ]
     },
     "execution_count": 7,
     "metadata": {},
     "output_type": "execute_result"
    }
   ],
   "source": [
    "from sklearn.datasets import load_iris\n",
    "\n",
    "iris = load_iris()\n",
    "X = iris.data[:, (2, 3)]  # petal length, petal width\n",
    "y = (iris.target == 0).astype(np.int)\n",
    "\n",
    "X.shape, y.shape"
   ]
  },
  {
   "cell_type": "code",
   "execution_count": 8,
   "metadata": {
    "ExecuteTime": {
     "end_time": "2020-07-16T09:14:23.467124Z",
     "start_time": "2020-07-16T09:14:23.458124Z"
    }
   },
   "outputs": [
    {
     "data": {
      "image/png": "[encoded data removed]",
      "text/plain": [
       "<Figure size 432x288 with 1 Axes>"
      ]
     },
     "metadata": {
      "needs_background": "light"
     },
     "output_type": "display_data"
    }
   ],
   "source": [
    "plt.plot(X[y==1, 0], X[y==1, 1], 's', label=\"Iris Setosa\")\n",
    "plt.plot(X[y==0, 0], X[y==0, 1], 'x', label=\"No Iris Setosa\")\n",
    "plt.grid()\n",
    "plt.legend()\n",
    "plt.xlabel('petal length', fontsize=14)\n",
    "plt.ylabel('petal width', fontsize=14)\n",
    "plt.title(\"Iris dataset\", fontsize=14)\n",
    "plt.show()"
   ]
  },
  {
   "cell_type": "code",
   "execution_count": 9,
   "metadata": {
    "ExecuteTime": {
     "end_time": "2020-07-04T13:27:44.714728Z",
     "start_time": "2020-07-04T13:27:44.700730Z"
    }
   },
   "outputs": [],
   "source": [
    "np.random.seed(42)\n",
    "\n",
    "perceptron = Perceptron(3, sigmoid, bce)\n",
    "epochs, lr = 20, 0.01\n",
    "perceptron.fit(X, y, epochs, lr)"
   ]
  },
  {
   "cell_type": "code",
   "execution_count": 10,
   "metadata": {
    "ExecuteTime": {
     "end_time": "2020-07-04T13:27:46.980104Z",
     "start_time": "2020-07-04T13:27:44.715727Z"
    },
    "code_folding": [
     8
    ]
   },
   "outputs": [
    {
     "data": {
      "text/html": [
       "<video width=\"576\" height=\"360\" controls autoplay loop>\n",
       "  <source type=\"video/mp4\" src=\"data:video/mp4;base64,AAAAHGZ0eXBNNFYgAAACAGlzb21pc28yYXZjMQAAAAhmcmVlAABNMm1kYXQAAAKtBgX//6ncRem9\n",
       "5tlIt5Ys2CDZI+7veDI2NCAtIGNvcmUgMTUyIHIyODU0IGU5YTU5MDMgLSBILjI2NC9NUEVHLTQg\n",
       "QVZDIGNvZGVjIC0gQ29weWxlZnQgMjAwMy0yMDE3IC0gaHR0cDovL3d3dy52aWRlb2xhbi5vcmcv\n",
       "eDI2NC5odG1sIC0gb3B0aW9uczogY2FiYWM9MSByZWY9MyBkZWJsb2NrPTE6MDowIGFuYWx5c2U9\n",
       "MHgzOjB4MTEzIG1lPWhleCBzdWJtZT03IHBzeT0xIHBzeV9yZD0xLjAwOjAuMDAgbWl4ZWRfcmVm\n",
       "PTEgbWVfcmFuZ2U9MTYgY2hyb21hX21lPTEgdHJlbGxpcz0xIDh4OGRjdD0xIGNxbT0wIGRlYWR6\n",
       "b25lPTIxLDExIGZhc3RfcHNraXA9MSBjaHJvbWFfcXBfb2Zmc2V0PS0yIHRocmVhZHM9NiBsb29r\n",
       "YWhlYWRfdGhyZWFkcz0xIHNsaWNlZF90aHJlYWRzPTAgbnI9MCBkZWNpbWF0ZT0xIGludGVybGFj\n",
       "ZWQ9MCBibHVyYXlfY29tcGF0PTAgY29uc3RyYWluZWRfaW50cmE9MCBiZnJhbWVzPTMgYl9weXJh\n",
       "bWlkPTIgYl9hZGFwdD0xIGJfYmlhcz0wIGRpcmVjdD0xIHdlaWdodGI9MSBvcGVuX2dvcD0wIHdl\n",
       "aWdodHA9MiBrZXlpbnQ9MjUwIGtleWludF9taW49NSBzY2VuZWN1dD00MCBpbnRyYV9yZWZyZXNo\n",
       "PTAgcmNfbG9va2FoZWFkPTQwIHJjPWNyZiBtYnRyZWU9MSBjcmY9MjMuMCBxY29tcD0wLjYwIHFw\n",
       "bWluPTAgcXBtYXg9NjkgcXBzdGVwPTQgaXBfcmF0aW89MS40MCBhcT0xOjEuMDAAgAAAKRpliIQA\n",
       "E//+97GPgU3IAA2XOop6H+EVsfSQUXqx2aBk6gAAAwAAAwAAThap3vm/XLQJM3fwV3/EAVTGfpQY\n",
       "8Nx/7dOEkU3T9ZisvU1F6oHbsJbVmjMcEeXWMRg74ejNkn3JPMA+grhUsAyD/sXzJilOhdn/qAZQ\n",
       "OqFm6ZhgpLkMMWPlFg1YbRUe4aBrQirHlQfCcETk5YQpKIcxO2ks1gnBN++LIQJHXFJVNsnToovW\n",
       "zj6nqEZW/TzjTTiBbTFnS1xPpgogQEd1DemDnb+lw0ji8Ii7gWGSvskBmCHLOhcYtjJbqfNU01sg\n",
       "NO3HSZAzSw79LlkNqI55CcYAAAMDX+K2sQxS+bRZYEoaJz5tj7xzWtLN/4PqjPV1D1vn1grY54b2\n",
       "veB8fXHnyO1f0oIJRdvrUlaxeSfb4ODhJvYOSOXEfZvfRaoYTmUwi76gr5CUVxngP4CQt7o4BPiM\n",
       "w1T48/vHRna1Fu1FeFNpdgRzCfJB+GyPfUj3woeA7AHZpJ4WrlZMngoe/qkmUerC0Dxvxnp8H0sy\n",
       "IpmGOd4QwP4/AfRQP9c84sI+fM8vYmaXu0dx8zpAOKLTJW/HxNglNyoZKyfoesFLfXK0cLoZCVWA\n",
       "2Bn1e7ge9IrlykA3uLBqZ5+7hp4UrmzQlimF5nAqPrU3cpJl+xqqKFrjqMF7zj8/O6PlJpmOPT0P\n",
       "8vO4C+FIKuG3/wH2NyXOwF3j9VGSRiVuWZh9nPYCfxWWUu5oDrS4DcOOpsfZU1/69SkIUNkdwUnu\n",
       "gw3HudUtCHUES0jxoGDg6aYmvzivg+ZR+AxC8J7+2b8Yh/6vqeIIE4aSdGMRGSSmflkgf1KAsdGD\n",
       "HtYwWfH27HFeXrkjTu7E5T2PpcHaMRx10htpR/r22ohpXz9CvL2H0Fl8NuFaRIHZEOfk4LEDY0jH\n",
       "t+dGPdwQmgQ9dgF5HuzCrVgm1/p6afHgs/skEQT0JtCDgnqT3lnx/He6vXfsuTyxoHPQySKmgy32\n",
       "w/+pvtyOsmfMQm+RqJUGAwSpaont/vfsPsggn4LdBFqudM4jXih/xUfxELc68DDFZtBVfqxaDYNC\n",
       "VzMzKRRNFxI/R0TOXJecuQJ0TEYy3tf+s2kufzHWM91BtpP1R2kGlQZ3+h0wh6rVZwvEjdiHrSMk\n",
       "Jgx95nsUULD9nNkg27fgnCEvCXbq97jjkKhBgi3BqnlqUTYWn8uTo/IOpKbOUaP9Zn5mel/49BX/\n",
       "vD1kbieO3w3nB3z3UA2ZHazbnER37zeDADOAAOBzHSH2tF5txS62jlGX0I8r5P7zg74NSb/KyBg8\n",
       "shwYBQAlpTR5z62LRY0jfqJE4w+coDK35j0L0cFEl6yITWUskBgpw1i5GKw2ru97TrxMc0V77sZK\n",
       "OfSlwttKoVp6NGHfHmbvsOFX8/Ddu/NSP7+zKHHz3DZytoExE33c66q+TI5Gt/XvS3vjfPAXFHAU\n",
       "zhhtjZ7T1uFiXZx+IOVf9DG7S3Vv8bvrbL+F23EZDBsVLydOv4UtHYlehWmifue5bnfYvJm7mNYa\n",
       "jfk9UAPx9VHZTXi2pRIjDiFqajfNTbtosNh6c2W7cqr76tqAWwxs0Us2WVnus6xlvOcMmsOsyxeC\n",
       "D/LIH6KdmQwlZv5jDk+HEmK5bcZ27IjBAuFpl0N+M+GhcDRMu2dq/bj9da12escb5EhdDRNshlD4\n",
       "STGNdgtPuJ9OTBLdCbOYPJw/jHMrWlqfdp6gW8k/ZQvwHKG4Qem9D4UVeZm+zkIgf6GJP1+4RV03\n",
       "3AS+3uqz8Tee67OiQ+naD4Mih06KZj8Q2f9wcCa1gOAiouaAmLyNoEnV1XQ75Tz/DYsTqPcKp+2H\n",
       "1hZ3VUAq6G8wCakyFSnY/bnP2YYqdCk3+4Tz2QDb5PZpdsGPobuJMj/lMOn5QRH4hG8aMXWJ7h2/\n",
       "hnkrZ7EqU1mjOauepmS5XgNrG0k5BmTHjxh1V6zDU67c/t1ncSy/L1wDG+HraDjsJqz3EPF0n10M\n",
       "mZUKuy3TzBrXM0JwdcbsInKyqjApgwFdsVaWbM9dU7wEU8QM6Z0hHoQK1+3k+IK6kCA+dRIUhkBH\n",
       "aVW5jyzKQ8VNzOiURE6t9Qg0pjP2FwD6th8VjRE/nymOL9GFWInL/rm06mB14Zd1WQEGRinJVekA\n",
       "n5a0trx8Wv3rQYx4UFMjS08C4aEIK4AoLQ4JqJycQIFg1vCATXo9p06SHXbx4vWHCXn3Ry+KEBPu\n",
       "SBZyu7YKb5ipDh53NP0EFQYpiD+tEAyKZw7Tw1+zjx6Q1WT5poE+pbJfF/f1K01mf9qwKDL3HuOp\n",
       "UC7oDA1bZuK1uaScOzyC+8gr1cL2Tq9jB6WoWeEm9dk/Eab2Un4l2V9nAYmIlufwxhgftwBgJFGz\n",
       "X+DWvFBzNYohQSWFMMex4Yhc0d2Eoq9EAi84FvveYCdCoCxMxfkMIbWjVwyS7WKJ81wtL2tybP3R\n",
       "yYwe5Mw4tf9QBhp8XzVKDcOyHFhK49noaLsqdbdS5jQRs6ugTVKTe5dDP8GuT/kTzQjzLbR4dkOC\n",
       "vFXST1OOFR/BdTyW3X35uA+sAEq6ChKQKdZr+psXEYymekJaXhx2vdRKQJxdbAlNxy6q814YpzCh\n",
       "jZBgnzt40Dygqsg2Pl60eqEWWWTVOsXJTtgmC6ZqKMlwaaul/g8ag4b0cn4F7k6urT2CXtY3kP40\n",
       "A92al8/rvADa1VNtLFJbEjf7BXcwcdv2LQpVeGtFv6/PsB0FvZ55OXjAdWTQ/9xa7CFa6j7dM/Ic\n",
       "6/FQcn7FkLFwgh93Dti3Hh5WP1e7sR0h4VVJvHsCCI6VkNFotRNYBdnvUQ0/vGQHC/DdOHfWpOLm\n",
       "5RCfGrUXzxFnPai/4QaMH8WCQz7ZqzBLH6UOtcdlXZ3bMWzIOCpjMJWUOVcoIlapq7UIKAC9yZVq\n",
       "ZWqUrri1DbO6ZddzwW39jRY+deX6fbGzlAP88Y65sucQoqhd9F1g3k/p8QDiSmuCnSl6TZpqP03n\n",
       "s7wtsHCYS45xP0u9zBddImPgPcZG5bMc3tpMfisI/a/VLXlZxPR57017e2B0dF1452hz3jeicLJp\n",
       "rL19lf+SUrYq/X7dkEbGnCuUBzPZGbrfY66tWSVYbKqiA1lSnprrzBX6apZEa+aggcXKXiXMX3jD\n",
       "QYakkDMSXbYNs7aEHdhxnDPOJOCj2W5W4M77voRL4iXVPiGs3i7oJDDq/LRmRNs0d3B7MxFA3e9X\n",
       "YAn9n2gOZbNFk9haE6SdOD0TUrT78n3JrnnyGG/KZNZyea7hFMxLCaYgbRpkkZB9ps7EJrJliLC4\n",
       "1CTo8BUcT7/nRsoe1LMj6SgS2YAo4Sv+yGBidWZqgYBssrE2HSU4a/5jL6lPI1rBocq1bR0HxM8P\n",
       "9V8osWZ0DkXBj7hwdBnDQmUvY7l6e/2OLSxfMzoSoPnXuWJjf+L/80B9BY5xEaaF7/Of0yTMxJnz\n",
       "Qpd4BSdJ1S2owjVzFWG/mqbC2WF13iZXJ4hSQP5MYaG3eFBuMgw+R337SD3efyj+n6poSrGf3P/4\n",
       "iUo/qUrgtfHIHSBAFgaG/bAR7TRMZiwN5M8apiyiOmRbfmusRavX3/FPMVhJgkybXnl3LB7smr5f\n",
       "HSMb1tKg4xNymqt51Ez7pwVNvyV5sUi/uKp7r5DfwvhTcufY7p/F6Ax0qUaKhAmZ/JymSXlnHQkX\n",
       "3RP+83jumb1uuaa6XcsuKAGoK/vCcrIULUsuuqYI9OOOyaYFRMl0sVqOqifMi4agwjLsV7Y3LCAp\n",
       "Y8rygwVol8ylMb8QFj6fM+hnxOePsaTGM8OFVw4NL9LPTA7NF9UNA/d2N0xOoDKioPboJhbvojT5\n",
       "YbZ5ZP1r0EvcNALi5Iyss2ocdu6F57C0SgGv43OpliV8ohr1nPG5EW3B2sVzueNhUAEIBU/3I36N\n",
       "/F/hJLa479Ob7nR7xRzD7kbiarkeSgk/f+fCdr6nwtv9aeu1T+qCZagG0BDECzc8TalFeKKiKCt5\n",
       "ar/EnckAnGzdV1Qgob/W11W6c8QF/dJvXWEUEBcRU0TRvGrwt+RNsBTq6MvnQYk78hhIj/XXW2MS\n",
       "m4HpZeLCJQ0tuEVe7zGMxeRNFixd+hlxdd6UGWwckjoVT6GOQNC3IN6ODK5dMF2e/DKo7iWD44Ym\n",
       "OkYjwPcoE2rKCGP6oA2s1hzZ7VMqzUd+WNxm6ZUt3ms3+pDv+jp8HfZKn/pq+1xF5ao41GrcvcMK\n",
       "SoqiaiQ0uZ5/p17/Y4Z92BybjfwdY6ZS3gBDPriKDP+ON1VGQwnIOk3D3gZRpH8RMjH+YkscqJRr\n",
       "ArM1bHjlp1scu8HLy3iJdHnYaf63he11CSZWo14VMfPSy3c8uqQP+DEjC2pTlY3euEENzAJxjDIm\n",
       "m3borJsU6bgU6YFZSg0rA3KpoyIY2niSyNMpJ6D7X4rRJFPx3+ZoPRFKW9O7z1/MEQ/ucM9vfpmC\n",
       "F6E++lloVdgpAMEIgwaBxUPp8VDX2fR/sNVD380tPxbLSyRUq8aPbUy/cd8do5AoSl//yMBtIrC9\n",
       "icNqfVcaCFpNL0uwBqGm+ByHdnzNpp3BH9KeguNc+D3eQNJxJ7uMnQOLsdeAO9NbzM9mhm5KV8Y0\n",
       "P//odf/uNIyR8z/z24GOIAsP16Lin/7OD9L4jh1Tis2J591XhjEeKC9menWVsjYcifm4cH52lzbA\n",
       "YMPOvEZ2DiHfL9A7HNw+b5m3V9DpWfcFLoR8Ky+VJSiJuLDOPmUJrTkr7EfaDpKz/4RrmVGtnr7Y\n",
       "TsAlqMbFcYLhJYZoM2ihOovbZ6stBeful4VNsAqEamDtEU7eR6Km8pQtBimzvu3pYRsl7J2x6jag\n",
       "vlCx91ONEG4KROqDYf6AjnjIcDDj/SLLBlDH/DXfX+c5VHfsjsLGRHNUU2IliAYjYy8qb5+oyaRn\n",
       "U4pQoTo7RS5UyI1sS5n4b6dFCBFnOK+FgAjhhoqNIBWDPKtrS+es00zNcre+TCHsLs9aGvlPV/ZR\n",
       "HETsW76eWUssSrj/rbr55FLFuQXr2FlYSHfQ9G6zWjYGCK0aC1xPbvqAOPvWmVDFyrZ8kzrGOTDZ\n",
       "98ngPZpyxOo6TiOWaMc7te6yp3M68Z0I9fq6CP2aXs8UseXbr35CJqQL31SzTOu3fdRAzmk2Aywl\n",
       "sVpSlmVI19TP+NW7aTvzxeqZDogayA410SdPYjFSbxcaLR7bhkjWCC00bgMaiY0biijybBPT+G3x\n",
       "ykBmCNXgwSXXDn/6WsJp0p0nb/68b29XYjOVeP0omuwMo8m+j7IgI+Vf11ox1emimgKj8uOTa0qE\n",
       "uDW02qm3+zkmrVCdxZFQRCzdScUV22OtA/JOQwwsobdA34u7MF387SiY0Q+lLYwqSK1RlM0eOU6V\n",
       "MlC4r8meqQQuz/pIWtuDrPfzHavFkTbRc+pgU3YUW/KkzWRM7y+JRa5zqA5qBTJmxTFJpIXSXXS6\n",
       "Jr0jcNDKYHLiwheuq9OFC5tNNVfRbGuJ9GV1ETVCD4exdRtKIbhKkqMj8o5CO2hCt4LryZsvEyh5\n",
       "Vp/LifFFFF1YuPDp046xTRYAdl5N83sr29tN2AKF/7SrhCBueEcGlbUCpsfpVGiGWfpiLwEZcPce\n",
       "fyJ+Of+z8dFoZCgotY9mBk6mo7h5K7Rlxgm8PROvJm8YfzLPH57+catr89auX+b/lJC9jdXg3+7R\n",
       "FKdQUKaBRsKg6wmusQULh/QDQgOTCOl4RdsH+SQ3u8T235HoE1K3mCvcUGD79UQz1eoXeIMXuIjy\n",
       "QcaU69z9J4X/L7reVq5piOfU6+MXS673MGttclW43BEqpwPIcHEesAKA1GPZ0Idd2TByx4GZpGPg\n",
       "4YSnLF9RrZq/KVVlGDyJmcOGI9vmGwJs2QPZouxt0N6MZhYOeTBqH/cwvOGJcAZ1c7KZ/RobROFG\n",
       "uDJOrSt//nePSei6LfG4NLTUT17+0TsIXq9JWe36drVf2BXAvaBTSc3LmhsMr2rtNBBa+r7bTQWt\n",
       "hXgw3XfAMtFMecxVUy//lhAURxIAEayaicw2babTlih6lOHn8BOkk0aWv3e9Y1n6F1g+DBETL7fz\n",
       "3fayuHpzE4UxsJM81XB9csxzZ5Wuj2zFX/g7aPEuCVRyTdpVaR9D81ZN8UkXrgqdWd6mrB1V5awh\n",
       "31IJn4u40bL+gzhGjSnuih2A142EFgZcrbl4qVIrfccKI+PGZ/CpubyGA2fG99xgd7o9jdmN5hne\n",
       "05Ka8on6+HQGg4Knz0jiwiHzYz6m/lnoxaORmubVmAx/xmeNm1QzcTCxhzopWxYNqxFl1KErqAEd\n",
       "W3ZhWm+4xTPr9EdTtjHJ8edLxkVod21eCw0wahpUrGft3GwuomFQTMQ0btDgAuf4xDKpv6UvCW6p\n",
       "ErQibGH/Es3jh0U7XQ6NuDhHudgXT6RrhfwKhXdwQom2eXLpxt//hG9Avi64H990KBjQv6OHGV9H\n",
       "a8zB40Mq8LSs90OF15tIohjzlLyQh2rRRMePvJVmiUBnyxykeIytf1eYL0Wju0YH8SOT/uDWn/U5\n",
       "3kfu3Es+O5D3vTx3GUJSXnUA8THvW9Rp6JnkaqqAsow/JapsyPRu/HM8GvZ2OQzhIci4CitlEzuH\n",
       "HveOb0OIAjGfnoJtpO1GqJ8kyDjkZv/FgdL8U3RhR91whKipITYhhdGFc6wyImtRJ/yU3Dn5e/AV\n",
       "W+CfxrCgaTAErKtrHtRYqvUUGcmgwZt57cPoZdbIpdtyCJk9iIwU9QCSNCQRtUQzEy+8xy3p/13h\n",
       "JwFFb6dJSLalWL0d8K0HlU0hnXlGYEME/ePdfVMC2A2hac/pH51EnnwcJbZKLH4r9/bRmO5cNkX/\n",
       "PqE8Jit1nGXzYZJVBK5gAEnWkFjgem4mMOIoR2KvdoXXi6qKUn1YNUw945b/mjgHlIlWx+4NXv6y\n",
       "Jsij0F1609cHKjvcdpgQlGuFhGgbLdF7Yv2huAx9yE4D+TQgDSNT4cBE+AUAacvO+FqbzfjCEx8d\n",
       "3eSl2plx7zPS4npRZGrC+griqgtVAL8I2iHsrXCnpt8vR2nwTOThb1FKge9bVBcwCiXCcM14Udw4\n",
       "ZqEyg5OMueIZzbyCmgKKXrrzIjuGjjOmqbPafpkpNuAPLjk94H0Yeo0Zmd30+JiZYFFXTOz+ig0d\n",
       "8X0fmcZX1qfeFU8jBlOumsSOUgif90HmDO6APrCuF6/Hn7mWCV5/5lnjGo/A3FjwS5M8ZuPKRgU2\n",
       "/k/qtlpEOjBGP9fDzo8jYASG0iIRup0utnz9SSDbSDtWni+PDLlvX2c6HJzkv+Vt/xcUV0nTH22G\n",
       "BFMC5nhDfYZ03iSf1WlutQVABKtqZ0bD6NsWQPQ46aCgkLVFPBhlVHkEH5F/XwOaQdfoBCFuFTQZ\n",
       "5i+Jts5pRSC35MZ04DzA3LnV6C8fQY0FQcOIMaRcLcuy6MyCkaUREtnJLYPZYJr3CQaWFJD0/WTe\n",
       "+o/e5IyVAItbiY2vpfC7m7Rg8uhzSz9IukDBfghg30+ovJsjswNrluLB7s4amS9ZEZn323V0aD6E\n",
       "FxCaU8nJLsXaGm5+pT22Wg8SMznLUVnlOTfA3iJjay74vCWwa74KL3e9tiA16hQBTB/VX9zhgwk8\n",
       "wZZxv7dSmtiKcfWw16gvoNgdTlEXTQPhyBUdM23xZaL30z5dvEpYz9N66bnCOvH3CMCORw9/7qsw\n",
       "ORGtZ5p0RA9IuGCyrBOE/btC7tsEeRqw6cWcwdI5Udin+BQhGIH6yPspSsFWOXui1MU/guKv80tE\n",
       "8KyQM7S7o5qbAQ7GsnfUFfISiuOSZv9IntGnFOkLcDIdkZ/NJQsn5PnCvC+CmTAZBWOlCMC2U4Fe\n",
       "3vh4TSt4a8a7RruN06pmc7lCZHLy03RKeMLYbmHTVUbLPj4N8dJ357JX3EH+/bGJlcy9JmVAn24H\n",
       "E3XUpFcQ/1+LOV0Mj5vyKaulOtu2YcHC8wChSs4oKz4Ja+VKHDSft5Bt7NxI9EBUiTM1b/jVXn8u\n",
       "hA9IgamUnfMAHl3vYE6SauJtiYdlZgxzZ0/dyAmBdb7ArrJS7xAcMEJoE8nwinMLkFbRkivBzpS1\n",
       "GzBXoz7Om0JW+Wt7uQAZQlc3+EYXm9tTiB504ay5EMf8uc9cfyT4nG59cSMy0nY167AjnC0MU7j9\n",
       "kZJbJO/73hvxEurh7mEOUobcuRDV6UIqKDqdL2acoCQCiUgwxPfHD2vs1jEfKAUMh8FgSl2aFZF2\n",
       "5JcnSmF/tB/n6WaonFvkaNf/a656f3GJJBrqC/jdlaA2e+R8xzU/lqbRH9v+1l1+hi9mrg2b3guu\n",
       "99TY1ONtHluowd0vx1sVlN20brBV2QwNU8DI2l7Nkx6Sbbhs/aYhGLvQqCsI3JQsp8ATyBPwtNaa\n",
       "Gseuw0YM/zPzH01L7nLVZFR+s3TrVICxHssFxY/6o9kr1F+RpGOA5kDp8FPjXJGiIuZGyjoyaPdy\n",
       "bCgcCx4/ZkRkSESR6CnCBxd7PnDfHEZdqU6ZRWTZQbLbU5xZpEY/dbYvr6A9YWk/5Qpo39T/Ivyj\n",
       "B1n+Q+YH8v+wLTsZrAtpzqbwoKBu+Ue1rMr+vuL28kbyc9ZOzKb//N6EvN/YLynCyWGnjrv7LfXp\n",
       "MI4S+Fya5KTB6YF734m34HIc68J5SJxzLlp03VhJH8slJkdQT7uEPwWNTTS5a2nEPVo/wkkO/VYI\n",
       "rHhlz+NmzuHeTm9PhOFzPN7/iX0rMCa75e4Mj+RmTCCVDkgxFgVeqzJslCfx4zraQrhREQLirzKy\n",
       "nrMbxGhfzPXWvZI9f3vFkeazgKQ0nobW7jGljQAmC7gCUV53dPqKurc/QIprhdz2xXAyhlIuk4LK\n",
       "Gz/4Em4n1OFszLvKcBV2wL89IoLcoIuxMeXGby9scjsoPliEfivox77j8GUb8g82hyWeJ7V1SpcN\n",
       "SaK/IQ3VsuW//xB0RUoTknht+STpzzZVZXZOWKSqh+tMVBOS8lAa52flsUvTW7AgtyVF4q6i9212\n",
       "XeRZ9xdhK1buRNMj6XLP83NTHnZb0benpwYeRRa70frMKNNpwJ1uTFR1tspCjdzbzfU7bSjpDZ1o\n",
       "pz8eXxAQoiEhy/h+NbTScL9kN1Y4LqguQmfhM4gh2bhr8SMgvUcFpKSlXGe2vzWrrwMKbrJI73na\n",
       "hGkoDy2g6pRi+0r+uLWwxAWVHdH4FK0d0ZYGALudSTHO1VE06SJehLlEBS/hD9gBXXikMT2Do1Ii\n",
       "rAdDba4d9ab5jrxtSNp2hQ1HwN6JlRYVhh4fe1drHYqn2ZhB4f+d+gMVV2OfhIEu6YXpJgfQC/DP\n",
       "az/M0dzjcYN3SNfQw0kSi++IC/ZW0MUcDjhTyo0q7hCYdDyvN5qcuACtoEyNl7FnA6X/mZGllN85\n",
       "nQFsoRpbXiZpjEgSAS6/7+OicPLpzSx13QGWIVW8MfA3ZepQNNA4EBfjo0iiwZlANj2MuoKlam7p\n",
       "ebu3lXUXuAZD8W4xl48/ZQZhFmlTfAZkGi8rFcsbmc0NPjtQswyCL4mSYxeHQuuNs3W+xtS2rHUH\n",
       "aQs/jZUtZx213hgbCL42p81ypccRtMg4YrHHKv2h1klxviMvdHX+uQrJcZ1AYTtvd4SSyMSev+0h\n",
       "ESKijTf7X+uY8vPIx2SI4lF2Uh1CAvD+OsnXYsIkB/BRBYZsPE3RoFV+XPabby0KsB9hw7RU4fIX\n",
       "lDKRssTWQ6NmycAtZKXS6mluX0VgZoHWDK1wXN6Tyum0C/FrIHQrwi0nMlICShb2Xf4mtlJqH0wv\n",
       "sMddCpS0RwYJKkMNCp0O72KQtBetkqlLRHUkXmlcLGic6PGMTpervA/sQWi5VeMIUo0X19VADVEA\n",
       "ny/iT9bc+Md/x+yf31ulSOB5C1u2eN9/6tLhk2ck530cmzQG4Ob9VGSnxbWBvSMEsi6uR/ABAvTe\n",
       "VkIrELN2G1eC4KC3yezz3Mx64vcSQZVCQtXQOlrNLfhsp9PSY5Ccs2UAKr+a3Qnk29NRrHQnbupw\n",
       "PSic0YVzKRrbiiCi20MFKEozYM0pGz+soPH2NjKo9hRoU28SVXLMsg705jWBB8DAsteVn+dOGZNt\n",
       "bK0gcqG9zCLcV9sQq7c439+eMU3OkqoVFETafvGMDqnVWSidRijJVQOUYRG7sEbBz2wUIUAoNesR\n",
       "Xuzr5Txk/M76CuoLOZ9eYboX77YzZGqq3VnarLVG38urGQd7Ur5TJ3GDKuQodwX9pSfbm2mL/Q1g\n",
       "BM6u2l71HmtJ+tdjfdfuz/INeS5AHiAaXD8O3jgLuEEnPKfPoTJMULdbWkQts9wSQJT6Ikly424M\n",
       "/7V4nvP6sbxvF1TpMbTrBuJXPstkDRaUAos8lTwTMNTpgRpeVEfYswMLha7vJusP1MxA2ituIU8c\n",
       "9NsKOQH2hQ9fnjMx0EIKOhKRagmsA0KNkjKa+W0HK4FxdzUs6PH8Ie6u9ltsconu5JA5TA2czu/m\n",
       "o+A1A1/eREjLRV0lN83026e0IAIn+F0//da1+uuBRs+qVVCZGpf2M7g3bjw/mrU+hFlk04au1DwA\n",
       "rida4YyqmC/KAAV1OMQhDgsUHLCpIZxstXtVPzoAuZdgqqH0eqMnXI0Bv2iCqzSTpimMbRR496u+\n",
       "2vcSoxlVt7PvM9D6gh+S5y5R+dhgl5IciRUWB98f32MxvhfU6m+wrGT9YcC4qbxOWNjDYlle3aFB\n",
       "bWHxocnx5hi1Z6ivIOF38GnY+5jqX19iwhhmjyJBJuJT4BNY6YKO/6t0LI2rWx1gb+t/HQEg+eLB\n",
       "FXyDbqhPSGSJXlFvAj9kWOqGLXuDeOVjQZVlLjHNQBioshOrO2RJrgySh1gAcn217p1tzJEydyo9\n",
       "Wkgv+uFEjcV9JYyQkJpRHTtQdd6GSk4fOHp431SDkFlGwqbNJGZgURuOh0wTh+UiI0ePhFwYqsa9\n",
       "e9TmUbANfLk9asafbGme4sAQPt+5oM/h/kLdAKHtltrBszsGb7SxP+7u8/BFK3DbDvkqZhmeNH9S\n",
       "qOXd8L2BVde1Kk1cBCzbF/R2a4AxqS9YcvYx9d6Z6dV+v8P9B6+WZ5XQF2FtLb0P/rSuJ9sWy2Hx\n",
       "oJOmJr3wcQt/7Ya5vyrvqaTRAmmmxGZQ2wg9EYNEVMweUQ4/n7FmLcPAuuPohcCnDUHG8ecmh1tp\n",
       "wRUpvdL4tpS5OXSDbIqcu6FbsKZGsW0XJbO4GsayYq7FuKnO7M5zEKwitqLY3ncXZ/WNh1yaDaib\n",
       "Hw2Ot56obq4PpVYbquEbN1Ew6ZqsKe2uIqc9Zild6LXOz2HeTHyx0BttC4WVOzrD1kXeUVsoOprs\n",
       "qGZYYBxvGE2JmdLXX/L+f2j9megwaN3NaSWj3zstBHmuQgqlow0jjQpVNnAc4J52JXPiMAyyDzQq\n",
       "wBxivvl0cJCW/UjN5XK/zKeu8rYZyRiM6bVQJ3yvrBnmYoqGrOPoVYgw9fl+h82x/Byn0oJFAynL\n",
       "FDmQmjWgsyOUQZaedZY1rB6+LjA3CSPVvy15iTWUR5cuwOp/DekcRGb2i1faE/i2D6EdjVKzqD5/\n",
       "4LZL2jfqfpZRV4VbGH3CMH7w23IYv+OZFthPt4LSm9o9xX2+0yXol28xBEDICzfsXBEBj3W/9PP6\n",
       "p53d1tj1LCfeaY9CPJHWBGHXIkDpcKUv8SD8V1hqOWPfW+d8Pi1nLbQuQrxPNp3EkDivAY2zUVZu\n",
       "6ltLxDk7NINj64Z5OR91OjhVOZ7OV+m/RsCE6GouMmuEazxDbeN3Mdc8dHt4VXkPtiGx9MnBAqGq\n",
       "qTptgYd+kzL8lBcSBtfIvtxCrJTcrz/hSq5sgwIwSM3AZKGvbdR97+FWj2pc7BTSh2T5Ecfeh66q\n",
       "Dj+19HtxbWiaejZxhCz7wofBuPun/jYRKYXyPe9SUvViTPnaxekbs6YtgiN04LJQ0JjwArHruksa\n",
       "VJc5ckOOOL4ekQz3Nfy+I8h1MJ58DLSz+FiHagfKuI1SV/tifL4YArVAUKcjcFuyeNlVwyqVqQz6\n",
       "G30j+nA2xMZrZ98bIVuIMaIpen+lXDjTQWRcPVmnD02Jd6FJmqavL/XPJNWbvzRqUSsNY56X7Csz\n",
       "yJ09slliivNz8iiEdnQFgKb+qxGgmISSZLUfdujeoyI2zyqVsYHrOBBRNsItnfs9BfECGVbpOUVK\n",
       "nEYIZM26lFsWK073GuJRVWIK4hrC58H6WlpOcH//4idHeZimdZJP/n9TmOzPVv42p+Zg69yqFeWY\n",
       "TWazuyRY5D9qp82qUulVQynh4KVhQBS8zTRfrxQI2bqdLivTrvv4OjUWXuNA3VkuXsq62Ds9RDSR\n",
       "qHExRGVTbtoA6t5gNaeTYdpu4f29hf69w7wzCKWIOpdqbXV4Cr6wHr2wb7CwqUeIRR6jQZMrKGRA\n",
       "n0E2SJHFVaGxOzS9iMRruxiV6nKsEd+fhVzSUcieOnATV1Nv7R/zK2uFQvdux/80CQM18AM9NIVd\n",
       "q/qy7CzWKBYy5DFp473t3BEdshUAOKGeECUAPm1ZiFmlja5NBwbWVfTeJs9/6NYWgadvVUO6dziO\n",
       "n8XEXU4lmKWLe3ZKS+0W/d35bEqX3n1oqFDtUhMSasbtXAPEiKnQBEbYzd1nVy3bWCLQXuQNRMoh\n",
       "IMU3Jbuo/2NdYx9WLyd3NMosVGNr4ifZWa7ey4QqGKT30b6BtfsjC11YEwFofFvtMjKPXJ2dBgfB\n",
       "hkchsx76+gqAaVeaATk7jLxt+nzX3LR2g8LdRvkBaNkh8bcNN1Y9NLeQ1ZTFrolBs+voSfafYdJw\n",
       "EBUreZyFZZ/QZLnbpp8hGXY/W4mo1LJwOmy7KyhJZwbieaQwpMzhZu6r2aID4FnsT2Tf1kXhFVjU\n",
       "E3gJF7N+6Ee2XVwzh9JGhxyQv/NfU9bhxKBfW0O400JHu1CXabbhW3oJTGG2AEqSvv6BKAkFiYPU\n",
       "0NWXTP9p4JnOUAQ17fwF2aXlm3TY2TY4LHe3fi43VqbKKpmhjKJiJ6uK2hb8F+Or7OPaWJxcQysS\n",
       "euakmw6x3Kp8giMo25EyXPEhHN8+Pr4d5GIWPgfV8ZBhXErUf7gGxBQUJi6NCb1C6a982rTa1+ma\n",
       "pnDyoOpr3tf7H5eiOzUZr5SoT4PQDK4IDkHdSeiuJ0bG4AejhMFssizt1wI7lKmFH+hzTY4oMS8M\n",
       "wELvUt43uXoue/iq8cVfjsx4CiClpgvJw/nloSo9RUyDq7Ep/eh5+qZYKOqZ7zF5Xj6MUytUMGEh\n",
       "34ihy6yXlOCZvLpCVRHzFpEv+ti+hq6IDH5tivMcQNm4iALqDIMKHivJdUp/0RYS0JiDzfFK+1cv\n",
       "XkSGa+C/GbDi7w/+n6KFnNU3L2pOso6c0pToSO5qtQD+YmyTWEQSqHBSfJsEAw2pK2iCAAC+6n4h\n",
       "Jjf/1UqSQnUz6WRHkjcuEs/X+Qq//Xm9+EmBJ+MdGB0Ykeh4m9WtRjp3Iaji7iS/dSDSTRkg94XB\n",
       "TNhBMz63gjI06MCIG9ror8A6CdKif59mjO/MAK3j2hb6q+t0ozub+UrIcn9m/qKD3zJOxIiVDS04\n",
       "NgatBSLxM+w96/jnQ6ZE+gUL3h/UQMUoXr/IiXgUhuCnfzb0TnGPtBgkVfLwn4R/79LcXbZNY0e4\n",
       "/H87yQaXcjNyZ7+uYO2oZcLu64xZdGGbUYFLeu+9EnO+0G57VaLRohVLvhM41kYSITLNCpftP+mJ\n",
       "5TBMYBLRh+uDqZI7qb8xQejNXBnv7gDi5aSzjbY+sRyIgQGVozTYYbcZxsQTn68e/XRy/Pt3bSQ7\n",
       "E9tCDwSr7Xr8KoFjBO6gmJoqazqZVvHpiIkFILl8W9a0XM1qMLScvlDLOmsWF1JS78iY6lytQ3SK\n",
       "rZuNrKZ/5alugYakWON9qin8H+Hmddcr6Qd5sSJH6S0OZm4MzZnvZsMrGFR7INYiMmZb0thXaJ3U\n",
       "GQHx2df276k9FyaWVl/QR7ed+jf5X+jdghPcrOq6xjW3PAM1IWG0epY3g2c1wTnAZMqOQ5mm8LJx\n",
       "v7r9g8vHKByyWsFU2s5W/5D1plCMfVo1YRQMbBwoGkpRjm9z5dO0kjjy/nAiYxFqaDqRf4B8VRwS\n",
       "WpstNRrOj8KCKTT51Ss7SSH5xW8BC7qXPuvh4FPYXwdpShU8G0oCBf2eMa/MNqmx5A63tzO+Rhpr\n",
       "7QTRLQOWNj/CcQtYrKpjeA2T9yy8Ga0YALIigoyBAAAGBUGaI2xBP/61KoArt1KACJU5WD9sLL5F\n",
       "/ejupRtaROsyKkzh7vKB466+YB6Dl19OOdeMKoD0Mrcf/cijW7CgL1wQ5YGT6xSIM5XUhvsD9Jwm\n",
       "Qokx5Cdz0MlKqKLogZVLmKryCG5UWDP/tUCh52YbicE+wy8cTdVXVhPs2izaATH15H9416T6p8TL\n",
       "+l1N+nAggQPg9cb4mFXnykO1VBQfpPV6GIcZZnD8HZkvDvOygIi88KFrdaHNTFwHD/Bm2tpwMA9l\n",
       "VhGVxNMyw99puFCMbziUwPGnCdh10npUnCSCJVuyjqkHaYRoDotsAJ3qW9i/OKUpvKB7s3s7nISa\n",
       "tlOaMUwBv38tvHJ4LAWgTL0FBGVOt0g5X6LpM1Bwn4YfJpBYgHIdHgTtdkmlSmGEsRwaYSRnI9gc\n",
       "unmM0hSHZqv4ziSDGBmGqRe5t4uwh3isvL5H4u9jLNBFtDyS+WtmDZkhEOtJSMQ5T/Q4Y5FDR7nD\n",
       "GWFf8MywhCYJ32Qp3GwnArFfXhdk80wP4P6v7emWV8Uw//+UNeLdMFAhX1sWOosuS+lvUUTBiw+Z\n",
       "DExoIf4ylpKbytGHFYw+FhyDerQwTIExkhRySVQ2ifpHOKFzj2KASiFwwIeTNvHuTDMkorG5aHaw\n",
       "rMXuOMvbnwjXtv894SdeRIugMSzRXtTpDXa4/z4J4i3KPMA/0wsInsGU7tDWQdyQisyIyL/ELot9\n",
       "h54PTDtnT60Syp44eKD8xfkzdUi9A3MFcKT8ViUX5yRjzO80QSE6KTr20vk3+YfFF63sEIcEZOIb\n",
       "fsqTEmnoHinoVgXDuVQVLd7RD7GRnfZn+xt0GkyzQIhzQndkx10en2i/c7R1oMVO2klixQxIz73Z\n",
       "ZHILNrXDs/pfvMT4JCD1T/FufGU5zr8vZLbBOSUTX3TmvAF2tTb6ctaLOM7LdNpzyBnvlclJ0ghI\n",
       "XpDQfw0GlDjHPD/p65SyHLAAvVSjfFZQe0Tl43yjHXoupYpyqgaVCY3SI29TOtOjrfvfVpZIrEY4\n",
       "ysMEZjrlkmg2mfI33R/KtJ7GbPrTxeI9w/u4fkJKtbsNP/uK5csJ7HgPYS/z8z/bS+iPopcwYJBM\n",
       "y/7oInutTPSN7pI+ixCh0G0vNZg+8L4raMQHtYEuF0dUdaYSc+kLZcAeq94U97VcRy452CIJLErF\n",
       "m0WBoyfGTDiGvDC9k88kx4AG7zUNB3DBDz4QMtiHjvok+BARHSA29HsTBLyNjzjWsUlZf0lXWu8j\n",
       "NKuUavoKYLZLQUs84KelvA6+X1I/5uSDa7nvRgjoYXAjbktHChM7nlzJuaDqgQcxHQjlg8U0xmOm\n",
       "Rcv44IsL6LfHZ4ksXkqFpvw6JCSZnUaAeFl3T6p5uJ14AmaVewoEt47BDEAQq3SqB9zV7nRJuaXJ\n",
       "vlIy3ZmCcf5rjewfdIfWp0aExGvWmfjLomausuYicgfI5rkKOOMHvGF7mSWb4U/A1DAg78wDgWwZ\n",
       "2xDhLO/cQtqgJqhOXFI4E8iQEITR/9WyXkOFnWc1MxAJHq7POKrCYXe3kAn44qqs5t6xJ2FlIrto\n",
       "uM4nVYwZuAkSYn79mxzkfdkJZ0N0QMw1IP4oGM3V6N7EEny9dy7qr0Aj8YVJOZL7v51qiuwSjZqO\n",
       "lRMRZQcDbmz4WqFLXWFMh+gw9Wo6V/bUNRFBrrB2buX2vEXRfc1OuOVXAbvB77iGPPvzsFZ1eLZT\n",
       "9PGlS7aFXCJNy1lBIasruAz+zPk5l1Ery0VSyAd25UnNIisppWskAn/yJSXrYR0Uc6bBrxSfY3TH\n",
       "82RDhz53ZFy+uKcK4T3g+M03EWrpn6vp+dU81Rdx1oBykgwEvrZttWnKt46TlTCXIkZnGRvMEjVZ\n",
       "Dj+WgD/ZfvHr3DOKqF+3OA2hSumCzJ4FhXmfnvwvE4uTNhKMpauoyz6Q0QxmE5xsM5AGF/5kzzNM\n",
       "8sIlUE33HvJH0Ltjjrtot7f/BP/yWVnKX6qoUqnTOAoCVFnQBBxnVrMlUMERioDcBttrVkGIlkqY\n",
       "j+2lFspQyxUR/H3xzGVFvU/HObY0uDoLneQzUbbdXgBK2lo0AAAA5EGeQXiCHwAniHalmoAAIU+f\n",
       "A1eTwn2017r6aZ4K/F1u5/+pQyfOBNmrXy1D7mZk6Y0UY0daSIuHDOtaMv+9S10EY75yFyiwkrb7\n",
       "A5bmCy1gjm3bqVMGCf2RLV32Gx81DbR81bGXP+OhEizkTPQehDKvVSyjxCo0BLs0N+G8VCb6AuwW\n",
       "3amTsOUsToyZavXQqbCYe639yYN1VGd8gG8JorWRHg+TrvTywJdQGXqDSiCfIqkGwRVSIfZAVHMO\n",
       "PWjHfSOOMdALM4G+C01HDq6otnw7NGLoyg+NtyqLGWvosz6iDrfkYQAAAKsBnmJqQ/8AU1dZ9ABt\n",
       "V05D7PF9/SllLlEf5x90gyxj7R2Iv41HAbZ+xFETQ49n2zyPttiWMAbkci3bl0r/c7Ag8J/4txAE\n",
       "Pxc5g9U906auOznqCQBalOvF8wMqFJNmW/4Asl/IR6dIcChTp6lI7+JxmbyakntBSyukK6FrIxwU\n",
       "Hyqmea+90nse856RWIqHrjxGXYzPUbUehUKIGcTpfcby1cCKtNM0nqkrJiAAAAaSQZpnSahBaJlM\n",
       "CCf//rUqgCa0Q5gQAE1HHYnJKz5SpjJYSMmFB6YMsslv/iflsn+p5EKnqpQBKE769UcNn0DqvLNa\n",
       "GU5ybub/yaiv+pYjEUZ7byikbVt2e1FngdAv+iVGkQJ8BcYBjnCE0CyiD3UfqPYpLNq3pLUETSsF\n",
       "bjVRfeWzp6fq45fqchhhC+KLb/0ynwEf99LkWghrwR08xjd0Klw03TCC9IXO88DCyST+0NkS/ws7\n",
       "TXvw1b6gjgGtw+VBjweDFavPFTT2J2Pip1LCW028Oc904W20mLRSSpP3s38Xtv5phNs4EY41jllw\n",
       "t4WsYdQdZTvtANOOyUhmUFNQAI9E+6QOLBmXOsjv4LT6C+Lb0Qz6Md+nEGM8pWvP3+mn1xtHWVVo\n",
       "+UkY3xvvHpmtj1TekBBBBSmqd+XJyngRjrS2mAo9fJFUjSSJohRjjyaiz/HnxLNoLS3lZY6eeXyv\n",
       "yCoIvBE2aYeI59347xHBeAIxHUwZ/lAAe74SsUeSkHsaaTYTiHbcveTIlCt7Z8nj0ojI/QwcLVxP\n",
       "iyZpElnaQZC/8msOousf9ldmR5nHYT/l+JVSyzjjcpzt1rBkqCcHm03Q0g7d+p9MfgIdPIwVabkD\n",
       "ofUr5EV4fMcVdlDWX0uJhIVesTiVb9I9NsTilIKMiBq3EfkBHaNMziRb2px5Z4dSDp8L0FYVA7uL\n",
       "tAZr5P0MCPh4wgfkAPA+chA5U1OzfH0ly8w0IkVSmPZ+0Yf6FGPnO7xmrk9557fVmyfwDJhuHCzg\n",
       "jYjWBeioKRSAp9QC8+8BRE8Jf77TFYznOHZaE3LVcQpgisNNjR94qEooDgGRCEaXQlPzOeOA6yQd\n",
       "EsD8sepbCZQ2F8AXBUW1QIVYJzqLZ1se0luimAm9ZCBFXbp3i5zxn0ZOMqyzV8Du76PZqSREMM9B\n",
       "zr3FKfc2ErxGLdYCvNSyDp2Pc4fsNmXbuxc0L90CMveV7TYbeZqp7p4DNinsw14ztIi9IjiHdsvF\n",
       "gvoQHEUzNPhs95a8xbOorvHJ2YBKEYZ0Va3LbC2Ni6zjQckmrCBPEfPMYe+jnnpPGr0D5CRLFB8h\n",
       "JksUlE2i083Q4L/V62euEcdY2oEu3G8EH48oL4uAgzY2LDyVPQFLyfDuhfk8h6fVRR8OQRYcoiPf\n",
       "nXtLb85ugKghBSVdGOdIo5uDes4dJx8UZiJ09jHzrssbvp/OMJNtzrfKSoqfy2/FMf/3YDGHjAp6\n",
       "lmBjr93oBXQ/JV0wZk/HsiFoJTrRs19l++2vStNHy2Nto+jB6Y7LPeSq0PekE0Y1GKwY+P2FhHqO\n",
       "Fe5InnFx6prjepeMfcwK3LLChcidDgfV5f4Tj/m+gGGjOEae5wtPxdFKWALC4jcZJPFbidN2H4VW\n",
       "+MITOnV7iauVA9lqxUYMLuFcFwatcsoJnqFPlGPOaG5UQsFHkW4YkTq6LTY/XRz7MwOMAJymTlIY\n",
       "gDlkolsvH70A9xIEF563ytY1hdC+wnE3v4SNebV7PQv8Mxm9OhI/MNhX5D53uqvqsYGYz5Rx64f7\n",
       "1BBba7nNWW8kGF8n2ckMO8qSq/mEOYPUH/pBcj9V7SAvt2jSPgu3sFoshsGr6wVKgfonl3eRoCsN\n",
       "r9c/f+/tSXMxwsUaM7XbawU/nGojm7RZuPR4c3wACqrTmOAo68XJRkicor4JrxFE6m7sWnG+LQ7t\n",
       "USAGVwvcBaST2L+oyiy7abRsloeyhWynZc7Opo9X1PC2BTlipvNMs1vXRFEW70NC4Nove+k1oj3+\n",
       "U902N946JoFC5KIO7CdPvIcD2ygjXosDQ+cWga1Lm6cz0FAN+mmPShApY+4rTYuZ48w9A+VPsZ32\n",
       "+ZqvC9W7bsMiqt3CFdZ7liF6xxQ3/SudEAxhWbMM2ANYZ5HEghtOABbFZj/1UuAtMGUNENllz4iu\n",
       "H7peIprDvkcytDiIXO9tp3eijJcBBgKDSC742UoClqE4/waLJvOL9qCdCNrqjnEZ4hdXXtcRJdws\n",
       "NYc8sES4rSID2xAGuYmPdvbDbH5hHEokiNNLsCBwpz0YZGvuCOvEVxgPVNch+UqYnjEvuhCJlEoi\n",
       "KIf9/7LmUE91/FqT++nRy5HrbgULsYWjZwUQ4j919RRuBNmpHobeoczdWx4adWkBIOcuFJMSpZ6t\n",
       "5HXHIp76GhG2BygTPXWN7E6h4JC87iemvb5Xa91j5A2jkeh1BNEs0X3APNYZ/pRcnNlsLquNY8Vz\n",
       "SdR/BwgE0ik9Z+JCilg2QQnuG+EAAAETQZ6FRREsEP8AJYiXGACdbbJUp2bNNXoYYnPBvzQeP+c/\n",
       "vvH2yu1lQLRJnHi0akBgqIJPDBfQ5RAsfr8L8i7EH4b5F7/TEXbyQ3y8CCWxsYFfvUd0zMXcJLGX\n",
       "xAtf0uOimCmndFrt982bjNHtkK3mR0uS9Vw0XymqsniA/e+L8ggawCbhqY/q1OAjY0eNPnFpVxvJ\n",
       "S4EN29mz4PqryQBTgAYPd1ILdciEMrH8tyd2ezSRo+E0Eiycg0koJ9iWFbTXmobD+ZVFKaRLjE+d\n",
       "sFMZzUUP1yMzHWvt8aDP4bDciDUjl+QwGeQKVjrS/5Ngt/NxJpjXcrYjTVvR97dOVmfWaU60Zv8z\n",
       "OBDIoX1xqjBCjTEYCykAAAEOAZ6kdEP/AFMmV5+gA1deUrnv4qW9f/nuckVqbSX/Uu+S55JA7dmH\n",
       "aXkM/fA3Pd8mzQFcPLoPE1lqshhrHsVyGfcG2DHYVJCbjkT2c0287rmCHTGQAeRJTavuflT+WGKW\n",
       "Ev8QLF4iJjepl3jQ/4fQ8cvuL8m2Pt1aJiAw4p7jBTWoSxjEABfNUEQsRrs8iBzW1ZHti7sCXlJE\n",
       "YdJIGvjXm6OBBzLyndkQitdzfXCzE6BsWWQfy4kTfbM4R0vIiGV94K/LLYEcGzc9STJg1r0haNFV\n",
       "528b7MGXxO8yIBL0l1giqBg0B6Uub4pmLqiV7KSnoSqWPwxGGTc5M5F7hOMw5VTWqB5CMjG/bnT6\n",
       "tUVxAAAA6wGepmpD/wBTSjqgAhLqmPQct20g2QN4HURWUerKkJRkRmKtCu0oaddhDPW4LyQPDuUd\n",
       "yS0oY7K9Xc3IMDAOD/OlTepncwBtfceDrn0bC+4vz+r0m8Y85fkzX4L0HBYDQtdH20vsmkio3Ymy\n",
       "+lYSGwHkeEj8Ky5Sa9K/42tWz0eBwTj+Df4jkxp5I4jZslgAQxDf/OLwCZPbdnhl3Shj9qsDus+2\n",
       "UxCe+OwY7swhmm8XdjvU7jDVldWvAqbXHM8d/VNpEF67x746POGxAQkkUkYU1ybck3zTpj4eEFcx\n",
       "PWOcChftHvYiLPWqCYEAAALsQZqrSahBbJlMCCf//rUqgC54ZszDLmPXycS1/MALUJ3gm63CUMGA\n",
       "bUr92dHBXFAflpMRjneNewFol7IOJE6n1Euh4amSWbbi8xNQCQ9s1QkaDdYk9edXAnc2J0dlROzg\n",
       "GTGx/4AByqwxkyr4zjucjD/H87dmXU+rlm0++CMYT2oBo05t/nDmXGnc79PrCrk/Bq5dS8wbp5qu\n",
       "XkATjhz2r6J1qKRDNqce2zcsZEGbr1eaU3lnMfP8s8X9Cy2lN0jo/SsfXPZwzmacdKwN0gjf2GnD\n",
       "V8t3UkVkIJPNwdrnl46WhUr0gE5BYIlHS6MgsCghxuH3kAgmML6Ao168GQQgpxRx6WCoYDqx6ECj\n",
       "ICePvFnxbC6QIKCZOaA3c2MSBQB1lEjBqij1Ot6Xo3F5TafXTF34Vh0Au8zkZbfxTPnIi/cHpjxV\n",
       "UTLubqSVnL1AGXg36Y3aplhbOX/OcQ9cM7D6NAtiZojhKFRlXGNv5IgiLtOA0c0r3pLcxGAD7mYL\n",
       "+lA5VYxhz75CRrSS8yYn0V/O2uXbTPaBvpMU56E/pBvSd0dPv0cz8MWu2fR5+Prp9CByCJr2/ny1\n",
       "INnYBDEsDhX3t+Gosoqc362gAehV9fu3S2eAInNW69PF3fTN9/KPtMA5Tec/APD8cIoefeKGZeHr\n",
       "I4An6kfh6hrtyGOwHfNsurpfGYW5Vje0VRtWeR99A6XlfQT0yQVRvTrA3gMTt3wcxcnryiVeeQot\n",
       "Yostxm0XUfMLKDPzMRzdXO7movo5uU4QCkWkfrfEcmZZG/COxLj+C7U8w9u+gmEUBYMHb6Fyo9Jf\n",
       "/zMm+yDa6t4h5rBGuVvsKuRXyHEINlLkBNJdM0MfekizwAeogW1G2ri6Cn8BjqG4HXTq5qEmt/o+\n",
       "KVhPbfrxWBfEeLHsXMDr4K3Q9ckJop1JyVQ7/ryQZbstcbeKWV/9aAdMeouYnfThII4u4yQbkHvh\n",
       "hykHXb76zXd3+LZ+6GOlLy8uG0aPAYWntAAAAU9BnslFFSwQ/wAotDpk8usGAEKexnYVCRYahs2M\n",
       "o3atSTj1FXXHfx1QgbnthbMjT988IdpKth+SmKm1SyqjsX1TYa3mp89D6NpRT+I+fwvcvojYr+ur\n",
       "Kof3z77n2MlaFpKeLFqHM8keLXaJqUzwLht14rJiXFPE6i43JA54NJwfT8y4SKiVByiii+fjpxf2\n",
       "C1zPHNn4SBgZFohGcfexj3wqxDRB84AmBJ/lkH4md0K8VvoYWTeq19MnUjt3r4l0JCXYvnXhBbBu\n",
       "e+zkbzxicAsYwv5BofRiU6sYjih+rtRXrjn31nbGmEEZSEypuzrmilfxcF6wBqJdYTqqJXYsyQb0\n",
       "byl2rL6Fmolxm7MbQ7t6ys423MmVAtLqq8fC4qA7RYM5EfRibw/1iex+mQzr1crz2tGmiEF5et/H\n",
       "t3ExeRIJMVz4Wqfl/EPW4srWoBismAAAANQBnuh0Q/8AWhSsqZHW1bsAIG6pg9Ew3U84k3vePGX1\n",
       "E5hwboT8th69XBAFxeg9yF+DfARMy/IEm0EEqD7WDQQWJVNfCXbJPCOW1sg7cRWZbDmzPcdRXFf6\n",
       "p1nv8/YCciomRaAzYbez3C42+fEzUnh5IGIRSKvG6R5prJO2SpU12+hhP39eNt7IXt5RSJEMGcF9\n",
       "vcqym7Yo8hk6508a+AqPSJeLwSQKo6X/Hoq9leOnP0obXYSoJwa8aHTOKYc6IryzdiFroezV0WfC\n",
       "IwYfW/6uVt41gQAAAL4BnupqQ/8AU0nSBP30AD86Eru4VkFhUcV4ScnwNwUosnpawDpBkLEpxVhP\n",
       "dMS7vt2b+wlyOyF71StjquE7wNKGmkl9jIfmjdkFyefd0mFuXp9peda/xky3EzAQZG/foFl83h71\n",
       "eZG4mb66XixS/apZ/aRHo/ruoKUvabcsfONtyIDzgShJac5uBRGaWU0VmqhsGWjN6zyozE5ApFWf\n",
       "NZQhJtncp3M5KIWPEZidbVx500ljmPk7dTlBiYQY1BFwAAACE0Ga70moQWyZTAgl//61KoAkfe5m\n",
       "coACE+Lz+rgJdO8qACzLVwF7Z57GASlXkPmouIg5ijdf919fttTEpvDhrh78IoYagL0BNhI6K5Gk\n",
       "8nZs0oDKfUl9S6fKrQhNj+ks5yzv/1ouRYLcEw3ezy/H4xQJehx/dLaltx/EbK4dwYPMIV5U9p+x\n",
       "Je/FAt6ns0h7u01iK9HFWxRHVqyLKHa19yPcLIGvdZvdiqLWgVXQckHigBFxFBrKa05GuW6qztGL\n",
       "XWzWqGPXH74vphBrVnwegZU4emTwI1e/lJAz3mHpcIBHz0Lcz3slv4W1pYJL31IdH4BvHl732YC9\n",
       "bUDrKLCGq2ah6oQaW9RVSJ7gpS1atTgx1SraysyS43gHcxBhSQsDsmFkU7vFaZAgr7q8QKRKnSXx\n",
       "NSltd/AyQ38pxVCHJnRSrV0myIo99FYPRnsYIGtdw9YEVYcR8eN0fCotytheUk6H/d3ewpLKQeBu\n",
       "GVG80iUNOsS+3Dr5vbZ5Dn3dvKLBxNUrWslJZ/OvcOVo5SMS9EmUGQE8pshv5Xr27Cmd3FSA4JcC\n",
       "d5HQBqexmW98WVwtNoEldzR5DOymQ8HJVVHbU4XE6OCW4eQpPqBtf1Osg2INxpmRvCChIwTUIaHZ\n",
       "SNWAVHw79re8ITQXOWcqd/5uK1G/5VgigZqQELDY8xL7EiaGEp12RkxiqEj8Nx41gPF4wSmiwAAA\n",
       "AXJBnw1FFSwQ/wAkNXv3cP5NxACBvZKlOzfMyEy0IEsHl/tfu5cP2AmCFyM696UTMZc+Sy5hmn/n\n",
       "QWY9z8IXhthj/NjeFJ17V3AlFJt4GUYaTkAvpnbygGhKgy43Gwvjc2LJBXXKSbKOfnmueOiJ+cDx\n",
       "fRG89Fc9lBhpVx4Q+YgplayLDNLvvVkwMwGcu6wYwltRlwRAkfxXQWBxjfuILSRgAw3DHPLhlo8h\n",
       "ciOSNIyE2FUJNkP5b2YwSvU2NCPPy3wMBRkWGnmWXeE2Y996RrMwVqwHvdgYEJpHNmEUu6gy9r52\n",
       "Ot9FPtjBO9p8Ee9caY0RkQx48zodBwNOnWIk6GhbqgnCC3tEf+ZJ2kHwqSBVR2/lcbfGmJ0h7mkU\n",
       "mD5dssmz9syT4KKB84onuuSLC9hYixgXJOidKjP06tOXfgNmsgfr7OkQ27YdGdGaSGNVfEumD5OJ\n",
       "of4XbcWQiInVjg8pLKjFHCJ0c0NkklNFwYvjyCF5AAAA7AGfLHRD/wBRFUy0AG0oUUylW8F12NbY\n",
       "cIPm3Trvne2DeV3nEOEv5bLexDwtS7/mC9K/HVkL2BCBNOPmC7peS1I+JDgFTTgGD92AWwkfuGBR\n",
       "KevGYXjyKcuHch/OMP9r13FxyGIaAQ3A5Y0LGexpvIj/d1Ui4HpN2ncmHMcsufoAv/uy6FhzJUIH\n",
       "QAVb+ezMOE4OBv5CxGUU26aU5ObnlG1yaL/ylHJSK99eI5o6Yl9aAHMwhL68LHXW7j+O9yO2rQHK\n",
       "F6lY1Kmie43ct5gYqTpfgnAmmOVxkkwCwBt8NlIf3s3IMZeNuXYbDwuBAAAAyQGfLmpD/wBRB4YH\n",
       "oAIftVMeo64GGs5qolcRf9CxEg2U9Dn3ERx2T/6kgNgOQ0vD1YxilP9fWR4y0JerOTLD7ZS0GVus\n",
       "OumLPrvNl/AS7rEIE05MIxmUhmdCqtdrcFniJsf8tmIw2PhpIHbWVyvsjjfHlOrYLVcSX57ygtGX\n",
       "IXbRlG2+Pt/B4fcfnaAwe59RZg2KG2TUt9f6X3LvpH5OQ6Juyj50UXQDsFjzt6Nv8nRq/ZVCKaxz\n",
       "iaD1zY38gged0zONOPdq/Fti4QAAAaRBmzFJqEFsmUwUTBH//rUqgCSEV19QAZsYhx6gb2GR5/ws\n",
       "8d7KebZKn22sa+Ntl8uIpRkRNA8hilQNMUT2tGk1swcF85/enB2BQXOxvh7T0Mndf4Y7KiwsrO9D\n",
       "r09rR9LZyAroL3TQvagOG4txayxoyW8MqZlssF0krFZ1i4Au/oiSCrlLUyQ5FtEP/5TFBD0Ho3My\n",
       "GC8Q89qPfv/76yLkMmsWci5qBM44PSdn6dH/vow8gwWPHgzxNdFI6BWTCE/n1Sj+GAIIMq055ePY\n",
       "+cmv8JZQtFDDSQhnowVEUujKwe4qYP/Y9jH8iHbKdF6qnRilwDw3CPoUupitfvuDfAqnfWlOWrnI\n",
       "q6PfiiNm2cY4gmwo9aEX3C0U2fc+8qovqQH/3ERf99esM0tm5NIji4BOoqCGOjc4Xl76eI/gum8Y\n",
       "8qAdWtKkLfVfZYspb+JAKtY1zqKkpsEc+H7iA4rkQeJsMZA7DwnoUv5zd2ZIdSYWbmHroSr+Agbq\n",
       "fmrlidCzPeZPTbcDmyEm6t815FdRdxU7zUpNWWd0LJAqW7m4UbCxDOz2JQwAAAECAZ9QakP/AFAF\n",
       "wa9ABDia15myI2ZfYgahP7DGrO/WmMCZ+LQLxbn6YbBdh39vxSU7AIL8XviNcWJetu6xlH/0s2hC\n",
       "TaTJbwARKk16b716KF+6SqiWOoXmlMNctweYXelOUHJPMOrCKK3XXTWihlN9a0YlnVVg5gm9O/tD\n",
       "+G3WLHyM6f7d6wEFBEgLJB3zi1FxeD4JfAh5Lcnb6g6nfNvzD1xQ1ovMm+fLljt0IT103nYXOc7f\n",
       "n5IDySXbZ/4bTBeJK8CJGO8PfDjY94tnQiVPZGeXnMjS+nv2WhL2+ru3SdKNk60kwDxjgcuPDrOF\n",
       "lW+Igro+bPuXztvJLGrvAD/Fhwp6AAABNkGbU0nhClJlMFLD//6plgEkxpgPABtUU7RXZnQ7M3GN\n",
       "c6CgToV5McyBnooUOAXvS9ywXYBPaHgtfQ9CYQmFc3SPpMbb9gDQ6n96RaDG5vn0S9E1Ma6Y6oMK\n",
       "hY3SiZkpS3gwti1OTeegmPwhdfWW1siH0Adu9eNZWC+9u5Zo+9WymhBRXrur9LDwWM1MXVVZb6lh\n",
       "fP5vhJX2gPyxjEjC9RLaMPlh1Dk118vN/HfC04e7qnqCC/gZdfDPTGKwpgo2+7mMFV4W0h1iBQHa\n",
       "ivPOEuMM8m+vwMybD/J/GX69pyHflkHmmfiaWgAUknniiYHrlJAAb1xP/IzdoGQstrb9xuLVI/3/\n",
       "aHce9TB7axNq9Acdj3aJC8G6/6htPhYaq25EiKCaLD4+TX4bW4+iXSiQJpGwl0epbqMAAAD6AZ9y\n",
       "akP/AFNSHHABNXXzFvN27y08oEYnrZDE4wYKYKTF8QjOQndHiDJrPZ2eKEwHmjVj7D7FjWWYknF4\n",
       "+hLvOxdP5r3hI+2alwEwfFuwoQc7RvwEEJFQeOsPx3dXQGL0SUsjBRzFy0WKbOSHA6lgJDcRyEnj\n",
       "OAJJHUOGPKHay7RMmu+krRNT4heYpTOO1jPS0B7w/FAKuhucCMU3OX+mlE6CWSM28aQJdMr43LTG\n",
       "+BCQ5Bj4uwLkK07JEAsLrdu3jQksOxWoIXP4r7+UsrdeLdJLeoX+rG4b3MmkYepXcxH9KaPpkN6R\n",
       "ulByhVqIR3qRzwOe9y9XGa6jHAAABBdtb292AAAAbG12aGQAAAAAAAAAAAAAAAAAAAPoAAAPoAAB\n",
       "AAABAAAAAAAAAAAAAAAAAQAAAAAAAAAAAAAAAAAAAAEAAAAAAAAAAAAAAAAAAEAAAAAAAAAAAAAA\n",
       "AAAAAAAAAAAAAAAAAAAAAAAAAAACAAADQXRyYWsAAABcdGtoZAAAAAMAAAAAAAAAAAAAAAEAAAAA\n",
       "AAAPoAAAAAAAAAAAAAAAAAAAAAAAAQAAAAAAAAAAAAAAAAAAAAEAAAAAAAAAAAAAAAAAAEAAAAAC\n",
       "QAAAAWgAAAAAACRlZHRzAAAAHGVsc3QAAAAAAAAAAQAAD6AAABAAAAEAAAAAArltZGlhAAAAIG1k\n",
       "aGQAAAAAAAAAAAAAAAAAACgAAACgAFXEAAAAAAAtaGRscgAAAAAAAAAAdmlkZQAAAAAAAAAAAAAA\n",
       "AFZpZGVvSGFuZGxlcgAAAAJkbWluZgAAABR2bWhkAAAAAQAAAAAAAAAAAAAAJGRpbmYAAAAcZHJl\n",
       "ZgAAAAAAAAABAAAADHVybCAAAAABAAACJHN0YmwAAAC0c3RzZAAAAAAAAAABAAAApGF2YzEAAAAA\n",
       "AAAAAQAAAAAAAAAAAAAAAAAAAAACQAFoAEgAAABIAAAAAAAAAAEAAAAAAAAAAAAAAAAAAAAAAAAA\n",
       "AAAAAAAAAAAAAAAAAAAY//8AAAAyYXZjQwFkABb/4QAZZ2QAFqzZQJAv+WEAAAMAAQAAAwAKDxYt\n",
       "lgEABmjr48siwAAAABx1dWlka2hA8l8kT8W6OaUbzwMj8wAAAAAAAAAYc3R0cwAAAAAAAAABAAAA\n",
       "FAAACAAAAAAUc3RzcwAAAAAAAAABAAAAAQAAAKhjdHRzAAAAAAAAABMAAAABAAAQAAAAAAEAACAA\n",
       "AAAAAgAACAAAAAABAAAoAAAAAAEAABAAAAAAAQAAAAAAAAABAAAIAAAAAAEAACgAAAAAAQAAEAAA\n",
       "AAABAAAAAAAAAAEAAAgAAAAAAQAAKAAAAAABAAAQAAAAAAEAAAAAAAAAAQAACAAAAAABAAAYAAAA\n",
       "AAEAAAgAAAAAAQAAGAAAAAABAAAIAAAAABxzdHNjAAAAAAAAAAEAAAABAAAAFAAAAAEAAABkc3Rz\n",
       "egAAAAAAAAAAAAAAFAAAK88AAAYJAAAA6AAAAK8AAAaWAAABFwAAARIAAADvAAAC8AAAAVMAAADY\n",
       "AAAAwgAAAhcAAAF2AAAA8AAAAM0AAAGoAAABBgAAAToAAAD+AAAAFHN0Y28AAAAAAAAAAQAAACwA\n",
       "AABidWR0YQAAAFptZXRhAAAAAAAAACFoZGxyAAAAAAAAAABtZGlyYXBwbAAAAAAAAAAAAAAAAC1p\n",
       "bHN0AAAAJal0b28AAAAdZGF0YQAAAAEAAAAATGF2ZjU3LjgzLjEwMA==\n",
       "\">\n",
       "  Your browser does not support the video tag.\n",
       "</video>"
      ],
      "text/plain": [
       "<matplotlib.animation.FuncAnimation at 0x7f11442b5a90>"
      ]
     },
     "execution_count": 10,
     "metadata": {},
     "output_type": "execute_result"
    }
   ],
   "source": [
    "from matplotlib import animation, rc\n",
    "from matplotlib.colors import ListedColormap\n",
    "\n",
    "custom_cmap = ListedColormap(['#9898ff', '#fafab0'])\n",
    "rc('animation', html='html5')\n",
    "\n",
    "fig = plt.figure(figsize=(8, 5))\n",
    "ax = fig.add_subplot(111, autoscale_on=False)\n",
    "def plot(i, axes = [0, 5, 0, 2], label=\"Iris Setosa\"):\n",
    "    ax.clear()\n",
    "    w = perceptron.ws[i]\n",
    "    tit = ax.set_title(f\"Epoch {i+1}\", fontsize=14)\n",
    "    x0, x1 = np.meshgrid(\n",
    "            np.linspace(axes[0], axes[1], 500).reshape(-1, 1),\n",
    "            np.linspace(axes[2], axes[3], 200).reshape(-1, 1),\n",
    "        )\n",
    "    X_new = np.c_[x0.ravel(), x1.ravel()]\n",
    "    X_new = np.c_[np.ones(len(X_new)), X_new] \n",
    "    y_predict = perceptron(w, X_new)\n",
    "    zz = y_predict.reshape(x0.shape)\n",
    "    ax.plot(X[y==0, 0], X[y==0, 1], \"bs\", label=f\"No {label}\")\n",
    "    ax.plot(X[y==1, 0], X[y==1, 1], \"yo\", label=label)\n",
    "    ax.contourf(x0, x1, zz, cmap=custom_cmap)\n",
    "    ax.set_xlabel(\"Petal length\", fontsize=14)\n",
    "    ax.set_ylabel(\"Petal width\", fontsize=14)\n",
    "    ax.legend(loc=\"lower right\", fontsize=14)\n",
    "    ax.axis(axes)\n",
    "    return ax\n",
    "\n",
    "anim = animation.FuncAnimation(fig, plot, frames=epochs, interval=200)\n",
    "plt.close()\n",
    "anim"
   ]
  },
  {
   "cell_type": "markdown",
   "metadata": {
    "ExecuteTime": {
     "end_time": "2020-07-03T15:09:21.755979Z",
     "start_time": "2020-07-03T15:09:21.744947Z"
    }
   },
   "source": [
    "Como podemos ver, nuestro modelo es capaz de converger a una solución óptima que separa las dos clases."
   ]
  },
  {
   "cell_type": "markdown",
   "metadata": {},
   "source": [
    "> 💡 Prueba a cambiar la función de activación y de pérdida para ver si puedes reprodcir los mismos resultados."
   ]
  },
  {
   "cell_type": "markdown",
   "metadata": {},
   "source": [
    "Ahora podemos usar nuestro modelo entrenado para asignar probabilidades de que una flor sea del tipo Iris Setosa a partir de la longitus y el ancho de sus pétalos. "
   ]
  },
  {
   "cell_type": "code",
   "execution_count": 9,
   "metadata": {
    "ExecuteTime": {
     "end_time": "2020-07-04T13:27:46.996119Z",
     "start_time": "2020-07-04T13:27:46.982104Z"
    }
   },
   "outputs": [
    {
     "data": {
      "text/plain": [
       "array([ 3.1121193 , -1.14317047, -0.70370935])"
      ]
     },
     "execution_count": 9,
     "metadata": {},
     "output_type": "execute_result"
    }
   ],
   "source": [
    "w = perceptron.ws[-1]\n",
    "w"
   ]
  },
  {
   "cell_type": "code",
   "execution_count": 10,
   "metadata": {
    "ExecuteTime": {
     "end_time": "2020-07-04T13:27:47.012151Z",
     "start_time": "2020-07-04T13:27:46.998121Z"
    }
   },
   "outputs": [
    {
     "data": {
      "text/plain": [
       "0.6163120194730393"
      ]
     },
     "execution_count": 10,
     "metadata": {},
     "output_type": "execute_result"
    }
   ],
   "source": [
    "x_new = [1, 2, 0.5]\n",
    "y_pred = perceptron(w, x_new)\n",
    "y_pred # Iris Setosa"
   ]
  },
  {
   "cell_type": "code",
   "execution_count": 11,
   "metadata": {
    "ExecuteTime": {
     "end_time": "2020-07-04T13:27:47.027300Z",
     "start_time": "2020-07-04T13:27:47.013151Z"
    }
   },
   "outputs": [
    {
     "data": {
      "text/plain": [
       "0.8343939887777256"
      ]
     },
     "execution_count": 11,
     "metadata": {},
     "output_type": "execute_result"
    }
   ],
   "source": [
    "x_new = [1, 1, 0.5]\n",
    "y_pred = perceptron(w, x_new)\n",
    "y_pred # Iris Setosa"
   ]
  },
  {
   "cell_type": "code",
   "execution_count": 12,
   "metadata": {
    "ExecuteTime": {
     "end_time": "2020-07-04T13:27:47.042888Z",
     "start_time": "2020-07-04T13:27:47.028300Z"
    }
   },
   "outputs": [
    {
     "data": {
      "text/plain": [
       "0.33866551968712205"
      ]
     },
     "execution_count": 12,
     "metadata": {},
     "output_type": "execute_result"
    }
   ],
   "source": [
    "x_new = [1, 3, 0.5]\n",
    "y_pred = perceptron(w, x_new)\n",
    "y_pred # No Iris Setosa"
   ]
  },
  {
   "cell_type": "code",
   "execution_count": 13,
   "metadata": {
    "ExecuteTime": {
     "end_time": "2020-07-04T13:27:47.058618Z",
     "start_time": "2020-07-04T13:27:47.043889Z"
    }
   },
   "outputs": [
    {
     "data": {
      "text/plain": [
       "0.14034623285805609"
      ]
     },
     "execution_count": 13,
     "metadata": {},
     "output_type": "execute_result"
    }
   ],
   "source": [
    "x_new = [1, 4, 0.5]\n",
    "y_pred = perceptron(w, x_new)\n",
    "y_pred # No Iris Setosa"
   ]
  },
  {
   "cell_type": "markdown",
   "metadata": {},
   "source": [
    "Como puedes observar, el modelo está más seguro cuanto más nos alejamos de la frontera de decisión (valores más cercanos a $0$ o $1$). Sin embargo, cuanto más cerca de la frontera de decisión nos encontramos, el modelo está menos seguro dando resultados más cercanos a $0.5$. ¿Cómo asignamos una clase u otra entonces? Lo más común es decidir un valor de corte, `threshold`, a partir del cual asignaremos una clase u otra. El valor más común es el de $0.5$ (cualquier valor por encima será asignado a la clase en cuestión). El valor de este `threshold` puede modificarse en cualquier caso para adaptarnos a los criterios de diseño buscados, el ratio entre `falsos positivos` y `falsos negativos`. En posts futuros entraremos en detalle en este asunto, ya que es muy importante sobretodo en aplicaciones sensibles como sistemas de ayuda al diagnóstico médico, por ejemplo."
   ]
  },
  {
   "cell_type": "markdown",
   "metadata": {},
   "source": [
    "## Limitaciones"
   ]
  },
  {
   "cell_type": "markdown",
   "metadata": {},
   "source": [
    "El modelo de `regresión logística` sigue teniendo las mismas limitaciones que encontramos en todas las aplicaciones del `Perceptrón`, y es que no va a ser capaz de proveer de una buena solución cuando nuestros datos no sean fácilmente separables por una línea recta."
   ]
  },
  {
   "cell_type": "code",
   "execution_count": 14,
   "metadata": {
    "ExecuteTime": {
     "end_time": "2020-07-04T13:27:47.183777Z",
     "start_time": "2020-07-04T13:27:47.059618Z"
    }
   },
   "outputs": [
    {
     "data": {
      "image/png": "[encoded data removed]",
      "text/plain": [
       "<Figure size 432x288 with 1 Axes>"
      ]
     },
     "metadata": {
      "needs_background": "light"
     },
     "output_type": "display_data"
    }
   ],
   "source": [
    "X = iris.data[:, (2, 3)]  # petal length, petal width\n",
    "y = (iris.target == 1).astype(np.int)\n",
    "\n",
    "plt.plot(X[y==0, 0], X[y==0, 1], 's', label=\"No Iris Versicolor\")\n",
    "plt.plot(X[y==1, 0], X[y==1, 1], 'x', label=\"Iris Versicolor\")\n",
    "plt.grid()\n",
    "plt.legend()\n",
    "plt.xlabel('petal length', fontsize=14)\n",
    "plt.ylabel('petal width', fontsize=14)\n",
    "plt.title(\"Iris dataset\", fontsize=14)\n",
    "plt.show()"
   ]
  },
  {
   "cell_type": "code",
   "execution_count": 15,
   "metadata": {
    "ExecuteTime": {
     "end_time": "2020-07-04T13:27:47.199776Z",
     "start_time": "2020-07-04T13:27:47.184778Z"
    }
   },
   "outputs": [],
   "source": [
    "np.random.seed(20)\n",
    "\n",
    "perceptron = Perceptron(3, sigmoid, bce)\n",
    "epochs, lr = 40, 0.01\n",
    "perceptron.fit(X, y, epochs, lr)"
   ]
  },
  {
   "cell_type": "code",
   "execution_count": 22,
   "metadata": {
    "ExecuteTime": {
     "end_time": "2020-07-04T13:27:51.253888Z",
     "start_time": "2020-07-04T13:27:47.200593Z"
    }
   },
   "outputs": [
    {
     "data": {
      "text/html": [
       "<video width=\"576\" height=\"360\" controls autoplay loop>\n",
       "  <source type=\"video/mp4\" src=\"data:video/mp4;base64,AAAAHGZ0eXBNNFYgAAACAGlzb21pc28yYXZjMQAAAAhmcmVlAABP/m1kYXQAAAKtBgX//6ncRem9\n",
       "5tlIt5Ys2CDZI+7veDI2NCAtIGNvcmUgMTUyIHIyODU0IGU5YTU5MDMgLSBILjI2NC9NUEVHLTQg\n",
       "QVZDIGNvZGVjIC0gQ29weWxlZnQgMjAwMy0yMDE3IC0gaHR0cDovL3d3dy52aWRlb2xhbi5vcmcv\n",
       "eDI2NC5odG1sIC0gb3B0aW9uczogY2FiYWM9MSByZWY9MyBkZWJsb2NrPTE6MDowIGFuYWx5c2U9\n",
       "MHgzOjB4MTEzIG1lPWhleCBzdWJtZT03IHBzeT0xIHBzeV9yZD0xLjAwOjAuMDAgbWl4ZWRfcmVm\n",
       "PTEgbWVfcmFuZ2U9MTYgY2hyb21hX21lPTEgdHJlbGxpcz0xIDh4OGRjdD0xIGNxbT0wIGRlYWR6\n",
       "b25lPTIxLDExIGZhc3RfcHNraXA9MSBjaHJvbWFfcXBfb2Zmc2V0PS0yIHRocmVhZHM9NiBsb29r\n",
       "YWhlYWRfdGhyZWFkcz0xIHNsaWNlZF90aHJlYWRzPTAgbnI9MCBkZWNpbWF0ZT0xIGludGVybGFj\n",
       "ZWQ9MCBibHVyYXlfY29tcGF0PTAgY29uc3RyYWluZWRfaW50cmE9MCBiZnJhbWVzPTMgYl9weXJh\n",
       "bWlkPTIgYl9hZGFwdD0xIGJfYmlhcz0wIGRpcmVjdD0xIHdlaWdodGI9MSBvcGVuX2dvcD0wIHdl\n",
       "aWdodHA9MiBrZXlpbnQ9MjUwIGtleWludF9taW49NSBzY2VuZWN1dD00MCBpbnRyYV9yZWZyZXNo\n",
       "PTAgcmNfbG9va2FoZWFkPTQwIHJjPWNyZiBtYnRyZWU9MSBjcmY9MjMuMCBxY29tcD0wLjYwIHFw\n",
       "bWluPTAgcXBtYXg9NjkgcXBzdGVwPTQgaXBfcmF0aW89MS40MCBhcT0xOjEuMDAAgAAAKR9liIQA\n",
       "FP/+98dPwKbo+WbLnUU9ITCK2PpIKL1Y7NAydQAAAwAAAwAAJwtU8iffrloEmcf+EVP4ACKbR+Xg\n",
       "IhJGxU0yu16TH503OUS9cjvi8ScG868+Jao8Xx7IlbYAgvicFEHL6CuFSwDNa+xfMmKU6F2f+oBl\n",
       "A6pwMjerH/GVo594f2MosNGCJ9/ukVBGSImrHY93nLCGD0/UaPubpWGd5ufipC9zgl4SJC0LCvEy\n",
       "iGeMHa4d/LvbfycsW0xZ2bMT6CfxKB/Mdxr+4N/am+N9+4UyxUooMv2RjfjT0Hx1XGdA69o13vqh\n",
       "dSFuZjPn0nE3RdpXGQ2pJD4urj38AAAFxTWP75h3afWq4xFapWCM02cRNQsD1+LzoCA+m+t8N5Tm\n",
       "03Yj78Bn40seQZGqqQprtf/9GGJCTflk0rCbRyE0L1fMt+5QaheIRm1QvtLQcKM9+BgyZYJjs6w1\n",
       "5fDc7lUXKNDthr7dtkqhouhOIK+uv3cNAix/BmDHhJDQHyA5xXwd//0rpheE9/bN+MQ0npZ4ggTh\n",
       "pJz2o/8klM/LJA/osSs7YcEXLYNlO7dHdYF65I07uxOU9kG5CSpRKQHZtpR/r22ohmOywYpqNqi/\n",
       "v0nvoF5Rb+qPXMMMowiYyCS3xgMX9R9K6kYAilHuzCrVgm+1nawCOKRqIsRs00hHmil2yNdr4kMm\n",
       "LakN7ySf3O6FvPZviCjCJ7eo4p64qfKr+X6LjuHTBu4mAcfxVNNJKRE+k89dhH/OGZ2nY2NE50bu\n",
       "GIXsdSlZLjZFQumhYBtrEAfThrvYshoaxrCI7DMuz7FSjswfQRFjJCEOTRxFtBlJTYPqGzgypfpH\n",
       "ITKFkvUDVOHlkq6Y9/SD/agKAAAM5s6mJ5G4TPoeTUrjXApKu8MzPnJBBnC8moiVkJpyq9l9xSQe\n",
       "ixYuBIP11fsubTK5N+yqqN7IaA2Xz1QRLngCcRjiCotia1bl2tXQk7MINFODUrHZzginEigxa1KZ\n",
       "72iEN9JXq+n9utYeF6D9MdoxoTSpz1R358F1IX51ylgfz9Oho3FwlI8bQ5GDpY3mWvbT52f08eAS\n",
       "KgiUT5IR+7w75xw74eTVDfRtEi6yoaK8qdS3hwUp6phmLTOMSDyygu47YKXnxb8GQiHQptN3nme9\n",
       "qZeqvKtyoFhE0ulBNqKn66ElC+kRtqo5DO4jSBdl5tCUDqeg7jQ2CuIQPOaGgADekDRm3bNRHu5C\n",
       "kee9C6yo5e6TLNZ1XANA0Gi50sOAs/pnG2GsWLDTEBEdemH7aYhxxeKgwOFibuN9VClw6lZMiRKn\n",
       "TLX7ucvVGVSv6BibDh2+5TE/lbxpq2/gH/+Xx9Wgu1euj5HNPQLWWEgbSWZYGcV+G7dy/QL01FI8\n",
       "P9tl9kWOoDRErpTaPtb/h+gWixFDeU1s7A8tAtmVTKIuLzjQSQ/HzuHOJCceUrAVtyl6k7qNSKQO\n",
       "ly8sj32ozVHwRkmH4LPk1+0lK+L9Fiit92cJG0pFrhphItx9QuuK/ftxMLFnytf7moubB+0VQjY2\n",
       "YMYZeVsJ1VCupWeTEkK0CPXjb9imRkbHSVLaqarIdwLRWZ1R2S0x5kDPX8zaf+8RF6NrVUoJ9VlQ\n",
       "qbWjLWnQO9HL1TEb3zvDdUsDoshT4Z+MWVFoG4U8ckQy/MwrwPlKfpXAxRCCsE/wY9i73SFH9eJZ\n",
       "I5WGRvOERbttCnaIUubhGqWG8o40wf1EAQWqc03pc79mItCXTAA7BOzoYrYSWzt/R+I/+Ne+Qn4h\n",
       "lOqQWGQ420/VB/Kv7Xz0OTCj32QnFK/WKLp/bLTBOAqa5ySga/WKJ+Tpxl7HMl4lD7ZlKk+FKaHP\n",
       "OusAPWZnGz9bWT9HtfDo/gf9+qdtPOSHEK/bN6sgZozvj+ZWfiqIqMuZsfTrd+o7iQodqF+FMVCj\n",
       "SQ18UNEfMsVI8jlTfWgqZqwRZ1HcxVBZhDUV27QfMcJmki3Rvqolp1cYnJLda68DyD0vB0OmMjkj\n",
       "mlJQyBQ54rq3q+MwK+lneBsUDzoLixK0zFxEceUuxY1+6OpAmQldnRKrAwH+ZTq1OFYjOzBgnSy7\n",
       "UpL4bHXOCpIK3ESJZVmXWc5R5vc1FYS8W56jb7r3awOpZ/MxmJBCnDa+T5iL9kHDIh+nWVWdW3m0\n",
       "qX6fdAxsRFk7rj6vi4fHkJOOqbmqVwB1xGLD1TiTgS6qH4Ext8n/AZdWww2zephI6NWAgWt/hKtn\n",
       "EX7UMyeuvOIGT27mWMncQmA4Y4C6BTqYThBdDvQTALcvlJ3HepXoXgbIA5s4PrzTzmRETpk0fsrp\n",
       "lEpSplaic+PMPoAePpulUaXpgePXjBCQPFEKUqWv4+d0TE72+tFJFHb1uZwoB9EGGRflmlOc1cte\n",
       "NpfHNuZ6ynN+Xp5PuCfVIIDaWsF9nGyLx2AlqJtHbjXAOEjEj1F0asd9uS2rx3oXcLJEmLX7r8LU\n",
       "DRyTRyEph6pEQkCp5q31umhSxIa8B/CWWAP9lBOjSOZBBZbGtJa5VRrI6q6GPTcsb8DSWF5NEugA\n",
       "0i/cX8A50Mr408iCHaHAHiP4fOku1prCqWN06MUJPHYwwFN6rGFHsYRGRIhsQyhTdPEXIdudwkEi\n",
       "3szxqY2NatxJOYaJILwKBOXn/U0sCr7qugT+AnjSjJJnLEiy0a2DQAefSjVnyNcBlimtwKB2S6Fy\n",
       "uHk3mJqWfMDdHCQzQ3Qep2E9HA6zIe3NeXWdwaWlmjlpSw/9qSQA3CcCRTRB6tVXHbXqpAEZzJGT\n",
       "n3JSoY1fmrHbvEzx0xPWJTKzuC9X0vw+uC3GYUxiZ+PxPosVM99XMzD0xDCi0NpFnKcD/FtX6qaf\n",
       "28uhRSOp+jdkqkKQynUwFQuo+VZqRScOk2G7L8Is2uHyWSRjFOtuAP9GocmARvK+q3l7zLD/MNhB\n",
       "oyz51lG03RuOUrtVndxGfA40QuhPTVAzykcf0wSdIdxCTECKXH+6pvXAhhNJHxUKv9IewWMme5/Q\n",
       "tF8+3plq6TDrXuXvUJYqesTkClRA3MPF63mJSwLV+KAkEM95Gqalo3YCPkskeok+qSTnc9ieenmH\n",
       "X+BcEGiq2X+aNtrYY07JTPrfjwTkTsY2jbhCbGCVpNWBwGFtIF+QIp5VKGaO0gx8YsOekIsF/Xos\n",
       "9Kqm5BWcws2W5+89r454YuSTEl7wJddbuI7NAQ+bsMJKsdpbZWW2z5oc6Q6mpnkurLEVRmM2YaUX\n",
       "ZBtdXaCo5Ya8bTKtiyRBXjbLH6a62Sl0EACPTaHTJxH1p1b8/tyF3oHYVMA1oT7OTeAUP8IbyRFW\n",
       "q0TQ/t1gbRqbAovXufO9OnARNW+eU5H60mXiF4kBddzANENg2SYfGXKclVgvGuZpF9WCFKrno2ns\n",
       "32ZuK2MmlLUi9ahO0l6nN8xni45HQhtB2WYUX8sc97O83HQiGcTbInTCXb8427Iq6Avq9SEgs/xB\n",
       "fkqvDRMm4P5dS2OYyCs8rv3hQSUe+YC7xSxWiPNFoX4StJHWjusD/uvfDdUe9iYBLAxeU+9MoB6Y\n",
       "NSoFExZmFqVnupepcGbdJ+THjsguXU/ViLSPB7Z4ik5+Xl9y9ktMe0MptzPYQTzgP2z6LXNKU7Rt\n",
       "scRMRT6Hm2hEpvXkRphTquMPnKiD/qHy4LSY2aCB+Rp1/7rfSWmcAw6I8TFdfNNvMaO1oJBp7NCg\n",
       "bzI/ZZTAl5XtrnJoVwCDv1dpTLsPaVs1jFmTgBlQZw4WNEAvX7lSuE65dU6iPt5ESR7EKM4p/zun\n",
       "t1y9qg1a2pB1HERvmNnXdx4GIS11v/PK6n81lV4kpXm5pfC/h0EnKoSRiw4kko6K+vIHLWpKfuwB\n",
       "2w9fyxpdPa2ZoG44JP0TVgqgdK5ARqAkv+jBRlr9ORfH+w9lDGIkJ0WgCQQTRzzUVC0QBqWfWczQ\n",
       "QSuKmTLn8GmJ8CZfyBH7pZe/yTMK8+TvpmMjU8A+CzbNvMWMOP0DOJa5MX5IpyPfQj26Uo0qFG9Z\n",
       "NKXsYBOQCAiTa87Onyms0BZtPG5zaQvrHHnq64kHIo+EGJTjQhVduYjf7vu1jwi8+w9SJsjnL+mk\n",
       "ZCQwLCKfgLpw43YiAYBxBGFNz3fUHLKbJCYAxYE7Vspj9b58PF+K9aC6q7Q0IdY8Re8KQiGxEO8T\n",
       "DlGZf3xoU6vZ2ZWG7kwShL1IfYSnSxwgTKbyA0p2cSuVSlP2YWjXn73h6oMEk5dluGgjEdNF4yMd\n",
       "RXDZFusMRA9WCZZFW9txrqjyypNqUQX6JUNZgNDFM/rWCDY6A6MSQZbRe/mx8cIxIZBgxyivga2l\n",
       "tFFB9hBGyOCO6WVx22q/klxZrI/9Ue/UnUVu85QYc16EOLN6lc2bDG0YpslwItjXh8a7e52cs4O9\n",
       "vXVSa3PhxDnEDqpfbSaAxeaoPBP442zLKrec3kbVgY/qmD1ZajXL5rfFPwWldMFCDim92uYcCIZW\n",
       "iDQt3+pZ1BaA8+9HColVbIWh0gbyOXsfx7nIzPAuaxDqKXo2YVxw46RC2Sd/BDKFIsA5JHfYcfd5\n",
       "1BNBuaTxI7hm/o9fnY61GLypey9K6/Ys35jR3xi2UCIW/88+6WWstdOBPzHxuDI/nItDiFEmLvym\n",
       "H8loF4G+Bra4k3UjH0Xupf1Zlzk6LRc3Ex96b/ogVDWHahLskUMuQv2WG5Lf/DACXpeqiPS9pb/L\n",
       "Nkb1omclCKDTGCahVYoNZoOjDxkrqnlKQzTvrSPpATb+2aZOMXcraBZCeLA0yhsmlMHN7zY8vOh/\n",
       "WHA4LOIw22hmgQ0QSkTkmpCMeOFuLXVepfN7NVgeqFnLwQVrU0nzMoohMQp8CGQza/v2yeaZBdIA\n",
       "kCPbJJ7HFtxQ5d/l1zqEv6I835CtnjHoWQoLmbMX1BEAd0bnv5Q7DSXZEKmQkdD/9Gsa1TveZcOp\n",
       "kqkjx1gnR4ujmbynhSd6BMdqN/Qg6y+W07TH7Ioy3Xv0Gva3yZj1I4S8Y3Va9JSqhCrA0OoKtnzK\n",
       "tXMIXxmOMxXO5Qa5ic4r4QRYIJjKE18FsVTTBJw7tXys5slLoogYVOCsBqAz+ygSW9sjImE78O9I\n",
       "9YWGlmOC7gGEC/L1sQPFmVWBbfccTcETCrK9Iu26NVohBycDasLRFJZAuWRq9KMZNr1BbK2AQj/j\n",
       "HHLylp3iU/jjwSsUX9ums/2HRRGSzujR7+h4xKV04ceJ893qWh6BXDuHs0HsKUwErFGJu7Jtze/w\n",
       "bNdfaRFUAVEwFntp0UOaoj5slpFZ9UTRbALZ4LZ4gW2+kgCuPxib6GkhtPt2B7KSBalVT4FHIYLP\n",
       "hJj7GasrRNvykLT5HWUWv7l4GnBCrs+6cGe/Na//7/t0bwrQ8QoIwAQp+AiygRcPyL93+4vIEBXx\n",
       "Y+BRG9+yepepkuuXdmE5M9k9DHInEZJwlaRwJGWXqc+hAGOU8XBWZzgGG1NEePVQta7wQ5iaj6kw\n",
       "lcuYt3EVScYabACUUn7q2rdf83Qcc9PVh3SE5DAYfKxrvzOQXaFI/cjSt2612+hXTa4oOr1p9dZD\n",
       "UXcrwSXHkTP50DL+WALhkjNYEdZmNOGyTB+PDY5/4F24p91m3sH/r6wq1q1khIqoJC4rOB6G4j/Y\n",
       "ExE2YQm4YDQhEfZ6uQAzvdUFyxqMVVT7Omk+Tceuv0bZxkj4r0B7b6fSqJDYyLXmr1QzMX2VDNsM\n",
       "S4gM+LeeHf8r8kb4dutP17O9Jt2TVIQI3/laAGDAaCaNCJjD+FM+pa18TMAibzdfbBJXsrnURmSD\n",
       "YAFhpA8uvAHCn7nuMFM5+XnhQs+hTlmd/ySlyNgc9vN7JAisQxiNOjceP88zahZphquCGr84lxSU\n",
       "iDDUTZ8TakstEmsW1Vt3MjsDcfUPJzk+OwdPZBRxGcRdperDYzhAkNbXI97JsmerY6gOfGKhJSa6\n",
       "nxBicaXZhC6/zZVhE4rwV4W6pXpq7am4XPzMsLMpk5yEJChbe71AiIAZoTmXxhy7ccQs12lcLKSK\n",
       "mg5SntvDa69WWw11sgxmJjYuQI/qRHPx8bs2irDPPQa4jl1z0ANaWAZlnLRRzm03R/9+Hg3DmJ9P\n",
       "sLpyHNHeo9dUSFQhdL9zVmt6dROxhYeUl21WiRsaBFsncoEIDru5WbUEif4lerDYv+ygxzDU7PsJ\n",
       "nytPruVSXy+QLv7mn9bApumrAXbmVbZljYoCPaGYzh4YGrdNry1PJciuSVQmgGfB+2V+PklH2wu5\n",
       "NsZ4lO9RfVCRILl5N6BBmkhJKP11i3GLahGnj+VTGrZPWErkA783UINKFMjn4wEoiSbBdMwC2f9U\n",
       "lTQnjXWt6rHjzGiTmIMK4mgtCTnwhiNaegXwGdNs1GaEJK+SmdylEbub1b/RHdk7I1CtHohkHY/j\n",
       "25aDi4i3Bhd8Dm/LVarkiUSkKR0cCIpD9DKroq33LyCwKAK3u6iCQHHjXx+zQLVCQjkP0k8P7Uf6\n",
       "DhAc5lCGjNft7gLvXAVJ6xW6sQMPmX7qarF//BZitce2uwqivye2ADs5l/zIrRupebNH6Lsnmrj1\n",
       "hcCuFjB+kmRNCL/NMJCvaKwXgvrpIkUwahj6s8bj3QdlvuaHOEHIe6UA74ZtK5uMDmN46GrDCyjk\n",
       "FHcAdi2c2DD/omdfNaxwH6A7k6pg4VqZjnpbvvANkqTpk/WUgayS+1G3OkeU4n3ZjDYautB7lYVQ\n",
       "I7p9cVqm2ev4SbKZXZIacszsHTspB7MDxpjoSsYODcf5KNNzUk6yC4zDtcfOAyHSb06jmPAZW5VI\n",
       "UpdNdctaGTiAukFKzseGxfDmn6V4Mw7V2LgnvROn+5efTf5rjQNaxWfSd24nLku459HLM+vnq05p\n",
       "UA+F8h3v3F85XrWV0derLwX6H9+Uj0hIw9vfJ7cBFy3SV2Ll7iaKhsOOv8dKxsemKmfPzZczxgsg\n",
       "t26/KvO2O2GPv0OMe5CMtOE0pD9YABw4YQcyPveCb8AjyFMMXCbloLLJufUNc3kDFBIkXHV5sFvr\n",
       "otcG9hPgBE/dUxa9UpfaeAa1b+zeowav2FnniHeLQQtcybU2bL1MZhFqg4UNDGJ5+w5Y5pCYQCnl\n",
       "BdSmaOr1l5dqZWCc5yI7NVGYt8WjnZM5Re7GFUEMyfwHfBb56T1welD4bvuGJ1zSKTjC2lqxt6JP\n",
       "ZeE7SdFCrIYZkvo1tIK9jMtSMISa+zhAcpZF+9+OiqOLKHoQlVqYz/iJo1Wx6alrX/5vvXq0g1Rp\n",
       "UUsv9ZcTBcKKDDW3yLHGZsSj8YjWtgXIBjliYGuVMLb6L36Hv1ynv3z01yiafF2TS/P8EOYK5Q99\n",
       "GD4jTSzMytJcEzSCR9XuzDOOWcDObMjPq/7VoKS8iT6BD1ouMyh7GpZI/5Q2xkhMrbnB5ndLg12M\n",
       "up0AUpddXlH6klBrKZ6nvIg+Rx+mgbHZYF564ROhBInSdUXbLOx+kdDe9Yu5OQHB3XoIypVWhdbh\n",
       "OwNM0TzqKifljo6lFo8WGOuFrQsJdh41XwXhu8HLwgzDzRSvo2uGnGkG3tNKnLjRkHo/h0Xesvqn\n",
       "Sc2pS7TuT4//qyhz1ZsVJud+5ospOok7avget4o4kTc07X1pRrofBkR5+YQa6Zhy3nfpA3ydOZNr\n",
       "ZRiE1YFKCANpBxZtp2macu31Hep2vPQT0dmS7vhIUOtyShmu297hM+F+dIuAdSknRRnWafplUQ0U\n",
       "ErZJLvfl4wdyKX3vzm0upFez47U2DwdC5v2Gph36NvyV9eS5DAaHpBHYOUDei54314Jg2mw8VwG+\n",
       "Qgxvjuc+F0VObDBZh1uCN/53XLDOF4CI8FkrjRW73OlYMbcQq3QRq4iNniMrtj+HO3ujYD9uwtY8\n",
       "/0SRPOaAdVihwnqkvfVHYb4AhDCMDEbJx5avujbghcH24EjO2L2f0pfJXTR66+XegR2vcofbRlkx\n",
       "xGMrjk0XeEyPEQMvskY5Da9UbPxLyZve9gt3cCGCMrpbu9t1qfKV6ZrGpoXKTrOWHYJYwLvbNWrm\n",
       "kw5mm3IQG7o+SAIKS6H32mCgvRLGCfaMaA7nIvM9AW2Q5WlFUNNCdFnIP8Bl5itplEPwulXIB9Nm\n",
       "B9YThwbquYpgnfJ0aOauLIR2mwwcQQQkjz3WyjE7wh8htkP+xvq221+bEDHbRBZHlP/ZAvk4Cy0i\n",
       "md/qAT9nUs/RMuCiBVi/zhwzZad9VnU7oKeWWAxr5j8S6kvc8+1fDkR47RyKa+3XYah9Z0CAmbLr\n",
       "zhWHW4zRyBdFCe3NcvH7R7SXpvJzCuv29uNaUe0JLTC9D0L149SwbXE1BvstXN9MFVb0oYz/1Td+\n",
       "3FdfNMgn8hRTSoGJg3QdsWfuqlTgLms2td7zwGOpohsmZgB8InqDDrj4G+qRQuQKaQAuK11xGcAi\n",
       "3l9CJATdHoGTzR44Jdxm+/paygvCJqJuhzDcDWKXv6wnA1MPD4q8DjGGIx+c45WF6syrVn3Wwsyv\n",
       "b1wsn8ul0dCqIhBqdzA0aoWVZoKsSg0xKTJcUi6PSBUPc8VJGv9cSBTEMVuazZBhrMBqw9/7slEw\n",
       "vWgHT4aEZcZZ6oE6YRWf6lJj/LY2XWVJEL7rmeHPSopcvSiMhX/oRmpRQwZ85DqDQWQJ2DaLS1aL\n",
       "oL0w1bRUVKr7Vb+YZY/kJFfXVaSiNAmYjlbONnCD38bIOCJxuFJcF9vaIDnpt7TJ4y98n3evnhZT\n",
       "QuSslP5A7i/V7k/au/Yk4Q5z3aPOkY1jXTgdK7gmt5L3HhG0AlNbqC0MNwG63qlBL8wp3AcL9hXO\n",
       "EshqRyXvFswExVaoGsQE9s2BTml6ClNUb+rMqbGeS8Uf7MgRU2NEuZ7a9FXvWbim2szLBalsvJI+\n",
       "RfAan/DsZlumw8OJaUvMTOn7c4WFDPEGHIuhPQ8mK3mh7otdm/b9ylf2+q4Xp70Vtd2OC2WOEU/s\n",
       "fTYjT7wqwdfYOXy2fzqY5VtnzCDPLKH1fE3TUitUITFdNVUbmoLnxK0XDeQOr/HAvNpVVy+aPV0V\n",
       "9XBGKjJgLNn0Ti7g4WQAtpWvvFX3lV2eBq8wT2iZ4R4K0ybmvxvJk9DB7keMeMAXTpQrxTk0T4ot\n",
       "oc4Ph9dcXjvXa7FLUCLUTY3I2STweX2IMokW/xtZ1BOJIhpVzZrPdBTYhAPtnqPQlK/YyFLyha9a\n",
       "srtd5UC8wqUYnRUiS5pW4UiG+xaU3xqrUsIMgj7kEOBYZZPB3QFpmhpLem8A10aGA7BACkBUs89A\n",
       "Eot/nTyK4a1MVDOMCyIphngU8jMmjAbpqSxlZL0mZu0ymt1CgOu3DvIjNzXL4rbMBqsg0RW1prt6\n",
       "b+1B6oBQKmPpdK47LOXA+a+vGFfYixbpj+Q5ppi0BEghmouBNyABBX/hQs9bJ7tpqT9Ap5MDT06z\n",
       "44xde7ScwSWgtqSXZ10cwtOBg3ZD58UALoBKw/l7CPGasAxxBe3uaVusL899Wc8N/FFsqnBqZxJy\n",
       "dQp5RyNAbyZLwnaDaNGuGyA0HHYIo7nVD3pVfCAP+dHbHXkcJRTH2LPTlS8UiBU+9Tz/IbxansNh\n",
       "SrrA84Hezx+c6DUWC1uCIcLLgtb9ujkOYDNzgmJ/qMiznxqqVQ3f4KbG8h5uudGqk5y6KxfEd60t\n",
       "F+4THS8joKmpTiKkT0uMj4r9m3Se4i2G4Qcv2qSymRJpSeAD3HX2HbY//1I5rfnXbc/pWIlSbqZj\n",
       "Wh/MZhvPADh73Y9YelNxq5J+RAT6WRo1DGMwBDflursEyX40Om7ssWWJXznfzGizvgUZ6dZwCFOf\n",
       "HIllDxI8cGRZmtgXcKr4SxeNDZWp9WXoB8pUoiUHubHH63O1HFAzSNs/D4FlXVppl4gvfnucdRp7\n",
       "E/KUIsTAT96+bxSRbrPT02WoY1k5vpoEJjGtgRN9VzIsunuk4F9RXk1DNTtc1BSODNxujtE7Mxfz\n",
       "zkvyLGGjDHuAptImR8lXuOfdxldMSOC2+RlM+Ajr5daT2retvC8pA6VGILbF0z7W2BsmxXIq0osu\n",
       "YB6BNxH+lapYyC7z7y4GK3HT92h4BRnJl0ySmvE773IffIzeYAid2qHjCo0ydrqmUs+j1zp4jzxP\n",
       "oQRHDnY8adE3/1wS8NAk9DneQJmZwYAN6U4oeHCfeAajdfOVDtTXev1IIlkTer3Vx12KO0Ei7Vn3\n",
       "wLI2+rjUVGAfGIafhXOU7iKaXGye8ST3rHLYgjTTwaTewnqUhnye1GyyXMp/qB+d1T2k9nEf990q\n",
       "KlWeaj4PPn9nbjUkl6SzPr3D163lhEoINXjaftTxR4P2ns17gpS1Q3vIKRNlp87Zm2/lD7yFdADj\n",
       "S8ZmUVVra4WMEUrpFOnwBIr8tH+I10kJs89X0H+nvKuQvdVDxppI6CAtArzipzit+15K/ggC5yOz\n",
       "XP5lX/PPSn9k9lfL/LXi3cUnVswteQQLQIQM8cmzpJgiTUG27DzCKXLA8VKJONB354As3ufh6M/M\n",
       "JP0EQETATlnHuHA7/nJ8skmKs3qunVRukX1dYUsBEarLjUjB1NuY8gxIAHTZ6PTNW07lIWgAgzzL\n",
       "liQ8/0xBb1/kN3QMnrwcLMxtIbSMGa9PBQz3Cg6IZ7XcgPK32q5bdD0Vx2v/aakTWEVNiVPBBGXl\n",
       "9Iv9lD6JuS1BmTckEAEr77RHaDrGedL6yzofC0bUdiGm2LFcdxHapymkHkxFDcNaAupXyxAz4NTG\n",
       "t4/kqWT70glZwYQCxV0bjWtWdAxdtdrd4t7Qd0I8pc+mPDholzA1a/pGcQUpRT4WXdROxTEL2Fzd\n",
       "uUDBx21/nU1M3hR3aIzrBC3Vd7QSORCzEsSYRjQ0rcVEpelqr7wm0b5tvkGTTdOiHZdaG8VbHnVB\n",
       "x1X/zGJgoP2MMsVNe26WXYdYwFQVaavuvZvxDjjGReYLIaRjk0xtgD/TFE75n+LGNeJTcoTjz/to\n",
       "rKP6MqUo8IvgR1uoCZA5hVeSj4H+YiU0X3CU4rC+jD8oVJA8D16FwadSZxdCbK42ucvXNLPkbCsw\n",
       "onm0/+kpFzOIuNl4rQwhjVXPg0r+hOcE3E1RGIJx3OWv+PjB4YIE6aB4nyOGLyWE8sSHfJJETyYk\n",
       "+Dq4M57d4hNJG4VoWsu3EWQt1bnqX+0SU0l8YancCc23NOKpa/jW0nCrlxCcIkQ/OvO/4AMfGFQX\n",
       "A+1R6K9brB6HBU6ba7oGAmIRSJ925MI3EIqlfFZ0SDAX2reNgy2jW0r5NeskvK/NbgaQab8NgpQE\n",
       "Ores2oqrEpyRY1n3WhvGef7fFBbMsE1IpKXmMsrYpMTeNzhnWmy3vh9FZ+PuQPgAM/lat/9/nlc0\n",
       "pQc9I1wZiP+y5TkNWaH8mBdEr8IgA+ZN+QrX84Cnzg9sXQCSHhH8PlOwzKIuaWd9JC9528anNyQ2\n",
       "/XQxiDKIyW4QTYPJlfZnOVBNclrICqZJqJ/pkjmEVWo9piOn6SwpnN+f6D7rSfN8oCNbG9X37S0O\n",
       "OT4lYhWAxDRh1eTcD604zjEBK4MKCMyMYaVcf+PDpDypCgAQ+0+5CQSafEUkvxHsH+ZjlOVUhelQ\n",
       "cDM0xSh96wJvOUqmLcx6hRxxu7rE2rg7wub/Ixf4rzDNtDg3Dw/0dkjB5KCGQ/mlw0s0Pgy/3xap\n",
       "7hoZrK0eI4KG/oJl99fc5dZi8V5dJft6d9cWWNu6XfkKgsuYwoSYvTTIpCPCaHJbBLwyn6FYeJt8\n",
       "QrAH9/opnrl6YDPLNVRe0/lyR96dNvwLbk3CoumeCTNSinJstL3PvQvRZOqsSmos5A+rDLfkuYkj\n",
       "6nX3ewk+QqXKN+cajJV/JdxprlRpp45pXYs5h5uuU3oxgH+iA+lqi8nX460xxPKazmJikd+7cvju\n",
       "Kb0t7I0enoxDq61NutcaUuAnlxGE260KHGQ/v8XKivI5WNHuBD/oRmOxuJ3XETNAfC7DfACu2lqm\n",
       "B5B6TPJ1fRpUzy4/ZPS2cgnodPS73YrPTCqpi3Cee442d+YltMnsIzwSxr+QwI9znxrGJNPGZBK0\n",
       "5pMGww7u4z2Jglf+NiqXKEp3UBzp29zu9OR5+1p+qgEnIJr3e4SyxlYFT5LlAUJEjm0ij3zRgWTv\n",
       "aY5bFCrI7/5vDPqmC3q4OC9uwBWOiz+vn1H7mFkbFN9Yzzjua/muAZD6bpixLccCKJmA9ABH5Myz\n",
       "tD47x4f6lczoq8ZUEdHeRjUZhyT/7OO5eZJqayZXgIeS3sVc7JCanItJ4j/qBFXQm26M0GptFCwc\n",
       "+Ayop5xY5r1wCgT1x0yuqG9rWTAVk47qSqyLXxL4bkp2UsAG/v5ifezCvifewvYqA9YKUMu8W4RD\n",
       "700Sa0LiC4dXqP+Tv9Lr+C80jx1Seiv8rAiz7f1Fl1oP5FVMo9wE+YJkJdf/ELHQ/69fkqFf5GUf\n",
       "DkMc/QtCIZNFGTMZvoMwattnRuN2yt5hYE8v1IlDEa+Oe3lildkciXBf0+2aVoFTcivqc7eVyhoB\n",
       "k/fhP4g3kHSRIN0OVTAOkjJFIQWmSCZhTJ+aatWAx5kaNcIN8S97yU74XN/m/NHbvOLCSa0lyw8q\n",
       "h93HR37GH4HZfTtVKLZaab4V/ZPP/A4R58ECqDBWsOIkphzs4VzxAXQQxWQ/R2qNpAP3bGNlhif+\n",
       "LnbXpLG+ALDYz7IftSVOABKjVfxMSy8DcZvzOwJT5pwSnFbVsBlX8g/DigxyO0SXQnYROjeoeL4U\n",
       "hf0MhLuMm3uCRDzwyRjECPykKdjzJtVAqbCnjPXxIzHrrfPiX34EANb65O4YAlh2LXFhVZRvw9ff\n",
       "uDUUWQlLCLKvdLTApot1Si72Rt1QVVkx47V2xOcFRENfF/GvjlabWvzXluBSRXZXsr4qBjPV/vui\n",
       "Eenv2KiDpdNPtNGDFWqgCEBS/ypTckQDK2op64csY3+N4ffBdaj9rd5R6Zkx0ukQ+dbSgU0NLC8U\n",
       "Xb5YHskXEHKhj5jPZ93Q5UJEVPVe4FrT+iD9xOVyTtxiau/xU6C3h5SFKGogGo0wCisSQaPCl+2d\n",
       "xxo51ENqlY5Nsl4QgM3s9fR8Z70KoLuV5JVw7iyCBpyZrMaI4XLWMs/nq+iwhRMuTxUAnWvXTDah\n",
       "McNlq1B3RZwXlorO0gdCO/geuVIyqfnh+oyH8LATWM8Varvi8grsIy/GAORfRYpWW6fIWYMAk6vZ\n",
       "D4yWu6uEphT7grKSdZzrLARwSoNpfp1vPUevG9HjoQVHn6W+p9Rl8euu9pTZkgzrQbdzk+ZmWDC+\n",
       "2tbHVCbEO2yiVD+RNHw55wIhX8q4+16lkG0ommoqPLqHSCKHnTM2RvfvQ8Xcvyjh+lIozJIt5m/M\n",
       "lfvCh98VMIMbZZQEgDu6A9QwKESdyljH++9awpSO2wjvwk++R+KhPmNTjnINtw+CkCGLpuTAaeHd\n",
       "bSwm12VMgAAAOZ8toROp6x6NlTxsvgMvS0uEqlpb+MQUO2G8zPXiRn/vfW2M9UHscLmd/2Xn8QQ4\n",
       "kY2xKM6o0BjS8BnBE520yQUV3KoowIj3ipzyfZUmM4TeI+6VbBFRa7qA8etsnOiRlmjFgbsEmUYF\n",
       "x+307EiJcbW4PC1rpYArBPbjZ1njNDZJO69O6Wv9IguXjQlFPZ9lm5DcFO/mz1IPKKYp+2knZFnx\n",
       "3/448yaonKP92tmligc7bUERuBCz+vYvYqISnfSgCzjH+RIJeE4Dd6MoebF/ewQrdgt2IVaTBc+W\n",
       "XVRq94Y00i1lzHMYJjAJaMPnlmAXPS6J9QIPC4Rb7Uo0DzqmRhU5lDOR+o28Vo9CNWuIUnl1FHEx\n",
       "Kx71gxDYY38h2J7aEHglX2uWoVQLGCd1BMTRU2kCEHvHpiIkFIFCyvV65Wgg1GFpOXyVi63DxBuL\n",
       "6SuYGqWfbhukVVB/4Z9T/y1LdAw1Iseb7VFP4P8PM665X0g7FEehLJjgvltwZmzFwvxAVZdeaLVL\n",
       "2E6GNRh9O0TuoNId0To9WmqT0XJpYYrWuO4uDmjxEty4CuDLbKPpkM19pwPJ2o4w/U6uIqtAtuGh\n",
       "D7bzkK8Cp39VhvzLfB5eOUCYs9YKptZyt/yHrTKEYTTw1Rku9HsmPaJNfK7ufLp2kkceYAvS6Yxr\n",
       "PK0f4ftFa72zJUsNpqNZ0fhQRKafOqVnaSQ/OK3gPAtS5918PAp7C5+DE2NvnwMM9LR6dqrct4Nw\n",
       "ZN6eur/hdVQ4JbcjnXcs/dBBtCFrFZVMbvg3ACSAC5pbUXEAAArvQZokbEE//rUqgCu3UoAIlTlY\n",
       "P2wsvkX96O6lG1pE6zIqTOHu8oHjrr5gHoOXX04514wqgPQytx/9yDg0THCm943xqw8PTylQ0DxU\n",
       "JDj8sgCrU7Qg9kfw4SdJjBgzY8hXgTHF5ejJdOtnVYwsVYDsakazUm/O3bOK5YhYS7PhnarowH7f\n",
       "EI7Leqwwrw04cBy4xBEhMdcWq/yfJGh7ABNRfuf7Xoxcky9DEv1lqd4BQi6Xi5XfahRjiy5loQ/v\n",
       "xy1dO3cl9hSIPOXbf9EpIgE7J5VXLuMmBnjm6WY6ueg3rOIvfsBPa4yrQpAdUMVQlibBR9mA9u2v\n",
       "ZYUm58zs6IUHfhABC+Ho2FLddiTI11V/hzPMTsm2NloU+tev4tKOYDp9HyLmwEcF1TyTbACjBjDo\n",
       "VoP+9MVsBzud2bsbIvD9DUSamcXXDXgyT5fmtAJNh385HijSrr53Dq3SJj1TVHy0OgvPU9Hf66h1\n",
       "CZzXrracwyyivcl5beeI5LU6IaHrSZsIzaWOn1yfxLbwaJ/VOtQwYBSUCK8Jho/ux6Mdx57EBDFR\n",
       "wu71QOaRvBxw1ElvfMiEuXQavhY+lBHzHuYqSuau/AQzhQ8eTJ9d7l+PctlVJS96QANvRMEMATZq\n",
       "tkU5DzUf8wvEuZqsO0kXdl//oFh4iY/URYAecS9canjxPMd8PAnfnFI/aCauTrWrVmwFj9Tkc6cR\n",
       "ArLI1FIqT30z+DxFj5egrC0NxBXj2TaQ/M/bV6xsOk2BvWbND440nMWYfcrmUoqt3SEuv074vhhx\n",
       "9I16dktgmwnRcPI8yCaHWses8OHIvA5G0w5mQSWwrMlF8gyXMlmMxeq2KEY9DCxHrwihjkqjxYk2\n",
       "XFGyLA8VIJijgodZ2kIy/ARALTrl/Rc91ijN2n1VoV3QRBnx4CxOa7jBsC0M+NGO4X19c20vVJOL\n",
       "KabAuVGD84m6+kPGg09eHgvO46QIG/IYH+U1vubFrCJBJkIyP0esHp72qI80pJY5g3ErfZ3m+VLa\n",
       "x0EiFApNGioqodkT+81icjhkyDgiARYHGsYmOszHDHninLt354YMANLRjS/Ocw8UWo6SZUJom257\n",
       "BSzXD/+YYGu6gNBvh3NaeP5yDwCgVcn2d19BqNbZ1XVI/jEX/7AmU957/yUxIEc0x4wCoZGpuBdp\n",
       "yIJQf5Mk9FHAPCD78y7tiSuVESi/IJ6+Ss/BIeRHvmXS3vi2AE7psFAE4QuL8pfPdrMQfMjkJBDP\n",
       "Iom2oaUp+xtD3VynUqgj7wpqPUOoMadIvQor52gDkIGzHCg6Z9FMC+1JLZPdlzguvtfr6OcnJ/FX\n",
       "vl05aJ9Rt6NmPUwWIrfqU04ry6H6zHAnY1ruZQnfGpuPsrotOjsk2qKC7UrBRnUDQh6dPgKVy9aI\n",
       "3/M8Xl/pW+txrljEOL2KJDdCOvgYeNFYnxKiBCWur4wC7eZDHqb2GeI33Y36sSQNih4JUJaN6799\n",
       "9KE9v4owmkdobQ+70qpmfhgSs8+0hRULISiQXbsIzVjprU+QgOpdOC+v3UI1oN0Wuky9b6qH5T7h\n",
       "4YvN/h5rgRS2dyLdaMzu7K5Whlak2ilzL/8bKjIP1XU1L3qA579bP3MKKmMrAXAKGiw6FWv8Rydl\n",
       "bOUO6Tedu1VIUa+dhVA397Wp36KXuKgVN+bIUJf+qJtMSmE0EGucSQB+7/+zZR2DMNgbGLRm0WNN\n",
       "kg7pNUx7NoS3/IxrPRcg1Pn/Ma+htUetm/4RvoiEy7QBfvdffTYdMHivwx/kmLvuoJkkp6fmzeIT\n",
       "gEFrr3NgjXX5jZYREXeHuix1Kq3dI2JKqYxC1S4TLJBwW2SYRVStI63FDBfvE6tLlvyzPM++2v0v\n",
       "L2irXiVErioaH3/pYM4uTB9Ydg8hxWi7rwqbbUxspppl2MrsnLgO+2uSJlKDRjNEx95iRLXFQKjb\n",
       "wasEBh+PuQZI48v7RJfOK6i9Tr4rvf3z7oywy6lZfUJdBIOZU/HPUFYLNSEvLc5wKLmTwLvXgbnG\n",
       "egfQAcz5TelJGFW4kSoJTAQdGi57vzZBzQb6/M2thvHoahBidXaMErMFaApuPJHWVR78uz7TJ799\n",
       "jCBJVDJQHyx+SHIuvJk22dgnXQe+FvNM104VoicSDBulFaTwcLlmGY9A4bxwLDQH2DWtRGHxH83X\n",
       "HiveERQtfskSnJ2c5Qu//KTG3JtVAF4pNGnXaklLEfNAWivUX4cGKy1DrUkfCycpAta/vAWA1jWS\n",
       "sgN7aiQTynPGmk2P6jvbhwZzqpQcFOqNQOM38ZjbnpI+TvULJn/g3APucj3PoZsxu0ncRkRXNuvd\n",
       "YUjVfUvcDKQk/cdq5fKzifBbmS3VwOJjSnDCNCKRrS2Mr30churJMjK7coEFXOwMzYKAnwVpFku2\n",
       "hnTdPL9PDGeWXEiyex1kyqVZlnIjzoCofIJey25WFQOAFLSyjPPwxySJ2ZL+YXVkQd7Pnllxo28t\n",
       "UiCToRhBEHnwy3/Oig3lbaxP9pWkJ/lIakRBjBH1kQ6738mJkUjBfcX1vvtHEOebEuMgkPSg8Y2q\n",
       "k+ez/sY+hi6P1Rtuhqs1SUG/kf4cnh0kt08S1AMItl9bsdV8o/br7jyp3ubuk72u71PMqtGFKx7m\n",
       "4BjFXiY7y+lNU/6XpY9Nk4tI4auizJ5vHg+Vya8sMxH2JbnXVd9je6BEsqau+hVfiQQAAbm9uulX\n",
       "RKOQ2s1UJQDe+YkuG+ii2nPRn/Me9KPSL9g3nmeixs2hrAJIMrwXhD2+JkIwXL4h3uNfjlNmP/QS\n",
       "vtbSVhnMzmYhSkyucYFK3S6r9s+xr7KgImbNSdeMmyBC3O5akLjqTYDfoi7jk6vl9XJRutMaPaDC\n",
       "Dbgt3CIqHEJ2FUghrhv0aJwuJ8jJLLf5Yd7tEeJ27CZDsbu6JGdH1uoTLW9dLUJ+Y3aPEtF+h0ZA\n",
       "8Zu76vZ4wjgsZYpYC5dmHgVCD3MAbNyMimzRTc9sQI0TOc4ZPIXZDrrAE9d0aDn6ZddYlSckODPt\n",
       "ecASLqgyQkIpOSZT57T1P0nT3hw4rc+hOGqH3sVg80F8Ek/9h8qfbysbph1a/Zj0TIHqXU9Mf3sv\n",
       "ZVJxn/FkXRHBQYBbIAaxM5ZnWf4clWa4FP5pXqRUW+yIXCv3b6j8uOForhgokaVifQYoM2COP/Sr\n",
       "IXiyi8HXt/LXbVE5qbYa5WyREO17eUz4lOcTAATSJ4SJy31Dq65FvwsKQ8+p2h7fGnVE69IXr3Fq\n",
       "15BwmK3E8aVfb3Vt9WO3YgyTXTTj/1iC4C849jXzAxwMf29++lVgP+fL0TTCSMVBp8Vh2TNZPjY/\n",
       "VOt5EmubiutyJa1AACNVql840VWmFhWHgBQUGzUdCIpqckS8UoNCOJCmqDMlMbj4egcgpJ+GBb0q\n",
       "yIxPcyTInbEw+j0yRPKFC+J4bMXBqWY/JcB01IyNFwSakJWcesZJal14w3Sy0vkQsczFqHoVLwst\n",
       "kcca7XfjfFQk2WSGwzCLgX9N6LfE8Ue9pQ9LCYG322fXCLqDmaksaxKxnUuM4XYO8w4v3hWNerwS\n",
       "pMZ0NKb5C8IG8GQM6/QAKYhIPtDkgGU2TYUj+W9MaEf9Ll3GhpJZIq3NaKmImYBfYVfM6l8RjCw9\n",
       "ZJGhQFULjsZhwpIpeXgO2Zjsy1BEqaQBazFWeUkuGgWnj6B3wQNbQPCN7hZZh9k0Uu6dFE5ok7gb\n",
       "OrXcimBvWQaaAOyiX+sI7sdWObFI3/KonE9HfMmKH7G33pJwXreMxHDf2iYMAAABzEGeQniCHwAn\n",
       "iHalmoAAIUmBW5ThBI4tX+tA0WUmihEprBxBkh+q9jM9xOENatjuWZrW5B6UE7XvV8UadPZ/cyRH\n",
       "2dfWhcOO1z6d8PbMqIHw0Dzm/90ynIfsDT/nPt7Rf6+Sr9A9UuheOzHzFsXm9q6FpuG89B+3VxTF\n",
       "L1FXzWM8NlcgmADkOBiqZmMaZ1YpiLmc4ArRHAyL9V9uxQzzsQ7N9L68i5oH38oCvLciwtkfa1KU\n",
       "7ZlFv/aivA6Hhi5Kp0LbD37cdhePNTmryO1J5Y2kuITM2mzBpLkOWPha++rnh/LVzxIbAFJpriAw\n",
       "9Xjh8lPoNEuNBj8zXqkMnNuYsgsqcoigBybJ6DZ7PYpmxlIdSsLYBMTDPgVbxJusGL/30SbssEKh\n",
       "I8Tfn8sV+J89FTdd35UUFT/nEH6eU3H7Nuu0qMokmYVTU+bDkeXr3GEeQa2NTzj41B65+Mtt55KU\n",
       "OCHkxHRVtldr79W3bLtp3ni2E/q4GvXox6clEBLx+5MnfBGAdgM0T2qhBfwLzD8oHjm6LNwntQ+q\n",
       "Ftf0uUmfhi8eyVBT7jCj1//psjai6z1+5UP3iXFLF/lM1q92f02G1RzWoH9FCcbb4sRB8acAAAEc\n",
       "AZ5hdEP/AFfFt0VJ6ACINV8KWDSWu/kCssLiKu6Fx3tOQvoe3t0D+compfTpYxhlbG89HbqtCCdV\n",
       "U+6YtJWziSEQDfy7xOc3bHwj1myZVgm12cnepNHG90pMxe0gvaBtxjhrVT4tZ0smJQYEOmDyZZH1\n",
       "7xKDH9s0YiVEX16LaUcmrza0FeJBXjNW6gwT6RPkqxXwU+dfHj5wT/1v2cJopcO8a7aLK+ObkH95\n",
       "dZWDDQc1u7m0dPEGyLHQ/GxH7lOLRRzY5bbMHdlVvAM4ToK0hWElVAqjoV0sLb+VJ1hblpvxCiZg\n",
       "NS41C6BjpeydlCdjWPpfe3w4hedQJA7IpTkqBPx+HBqgfn2syC19m4oVf7xoNGl1vc2y+k6FMDAA\n",
       "AAFkAZ5jakP/AFMxTIbrwAbKPhc/Fbov7dYsD2ko6IvShR5E5W79+fyh2PR3kBp9MBxSxZOlDVQk\n",
       "EfPlj0lQoZCwjJuZBY+SqT6kxf/bxDxZlPq/LFeHWpJDIqKk4Ujn/4fjEeJM/gzYU/AyEDYKCyhc\n",
       "Bcid7lrzRElyPy8lgZ44mqVH/++7wxc93ZZwoTwvhs2HKoHkgqqeSxNaMadh1cXTBukyxN4BtPGi\n",
       "89dQMvlFDy/tNiixrR+RlWaHrOJ+6CFF3b5TbU9rRMoKPXdmKB0tXJjuY0E6hiVrnORZ5scnz/+H\n",
       "kpxriHVkUoFU/7Gm3rg6AWMmHzA9pWEEOZb7+WOGr1+1CFeJjcFtm0pcGkhtJfC3PfBib3K1yJsW\n",
       "ezYuAa1d8E0N+MsMBrTOVzinFZXi9JqyZkXzkkMnAXo1dToc61JRhWNbZF7l1Ed8Sl0imXfPmLlZ\n",
       "BfR9VSBVUUenB7xZlaML+pEAAAKBQZpoSahBaJlMCCf//rUqgCaKyUABNalmc5eodCt/j3hBHxAr\n",
       "ESPkJP0pJrXubkGzYAyeoknCrsFm+ZYiOPKeKsMcdpS7SretY7HXxhvjMjSndBcVMUkhwkqX8XlI\n",
       "GephHJPrQxle9oguls5/nHoZfJtDSDEbPRf50gHziZHrR9I2vSQ6/FxkzPYZU21bxSgmIGfGoiSv\n",
       "/trd6nrw70k6Yt0XQ5itngrXoVTmUhPvj0+j1RJ1+DrVwxwzuRZCKxq9kHjYWOwyDW8e8e984x1l\n",
       "CLM0Ol53iH3lZ0fKc2iX2J/veeKPSNutbjFjMYY/YkzTMrJTUIEfmTiNyI7A1k/5KzZY8X9kEUgE\n",
       "NbQUA7FY94br88JgQ+sQRqV4sN/DSCInoQZmyS3e8ZdzTYDyMV1s1RG0NgOsZWqK5cvN2c/xd0eH\n",
       "uzkVPluHpF49DEhRu5x9hUU9qLCnivCSzAp5VPkymT0wptCfjejCcDFhAEcOfZYKLrtMrMzv6YIL\n",
       "vdIlqvQ2M3cbGkqh63IZDq28zCQafQAGfPnShxGizKMVP1OmgUVpxtu2DeADFS4zpId4e+HZctnQ\n",
       "sXICi2yPgH7C6oI932mhMBw4Rr1PakT3YHX7bBzF5c7kGWS1XQkuEE29eo2MESsctKRjT0UUdBbF\n",
       "FIs1sfdNZyi/tkG1cGAHK3YJ4QE80EidqdssnFlvyXX9WfBrk+O9QSVyEK9Z9K7nDl5DF2j8n+Xx\n",
       "jhUzQSLEU/RMTpBnAXTKxh15njW7Tphi+kbgAFfkSRjzjQVTFKrrupVAPKYEk18+XyCGC8c1GqHz\n",
       "sZW1W9ZdIl1iNvV4366JiPfbBZmozbjW7Y7JxwFcMmiMi0kAAAFyQZ6GRREsEP8AJYyP8AAX13XC\n",
       "j+/k/Ok68hPUGWd79FPQIxFdvMFnOqJHWr3zPCKbg3nUc6HKuu+X/Wts3yKWUWHMiqUoT8OhYsxw\n",
       "tmEW2mQOjUB8QXAQAB7vmXoYLnRYyYfup35f4b/H6T1tanw+DPf/LoL68S8TbKFRIv2ysBu1WUSk\n",
       "Zn+M+Q7PFnEviwv/kbKuyjqaPP+27i6Jys2rjhTF6jjKEa36fMvFFLLRWrfvIOvR5MsOJU7GjHTp\n",
       "8wx4jKeFbE06NHYfYAMrIsXS1aVqdxl46WnSYiXoTc57dSFgYmHw8IDL4CzTN5jAYUrq0GkIzaTc\n",
       "TB2hdlIy+UhU42JT044voqJOm7hA2dt1yxpdHnh6eLFQspE/vx5XppgOc6kVifwzHanaO2YhnRfE\n",
       "x2Q242vQsJV86LX5zaESxvX/gq4N2FW1EFpW8vGl3MH698dpRGtzh2yDkM3CFaXimxC87GVZWRxG\n",
       "FhKRPYu6YfhNwQAAAQcBnqV0Q/8AUzosTcAEDdUx31Jzvl98C4Rpd2LSUxiG9hV6yv5yDVtn38rk\n",
       "9KTVTnl/yXTsTWqLlwhZC6T8GkaZyhzQgFWEE1i8iju7PMGfZ8a+51wh/Y2E7wNxeLbjRx0R0+tC\n",
       "9Ftzef2GNH7aLgMRok8G90sJQbfACHP3nos+Mg2cgAf+dw9TG671rR7J7A/80MX9ot5iUNz7arkq\n",
       "7cMK/6HYPVxYn3L5GMp6SFV36dXrtBbwZvNBotdEE43cOHEj2MN5pcKbwaVP+oFMOmUZwCRschGO\n",
       "G7CXAcwhbtwxG9CpCTIMLMLhLfeRWFn+5Glgu7X9GQXMPb37x3XZE6jhappOOP8ZdwAAAOQBnqdq\n",
       "Q/8AUlXgB0AGrsSu6unFmXeyjAAnVHkXo18uIapNENI75Wcg2eXh83XtPWj5F7eV8dZhfiC2NB33\n",
       "lT5KbIBjfbzqSiQdqw5gSdzJ6numLOO/hbV0txokle7CDZ8lSuJ6YOa2+tWuS2QaC8rSZ9ROvcGF\n",
       "uWG74T5txEngthj3CcsMyhmaqfuhzpfnNmxF2bxtcbzdE4XaplnUEH2zm2zQuxNTqiF+y6lRCqq5\n",
       "irdJ0wujOpvhqfssEHFaxxkAWmfh2+8DAYPTwY32lejfnj5K3QH30JHRBUWl5vOsTL3Czh4AAAL8\n",
       "QZqsSahBbJlMCCf//rUqgC54ZszDLmPX9LX3pLcAJBo5FtrXvpxa1yaNGanF4u/Fz7zqJYTVQbr1\n",
       "py7AlDEQqDAViiSYq+ell8t+eaT6KYOdPooVI3rvWynds30kxX016EUos/6Q4XVwLeTBsirPzBEl\n",
       "Gz4FQ5l4GWEI8+QgYDqlW9pGGzZXALrMcyr1xPthfKE3L+uiiEkmdmtftBdgZBgGTRadg8sD4zR9\n",
       "6sfj8DrTy67RqVO2TWgoRQ//QofmkStgPUnEDU++cMHTiFKhEz/LR+lb0IvJnlil0NkNlnmSL8Mv\n",
       "pK4F4jf7MJO5vQByfrUE2OJSqKjk4PnyMYpeVg7pl1OSCBdIoEw7CsqvR44Mg/vYGa9XDlwvSEj7\n",
       "YmH4cc1gYfavV+EZ9idZLHWdpIlo2Ogv0LgvjSpJBL+jSqei6keTEW/RFYJxpoZF9BO19WCfS2H5\n",
       "amG0yzFSkF68MZ6+ADjquafnqJpzgZC9pKCUC8pi3EfE+v5oYCxUh2Gg5QVlevfcjrgSf3kVw+w2\n",
       "guh90YpKSQ/QD46OS30bQ3wNXBDXVyt2sq/z3RlXIssXwp5HqygBfwQAP1zutXm3jUBsKF3CLR4L\n",
       "OMHcS63KgskqkIYCpDirxN60vlGQ8YGTP5fdwwK/YTm/P7JVWZU1yaZkriDE7f59iFRe4fbTBbLm\n",
       "tUgWE2HSKr1te2melnUNRyzxivUbL+7poTHe2XtLUqO4lfHFJTp2lhiKQU3RWGO0C8LVQ1WuJmFl\n",
       "OCnTpGfz+cJW4yb+j0xcsiyS2SFmflXbgPBKdfLZSp6BxU9j8bubTXeI+TDLYJ0SB/rgFSoIObvU\n",
       "zC0sjYOr+5oz0gmu40bS0m2r/CZS733GjU8JIU21tkZ5VXo+Gcw3d1Ym7+v79BCOigea+z5OOaKs\n",
       "MFF7uM9KxPAaVXovHi+N0Q+B06GnbKFyoyiVXBQcKl9zRWO0QC6ra45FpYaE6ua5rnvM+o6mBofM\n",
       "BTMagLqpoIEW3qQCL+oXj3Wg2hIFJZgAAAFoQZ7KRRUsEP8AKLQ6ZPLgi4AiQATkrwNX304REGi9\n",
       "Pp0IU3+ubZ+5f/A4Ro2dN1d3ISXIX0si/F2QpICJpqF04kBJvZpwXDLw4vEsE+CHFvU87vVWZmmh\n",
       "yPgQ6paE1F6F4DrM7+qdAGzguihRJpvGycv84WarS5HjOUzIzpnt/bK3a9GeA4c4GNeJj/w3ksVm\n",
       "Qx0Iab+/BMNDzKLjJmpittSv5I+jfkhi7hrv0bgoKqqlFmVxMFdkOiM4DGo4/cNyh/WQqLzLyDhn\n",
       "zqhXMz2G9JYTd9+0CYXhI1zJpLT1T5RJ1MzYqtWKheHXeCotjMJOBygZzZX8z1XZIN4OjVz3CrQ8\n",
       "HhMcz2aatSmsfEDNe6sgLJ8/SL8odDUHQ3dyO/1pfPQKDEHKCZ40xDveugUgEbVXWYYDsxVmDnWq\n",
       "ucZQtsvbLSxAYv2fpSqyGDyDlD3gj09LdVVMOGSPVoHB7OjVJqwypbtJRyd1AAAA6AGe6XRD/wBa\n",
       "BbdECQn9gBNXqrBRaG9GobmcR3WZxfF3dDww2weUb1orBD2Xq65e/3iDda9J6+abhNgASSTfGAQW\n",
       "YhXk8CbECkg9bqBpsqWNMM6swOHE/T2A29Htz2YDmDjv2eegV3kJ00qp6jkbVBrtUBpv9svMrMaI\n",
       "mWWLX+O5a9Ol18u+CCcf4cdMRT9ThjPs8dUeGTIItqoAe2VkfDzwjw9Ymq2Fp+sd1BmHaHxotfYt\n",
       "2d6N6WbOvC8/4OsG12ZRLZPlZVFMsQ5vDS1wOuvSNXymbPTevmMPwOgTSUH6yMu/ralZke4AAAEI\n",
       "AZ7rakP/AFEW1XrLQAfwT68dtuMgDbAMlO6YNR4fonU+uJ4KXM0EvYqJK8Ql6ittSCt9EhDHT/qC\n",
       "/uV9GUNVeyqHIfQOGDpTI+1tZazlrjNuoLtHsgCTAkynHRUgE0RFKfxGda5cE6HtYVoqw65OBYrl\n",
       "uxYV8fLbdN04NGo0OriRC7Rypa5V7x1jbYGTV//rJNoP/+6KUvcQa0zWKEaNzbKVuBT0gRKFZXk5\n",
       "a4/ctA5GMkOTTiFm76Gwh/XoPJGxbQetZgVGtY7QHgC0kDCtfRiY70gtYpwdIQAaz4OqU7XUKfK2\n",
       "Nn/kvLjVN7AFZNGwTpnvF3X1dgJSWXW1ib872Kf9V4yI9ULAAAABvUGa8EmoQWyZTAgl//61KoAk\n",
       "jIGbgApSQ37FP0Viq2Saauw0qmGGgzLGeV3ASlYGxdjECNn9G7PnS9P382c+tBN+xqrm9MKDNSll\n",
       "+jVdSt3Uv7obLUlHPzdRSxemFafITDTockrCr+QfwVWUB03BateY11HonMsO5nMK9wfFHjczeulx\n",
       "UOcUun/eXSFC2JAH+gA0zkDOmgSSr5Cn1lWfl+lSNa+3JcENTwvUAoKjGXO7bugZEphWnjYRu1W7\n",
       "FCJaAhGcVGxIKQ3khahG/oUi6j1G+RJ8oSfVR+eTSC4Nyjhf6RIvSADQ8YqnFEsjFYg3JjLvJ2EN\n",
       "PK3sePJuDdj9kS7BZTyLuHNLL/iP+PBD6m6oJKmnjmWuzEBjbliImW/WCe8KuJo1H03R3oz9iyv2\n",
       "8eqvjdQBoCqV2z97IDjHo7+9RWSd8DjZoJ3KFxVJskuRN232DwuBwk0TSOOBg0q33Itt6Ienfutl\n",
       "VLF9s68HTY/NfPUAWHIX4sM7Q7rnVRJERmwzVWR9lnS2EbKJBVvHMW43dQTXeTi8tYOFsUq08phr\n",
       "xFPIhi2gAdb04vFKThoAhIxfRjHOAWTyL3i/4AUAAAEpQZ8ORRUsEP8AJIxiZRMwATralpcJNbu+\n",
       "LHjysfXw+yHYhuEci92pqUViQt++QPslOAhi4lMNAXeDX3AQLuJOOYCXgOjpqbPwPYE3P6o8rAKt\n",
       "hPdHrM8Q76wH68NViLjMjZN/qGBoz3bOhLbFVBMihBEanxZIU8xQwlV1WWBIhLQsvMld9rGOcUua\n",
       "C0nQkm8pcsEQWeMkjH7t/RDWzX69XQODS6LXcCOHOiLleeuAOnCrBBjxb6FZhrpZ/7iQxGXpgsxG\n",
       "mPI8d6zx3rPE6lGMZAVFMX1X8/f1q1+e/sU0VatT0OfWtF6+8UauIYDxrKuHCEL2cAZbgTMkjwHE\n",
       "ZZhuPvCNbrrBMgqwY0/b0Vx5pTKWH5Qte96hxCfP3mHrpwkvbZBfsGupMiTNAAAA9wGfLXRD/wBQ\n",
       "Pufdw/jnAAJowld8w8u85JWlALhfJWQn7lw/YCYIWxm3XpRMxlz5LLmGatC8W6oK1Dntrm26XewS\n",
       "sxAD4vydzMsDjdg3UfoG2HkBkar/oCe4wOWubu6KPkDjGujHsa7kzYkFWiTgtXg/Q4ec6HC5GxpT\n",
       "hDuU6rxgx94Q+/y/MH7jGlr5M3SnkWG1quW+lYT1WDccJYapHHqHXm4IFP8i3nW9WPdcAmt6RROM\n",
       "SLUPfbU03TTd/4uuTIobLwk6PUJcS+u8p92eIUxtxaiVsxBblLDwfW4BciVTW2AwsmXRBFvCDxnb\n",
       "X19a6hxbqTp5opsAAADfAZ8vakP/AFDl+sPqADTTi7JER/jcpX12Eo3Rp8v72FjOq7gj/4i380rS\n",
       "jgzZ2cxondY8AzALr6KnAzRAKj6pCPGYQ4s/nx7JRhmPJYhW5LBUW12EBPFUH39n9Zn3BumjKHST\n",
       "tuLIokUA68NfZlvcvMkb3UU+ZMW7PGDgSNPZXng3sTZXL8f2c8c0DXQVL0Hdr5anQbRXNmr9Z3WE\n",
       "acuLfyEcaYZjTgV1OD9etwnTwZAZpzOHn0Uk0f8lwNH8CGXvNMITtedMuac7hQofxKFLhhIIC4Vj\n",
       "FWNzsGhRCd8FVAAAAYVBmzNJqEFsmUwIf//+qZYBJMaYDwAbVFO0V2Z0OzNxjXOgnulq8ijLNqkT\n",
       "YZv7US92HVLUXf6hcqv19yFWTPbljSIJ9Rhfas3HkBfEnj3C+3dufFVRlY66a2HypYVQiYZ/QpFZ\n",
       "b6R0DFRGEGw2FmnmDrPHE3j6CTBEYi4wh4WiBV0arFwgfeAk5cZrLit8IbEJ+++mdroYhAZ/vMMe\n",
       "GQa6SVIMqKE+e/47nAvHhnG9ohnVvSQhQZYFSKeb7WD9Rsj2qS1rQjDhXsX+dyoDKpXhBNTWmm8v\n",
       "J+cNkCS2tRpmLUNWuu/iFr6EGyiPWdGuxKoDbJj7eWKs28wWaLrWHUSpkHb0dtIHHLfz/7ETpyUe\n",
       "heYZbXAuTvNtEAvo3f80+FzuIfeqvCfFBQCqSQ/rF3Yb/kouD6TrNo10KvWurGOFGqD7oAwvk+Bs\n",
       "TYGbp+ojmloMgNwDgpsg6oTNuVgTwXI70c5XjSMwiKHP8eTvrH0UQxhhRTcEqh0A4IFWUPRqtBw9\n",
       "/WPKPAAAASVBn1FFFSwQ/wAli2vHvEwAhBXgawd9bH6EAgCLlnmgcB9iCX4PXKsyLyelmzKfAmVG\n",
       "SC38f462xZACBKk61vALeKCTIu7+BxcfG2/L+F7cwk74hznt5Gm6WJIJAjy3maZ0ub8LE4ZXJQ2X\n",
       "s25sDDW0ejlD4Lk5VJjx2YL724M4OZIGe3kz6qu1+vsiGYJV/VtqTJZbiDiorq1nmS0SPNgYkWCZ\n",
       "1xXjX6QGs7RXe0/hfNUgiT1UJ4uVVqA1ylJZcuCeT4SpuhUxZOB+bvIxPuoQ3Nl2DBSZd0wP9wju\n",
       "W6QZznr2Uv62QTiZ6r7K/hr8TzFUAnt7FbA7G4f+G/vB+6HIVgodkp7XSsW4UqhdkQBeyXRXwc1H\n",
       "lCtMUFTN3+GePxGMMXcP8QAAAQMBn3JqQ/8AU1dZ9AB/Rbnlebtz608mQc0hshicYSG+leaci7pB\n",
       "1YVSbKoepyfSHis+UD0/4oszrSzwnvbvkDoUviyDNw0FsRFOzst8atUC0PVmTWL5cAFmu/r7neAy\n",
       "ZKinbtqV+S7ZorovI2ZAzMeLDkacXthPqedqhhpXue/1PmEunv07GOtIlK/8s2A2+sX42aAk9uMp\n",
       "ldeVoq90sg7QLdNZCQhXi+B+mn5PkG7IeQ0gSW5VaW4kMjLbsW5Q/4vtiHMn/yMETweT+hRjZkY3\n",
       "CwA94Jv5TEp4DspcdBkFopk1d/uSgwiuL09gRAezAt512espAr9BDd35ID8hxpspJQ4+AAAEF21v\n",
       "b3YAAABsbXZoZAAAAAAAAAAAAAAAAAAAA+gAAA+gAAEAAAEAAAAAAAAAAAAAAAABAAAAAAAAAAAA\n",
       "AAAAAAAAAQAAAAAAAAAAAAAAAAAAQAAAAAAAAAAAAAAAAAAAAAAAAAAAAAAAAAAAAAAAAAIAAANB\n",
       "dHJhawAAAFx0a2hkAAAAAwAAAAAAAAAAAAAAAQAAAAAAAA+gAAAAAAAAAAAAAAAAAAAAAAABAAAA\n",
       "AAAAAAAAAAAAAAAAAQAAAAAAAAAAAAAAAAAAQAAAAAJAAAABaAAAAAAAJGVkdHMAAAAcZWxzdAAA\n",
       "AAAAAAABAAAPoAAAEAAAAQAAAAACuW1kaWEAAAAgbWRoZAAAAAAAAAAAAAAAAAAAKAAAAKAAVcQA\n",
       "AAAAAC1oZGxyAAAAAAAAAAB2aWRlAAAAAAAAAAAAAAAAVmlkZW9IYW5kbGVyAAAAAmRtaW5mAAAA\n",
       "FHZtaGQAAAABAAAAAAAAAAAAAAAkZGluZgAAABxkcmVmAAAAAAAAAAEAAAAMdXJsIAAAAAEAAAIk\n",
       "c3RibAAAALRzdHNkAAAAAAAAAAEAAACkYXZjMQAAAAAAAAABAAAAAAAAAAAAAAAAAAAAAAJAAWgA\n",
       "SAAAAEgAAAAAAAAAAQAAAAAAAAAAAAAAAAAAAAAAAAAAAAAAAAAAAAAAAAAAABj//wAAADJhdmND\n",
       "AWQAFv/hABlnZAAWrNlAkC/5YQAAAwABAAADAAoPFi2WAQAGaOvjyyLAAAAAHHV1aWRraEDyXyRP\n",
       "xbo5pRvPAyPzAAAAAAAAABhzdHRzAAAAAAAAAAEAAAAUAAAIAAAAABRzdHNzAAAAAAAAAAEAAAAB\n",
       "AAAAqGN0dHMAAAAAAAAAEwAAAAEAABAAAAAAAQAAKAAAAAABAAAQAAAAAAEAAAAAAAAAAQAACAAA\n",
       "AAABAAAoAAAAAAEAABAAAAAAAQAAAAAAAAABAAAIAAAAAAEAACgAAAAAAQAAEAAAAAABAAAAAAAA\n",
       "AAEAAAgAAAAAAQAAKAAAAAABAAAQAAAAAAEAAAAAAAAAAQAACAAAAAABAAAgAAAAAAIAAAgAAAAA\n",
       "HHN0c2MAAAAAAAAAAQAAAAEAAAAUAAAAAQAAAGRzdHN6AAAAAAAAAAAAAAAUAAAr1AAACvMAAAHQ\n",
       "AAABIAAAAWgAAAKFAAABdgAAAQsAAADoAAADAAAAAWwAAADsAAABDAAAAcEAAAEtAAAA+wAAAOMA\n",
       "AAGJAAABKQAAAQcAAAAUc3RjbwAAAAAAAAABAAAALAAAAGJ1ZHRhAAAAWm1ldGEAAAAAAAAAIWhk\n",
       "bHIAAAAAAAAAAG1kaXJhcHBsAAAAAAAAAAAAAAAALWlsc3QAAAAlqXRvbwAAAB1kYXRhAAAAAQAA\n",
       "AABMYXZmNTcuODMuMTAw\n",
       "\">\n",
       "  Your browser does not support the video tag.\n",
       "</video>"
      ],
      "text/plain": [
       "<matplotlib.animation.FuncAnimation at 0x7f1154d30f98>"
      ]
     },
     "execution_count": 22,
     "metadata": {},
     "output_type": "execute_result"
    }
   ],
   "source": [
    "fig = plt.figure(figsize=(8, 5))\n",
    "ax = fig.add_subplot(111, autoscale_on=False)\n",
    "def plot(i, axes = [0.5, 7.3, 0, 2.8], label=\"Iris Versicolor\"):\n",
    "    ax.clear()\n",
    "    w = perceptron.ws[i]\n",
    "    tit = ax.set_title(f\"Epoch {i+1}\", fontsize=14)\n",
    "    x0, x1 = np.meshgrid(\n",
    "            np.linspace(axes[0], axes[1], 500).reshape(-1, 1),\n",
    "            np.linspace(axes[2], axes[3], 200).reshape(-1, 1),\n",
    "        )\n",
    "    X_new = np.c_[x0.ravel(), x1.ravel()]\n",
    "    X_new = np.c_[np.ones(len(X_new)), X_new] \n",
    "    y_predict = perceptron(w, X_new)\n",
    "    zz = y_predict.reshape(x0.shape)\n",
    "    ax.plot(X[y==0, 0], X[y==0, 1], \"bs\", label=f\"No {label}\")\n",
    "    ax.plot(X[y==1, 0], X[y==1, 1], \"yo\", label=label)\n",
    "    ax.contourf(x0, x1, zz, cmap=custom_cmap)\n",
    "    ax.set_xlabel(\"Petal length\", fontsize=14)\n",
    "    ax.set_ylabel(\"Petal width\", fontsize=14)\n",
    "    ax.legend(loc=\"lower right\", fontsize=14)\n",
    "    ax.axis(axes)\n",
    "    return ax\n",
    "\n",
    "anim = animation.FuncAnimation(fig, plot, frames=epochs, interval=200)\n",
    "plt.close()\n",
    "anim"
   ]
  },
  {
   "cell_type": "markdown",
   "metadata": {
    "ExecuteTime": {
     "end_time": "2020-07-03T15:20:25.435192Z",
     "start_time": "2020-07-03T15:20:25.425197Z"
    }
   },
   "source": [
    "## Resumen"
   ]
  },
  {
   "cell_type": "markdown",
   "metadata": {},
   "source": [
    "En este post hemos introducido el modelo de `regresión logística`. Cómo hemos visto, este modelo no es más que nuestro ya conocido `Perceptrón` con una función de activación de tipo `Sigmoid` entrenado con la función de activación *log-loss*. De esta manera, nuestro modelo ahora será capaz no sólo de llevar a cabo la tarea de `clasificación binaria` si no también de darnos el grado de confianza con el que nos proporciona la predicción. Esto lo conseguimos gracias a la función de activación, que convierte la salida del `Perceptrón` en una probabilidad (un valor entre $0$ y $1$). También hemos mejorado nuestra actual implementación del `Perceptrón` de manera que sea capaz de llevar a cabo todas las aplicaciones que hemos visto hasta ahora. Por último, seguimos observando las mismas limitaciones en nuestro modelo, y es que sólo funciona bien cuando los datos pueden ser separados fácilmente por una línea. En el caso contrario, necesitaremos modelos más sofisticados que veremos en futuros posts."
   ]
  },
  {
   "cell_type": "code",
   "execution_count": 21,
   "metadata": {},
   "outputs": [
    {
     "data": {
      "text/plain": [
       "array([[1, 2, 3, 0, 0, 1, 1, 4, 5, 6]])"
      ]
     },
     "execution_count": 21,
     "metadata": {},
     "output_type": "execute_result"
    }
   ],
   "source": [
    "np.c_[np.array([[1,2,3]]), 0, 0,1 ,1 ,np.array([[4,5,6]])]"
   ]
  },
  {
   "cell_type": "code",
   "execution_count": 16,
   "metadata": {},
   "outputs": [
    {
     "data": {
      "text/plain": [
       "array([[1, 4, 7],\n",
       "       [2, 5, 8],\n",
       "       [3, 6, 9]])"
      ]
     },
     "execution_count": 16,
     "metadata": {},
     "output_type": "execute_result"
    }
   ],
   "source": [
    "np.c_[np.array([1,2,3]), np.array([4,5,6]),np.array([7,8,9])]"
   ]
  },
  {
   "cell_type": "code",
   "execution_count": 17,
   "metadata": {},
   "outputs": [
    {
     "data": {
      "text/plain": [
       "array([1, 2, 3, 4, 5, 6, 7, 8, 9])"
      ]
     },
     "execution_count": 17,
     "metadata": {},
     "output_type": "execute_result"
    }
   ],
   "source": [
    "np.r_[np.array([1,2,3]), np.array([4,5,6]), np.array([7,8,9])]"
   ]
  },
  {
   "cell_type": "code",
   "execution_count": 19,
   "metadata": {},
   "outputs": [
    {
     "data": {
      "text/plain": [
       "array([[1, 2, 3],\n",
       "       [4, 5, 6],\n",
       "       [7, 8, 9]])"
      ]
     },
     "execution_count": 19,
     "metadata": {},
     "output_type": "execute_result"
    }
   ],
   "source": [
    "np.r_[np.array([[1,2,3]]), np.array([[4,5,6]]),np.array([[7,8,9]])]"
   ]
  },
  {
   "cell_type": "code",
   "execution_count": null,
   "metadata": {},
   "outputs": [],
   "source": []
  }
 ],
 "metadata": {
  "kernelspec": {
   "display_name": "Python 3",
   "language": "python",
   "name": "python3"
  },
  "language_info": {
   "codemirror_mode": {
    "name": "ipython",
    "version": 3
   },
   "file_extension": ".py",
   "mimetype": "text/x-python",
   "name": "python",
   "nbconvert_exporter": "python",
   "pygments_lexer": "ipython3",
   "version": "3.6.9"
  },
  "toc": {
   "base_numbering": 1,
   "nav_menu": {},
   "number_sections": true,
   "sideBar": true,
   "skip_h1_title": false,
   "title_cell": "Table of Contents",
   "title_sidebar": "Contents",
   "toc_cell": false,
   "toc_position": {},
   "toc_section_display": true,
   "toc_window_display": false
  }
 },
 "nbformat": 4,
 "nbformat_minor": 4
}
